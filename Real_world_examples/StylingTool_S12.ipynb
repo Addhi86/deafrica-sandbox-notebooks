{
 "cells": [
  {
   "cell_type": "markdown",
   "metadata": {},
   "source": [
    "# Styling Tool for SAR in Africa  \n",
    "\n",
    "* **Products used:** \n",
    "[s1_rtc]()\n"
   ]
  },
  {
   "cell_type": "raw",
   "metadata": {
    "raw_mimetype": "text/restructuredtext"
   },
   "source": [
    "**Keywords** :index:`data used; Sentinel 1`"
   ]
  },
  {
   "cell_type": "markdown",
   "metadata": {},
   "source": [
    "## Background\n",
    "\n",
    "The [Sentinel-1](https://sentinel.esa.int/web/sentinel/missions/sentinel-1) mission is composed of a constellation of two Synthetic Aperture Radar (SAR) satellites, Sentinel-1A and Sentinel-1B, sharing the same orbital plane. Sentinel-1 provides dual polarisation capability, very short revisit times, and rapid product delivery. The mission currently collects data every 12 days over Africa at a spatial resolution of approximately 20m. Sentinel-1A was launched on 3 April 2014 and Sentinel-1B followed on 25 April 2016. Two other spacecraft (Sentinel-1C and Sentinel-1D) are planned to replace the first two satellites at the end of their operational lifespan. For more information on the Sentinel-1 platforms and applications, check out the [European Space Agency](https://www.esa.int/Applications/Observing_the_Earth/Copernicus/Sentinel-1) website.\n",
    "\n",
    "SAR data has the advantage of operating at wavelengths not impeded by cloud cover and can acquire data over a site during the day or night. The Sentinel-1 mission is the European Radar Observatory for the Copernicus joint initiative of the European Commission (EC) and the European Space Agency (ESA) that can offer reliable and repeated wide area monitoring with its SAR instrument.\n",
    "\n",
    "Radar backscatter measures the amount of microwave radiation reflected back to the centre from the ground surface. This measurement is sensitive to surface roughness, moisture content, and viewing geometry. DEAfrica provides Sentinel-1 backscatter as Radiometric Terrain Corrected (RTC) gamma-0 (γ0) where variation due to changing observation geometries has been mitigated.\n",
    "\n",
    "DE Africa provides Sentinel-1 data acquired in Interferometric Wide Swath (IW) mode and with dual polarisation (VV and VH). The dual polarisation backscatter timeseries can be used in applications for forests, agriculture, wetlands, and land cover classification. SAR's ability to see through clouds makes it critical for mapping and monitoring land cover changes in the wet tropics. "
   ]
  },
  {
   "cell_type": "markdown",
   "metadata": {},
   "source": [
    "## Description\n",
    "\n",
    "In this notebook we will load sentinel-1 Radiometric Terrain Corrected (RTC) SAR backscatter data using `dc.load()` to return a time series of satellite images. The returned xarray.Dataset dataset will contain analysis ready images for the whole continent. \n",
    "Then we will focus on specific regions in the continent (mainly in the brightest and darkest areas) and run a few tests, to see whether the continental-scale styling needs extra stretching. \n",
    "\n",
    "Topics covered include:\n",
    "1. Inspecting the Sentinel-1 product and measurements available in the datacube\n",
    "2. Using the native `dc.load()` function to load in Sentinel-1 data\n",
    "3. Using OWS styling scheme for setting the continental style \n",
    "4. Query on a few test sites to check the styling in small scale \n",
    "***"
   ]
  },
  {
   "cell_type": "markdown",
   "metadata": {},
   "source": [
    "## Getting started\n",
    "\n",
    "To run this analysis, run all the cells in the notebook, starting with the \"Load packages\" cell. "
   ]
  },
  {
   "cell_type": "markdown",
   "metadata": {},
   "source": [
    "### Load packages\n",
    "Load key Python packages and supporting functions for the analysis."
   ]
  },
  {
   "cell_type": "code",
   "execution_count": 1,
   "metadata": {},
   "outputs": [
    {
     "name": "stderr",
     "output_type": "stream",
     "text": [
      "/env/lib/python3.6/site-packages/geopandas/_compat.py:88: UserWarning: The Shapely GEOS version (3.7.2-CAPI-1.11.0 ) is incompatible with the GEOS version PyGEOS was compiled with (3.9.0-CAPI-1.16.2). Conversions between both will be slow.\n",
      "  shapely_geos_version, geos_capi_version_string\n"
     ]
    }
   ],
   "source": [
    "%matplotlib inline\n",
    "\n",
    "import os\n",
    "import datacube\n",
    "import numpy as np\n",
    "import pandas as pd\n",
    "import xarray as xr\n",
    "import datetime as dt\n",
    "import glob \n",
    "import rasterio\n",
    "import matplotlib.pyplot as plt\n",
    "from rasterio.plot import show\n",
    "\n",
    "import deafrica_tools.temporal as ts\n",
    "from deafrica_tools.datahandling import load_ard\n",
    "from deafrica_tools.bandindices import calculate_indices\n",
    "from deafrica_tools.plotting import display_map, rgb\n",
    "from datacube.utils.aws import configure_s3_access\n",
    "from deafrica_tools.classification import HiddenPrints\n",
    "from scipy.ndimage.filters import uniform_filter\n",
    "from scipy.ndimage.measurements import variance\n",
    "from deafrica_tools.dask import create_local_dask_cluster\n",
    "configure_s3_access(aws_unsigned=True, cloud_defaults=True)"
   ]
  },
  {
   "cell_type": "code",
   "execution_count": 2,
   "metadata": {},
   "outputs": [
    {
     "data": {
      "text/html": [
       "<table style=\"border: 2px solid white;\">\n",
       "<tr>\n",
       "<td style=\"vertical-align: top; border: 0px solid white\">\n",
       "<h3 style=\"text-align: left;\">Client</h3>\n",
       "<ul style=\"text-align: left; list-style: none; margin: 0; padding: 0;\">\n",
       "  <li><b>Scheduler: </b>tcp://127.0.0.1:36651</li>\n",
       "  <li><b>Dashboard: </b><a href='/user/neginm/proxy/8787/status' target='_blank'>/user/neginm/proxy/8787/status</a></li>\n",
       "</ul>\n",
       "</td>\n",
       "<td style=\"vertical-align: top; border: 0px solid white\">\n",
       "<h3 style=\"text-align: left;\">Cluster</h3>\n",
       "<ul style=\"text-align: left; list-style:none; margin: 0; padding: 0;\">\n",
       "  <li><b>Workers: </b>1</li>\n",
       "  <li><b>Cores: </b>15</li>\n",
       "  <li><b>Memory: </b>104.37 GB</li>\n",
       "</ul>\n",
       "</td>\n",
       "</tr>\n",
       "</table>"
      ],
      "text/plain": [
       "<Client: 'tcp://127.0.0.1:36651' processes=1 threads=15, memory=104.37 GB>"
      ]
     },
     "metadata": {},
     "output_type": "display_data"
    }
   ],
   "source": [
    "create_local_dask_cluster()"
   ]
  },
  {
   "cell_type": "markdown",
   "metadata": {},
   "source": [
    "### Analysis parameters\n",
    "The following cell sets important parameters for the analysis:\n",
    "* `product`: The satellite product to load. Either Sentinel-2: `'s2_l2a'`, or Sentinel-1: `'s1_rtc'`\n",
    "* `lat`: The central latitude to analyse (e.g. `-10.6996`).\n",
    "* `lon`: The central longitude to analyse (e.g. `35.2708`).\n",
    "* `time_range`: The year range to analyse (e.g. `('2017-01-01', '2019-12-30')`).\n",
    "* `resolution`: The pixel resolution, in metres, of the returned dataset"
   ]
  },
  {
   "cell_type": "code",
   "execution_count": 3,
   "metadata": {},
   "outputs": [],
   "source": [
    "product = 's1_rtc'\n",
    "#set the location \n",
    "# Whole Africa \n",
    "lat_range = (-34.97,35.89)\n",
    "lon_range = (-17.55, 50.53)\n",
    "# Set the range of dates for the analysis\n",
    "time_range = ('2020-01-01','2020-01-12')\n",
    "min_gooddata = 0.15\n",
    "resolution = (-5000,5000)"
   ]
  },
  {
   "cell_type": "markdown",
   "metadata": {},
   "source": [
    "\n",
    "### Connect to the datacube\n",
    "\n",
    "Connect to the datacube so we can access DE Africa data.\n",
    "The `app` parameter is a unique name for the analysis which is based on the notebook file name."
   ]
  },
  {
   "cell_type": "code",
   "execution_count": 4,
   "metadata": {},
   "outputs": [],
   "source": [
    "dc = datacube.Datacube(app='SARTool')"
   ]
  },
  {
   "cell_type": "code",
   "execution_count": 5,
   "metadata": {},
   "outputs": [
    {
     "data": {
      "text/html": [
       "<div>\n",
       "<style scoped>\n",
       "    .dataframe tbody tr th:only-of-type {\n",
       "        vertical-align: middle;\n",
       "    }\n",
       "\n",
       "    .dataframe tbody tr th {\n",
       "        vertical-align: top;\n",
       "    }\n",
       "\n",
       "    .dataframe thead th {\n",
       "        text-align: right;\n",
       "    }\n",
       "</style>\n",
       "<table border=\"1\" class=\"dataframe\">\n",
       "  <thead>\n",
       "    <tr style=\"text-align: right;\">\n",
       "      <th></th>\n",
       "      <th>name</th>\n",
       "      <th>description</th>\n",
       "      <th>time</th>\n",
       "      <th>platform</th>\n",
       "      <th>lon</th>\n",
       "      <th>lat</th>\n",
       "      <th>product_type</th>\n",
       "      <th>creation_time</th>\n",
       "      <th>region_code</th>\n",
       "      <th>label</th>\n",
       "      <th>product_family</th>\n",
       "      <th>instrument</th>\n",
       "      <th>format</th>\n",
       "      <th>dataset_maturity</th>\n",
       "      <th>crs</th>\n",
       "      <th>resolution</th>\n",
       "      <th>tile_size</th>\n",
       "      <th>spatial_dimensions</th>\n",
       "    </tr>\n",
       "    <tr>\n",
       "      <th>id</th>\n",
       "      <th></th>\n",
       "      <th></th>\n",
       "      <th></th>\n",
       "      <th></th>\n",
       "      <th></th>\n",
       "      <th></th>\n",
       "      <th></th>\n",
       "      <th></th>\n",
       "      <th></th>\n",
       "      <th></th>\n",
       "      <th></th>\n",
       "      <th></th>\n",
       "      <th></th>\n",
       "      <th></th>\n",
       "      <th></th>\n",
       "      <th></th>\n",
       "      <th></th>\n",
       "      <th></th>\n",
       "    </tr>\n",
       "  </thead>\n",
       "  <tbody>\n",
       "    <tr>\n",
       "      <th>3</th>\n",
       "      <td>s1_rtc</td>\n",
       "      <td>Sentinel 1 Gamma0 normalised radar backscatter</td>\n",
       "      <td>None</td>\n",
       "      <td>None</td>\n",
       "      <td>None</td>\n",
       "      <td>None</td>\n",
       "      <td>NaN</td>\n",
       "      <td>None</td>\n",
       "      <td>NaN</td>\n",
       "      <td>None</td>\n",
       "      <td>NaN</td>\n",
       "      <td>None</td>\n",
       "      <td>None</td>\n",
       "      <td>NaN</td>\n",
       "      <td>NaN</td>\n",
       "      <td>NaN</td>\n",
       "      <td>NaN</td>\n",
       "      <td>NaN</td>\n",
       "    </tr>\n",
       "  </tbody>\n",
       "</table>\n",
       "</div>"
      ],
      "text/plain": [
       "      name                                     description  time platform  \\\n",
       "id                                                                          \n",
       "3   s1_rtc  Sentinel 1 Gamma0 normalised radar backscatter  None     None   \n",
       "\n",
       "     lon   lat  product_type creation_time  region_code label  product_family  \\\n",
       "id                                                                              \n",
       "3   None  None           NaN          None          NaN  None             NaN   \n",
       "\n",
       "   instrument format  dataset_maturity  crs resolution tile_size  \\\n",
       "id                                                                 \n",
       "3        None   None               NaN  NaN        NaN       NaN   \n",
       "\n",
       "   spatial_dimensions  \n",
       "id                     \n",
       "3                 NaN  "
      ]
     },
     "execution_count": 5,
     "metadata": {},
     "output_type": "execute_result"
    }
   ],
   "source": [
    "dc.list_products().loc[dc.list_products()['description'].str.contains('radar')]"
   ]
  },
  {
   "cell_type": "markdown",
   "metadata": {},
   "source": [
    "## Load Sentinel-1 radar backscatter data and cloud-masked Sentinel-2 "
   ]
  },
  {
   "cell_type": "markdown",
   "metadata": {},
   "source": [
    "The first step is to load Sentinel-1 radar backscatter data for the specified area of interest and time range. \n",
    "`dc.load()` function is used to return a time series of satellite images. The returned xarray.Dataset dataset will contain analysis ready images over agriculture field in part of Tanzania."
   ]
  },
  {
   "cell_type": "code",
   "execution_count": 6,
   "metadata": {},
   "outputs": [],
   "source": [
    "# Create a reusable query for Sentinel-1\n",
    "query_S1 = {\n",
    "    'x': lon_range,\n",
    "    'y': lat_range,\n",
    "    'time': time_range,\n",
    "    'measurements': ['vv', 'vh', 'mask','angle'],\n",
    "    'resolution': resolution,\n",
    "    'output_crs': 'epsg:6933',\n",
    "    'group_by':'solar_day'\n",
    "}\n",
    "\n",
    "# # Load available data from Sentinel-1\n",
    "S1 = dc.load(product=product,\n",
    "             dask_chunks={'x': 1000, 'y': 1000},\n",
    "                **query_S1)\n",
    "S1['vhvv'] = S1.vh.where(S1.mask==1) / S1.vv.where(S1.mask==1)"
   ]
  },
  {
   "cell_type": "code",
   "execution_count": 7,
   "metadata": {},
   "outputs": [],
   "source": [
    "#Extract monthly sample and then caluclate the mean with response to time \n",
    "avg_S1= S1.resample(time='MS').mean(dim='time').compute()"
   ]
  },
  {
   "cell_type": "code",
   "execution_count": 8,
   "metadata": {},
   "outputs": [
    {
     "data": {
      "text/html": [
       "<div><svg style=\"position: absolute; width: 0; height: 0; overflow: hidden\">\n",
       "<defs>\n",
       "<symbol id=\"icon-database\" viewBox=\"0 0 32 32\">\n",
       "<path d=\"M16 0c-8.837 0-16 2.239-16 5v4c0 2.761 7.163 5 16 5s16-2.239 16-5v-4c0-2.761-7.163-5-16-5z\"></path>\n",
       "<path d=\"M16 17c-8.837 0-16-2.239-16-5v6c0 2.761 7.163 5 16 5s16-2.239 16-5v-6c0 2.761-7.163 5-16 5z\"></path>\n",
       "<path d=\"M16 26c-8.837 0-16-2.239-16-5v6c0 2.761 7.163 5 16 5s16-2.239 16-5v-6c0 2.761-7.163 5-16 5z\"></path>\n",
       "</symbol>\n",
       "<symbol id=\"icon-file-text2\" viewBox=\"0 0 32 32\">\n",
       "<path d=\"M28.681 7.159c-0.694-0.947-1.662-2.053-2.724-3.116s-2.169-2.030-3.116-2.724c-1.612-1.182-2.393-1.319-2.841-1.319h-15.5c-1.378 0-2.5 1.121-2.5 2.5v27c0 1.378 1.122 2.5 2.5 2.5h23c1.378 0 2.5-1.122 2.5-2.5v-19.5c0-0.448-0.137-1.23-1.319-2.841zM24.543 5.457c0.959 0.959 1.712 1.825 2.268 2.543h-4.811v-4.811c0.718 0.556 1.584 1.309 2.543 2.268zM28 29.5c0 0.271-0.229 0.5-0.5 0.5h-23c-0.271 0-0.5-0.229-0.5-0.5v-27c0-0.271 0.229-0.5 0.5-0.5 0 0 15.499-0 15.5 0v7c0 0.552 0.448 1 1 1h7v19.5z\"></path>\n",
       "<path d=\"M23 26h-14c-0.552 0-1-0.448-1-1s0.448-1 1-1h14c0.552 0 1 0.448 1 1s-0.448 1-1 1z\"></path>\n",
       "<path d=\"M23 22h-14c-0.552 0-1-0.448-1-1s0.448-1 1-1h14c0.552 0 1 0.448 1 1s-0.448 1-1 1z\"></path>\n",
       "<path d=\"M23 18h-14c-0.552 0-1-0.448-1-1s0.448-1 1-1h14c0.552 0 1 0.448 1 1s-0.448 1-1 1z\"></path>\n",
       "</symbol>\n",
       "</defs>\n",
       "</svg>\n",
       "<style>/* CSS stylesheet for displaying xarray objects in jupyterlab.\n",
       " *\n",
       " */\n",
       "\n",
       ":root {\n",
       "  --xr-font-color0: var(--jp-content-font-color0, rgba(0, 0, 0, 1));\n",
       "  --xr-font-color2: var(--jp-content-font-color2, rgba(0, 0, 0, 0.54));\n",
       "  --xr-font-color3: var(--jp-content-font-color3, rgba(0, 0, 0, 0.38));\n",
       "  --xr-border-color: var(--jp-border-color2, #e0e0e0);\n",
       "  --xr-disabled-color: var(--jp-layout-color3, #bdbdbd);\n",
       "  --xr-background-color: var(--jp-layout-color0, white);\n",
       "  --xr-background-color-row-even: var(--jp-layout-color1, white);\n",
       "  --xr-background-color-row-odd: var(--jp-layout-color2, #eeeeee);\n",
       "}\n",
       "\n",
       "html[theme=dark],\n",
       "body.vscode-dark {\n",
       "  --xr-font-color0: rgba(255, 255, 255, 1);\n",
       "  --xr-font-color2: rgba(255, 255, 255, 0.54);\n",
       "  --xr-font-color3: rgba(255, 255, 255, 0.38);\n",
       "  --xr-border-color: #1F1F1F;\n",
       "  --xr-disabled-color: #515151;\n",
       "  --xr-background-color: #111111;\n",
       "  --xr-background-color-row-even: #111111;\n",
       "  --xr-background-color-row-odd: #313131;\n",
       "}\n",
       "\n",
       ".xr-wrap {\n",
       "  display: block;\n",
       "  min-width: 300px;\n",
       "  max-width: 700px;\n",
       "}\n",
       "\n",
       ".xr-text-repr-fallback {\n",
       "  /* fallback to plain text repr when CSS is not injected (untrusted notebook) */\n",
       "  display: none;\n",
       "}\n",
       "\n",
       ".xr-header {\n",
       "  padding-top: 6px;\n",
       "  padding-bottom: 6px;\n",
       "  margin-bottom: 4px;\n",
       "  border-bottom: solid 1px var(--xr-border-color);\n",
       "}\n",
       "\n",
       ".xr-header > div,\n",
       ".xr-header > ul {\n",
       "  display: inline;\n",
       "  margin-top: 0;\n",
       "  margin-bottom: 0;\n",
       "}\n",
       "\n",
       ".xr-obj-type,\n",
       ".xr-array-name {\n",
       "  margin-left: 2px;\n",
       "  margin-right: 10px;\n",
       "}\n",
       "\n",
       ".xr-obj-type {\n",
       "  color: var(--xr-font-color2);\n",
       "}\n",
       "\n",
       ".xr-sections {\n",
       "  padding-left: 0 !important;\n",
       "  display: grid;\n",
       "  grid-template-columns: 150px auto auto 1fr 20px 20px;\n",
       "}\n",
       "\n",
       ".xr-section-item {\n",
       "  display: contents;\n",
       "}\n",
       "\n",
       ".xr-section-item input {\n",
       "  display: none;\n",
       "}\n",
       "\n",
       ".xr-section-item input + label {\n",
       "  color: var(--xr-disabled-color);\n",
       "}\n",
       "\n",
       ".xr-section-item input:enabled + label {\n",
       "  cursor: pointer;\n",
       "  color: var(--xr-font-color2);\n",
       "}\n",
       "\n",
       ".xr-section-item input:enabled + label:hover {\n",
       "  color: var(--xr-font-color0);\n",
       "}\n",
       "\n",
       ".xr-section-summary {\n",
       "  grid-column: 1;\n",
       "  color: var(--xr-font-color2);\n",
       "  font-weight: 500;\n",
       "}\n",
       "\n",
       ".xr-section-summary > span {\n",
       "  display: inline-block;\n",
       "  padding-left: 0.5em;\n",
       "}\n",
       "\n",
       ".xr-section-summary-in:disabled + label {\n",
       "  color: var(--xr-font-color2);\n",
       "}\n",
       "\n",
       ".xr-section-summary-in + label:before {\n",
       "  display: inline-block;\n",
       "  content: '►';\n",
       "  font-size: 11px;\n",
       "  width: 15px;\n",
       "  text-align: center;\n",
       "}\n",
       "\n",
       ".xr-section-summary-in:disabled + label:before {\n",
       "  color: var(--xr-disabled-color);\n",
       "}\n",
       "\n",
       ".xr-section-summary-in:checked + label:before {\n",
       "  content: '▼';\n",
       "}\n",
       "\n",
       ".xr-section-summary-in:checked + label > span {\n",
       "  display: none;\n",
       "}\n",
       "\n",
       ".xr-section-summary,\n",
       ".xr-section-inline-details {\n",
       "  padding-top: 4px;\n",
       "  padding-bottom: 4px;\n",
       "}\n",
       "\n",
       ".xr-section-inline-details {\n",
       "  grid-column: 2 / -1;\n",
       "}\n",
       "\n",
       ".xr-section-details {\n",
       "  display: none;\n",
       "  grid-column: 1 / -1;\n",
       "  margin-bottom: 5px;\n",
       "}\n",
       "\n",
       ".xr-section-summary-in:checked ~ .xr-section-details {\n",
       "  display: contents;\n",
       "}\n",
       "\n",
       ".xr-array-wrap {\n",
       "  grid-column: 1 / -1;\n",
       "  display: grid;\n",
       "  grid-template-columns: 20px auto;\n",
       "}\n",
       "\n",
       ".xr-array-wrap > label {\n",
       "  grid-column: 1;\n",
       "  vertical-align: top;\n",
       "}\n",
       "\n",
       ".xr-preview {\n",
       "  color: var(--xr-font-color3);\n",
       "}\n",
       "\n",
       ".xr-array-preview,\n",
       ".xr-array-data {\n",
       "  padding: 0 5px !important;\n",
       "  grid-column: 2;\n",
       "}\n",
       "\n",
       ".xr-array-data,\n",
       ".xr-array-in:checked ~ .xr-array-preview {\n",
       "  display: none;\n",
       "}\n",
       "\n",
       ".xr-array-in:checked ~ .xr-array-data,\n",
       ".xr-array-preview {\n",
       "  display: inline-block;\n",
       "}\n",
       "\n",
       ".xr-dim-list {\n",
       "  display: inline-block !important;\n",
       "  list-style: none;\n",
       "  padding: 0 !important;\n",
       "  margin: 0;\n",
       "}\n",
       "\n",
       ".xr-dim-list li {\n",
       "  display: inline-block;\n",
       "  padding: 0;\n",
       "  margin: 0;\n",
       "}\n",
       "\n",
       ".xr-dim-list:before {\n",
       "  content: '(';\n",
       "}\n",
       "\n",
       ".xr-dim-list:after {\n",
       "  content: ')';\n",
       "}\n",
       "\n",
       ".xr-dim-list li:not(:last-child):after {\n",
       "  content: ',';\n",
       "  padding-right: 5px;\n",
       "}\n",
       "\n",
       ".xr-has-index {\n",
       "  font-weight: bold;\n",
       "}\n",
       "\n",
       ".xr-var-list,\n",
       ".xr-var-item {\n",
       "  display: contents;\n",
       "}\n",
       "\n",
       ".xr-var-item > div,\n",
       ".xr-var-item label,\n",
       ".xr-var-item > .xr-var-name span {\n",
       "  background-color: var(--xr-background-color-row-even);\n",
       "  margin-bottom: 0;\n",
       "}\n",
       "\n",
       ".xr-var-item > .xr-var-name:hover span {\n",
       "  padding-right: 5px;\n",
       "}\n",
       "\n",
       ".xr-var-list > li:nth-child(odd) > div,\n",
       ".xr-var-list > li:nth-child(odd) > label,\n",
       ".xr-var-list > li:nth-child(odd) > .xr-var-name span {\n",
       "  background-color: var(--xr-background-color-row-odd);\n",
       "}\n",
       "\n",
       ".xr-var-name {\n",
       "  grid-column: 1;\n",
       "}\n",
       "\n",
       ".xr-var-dims {\n",
       "  grid-column: 2;\n",
       "}\n",
       "\n",
       ".xr-var-dtype {\n",
       "  grid-column: 3;\n",
       "  text-align: right;\n",
       "  color: var(--xr-font-color2);\n",
       "}\n",
       "\n",
       ".xr-var-preview {\n",
       "  grid-column: 4;\n",
       "}\n",
       "\n",
       ".xr-var-name,\n",
       ".xr-var-dims,\n",
       ".xr-var-dtype,\n",
       ".xr-preview,\n",
       ".xr-attrs dt {\n",
       "  white-space: nowrap;\n",
       "  overflow: hidden;\n",
       "  text-overflow: ellipsis;\n",
       "  padding-right: 10px;\n",
       "}\n",
       "\n",
       ".xr-var-name:hover,\n",
       ".xr-var-dims:hover,\n",
       ".xr-var-dtype:hover,\n",
       ".xr-attrs dt:hover {\n",
       "  overflow: visible;\n",
       "  width: auto;\n",
       "  z-index: 1;\n",
       "}\n",
       "\n",
       ".xr-var-attrs,\n",
       ".xr-var-data {\n",
       "  display: none;\n",
       "  background-color: var(--xr-background-color) !important;\n",
       "  padding-bottom: 5px !important;\n",
       "}\n",
       "\n",
       ".xr-var-attrs-in:checked ~ .xr-var-attrs,\n",
       ".xr-var-data-in:checked ~ .xr-var-data {\n",
       "  display: block;\n",
       "}\n",
       "\n",
       ".xr-var-data > table {\n",
       "  float: right;\n",
       "}\n",
       "\n",
       ".xr-var-name span,\n",
       ".xr-var-data,\n",
       ".xr-attrs {\n",
       "  padding-left: 25px !important;\n",
       "}\n",
       "\n",
       ".xr-attrs,\n",
       ".xr-var-attrs,\n",
       ".xr-var-data {\n",
       "  grid-column: 1 / -1;\n",
       "}\n",
       "\n",
       "dl.xr-attrs {\n",
       "  padding: 0;\n",
       "  margin: 0;\n",
       "  display: grid;\n",
       "  grid-template-columns: 125px auto;\n",
       "}\n",
       "\n",
       ".xr-attrs dt, dd {\n",
       "  padding: 0;\n",
       "  margin: 0;\n",
       "  float: left;\n",
       "  padding-right: 10px;\n",
       "  width: auto;\n",
       "}\n",
       "\n",
       ".xr-attrs dt {\n",
       "  font-weight: normal;\n",
       "  grid-column: 1;\n",
       "}\n",
       "\n",
       ".xr-attrs dt:hover span {\n",
       "  display: inline-block;\n",
       "  background: var(--xr-background-color);\n",
       "  padding-right: 10px;\n",
       "}\n",
       "\n",
       ".xr-attrs dd {\n",
       "  grid-column: 2;\n",
       "  white-space: pre-wrap;\n",
       "  word-break: break-all;\n",
       "}\n",
       "\n",
       ".xr-icon-database,\n",
       ".xr-icon-file-text2 {\n",
       "  display: inline-block;\n",
       "  vertical-align: middle;\n",
       "  width: 1em;\n",
       "  height: 1.5em !important;\n",
       "  stroke-width: 0;\n",
       "  stroke: currentColor;\n",
       "  fill: currentColor;\n",
       "}\n",
       "</style><pre class='xr-text-repr-fallback'>&lt;xarray.Dataset&gt;\n",
       "Dimensions:      (time: 1, x: 1314, y: 1699)\n",
       "Coordinates:\n",
       "  * time         (time) datetime64[ns] 2020-01-01\n",
       "  * y            (y) float64 4.292e+06 4.288e+06 ... -4.192e+06 -4.198e+06\n",
       "  * x            (x) float64 -1.692e+06 -1.688e+06 ... 4.868e+06 4.872e+06\n",
       "    spatial_ref  int32 6933\n",
       "Data variables:\n",
       "    vv           (time, y, x) float32 nan nan nan nan nan ... nan nan nan nan\n",
       "    vh           (time, y, x) float32 nan nan nan nan nan ... nan nan nan nan\n",
       "    mask         (time, y, x) float64 0.0 0.0 0.0 0.0 0.0 ... 0.0 0.0 0.0 0.0\n",
       "    angle        (time, y, x) float64 255.0 255.0 255.0 ... 255.0 255.0 255.0\n",
       "    vhvv         (time, y, x) float32 nan nan nan nan nan ... nan nan nan nan</pre><div class='xr-wrap' hidden><div class='xr-header'><div class='xr-obj-type'>xarray.Dataset</div></div><ul class='xr-sections'><li class='xr-section-item'><input id='section-e75da5a5-100d-4355-927b-0884311d2212' class='xr-section-summary-in' type='checkbox' disabled ><label for='section-e75da5a5-100d-4355-927b-0884311d2212' class='xr-section-summary'  title='Expand/collapse section'>Dimensions:</label><div class='xr-section-inline-details'><ul class='xr-dim-list'><li><span class='xr-has-index'>time</span>: 1</li><li><span class='xr-has-index'>x</span>: 1314</li><li><span class='xr-has-index'>y</span>: 1699</li></ul></div><div class='xr-section-details'></div></li><li class='xr-section-item'><input id='section-89f137fd-65b2-42b2-90e0-29858d510303' class='xr-section-summary-in' type='checkbox'  checked><label for='section-89f137fd-65b2-42b2-90e0-29858d510303' class='xr-section-summary' >Coordinates: <span>(4)</span></label><div class='xr-section-inline-details'></div><div class='xr-section-details'><ul class='xr-var-list'><li class='xr-var-item'><div class='xr-var-name'><span class='xr-has-index'>time</span></div><div class='xr-var-dims'>(time)</div><div class='xr-var-dtype'>datetime64[ns]</div><div class='xr-var-preview xr-preview'>2020-01-01</div><input id='attrs-21ed8508-1f06-4898-bf7a-cfa04e66b5da' class='xr-var-attrs-in' type='checkbox' disabled><label for='attrs-21ed8508-1f06-4898-bf7a-cfa04e66b5da' title='Show/Hide attributes'><svg class='icon xr-icon-file-text2'><use xlink:href='#icon-file-text2'></use></svg></label><input id='data-4dce7a9c-6adb-4f7c-9794-a303fe4e0957' class='xr-var-data-in' type='checkbox'><label for='data-4dce7a9c-6adb-4f7c-9794-a303fe4e0957' title='Show/Hide data repr'><svg class='icon xr-icon-database'><use xlink:href='#icon-database'></use></svg></label><div class='xr-var-attrs'><dl class='xr-attrs'></dl></div><div class='xr-var-data'><pre>array([&#x27;2020-01-01T00:00:00.000000000&#x27;], dtype=&#x27;datetime64[ns]&#x27;)</pre></div></li><li class='xr-var-item'><div class='xr-var-name'><span class='xr-has-index'>y</span></div><div class='xr-var-dims'>(y)</div><div class='xr-var-dtype'>float64</div><div class='xr-var-preview xr-preview'>4.292e+06 4.288e+06 ... -4.198e+06</div><input id='attrs-6d5dbcaa-d6aa-4239-809f-702abf74afad' class='xr-var-attrs-in' type='checkbox' ><label for='attrs-6d5dbcaa-d6aa-4239-809f-702abf74afad' title='Show/Hide attributes'><svg class='icon xr-icon-file-text2'><use xlink:href='#icon-file-text2'></use></svg></label><input id='data-96d58bff-adbc-413a-8bef-8c122653252b' class='xr-var-data-in' type='checkbox'><label for='data-96d58bff-adbc-413a-8bef-8c122653252b' title='Show/Hide data repr'><svg class='icon xr-icon-database'><use xlink:href='#icon-database'></use></svg></label><div class='xr-var-attrs'><dl class='xr-attrs'><dt><span>units :</span></dt><dd>metre</dd><dt><span>resolution :</span></dt><dd>-5000.0</dd><dt><span>crs :</span></dt><dd>epsg:6933</dd></dl></div><div class='xr-var-data'><pre>array([ 4292500.,  4287500.,  4282500., ..., -4187500., -4192500., -4197500.])</pre></div></li><li class='xr-var-item'><div class='xr-var-name'><span class='xr-has-index'>x</span></div><div class='xr-var-dims'>(x)</div><div class='xr-var-dtype'>float64</div><div class='xr-var-preview xr-preview'>-1.692e+06 -1.688e+06 ... 4.872e+06</div><input id='attrs-40609cc1-0282-45f1-ba71-de9b4244ec3a' class='xr-var-attrs-in' type='checkbox' ><label for='attrs-40609cc1-0282-45f1-ba71-de9b4244ec3a' title='Show/Hide attributes'><svg class='icon xr-icon-file-text2'><use xlink:href='#icon-file-text2'></use></svg></label><input id='data-e5c1e5df-344c-47ad-940e-4c1370a813b9' class='xr-var-data-in' type='checkbox'><label for='data-e5c1e5df-344c-47ad-940e-4c1370a813b9' title='Show/Hide data repr'><svg class='icon xr-icon-database'><use xlink:href='#icon-database'></use></svg></label><div class='xr-var-attrs'><dl class='xr-attrs'><dt><span>units :</span></dt><dd>metre</dd><dt><span>resolution :</span></dt><dd>5000.0</dd><dt><span>crs :</span></dt><dd>epsg:6933</dd></dl></div><div class='xr-var-data'><pre>array([-1692500., -1687500., -1682500., ...,  4862500.,  4867500.,  4872500.])</pre></div></li><li class='xr-var-item'><div class='xr-var-name'><span>spatial_ref</span></div><div class='xr-var-dims'>()</div><div class='xr-var-dtype'>int32</div><div class='xr-var-preview xr-preview'>6933</div><input id='attrs-143b86c8-a8b2-49ee-90ea-644c88625fde' class='xr-var-attrs-in' type='checkbox' ><label for='attrs-143b86c8-a8b2-49ee-90ea-644c88625fde' title='Show/Hide attributes'><svg class='icon xr-icon-file-text2'><use xlink:href='#icon-file-text2'></use></svg></label><input id='data-03eb5346-b47e-496c-934a-370f96e8049d' class='xr-var-data-in' type='checkbox'><label for='data-03eb5346-b47e-496c-934a-370f96e8049d' title='Show/Hide data repr'><svg class='icon xr-icon-database'><use xlink:href='#icon-database'></use></svg></label><div class='xr-var-attrs'><dl class='xr-attrs'><dt><span>spatial_ref :</span></dt><dd>PROJCS[&quot;WGS 84 / NSIDC EASE-Grid 2.0 Global&quot;,GEOGCS[&quot;WGS 84&quot;,DATUM[&quot;WGS_1984&quot;,SPHEROID[&quot;WGS 84&quot;,6378137,298.257223563,AUTHORITY[&quot;EPSG&quot;,&quot;7030&quot;]],AUTHORITY[&quot;EPSG&quot;,&quot;6326&quot;]],PRIMEM[&quot;Greenwich&quot;,0,AUTHORITY[&quot;EPSG&quot;,&quot;8901&quot;]],UNIT[&quot;degree&quot;,0.0174532925199433,AUTHORITY[&quot;EPSG&quot;,&quot;9122&quot;]],AUTHORITY[&quot;EPSG&quot;,&quot;4326&quot;]],PROJECTION[&quot;Cylindrical_Equal_Area&quot;],PARAMETER[&quot;standard_parallel_1&quot;,30],PARAMETER[&quot;central_meridian&quot;,0],PARAMETER[&quot;false_easting&quot;,0],PARAMETER[&quot;false_northing&quot;,0],UNIT[&quot;metre&quot;,1,AUTHORITY[&quot;EPSG&quot;,&quot;9001&quot;]],AXIS[&quot;Easting&quot;,EAST],AXIS[&quot;Northing&quot;,NORTH],AUTHORITY[&quot;EPSG&quot;,&quot;6933&quot;]]</dd><dt><span>grid_mapping_name :</span></dt><dd>lambert_cylindrical_equal_area</dd></dl></div><div class='xr-var-data'><pre>array(6933, dtype=int32)</pre></div></li></ul></div></li><li class='xr-section-item'><input id='section-6bd09c17-ed7f-468b-8ac9-76f1d60521a9' class='xr-section-summary-in' type='checkbox'  checked><label for='section-6bd09c17-ed7f-468b-8ac9-76f1d60521a9' class='xr-section-summary' >Data variables: <span>(5)</span></label><div class='xr-section-inline-details'></div><div class='xr-section-details'><ul class='xr-var-list'><li class='xr-var-item'><div class='xr-var-name'><span>vv</span></div><div class='xr-var-dims'>(time, y, x)</div><div class='xr-var-dtype'>float32</div><div class='xr-var-preview xr-preview'>nan nan nan nan ... nan nan nan nan</div><input id='attrs-bc4e849f-bab9-46b2-987d-06faa2520efd' class='xr-var-attrs-in' type='checkbox' disabled><label for='attrs-bc4e849f-bab9-46b2-987d-06faa2520efd' title='Show/Hide attributes'><svg class='icon xr-icon-file-text2'><use xlink:href='#icon-file-text2'></use></svg></label><input id='data-33730f79-7f00-48b4-ac46-cbcc435c8f96' class='xr-var-data-in' type='checkbox'><label for='data-33730f79-7f00-48b4-ac46-cbcc435c8f96' title='Show/Hide data repr'><svg class='icon xr-icon-database'><use xlink:href='#icon-database'></use></svg></label><div class='xr-var-attrs'><dl class='xr-attrs'></dl></div><div class='xr-var-data'><pre>array([[[nan, nan, nan, ..., nan, nan, nan],\n",
       "        [nan, nan, nan, ..., nan, nan, nan],\n",
       "        [nan, nan, nan, ..., nan, nan, nan],\n",
       "        ...,\n",
       "        [nan, nan, nan, ..., nan, nan, nan],\n",
       "        [nan, nan, nan, ..., nan, nan, nan],\n",
       "        [nan, nan, nan, ..., nan, nan, nan]]], dtype=float32)</pre></div></li><li class='xr-var-item'><div class='xr-var-name'><span>vh</span></div><div class='xr-var-dims'>(time, y, x)</div><div class='xr-var-dtype'>float32</div><div class='xr-var-preview xr-preview'>nan nan nan nan ... nan nan nan nan</div><input id='attrs-e75592a8-2707-432a-ab26-d889a18498a1' class='xr-var-attrs-in' type='checkbox' disabled><label for='attrs-e75592a8-2707-432a-ab26-d889a18498a1' title='Show/Hide attributes'><svg class='icon xr-icon-file-text2'><use xlink:href='#icon-file-text2'></use></svg></label><input id='data-59380437-2aac-4fa1-aee7-b99587d12384' class='xr-var-data-in' type='checkbox'><label for='data-59380437-2aac-4fa1-aee7-b99587d12384' title='Show/Hide data repr'><svg class='icon xr-icon-database'><use xlink:href='#icon-database'></use></svg></label><div class='xr-var-attrs'><dl class='xr-attrs'></dl></div><div class='xr-var-data'><pre>array([[[nan, nan, nan, ..., nan, nan, nan],\n",
       "        [nan, nan, nan, ..., nan, nan, nan],\n",
       "        [nan, nan, nan, ..., nan, nan, nan],\n",
       "        ...,\n",
       "        [nan, nan, nan, ..., nan, nan, nan],\n",
       "        [nan, nan, nan, ..., nan, nan, nan],\n",
       "        [nan, nan, nan, ..., nan, nan, nan]]], dtype=float32)</pre></div></li><li class='xr-var-item'><div class='xr-var-name'><span>mask</span></div><div class='xr-var-dims'>(time, y, x)</div><div class='xr-var-dtype'>float64</div><div class='xr-var-preview xr-preview'>0.0 0.0 0.0 0.0 ... 0.0 0.0 0.0 0.0</div><input id='attrs-fdec7d4c-fce8-4e93-83eb-ab3aa78b20eb' class='xr-var-attrs-in' type='checkbox' disabled><label for='attrs-fdec7d4c-fce8-4e93-83eb-ab3aa78b20eb' title='Show/Hide attributes'><svg class='icon xr-icon-file-text2'><use xlink:href='#icon-file-text2'></use></svg></label><input id='data-3461d06c-d6fc-4723-aeef-83cc61798918' class='xr-var-data-in' type='checkbox'><label for='data-3461d06c-d6fc-4723-aeef-83cc61798918' title='Show/Hide data repr'><svg class='icon xr-icon-database'><use xlink:href='#icon-database'></use></svg></label><div class='xr-var-attrs'><dl class='xr-attrs'></dl></div><div class='xr-var-data'><pre>array([[[0., 0., 0., ..., 0., 0., 0.],\n",
       "        [0., 0., 0., ..., 0., 0., 0.],\n",
       "        [0., 0., 0., ..., 0., 0., 0.],\n",
       "        ...,\n",
       "        [0., 0., 0., ..., 0., 0., 0.],\n",
       "        [0., 0., 0., ..., 0., 0., 0.],\n",
       "        [0., 0., 0., ..., 0., 0., 0.]]])</pre></div></li><li class='xr-var-item'><div class='xr-var-name'><span>angle</span></div><div class='xr-var-dims'>(time, y, x)</div><div class='xr-var-dtype'>float64</div><div class='xr-var-preview xr-preview'>255.0 255.0 255.0 ... 255.0 255.0</div><input id='attrs-40fb058f-f6a0-4b65-9165-64185e602dff' class='xr-var-attrs-in' type='checkbox' disabled><label for='attrs-40fb058f-f6a0-4b65-9165-64185e602dff' title='Show/Hide attributes'><svg class='icon xr-icon-file-text2'><use xlink:href='#icon-file-text2'></use></svg></label><input id='data-c0399a9c-3764-4a4b-9d7f-8f9140be1507' class='xr-var-data-in' type='checkbox'><label for='data-c0399a9c-3764-4a4b-9d7f-8f9140be1507' title='Show/Hide data repr'><svg class='icon xr-icon-database'><use xlink:href='#icon-database'></use></svg></label><div class='xr-var-attrs'><dl class='xr-attrs'></dl></div><div class='xr-var-data'><pre>array([[[255., 255., 255., ..., 255., 255., 255.],\n",
       "        [255., 255., 255., ..., 255., 255., 255.],\n",
       "        [255., 255., 255., ..., 255., 255., 255.],\n",
       "        ...,\n",
       "        [255., 255., 255., ..., 255., 255., 255.],\n",
       "        [255., 255., 255., ..., 255., 255., 255.],\n",
       "        [255., 255., 255., ..., 255., 255., 255.]]])</pre></div></li><li class='xr-var-item'><div class='xr-var-name'><span>vhvv</span></div><div class='xr-var-dims'>(time, y, x)</div><div class='xr-var-dtype'>float32</div><div class='xr-var-preview xr-preview'>nan nan nan nan ... nan nan nan nan</div><input id='attrs-5f9d6bb7-592e-4585-ab1f-939e7468124e' class='xr-var-attrs-in' type='checkbox' disabled><label for='attrs-5f9d6bb7-592e-4585-ab1f-939e7468124e' title='Show/Hide attributes'><svg class='icon xr-icon-file-text2'><use xlink:href='#icon-file-text2'></use></svg></label><input id='data-295badcd-a27c-4349-9925-93237d1c5d85' class='xr-var-data-in' type='checkbox'><label for='data-295badcd-a27c-4349-9925-93237d1c5d85' title='Show/Hide data repr'><svg class='icon xr-icon-database'><use xlink:href='#icon-database'></use></svg></label><div class='xr-var-attrs'><dl class='xr-attrs'></dl></div><div class='xr-var-data'><pre>array([[[nan, nan, nan, ..., nan, nan, nan],\n",
       "        [nan, nan, nan, ..., nan, nan, nan],\n",
       "        [nan, nan, nan, ..., nan, nan, nan],\n",
       "        ...,\n",
       "        [nan, nan, nan, ..., nan, nan, nan],\n",
       "        [nan, nan, nan, ..., nan, nan, nan],\n",
       "        [nan, nan, nan, ..., nan, nan, nan]]], dtype=float32)</pre></div></li></ul></div></li><li class='xr-section-item'><input id='section-6783afdd-4414-4f3f-af49-0917cc46c1da' class='xr-section-summary-in' type='checkbox' disabled ><label for='section-6783afdd-4414-4f3f-af49-0917cc46c1da' class='xr-section-summary'  title='Expand/collapse section'>Attributes: <span>(0)</span></label><div class='xr-section-inline-details'></div><div class='xr-section-details'><dl class='xr-attrs'></dl></div></li></ul></div></div>"
      ],
      "text/plain": [
       "<xarray.Dataset>\n",
       "Dimensions:      (time: 1, x: 1314, y: 1699)\n",
       "Coordinates:\n",
       "  * time         (time) datetime64[ns] 2020-01-01\n",
       "  * y            (y) float64 4.292e+06 4.288e+06 ... -4.192e+06 -4.198e+06\n",
       "  * x            (x) float64 -1.692e+06 -1.688e+06 ... 4.868e+06 4.872e+06\n",
       "    spatial_ref  int32 6933\n",
       "Data variables:\n",
       "    vv           (time, y, x) float32 nan nan nan nan nan ... nan nan nan nan\n",
       "    vh           (time, y, x) float32 nan nan nan nan nan ... nan nan nan nan\n",
       "    mask         (time, y, x) float64 0.0 0.0 0.0 0.0 0.0 ... 0.0 0.0 0.0 0.0\n",
       "    angle        (time, y, x) float64 255.0 255.0 255.0 ... 255.0 255.0 255.0\n",
       "    vhvv         (time, y, x) float32 nan nan nan nan nan ... nan nan nan nan"
      ]
     },
     "execution_count": 8,
     "metadata": {},
     "output_type": "execute_result"
    }
   ],
   "source": [
    "avg_S1"
   ]
  },
  {
   "cell_type": "code",
   "execution_count": 9,
   "metadata": {},
   "outputs": [],
   "source": [
    "# We keep the min values for each polarisation band with zero percentile which is very close to zero. In order to have exposure for the two percentile to low values, we set \n",
    "# the max values to 98 percentile. \n",
    "max_vv = avg_S1.vv.quantile(0.99)\n",
    "max_vh = avg_S1.vh.quantile(0.99)\n",
    "max_vhvv = avg_S1.vhvv.quantile(0.99)"
   ]
  },
  {
   "cell_type": "code",
   "execution_count": 10,
   "metadata": {},
   "outputs": [
    {
     "name": "stdout",
     "output_type": "stream",
     "text": [
      "<xarray.DataArray 'vv' ()>\n",
      "array(0.28221259)\n",
      "Coordinates:\n",
      "    quantile  float64 0.99 <xarray.DataArray 'vh' ()>\n",
      "array(0.06091451)\n",
      "Coordinates:\n",
      "    quantile  float64 0.99 <xarray.DataArray 'vhvv' ()>\n",
      "array(0.48878537)\n",
      "Coordinates:\n",
      "    quantile  float64 0.99\n"
     ]
    }
   ],
   "source": [
    "print(max_vv,max_vh,max_vhvv)"
   ]
  },
  {
   "cell_type": "code",
   "execution_count": 11,
   "metadata": {},
   "outputs": [],
   "source": [
    "rgb_cfg= {\n",
    "    \"name\": \"vv_vh_vv_over_vv\",\n",
    "    \"title\": \"VV, VH and VH/VV\",\n",
    "    \"abstract\": \"False colour representation ofVV, VH and VH/VV for R, G and B respectively\",\n",
    "    \"additional_bands\": [],\n",
    "    \"components\": {\n",
    "        \"red\": {\"vv\":1.0,\"scale_range\":[0.0,0.28]},\n",
    "        \"green\": {\"vh\":1.0,\"scale_range\":[0.0,0.06]},\n",
    "        \"blue\": {\n",
    "            \"function\": \"datacube_ows.band_utils.band_quotient\",\n",
    "            \"mapped_bands\": True,\n",
    "            \"kwargs\": {\"band1\": \"vh\", \"band2\": \"vv\", \"scale_from\":[0.0,0.49]},\n",
    "        },\n",
    "    },\n",
    "}"
   ]
  },
  {
   "cell_type": "code",
   "execution_count": 12,
   "metadata": {},
   "outputs": [],
   "source": [
    "from datacube_ows.styles.api import StandaloneStyle, apply_ows_style_cfg, xarray_image_as_png\n",
    "xr_image = apply_ows_style_cfg(rgb_cfg, avg_S1)\n",
    "png_image = xarray_image_as_png(xr_image)\n",
    "with open(\"../Real_world_examples/Styled_99/Continent.png\",\"wb\") as fp:\n",
    "    fp.write(png_image)"
   ]
  },
  {
   "cell_type": "markdown",
   "metadata": {},
   "source": [
    "### Test Sites "
   ]
  },
  {
   "cell_type": "markdown",
   "metadata": {},
   "source": [
    "Loading Sentinel-1 dataset for different test sites and considering the fact that resolution should be in full resolution.  "
   ]
  },
  {
   "cell_type": "code",
   "execution_count": 90,
   "metadata": {},
   "outputs": [],
   "source": [
    "#Timeframe and Resolution settings:\n",
    "time_range = ('2020-01-01','2020-01-12')\n",
    "min_gooddata = 0.15\n",
    "resolution = (-20,20)\n",
    "\n",
    "#Test Area A:Desert in Mali\n",
    "lat_A = (16.10,16.32)\n",
    "lon_A= (-3.80,-4.10)\n",
    "\n",
    "#Test Area B: Forests in Congo \n",
    "lat_B = (-3.33,-3.13)\n",
    "lon_B = (16.52,16.67)\n",
    "\n",
    "#Test Area C: Etosha Pan-Namibia\n",
    "lat_C = (-18.5,-18.7)\n",
    "lon_C = (15.45,16.00)\n",
    "\n",
    "#Test Area D: \n",
    "#Around Cairo\n",
    "# lat_D = (30.13,30.23)\n",
    "# lon_D = (30.43,30.66)\n",
    "#Downtown Cairo\n",
    "lat_D = (30.03,30.07)\n",
    "lon_D = (31.19,31.25)\n",
    "\n",
    "#Test Area E: Lake ihorty Madagascar\n",
    "lat_E = (-21.73,-22.07)\n",
    "lon_E = (43.46,43.95)"
   ]
  },
  {
   "cell_type": "code",
   "execution_count": 91,
   "metadata": {},
   "outputs": [],
   "source": [
    "# Create a reusable query for Sentinel-1\n",
    "query_A = {\n",
    "    'x': lon_A,\n",
    "    'y': lat_A,\n",
    "    'time': time_range,\n",
    "    'measurements': ['vv', 'vh', 'mask','angle'],\n",
    "    'resolution': resolution,\n",
    "    'output_crs': 'epsg:6933',\n",
    "    'group_by':'solar_day'\n",
    "}\n",
    "\n",
    "# # Load available data from Sentinel-1\n",
    "S1A = dc.load(product='s1_rtc',\n",
    "             dask_chunks={'x': 1000, 'y': 1000},\n",
    "                **query_A)\n",
    "S1A['vhvv'] = S1A.vh.where(S1A.mask==1) / S1A.vv.where(S1A.mask==1)"
   ]
  },
  {
   "cell_type": "code",
   "execution_count": 92,
   "metadata": {},
   "outputs": [],
   "source": [
    "#Extract monthly sample and then caluclate the mean with response to time \n",
    "S1A_avg= S1A.resample(time='MS').mean(dim='time').compute()"
   ]
  },
  {
   "cell_type": "code",
   "execution_count": 93,
   "metadata": {},
   "outputs": [],
   "source": [
    "#use the 0.99 percentile \n",
    "max_vv = S1A_avg.vv.quantile(0.99)\n",
    "max_vh = S1A_avg.vh.quantile(0.99)\n",
    "max_vhvv = S1A_avg.vhvv.quantile(0.99)"
   ]
  },
  {
   "cell_type": "code",
   "execution_count": 94,
   "metadata": {},
   "outputs": [
    {
     "name": "stdout",
     "output_type": "stream",
     "text": [
      "<xarray.DataArray 'vv' ()>\n",
      "array(0.30363022)\n",
      "Coordinates:\n",
      "    quantile  float64 0.99 <xarray.DataArray 'vh' ()>\n",
      "array(0.05869113)\n",
      "Coordinates:\n",
      "    quantile  float64 0.99 <xarray.DataArray 'vhvv' ()>\n",
      "array(0.6738258)\n",
      "Coordinates:\n",
      "    quantile  float64 0.99\n"
     ]
    }
   ],
   "source": [
    "print(max_vv,max_vh,max_vhvv)"
   ]
  },
  {
   "cell_type": "code",
   "execution_count": 101,
   "metadata": {},
   "outputs": [],
   "source": [
    "pure_vv_cfg = {\n",
    "    \"components\": {\n",
    "        \"red\": {\n",
    "         \"vv\": 1.0,\"scale_range\":[0.0,0.28]\n",
    "        },\n",
    "        \"green\": {\n",
    "         \"vv\": 1.0,\"scale_range\":[0.0,0.28]\n",
    "        },\n",
    "        \"blue\": {\n",
    "         \"vv\": 1.0,\"scale_range\":[0.0,0.28]\n",
    "        },\n",
    "    },\n",
    "}"
   ]
  },
  {
   "cell_type": "code",
   "execution_count": 87,
   "metadata": {},
   "outputs": [],
   "source": [
    "rgb_cfg_A= {\n",
    "    \"name\": \"vv_vh_vv_over_vv\",\n",
    "    \"title\": \"VV, VH and VH/VV\",\n",
    "    \"abstract\": \"False colour representation ofVV, VH and VH/VV for R, G and B respectively\",\n",
    "    \"additional_bands\": [],\n",
    "    \"components\": {\n",
    "        \"red\": {\"vv\":1.0,\"scale_range\":[0.0,0.30]},\n",
    "        \"green\": {\"vh\":1.0,\"scale_range\":[0.0,0.06]},\n",
    "        \"blue\": {\n",
    "            \"function\": \"datacube_ows.band_utils.band_quotient\",\n",
    "            \"mapped_bands\": True,\n",
    "            \"kwargs\": {\"band1\": \"vh\", \"band2\": \"vv\", \"scale_from\":[0.0,0.67]},\n",
    "        },\n",
    "    },\n",
    "}"
   ]
  },
  {
   "cell_type": "code",
   "execution_count": 104,
   "metadata": {},
   "outputs": [],
   "source": [
    "from datacube_ows.styles.api import StandaloneStyle, apply_ows_style_cfg, xarray_image_as_png\n",
    "xr_image_A = apply_ows_style_cfg(pure_vv_cfg, avg_S1)\n",
    "png_image = xarray_image_as_png(xr_image_A)\n",
    "with open(\"../Real_world_examples/Styled_99/Continent_VV.png\",\"wb\") as fp:\n",
    "    fp.write(png_image)"
   ]
  },
  {
   "cell_type": "code",
   "execution_count": 56,
   "metadata": {},
   "outputs": [],
   "source": [
    "#documenting the values \n",
    "\n",
    "#Desert area:\n",
    "# vv = 0.30\n",
    "# vh = 0.06\n",
    "# vhvv = 0.67\n",
    "\n",
    "#Forest area: \n",
    "# vv = 0.46\n",
    "# vh = 0.094\n",
    "# vhvv = 0.51\n",
    "\n",
    "# vv = 0.5\n",
    "# vh = 0.1\n",
    "# vhvv = 0.58\n",
    "\n",
    "#Salt Lake area \n",
    "# vv = 0.15\n",
    "# vh = 0.04\n",
    "# vhvv = 0.59\n",
    "\n",
    "# vv = 0.16\n",
    "# vh = 0.04\n",
    "# vhvv = 0.73\n",
    "\n",
    "#Cairo area: \n",
    "#vv = 0.26\n",
    "#vh = 0.044\n",
    "#vhvv = 0.368\n",
    "\n",
    "# vv= 0.26\n",
    "# vh= 0.05\n",
    "# vhvv= 0.41\n",
    "\n",
    "#Cairo CBD area:\n",
    "# vv= 0.65\n",
    "# vh= 0.09\n",
    "# vhvv= 0.51\n",
    "\n",
    "#area in madagascar\n",
    "# vv= 0.25\n",
    "# vh= 0.06\n",
    "# vhvv= 0.55"
   ]
  },
  {
   "cell_type": "markdown",
   "metadata": {},
   "source": [
    "### Show the PNG "
   ]
  },
  {
   "cell_type": "markdown",
   "metadata": {},
   "source": [
    "The following steps will be used for comparing the style in different regions. "
   ]
  },
  {
   "cell_type": "code",
   "execution_count": 95,
   "metadata": {},
   "outputs": [
    {
     "name": "stdout",
     "output_type": "stream",
     "text": [
      "..//Real_world_examples/Styled_99/TestA/*.png\n"
     ]
    }
   ],
   "source": [
    "#setting a search criteria for all tiff files that we want to use \n",
    "dirpath = '..//Real_world_examples/Styled_99/TestA'\n",
    "#Search criteria\n",
    "search_criteria = \"*.png\"\n",
    "q = os.path.join(dirpath,search_criteria)\n",
    "print(q)"
   ]
  },
  {
   "cell_type": "code",
   "execution_count": 96,
   "metadata": {},
   "outputs": [
    {
     "data": {
      "text/plain": [
       "['..//Real_world_examples/Styled_99/TestA/TestSiteA_Desert_localStretch.png',\n",
       " '..//Real_world_examples/Styled_99/TestA/TestSiteA_Desert.png']"
      ]
     },
     "execution_count": 96,
     "metadata": {},
     "output_type": "execute_result"
    }
   ],
   "source": [
    "#listing all the files with searching criteria \n",
    "files = glob.glob(q)\n",
    "files"
   ]
  },
  {
   "cell_type": "code",
   "execution_count": 97,
   "metadata": {},
   "outputs": [],
   "source": [
    "#create an empty list for all datafiles that is going to be part of mosaic \n",
    "images = []"
   ]
  },
  {
   "cell_type": "code",
   "execution_count": 98,
   "metadata": {},
   "outputs": [
    {
     "data": {
      "text/plain": [
       "[<open DatasetReader name='..//Real_world_examples/Styled_99/TestA/TestSiteA_Desert_localStretch.png' mode='r'>,\n",
       " <open DatasetReader name='..//Real_world_examples/Styled_99/TestA/TestSiteA_Desert.png' mode='r'>]"
      ]
     },
     "execution_count": 98,
     "metadata": {},
     "output_type": "execute_result"
    }
   ],
   "source": [
    "for fp in files:\n",
    "    src = rasterio.open(fp)\n",
    "    images.append(src)\n",
    "images"
   ]
  },
  {
   "cell_type": "code",
   "execution_count": 100,
   "metadata": {},
   "outputs": [
    {
     "data": {
      "text/plain": [
       "<AxesSubplot:title={'center':'vvvh_nochange'}>"
      ]
     },
     "execution_count": 100,
     "metadata": {},
     "output_type": "execute_result"
    }
   ],
   "source": [
    "#create four plots next to each other \n",
    "fig, (ax1, ax2, ax3) = plt.subplots(ncols=3, nrows=1, figsize=(12, 4))\n",
    "\n",
    "\n",
    "# Plot first four files\n",
    "show(images[0], ax=ax1, title='vhvv_nochange')\n",
    "show(images[1], ax=ax2, title='vvvh_nochange')\n",
    "show(images[2], ax =ax3, title='vhvv_change')\n",
    "\n",
    "# # Do not show y-ticks values in last three axis\n",
    "# for ax in [ax1]:\n",
    "#     ax.yaxis.set_visible(False)"
   ]
  },
  {
   "cell_type": "markdown",
   "metadata": {},
   "source": [
    "## Conclusions\n",
    "\n",
    "In the example above, we can see these four fields are following the same cropping schedule and are therefore likely the same species of crop. We can also observe intra-field differences in the rates of growth, and in the NDVI values at different times of the season, which may be attributable to differences in soil quality, watering intensity, or other farming practices. \n",
    "\n",
    "Phenology statistics are a powerful way to summarise the seasonal cycle of a plant's life.  Per-pixel plots of phenology can help us understand the timing of vegetation growth and seasonality across large areas and across diverse plant species as every pixel is treated as an independent series of observations. This could be important, for example, if we wanted to assess how the growing seasons are shifting as the climate warms.  \n"
   ]
  },
  {
   "cell_type": "markdown",
   "metadata": {},
   "source": [
    "***\n",
    "\n",
    "## Additional information\n",
    "\n",
    "**License:** The code in this notebook is licensed under the [Apache License, Version 2.0](https://www.apache.org/licenses/LICENSE-2.0). \n",
    "Digital Earth Africa data is licensed under the [Creative Commons by Attribution 4.0](https://creativecommons.org/licenses/by/4.0/) license.\n",
    "\n",
    "**Contact:** If you need assistance, please post a question on the [Open Data Cube Slack channel](http://slack.opendatacube.org/) or on the [GIS Stack Exchange](https://gis.stackexchange.com/questions/ask?tags=open-data-cube) using the `open-data-cube` tag (you can view previously asked questions [here](https://gis.stackexchange.com/questions/tagged/open-data-cube)).\n",
    "If you would like to report an issue with this notebook, you can file one on [Github](https://github.com/digitalearthafrica/deafrica-sandbox-notebooks).\n",
    "\n",
    "**Compatible datacube version:** "
   ]
  },
  {
   "cell_type": "code",
   "execution_count": 36,
   "metadata": {},
   "outputs": [
    {
     "name": "stdout",
     "output_type": "stream",
     "text": [
      "1.8.4.dev63+g6ee0462c\n"
     ]
    }
   ],
   "source": [
    "print(datacube.__version__)"
   ]
  },
  {
   "cell_type": "markdown",
   "metadata": {},
   "source": [
    "**Last Tested:**"
   ]
  },
  {
   "cell_type": "code",
   "execution_count": 37,
   "metadata": {},
   "outputs": [
    {
     "data": {
      "text/plain": [
       "'2021-05-06'"
      ]
     },
     "execution_count": 37,
     "metadata": {},
     "output_type": "execute_result"
    }
   ],
   "source": [
    "from datetime import datetime\n",
    "datetime.today().strftime('%Y-%m-%d')"
   ]
  }
 ],
 "metadata": {
  "kernelspec": {
   "display_name": "Python 3",
   "language": "python",
   "name": "python3"
  },
  "language_info": {
   "codemirror_mode": {
    "name": "ipython",
    "version": 3
   },
   "file_extension": ".py",
   "mimetype": "text/x-python",
   "name": "python",
   "nbconvert_exporter": "python",
   "pygments_lexer": "ipython3",
   "version": "3.6.9"
  },
  "widgets": {
   "application/vnd.jupyter.widget-state+json": {
    "state": {
     "1d2ba241bfd2437dbdf5d4530c685d9a": {
      "model_module": "jupyter-leaflet",
      "model_module_version": "^0.11.1",
      "model_name": "LeafletAttributionControlModel",
      "state": {
       "_model_module_version": "^0.11.1",
       "_view_count": null,
       "_view_module_version": "^0.11.1",
       "options": [
        "position",
        "prefix"
       ],
       "position": "bottomright",
       "prefix": "Leaflet"
      }
     },
     "d867097fe154472198694ed8095e3b0c": {
      "model_module": "jupyter-leaflet",
      "model_module_version": "^0.11.1",
      "model_name": "LeafletZoomControlModel",
      "state": {
       "_model_module_version": "^0.11.1",
       "_view_count": null,
       "_view_module_version": "^0.11.1",
       "options": [
        "position",
        "zoom_in_text",
        "zoom_in_title",
        "zoom_out_text",
        "zoom_out_title"
       ]
      }
     }
    },
    "version_major": 2,
    "version_minor": 0
   }
  }
 },
 "nbformat": 4,
 "nbformat_minor": 4
}
