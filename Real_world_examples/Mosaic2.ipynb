{
 "cells": [
  {
   "cell_type": "code",
   "execution_count": 35,
   "metadata": {},
   "outputs": [],
   "source": [
    "#import required libraries \n",
    "%matplotlib inline\n",
    "import rasterio\n",
    "from rasterio.merge import merge\n",
    "from rasterio.plot import show\n",
    "import glob \n",
    "import os"
   ]
  },
  {
   "cell_type": "code",
   "execution_count": 36,
   "metadata": {},
   "outputs": [
    {
     "name": "stdout",
     "output_type": "stream",
     "text": [
      "..//Real_world_examples/LCCSlayer/coherence/*_velocity.tif\n"
     ]
    }
   ],
   "source": [
    "#setting a search criteria for all tiff files that we want to use \n",
    "dirpath = '..//Real_world_examples/LCCSlayer/coherence'\n",
    "outfp= '..//Real_world_examples/LCCSlayer/coherence/mosaic.tif'\n",
    "#Search criteria\n",
    "search_criteria = \"*_velocity.tif\"\n",
    "q = os.path.join(dirpath,search_criteria)\n",
    "print(q)"
   ]
  },
  {
   "cell_type": "code",
   "execution_count": 37,
   "metadata": {},
   "outputs": [
    {
     "data": {
      "text/plain": [
       "['..//Real_world_examples/LCCSlayer/coherence/NEWCASTLE_velocity.tif',\n",
       " '..//Real_world_examples/LCCSlayer/coherence/SYDNEY_velocity.tif',\n",
       " '..//Real_world_examples/LCCSlayer/coherence/NARRABRI_velocity.tif',\n",
       " '..//Real_world_examples/LCCSlayer/coherence/ORANGE_velocity.tif']"
      ]
     },
     "execution_count": 37,
     "metadata": {},
     "output_type": "execute_result"
    }
   ],
   "source": [
    "#listing all the files with searching criteria \n",
    "velocity_ftp = glob.glob(q)\n",
    "velocity_ftp"
   ]
  },
  {
   "cell_type": "code",
   "execution_count": 38,
   "metadata": {},
   "outputs": [],
   "source": [
    "#create an empty list for all datafiles that is going to be part of mosaic \n",
    "velocity_src_files = []"
   ]
  },
  {
   "cell_type": "code",
   "execution_count": 39,
   "metadata": {},
   "outputs": [
    {
     "data": {
      "text/plain": [
       "[<open DatasetReader name='..//Real_world_examples/LCCSlayer/coherence/NEWCASTLE_velocity.tif' mode='r'>,\n",
       " <open DatasetReader name='..//Real_world_examples/LCCSlayer/coherence/SYDNEY_velocity.tif' mode='r'>,\n",
       " <open DatasetReader name='..//Real_world_examples/LCCSlayer/coherence/NARRABRI_velocity.tif' mode='r'>,\n",
       " <open DatasetReader name='..//Real_world_examples/LCCSlayer/coherence/ORANGE_velocity.tif' mode='r'>]"
      ]
     },
     "execution_count": 39,
     "metadata": {},
     "output_type": "execute_result"
    }
   ],
   "source": [
    "for fp in velocity_ftp:\n",
    "    src = rasterio.open(fp)\n",
    "    velocity_src_files.append(src)\n",
    "velocity_src_files"
   ]
  },
  {
   "cell_type": "code",
   "execution_count": null,
   "metadata": {},
   "outputs": [],
   "source": []
  },
  {
   "cell_type": "code",
   "execution_count": 40,
   "metadata": {},
   "outputs": [],
   "source": [
    "#merge function returns a single mosaic array and the transformation info \n",
    "mosaic, out_trans = merge(velocity_src_files)"
   ]
  },
  {
   "cell_type": "code",
   "execution_count": 41,
   "metadata": {},
   "outputs": [
    {
     "data": {
      "image/png": "[encoded data removed]",
      "text/plain": [
       "<Figure size 432x288 with 1 Axes>"
      ]
     },
     "metadata": {
      "needs_background": "light"
     },
     "output_type": "display_data"
    },
    {
     "data": {
      "text/plain": [
       "<matplotlib.axes._subplots.AxesSubplot at 0x7fab6dcf2a90>"
      ]
     },
     "execution_count": 41,
     "metadata": {},
     "output_type": "execute_result"
    }
   ],
   "source": [
    "show(mosaic, cmap='terrain')"
   ]
  },
  {
   "cell_type": "code",
   "execution_count": 42,
   "metadata": {},
   "outputs": [],
   "source": [
    "# with rasterio.open(velocity_ftp[0]) as src0:\n",
    "#     meta = src0.meta\n",
    "# #update meta to reflect the number of raster files\n",
    "# meta.update(count = len(velocity_ftp))"
   ]
  },
  {
   "cell_type": "code",
   "execution_count": 43,
   "metadata": {},
   "outputs": [],
   "source": [
    "#Copy and update the metadata \n",
    "out_meta = src.meta.copy()\n",
    "out_meta.update({\"driver\":\"GTiff\",\n",
    "                \"height\":mosaic.shape[1],\n",
    "                \"Width\":mosaic.shape[2],\n",
    "                \"transform\":src.transform})"
   ]
  },
  {
   "cell_type": "code",
   "execution_count": 45,
   "metadata": {},
   "outputs": [],
   "source": [
    "#Saving the mosaic file out \n",
    "with rasterio.open(outfp,\"w\",**out_meta) as dest:\n",
    "    dest.write(mosaic)"
   ]
  },
  {
   "cell_type": "code",
   "execution_count": 46,
   "metadata": {},
   "outputs": [
    {
     "ename": "AttributeError",
     "evalue": "'numpy.ndarray' object has no attribute 'plot'",
     "output_type": "error",
     "traceback": [
      "\u001b[0;31m---------------------------------------------------------------------------\u001b[0m",
      "\u001b[0;31mAttributeError\u001b[0m                            Traceback (most recent call last)",
      "\u001b[0;32m<ipython-input-46-89546fb83df8>\u001b[0m in \u001b[0;36m<module>\u001b[0;34m\u001b[0m\n\u001b[0;32m----> 1\u001b[0;31m \u001b[0mmosaic\u001b[0m\u001b[0;34m.\u001b[0m\u001b[0mplot\u001b[0m\u001b[0;34m(\u001b[0m\u001b[0msize\u001b[0m\u001b[0;34m=\u001b[0m\u001b[0;36m6\u001b[0m\u001b[0;34m)\u001b[0m\u001b[0;34m\u001b[0m\u001b[0;34m\u001b[0m\u001b[0m\n\u001b[0m",
      "\u001b[0;31mAttributeError\u001b[0m: 'numpy.ndarray' object has no attribute 'plot'"
     ]
    }
   ],
   "source": [
    "mosaic.plot(size=6)"
   ]
  },
  {
   "cell_type": "code",
   "execution_count": null,
   "metadata": {},
   "outputs": [],
   "source": [
    "#View the data we're using\n",
    "plt.figure(figsize = (8, 8))\n",
    "plt.axis(\"off\")\n",
    "img = plt.imshow(data_array, cmap = \"viridis\")"
   ]
  },
  {
   "cell_type": "code",
   "execution_count": 26,
   "metadata": {},
   "outputs": [
    {
     "data": {
      "text/plain": [
       "PosixPath('../Real_world_examples/LCCSlayer/lccs_2015_450m.tif')"
      ]
     },
     "execution_count": 26,
     "metadata": {},
     "output_type": "execute_result"
    }
   ],
   "source": [
    "write_cog(geo_im=LCCS_reprojected,\n",
    "          fname='..//Real_world_examples/LCCSlayer/lccs_2015_450m.tif',\n",
    "          overwrite=True)"
   ]
  },
  {
   "cell_type": "code",
   "execution_count": 22,
   "metadata": {},
   "outputs": [
    {
     "data": {
      "text/plain": [
       "GeoBox(832, 965, Affine(0.004166666700000004, 0.0, 149.40430581111,\n",
       "       0.0, -0.004166666699999998, -24.79013911111), GEOGCS[\"WGS 84\",DATUM[\"WGS_1984\",SPHEROID[\"WGS 84\",6378137,298.257223563,AUTHORITY[\"EPSG\",\"7030\"]],AUTHORITY[\"EPSG\",\"6326\"]],PRIMEM[\"Greenwich\",0,AUTHORITY[\"EPSG\",\"8901\"]],UNIT[\"degree\",0.0174532925199433,AUTHORITY[\"EPSG\",\"9122\"]]])"
      ]
     },
     "execution_count": 22,
     "metadata": {},
     "output_type": "execute_result"
    }
   ],
   "source": [
    "InSAR.geobox #width, height in pixel, Affine with spatial resolution and spatial position, and coordinate reference system "
   ]
  },
  {
   "cell_type": "code",
   "execution_count": 24,
   "metadata": {},
   "outputs": [
    {
     "data": {
      "text/plain": [
       "(-0.004166666699999998, 0.004166666700000004)"
      ]
     },
     "execution_count": 24,
     "metadata": {},
     "output_type": "execute_result"
    }
   ],
   "source": [
    "InSAR.geobox.resolution   #InSAR.geobox.extent.boundingbox"
   ]
  },
  {
   "cell_type": "code",
   "execution_count": 26,
   "metadata": {},
   "outputs": [],
   "source": [
    "LCCS_coarse = xr_reproject(src=LCCS,\n",
    "                          geobox=InSAR.geobox,\n",
    "                          resampling='mode')"
   ]
  },
  {
   "cell_type": "code",
   "execution_count": null,
   "metadata": {},
   "outputs": [],
   "source": [
    "write_cog(LCCS_coarse)"
   ]
  },
  {
   "cell_type": "code",
   "execution_count": 51,
   "metadata": {},
   "outputs": [],
   "source": [
    "#open the source file and grab metadata from original file \n",
    "with rasterio.open('..//Real_world_examples/LCCSlayer/lccs_2015_250m.tif') as src:\n",
    "    metadata = src.profile\n",
    "metadata['dtype'] = 'uint8'\n",
    "metadata['transform'] = src.transform"
   ]
  },
  {
   "cell_type": "code",
   "execution_count": 53,
   "metadata": {},
   "outputs": [],
   "source": [
    "downscale_factor = 10"
   ]
  },
  {
   "cell_type": "code",
   "execution_count": 54,
   "metadata": {},
   "outputs": [],
   "source": [
    "#resample LCCS raster file to higher resolution \n",
    "with rasterio.open('..//Real_world_examples/LCCSlayer/lccs_2015_250m.tif') as dataset:\n",
    "        #resample data to target shape\n",
    "    data = dataset.read(out_shape=(dataset.count,\n",
    "                                   int(dataset.height*downscale_factor),\n",
    "                                   int(dataset.width*downscale_factor)),\n",
    "                        resampling=Resampling.bilinear\n",
    "    )\n",
    "    #scale image transform\n",
    "    transform = dataset.transform * dataset.transform.scale(\n",
    "        (dataset.width / data.shape[-1]),\n",
    "        (dataset.height / data.shape[-2])\n",
    "    )\n",
    "#     transform[:6]\n",
    "    metadata['transform'] = tuple(transform[:6])\n",
    "#     print(tuple(transform))\n"
   ]
  },
  {
   "cell_type": "code",
   "execution_count": 55,
   "metadata": {},
   "outputs": [
    {
     "data": {
      "text/plain": [
       "{'driver': 'GTiff', 'dtype': 'uint8', 'nodata': 0.0, 'width': 1148, 'height': 1643, 'count': 1, 'crs': CRS.from_epsg(3577), 'transform': (25.0, 0.0, 1727000.0, 0.0, -25.0, -2846250.0), 'tiled': False, 'interleave': 'band'}"
      ]
     },
     "execution_count": 55,
     "metadata": {},
     "output_type": "execute_result"
    }
   ],
   "source": [
    "metadata"
   ]
  },
  {
   "cell_type": "code",
   "execution_count": 29,
   "metadata": {},
   "outputs": [
    {
     "ename": "SyntaxError",
     "evalue": "invalid syntax (<ipython-input-29-10ed9a93093d>, line 1)",
     "output_type": "error",
     "traceback": [
      "\u001b[0;36m  File \u001b[0;32m\"<ipython-input-29-10ed9a93093d>\"\u001b[0;36m, line \u001b[0;32m1\u001b[0m\n\u001b[0;31m    print(dataset.shape)x\u001b[0m\n\u001b[0m                        ^\u001b[0m\n\u001b[0;31mSyntaxError\u001b[0m\u001b[0;31m:\u001b[0m invalid syntax\n"
     ]
    }
   ],
   "source": [
    "print(dataset.shape)x"
   ]
  },
  {
   "cell_type": "code",
   "execution_count": 13,
   "metadata": {},
   "outputs": [
    {
     "name": "stdout",
     "output_type": "stream",
     "text": [
      "(1, 2957, 2066)\n"
     ]
    }
   ],
   "source": [
    "#a numpy array\n",
    "print(data.shape)"
   ]
  },
  {
   "cell_type": "code",
   "execution_count": 56,
   "metadata": {},
   "outputs": [],
   "source": [
    "with rasterio.open('..//Real_world_examples/LCCSlayer/lccs-new2.tif','w',**metadata) as dst:\n",
    "    dst.write(data)"
   ]
  },
  {
   "cell_type": "code",
   "execution_count": 15,
   "metadata": {},
   "outputs": [
    {
     "ename": "AttributeError",
     "evalue": "'numpy.ndarray' object has no attribute 'metadata'",
     "output_type": "error",
     "traceback": [
      "\u001b[0;31m---------------------------------------------------------------------------\u001b[0m",
      "\u001b[0;31mAttributeError\u001b[0m                            Traceback (most recent call last)",
      "\u001b[0;32m<ipython-input-15-e6f6378c1502>\u001b[0m in \u001b[0;36m<module>\u001b[0;34m\u001b[0m\n\u001b[0;32m----> 1\u001b[0;31m \u001b[0mdata\u001b[0m\u001b[0;34m.\u001b[0m\u001b[0mmetadata\u001b[0m\u001b[0;34m\u001b[0m\u001b[0;34m\u001b[0m\u001b[0m\n\u001b[0m",
      "\u001b[0;31mAttributeError\u001b[0m: 'numpy.ndarray' object has no attribute 'metadata'"
     ]
    }
   ],
   "source": [
    "data.metadata"
   ]
  },
  {
   "cell_type": "code",
   "execution_count": 175,
   "metadata": {},
   "outputs": [
    {
     "name": "stdout",
     "output_type": "stream",
     "text": [
      "(1, 6572, 4592)\n"
     ]
    }
   ],
   "source": [
    "#a numpy array\n",
    "print(data.shape)"
   ]
  },
  {
   "cell_type": "code",
   "execution_count": 122,
   "metadata": {},
   "outputs": [
    {
     "data": {
      "text/plain": [
       "{1: 'uint8'}"
      ]
     },
     "execution_count": 122,
     "metadata": {},
     "output_type": "execute_result"
    }
   ],
   "source": [
    "{i: dtype for i, dtype in zip(dataset.indexes, dataset.dtypes)}"
   ]
  },
  {
   "cell_type": "code",
   "execution_count": null,
   "metadata": {},
   "outputs": [],
   "source": [
    "#import shapefile of the points that are going to be sampled\n",
    "#by plotting the point data crs and also your raster make sure that both are in the same coordinate system \n",
    "pointData = gpd.read_file('path to the shapefile')\n",
    "print(pointData.crs)\n",
    "pointData.plot();"
   ]
  },
  {
   "cell_type": "code",
   "execution_count": null,
   "metadata": {},
   "outputs": [],
   "source": [
    "#Read and open the raster file that needs to be resampled \n",
    "#Land cover and Land use file \n",
    "LCCRaster = rasterio.open('path to the LCCS file')\n",
    "print(LCCRaster.crs)\n",
    "print(LCCRaster.count)\n",
    "#InSAR coherence file \n",
    "# CohRaster = rasterio.open('path to the coherence file')\n",
    "# print(CohRaster.crs)\n",
    "# print(CohRaster.count)"
   ]
  },
  {
   "cell_type": "code",
   "execution_count": null,
   "metadata": {},
   "outputs": [],
   "source": [
    "#showing both points and raster file in one plot \n",
    "fig, ax = plt.subplot(figsize=(12,12))\n",
    "pointData.plot(ax=ax, color = 'orangered')\n",
    "show(LCCRaster,ax=ax)"
   ]
  },
  {
   "cell_type": "code",
   "execution_count": null,
   "metadata": {},
   "outputs": [],
   "source": [
    "#extract point geometry from the point shapefile\n",
    "for point in pointData['geometry']:\n",
    "    print(point.xy[0][0],point.xy[1][0])"
   ]
  },
  {
   "cell_type": "code",
   "execution_count": null,
   "metadata": {},
   "outputs": [],
   "source": [
    "#extract raster values in each point location \n",
    "for point in pointData['geometry']:\n",
    "    x = point.xy[0][0]\n",
    "    y = point.xy[1][0]\n",
    "    row,col = LCCRaster.index(x,y)\n",
    "    print('Point corresponds to row,column: %d,%d'%(row,col))\n",
    "    print('Raster value on point  %.2f \\n'%(LCCRaster.read(1)[row,col])) #for single band raster "
   ]
  },
  {
   "cell_type": "code",
   "execution_count": null,
   "metadata": {},
   "outputs": [],
   "source": [
    "#the reference is here: https://www.youtube.com/watch?v=QhUcgOOsUy8"
   ]
  }
 ],
 "metadata": {
  "kernelspec": {
   "display_name": "Python 3",
   "language": "python",
   "name": "python3"
  },
  "language_info": {
   "codemirror_mode": {
    "name": "ipython",
    "version": 3
   },
   "file_extension": ".py",
   "mimetype": "text/x-python",
   "name": "python",
   "nbconvert_exporter": "python",
   "pygments_lexer": "ipython3",
   "version": "3.6.9"
  }
 },
 "nbformat": 4,
 "nbformat_minor": 4
}
