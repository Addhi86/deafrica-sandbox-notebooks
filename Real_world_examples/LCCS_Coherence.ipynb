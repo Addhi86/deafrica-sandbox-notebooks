{
 "cells": [
  {
   "cell_type": "code",
   "execution_count": 1,
   "metadata": {},
   "outputs": [],
   "source": [
    "#import required libraries \n",
    "%matplotlib inline \n",
    "import matplotlib.pyplot as plt\n",
    "import geopandas as gpd \n",
    "import rasterio \n",
    "from rasterio.plot import show "
   ]
  },
  {
   "cell_type": "code",
   "execution_count": null,
   "metadata": {},
   "outputs": [],
   "source": [
    "#import shapefile of the points that are going to be sampled\n",
    "#by plotting the point data crs and also your raster make sure that both are in the same coordinate system \n",
    "pointData = gpd.read_file('path to the shapefile')\n",
    "print(pointData.crs)\n",
    "pointData.plot();"
   ]
  },
  {
   "cell_type": "code",
   "execution_count": null,
   "metadata": {},
   "outputs": [],
   "source": [
    "#Read and open the raster file that needs to be resampled \n",
    "#Land cover and Land use file \n",
    "LCCRaster = rasterio.open('path to the LCCS file')\n",
    "print(LCCRaster.crs)\n",
    "print(LCCRaster.count)\n",
    "#InSAR coherence file \n",
    "# CohRaster = rasterio.open('path to the coherence file')\n",
    "# print(CohRaster.crs)\n",
    "# print(CohRaster.count)"
   ]
  },
  {
   "cell_type": "code",
   "execution_count": null,
   "metadata": {},
   "outputs": [],
   "source": [
    "#showing both points and raster file in one plot \n",
    "fig, ax = plt.subplot(figsize=(12,12))\n",
    "pointData.plot(ax=ax, color = 'orangered')\n",
    "show(LCCRaster,ax=ax)"
   ]
  },
  {
   "cell_type": "code",
   "execution_count": null,
   "metadata": {},
   "outputs": [],
   "source": [
    "#extract point geometry from the point shapefile\n",
    "for point in pointData['geometry']:\n",
    "    print(point.xy[0][0],point.xy[1][0])"
   ]
  },
  {
   "cell_type": "code",
   "execution_count": null,
   "metadata": {},
   "outputs": [],
   "source": [
    "#extract raster values in each point location \n",
    "for point in pointData['geometry']:\n",
    "    x = point.xy[0][0]\n",
    "    y = point.xy[1][0]\n",
    "    row,col = LCCRaster.index(x,y)\n",
    "    print('Point corresponds to row,column: %d,%d'%(row,col))\n",
    "    print('Raster value on point  %.2f \\n'%(LCCRaster.read(1)[row,col])) #for single band raster "
   ]
  },
  {
   "cell_type": "code",
   "execution_count": null,
   "metadata": {},
   "outputs": [],
   "source": [
    "#the reference is here: https://www.youtube.com/watch?v=QhUcgOOsUy8"
   ]
  }
 ],
 "metadata": {
  "kernelspec": {
   "display_name": "Python 3",
   "language": "python",
   "name": "python3"
  },
  "language_info": {
   "codemirror_mode": {
    "name": "ipython",
    "version": 3
   },
   "file_extension": ".py",
   "mimetype": "text/x-python",
   "name": "python",
   "nbconvert_exporter": "python",
   "pygments_lexer": "ipython3",
   "version": "3.6.9"
  }
 },
 "nbformat": 4,
 "nbformat_minor": 4
}
