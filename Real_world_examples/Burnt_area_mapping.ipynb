{
 "cells": [
  {
   "cell_type": "markdown",
   "metadata": {},
   "source": [
    "# Burnt area mapping using Sentinel-2 data\n",
    "\n",
    "* **Products used:** \n",
    "[s2_l2a](https://explorer.digitalearth.africa/s2_l2a)"
   ]
  },
  {
   "cell_type": "raw",
   "metadata": {
    "raw_mimetype": "text/restructuredtext"
   },
   "source": [
    "**Keywords**: :index:`data used; sentinel-2`, :index:`band index; NBR`, :index:`fire mapping`"
   ]
  },
  {
   "cell_type": "markdown",
   "metadata": {},
   "source": [
    "## Background\n",
    "\n",
    "### Normalized Burn Ratio\n",
    "\n",
    "The Normalized Burn Ratio (NBR) is an index that uses the differences in the way healthy green vegetation and burnt vegetation reflect light to find burnt area. \n",
    "It is calculated using the following Sentinel-2 bands: Near Infrared/Band 8 and Shortwave Infrared/Band 12. The equation is defined below: \n",
    "\n",
    "\\begin{equation}\n",
    "\\text{NBR} = \\frac{(\\text{NIR} - \\text{SWIR})}{(\\text{NIR} + \\text{SWIR})}\n",
    "\\end{equation}\n",
    "\n",
    "NBR returns values between -1 and 1. \n",
    "**Healthy green vegetation will have a high NBR value while burnt vegetation will have a low value**. \n",
    "Areas of dry, brown vegetation or bare soil will also return lower NBR values than green vegetation. \n",
    "\n",
    "### Delta Normalized Burn Ratio\n",
    "\n",
    "Change in Normalized Burn Ratio - also called Delta Normalized Burn Ratio (dNBR) - is calculated by subtracting the post-fire NBR value from the baseline NBR value as defined in this equation:\n",
    "\n",
    "\\begin{equation}\n",
    "\\text{dNBR} = \\text{NBR}_{\\text{baseline}} - \\text{NBR}_{\\text{post fire}}\n",
    "\\end{equation}\n",
    "\n",
    "The dNBR value can be more useful than the NBR alone to determine what is burnt as it shows change from the baseline state. \n",
    "**A burnt area will have a positive dNBR value** while an unburnt area will have a negative dNBR value or a value close to zero.\n",
    "\n",
    "dNBR can also be used to describe burn severity (although this notebook does not look at burn severity). \n",
    "A higher severity fire will burn more vegetation, resulting in a higher dNBR. More information on NBR, dNBR and using it to measure burn severity can be found [on the UN-SPIDER knowledge portal](http://un-spider.org/advisory-support/recommended-practices/recommended-practice-burn-severity/in-detail/normalized-burn-ratio).\n",
    "\n",
    "### Defining Burnt From Unburnt Areas\n",
    "\n",
    "[Rahman et al. 2018](https://doi.org/10.1109/IGARSS.2018.8518449) found a dNBR threshold value of +0.1 appropriate for differentiating burnt from unburnt areas when using Sentinel-2. \n",
    "However, some exploration with different threshold levels may be needed to get a good result in areas with different vegetation types. \n",
    "\n",
    "Using +0.1 as a threshold here may result in many false positives being picked up in the unburnt urban and forest areas where vegetation drying has occurred prior to the fire. \n",
    "A much more conservative threshold here of +0.3 produces a better result. \n",
    "Keep in mind the limitations of remote sensing and that in an ideal situation ground truth data collected in the location of interest would be used to assist in selecting a threshold.\n",
    "\n",
    "Some care should also be taken when interpreting results as a number of possible false positives can return a positive dNBR result:\n",
    "\n",
    "* A lot of smoke in the post burn image can interfere with the dNBR value\n",
    "* Areas that have been cleared of vegetation by some other means (logging, harvesting, and landslides) towards the end of the baseline period may incorrectly show up as burnt\n",
    "* Drying out of bright green vegetation such as grasses. \n",
    "If a fire event has been preceded by a rapid drying out of vegetation this can result in a low positive dNBR value in areas that have not burnt.\n"
   ]
  },
  {
   "cell_type": "markdown",
   "metadata": {},
   "source": [
    "## Description\n",
    "\n",
    "This notebook calculates the change in Normalized Burn Ratio between a baseline composite image of the pre-fire condition of a selected area and a post-fire event image, in order to find burnt area extent.\n",
    " \n",
    "The user can change the location over which this notebook is run and specify a different date between which pre and post fire condition will be compared. \n",
    "The length of time over which the baseline composite image will be generated can be specified as 3, 6 or 12 months. \n",
    "\n",
    "The notebook contains the following steps:\n",
    "\n",
    "1.  Select a location for the analysis.\n",
    "2.  Define fire event date and length of composite image.\n",
    "3.  Load all baseline data.\n",
    "4.  Generate Normalized Burn Ratio for baseline period.\n",
    "5.  Load post-fire data.\n",
    "6.  Generate Normalized Burn Ratio for post fire image.\n",
    "7.  Calculate Delta Normalized Burn Ratio.\n",
    "8.  Apply threshold to Delta Normalized Burn Ratio.\n",
    "9.  Calculate the area burnt.\n",
    "10. Export results as a GeoTIFF.\n",
    "\n",
    "***"
   ]
  },
  {
   "cell_type": "markdown",
   "metadata": {},
   "source": [
    "## Getting started\n",
    "\n",
    "To run this analysis, run all the cells in the notebook, starting with the \"Load packages\" cell. "
   ]
  },
  {
   "cell_type": "markdown",
   "metadata": {},
   "source": [
    "### Load packages\n",
    "Import Python packages that are used for the analysis."
   ]
  },
  {
   "cell_type": "code",
   "execution_count": 1,
   "metadata": {},
   "outputs": [
    {
     "name": "stderr",
     "output_type": "stream",
     "text": [
      "/env/lib/python3.6/site-packages/geopandas/_compat.py:88: UserWarning: The Shapely GEOS version (3.7.2-CAPI-1.11.0 ) is incompatible with the GEOS version PyGEOS was compiled with (3.9.0-CAPI-1.16.2). Conversions between both will be slow.\n",
      "  shapely_geos_version, geos_capi_version_string\n"
     ]
    }
   ],
   "source": [
    "import datacube\n",
    "from datetime import datetime\n",
    "from datetime import timedelta\n",
    "import pandas as pd\n",
    "import xarray as xr\n",
    "import numpy as np\n",
    "import matplotlib.pyplot as plt\n",
    "from zipfile import ZipFile\n",
    "import geopandas as gpd\n",
    "from pyproj import Proj, transform\n",
    "from datacube.utils.cog import write_cog\n",
    "\n",
    "from deafrica_tools.datahandling import load_ard, mostcommon_crs\n",
    "from deafrica_tools.plotting import rgb, display_map\n",
    "from deafrica_tools.bandindices import calculate_indices\n"
   ]
  },
  {
   "cell_type": "markdown",
   "metadata": {},
   "source": [
    "### Connect to the datacube\n",
    "\n",
    "Connect to the datacube so we can access DEA data.\n",
    "The `app` parameter is a unique name for the analysis which is based on the notebook file name."
   ]
  },
  {
   "cell_type": "code",
   "execution_count": 2,
   "metadata": {},
   "outputs": [],
   "source": [
    "dc = datacube.Datacube(app=\"Burnt_area_mapping\")"
   ]
  },
  {
   "cell_type": "markdown",
   "metadata": {},
   "source": [
    "### Analysis parameters\n",
    "\n",
    "The following cell sets the parameters, which define the area of interest and the length of time to conduct the analysis over.\n",
    "The parameters are\n",
    "\n",
    "* `lat`: The central latitude to analyse (e.g. `10.338`).\n",
    "* `lon`: The central longitude to analyse (e.g. `-1.055`).\n",
    "* `buffer`: The number of square degrees to load around the central latitude and longitude.\n",
    "For reasonable loading times, set this as `0.1` or lower.\n",
    "* `fire_date`: The event date of the fire (e.g. `'2020-01-01'`).\n",
    "* `baseline_length`: To understand the effect of the fire, the analysis produces a baseline image, which is compiled from all available data over the `baseline_length` time period prior to the `fire_date`. This can be set as `'3 months'`, `'6 months'` or `'12 months'`.\n",
    "\n",
    "**If running the notebook for the first time**, keep the default settings below.\n",
    "This will demonstrate how the analysis works and provide meaningful results.\n",
    "The example covers a fire in Northern Ghana.\n",
    "\n",
    "**To run the notebook for a different area**, make sure Sentinel-2 data is available for the chosen area using the [DEAfrica Explorer](https://explorer.digitalearth.africa).\n",
    "Use the drop-down menu to check both Sentinel-2A (`s2a_msil2a`) and Sentinel-2B (`s2b_msil2a`). "
   ]
  },
  {
   "cell_type": "markdown",
   "metadata": {},
   "source": [
    "### Select location\n",
    "\n",
    "The selected latitude and longitude will be displayed as a red box on the map below the next cell. \n",
    "This map can be used to find coordinates of other places, simply scroll and click on any point on the map to display the latitude and longitude of that location."
   ]
  },
  {
   "cell_type": "code",
   "execution_count": 3,
   "metadata": {},
   "outputs": [],
   "source": [
    "# Define the area of interest\n",
    "lat = 10.338\n",
    "lon = -1.055\n",
    "buffer = 0.1\n",
    "\n",
    "# Compute the bounding box for the study area\n",
    "lat_range = (lat-buffer, lat+buffer)\n",
    "lon_range = (lon-buffer, lon+buffer)"
   ]
  },
  {
   "cell_type": "markdown",
   "metadata": {},
   "source": [
    "### Define fire event date and length of composite image\n",
    "\n",
    "Delta Normalized Burn Ratio produces the best result when using a post-fire image that was collected before much re-growth has occured. \n",
    "However, images collected while the fire is still active can be obscured by smoke and not show the full burn extent. \n",
    "As a result some adjustment of the fire event date entered may be needed to get the best result.\n",
    "\n",
    "The length of the baseline period can be automatically set to `3, 6 or 12 months`"
   ]
  },
  {
   "cell_type": "code",
   "execution_count": 4,
   "metadata": {},
   "outputs": [],
   "source": [
    "# Fire event date\n",
    "fire_date = '2020-01-01'\n",
    "\n",
    "# Length of baseline period\n",
    "baseline_length = '3 months'"
   ]
  },
  {
   "cell_type": "markdown",
   "metadata": {},
   "source": [
    "After setting the `fire_date` and `baseline_length`, the code below automatically calculates start and end dates for the pre-fire and post-fire periods.\n",
    "The post-fire period is defined as 30 days after the `fire_date`."
   ]
  },
  {
   "cell_type": "code",
   "execution_count": 5,
   "metadata": {},
   "outputs": [],
   "source": [
    "# Define dates for loading data\n",
    "if baseline_length == '12 months':\n",
    "    time_step = timedelta(days=365)\n",
    "if baseline_length == '6 months':\n",
    "    time_step = timedelta(days=182.5)\n",
    "if baseline_length == '3 months':\n",
    "    time_step = timedelta(days=91)\n",
    "\n",
    "# Calculate the start and end date for baseline data load\n",
    "start_date_pre = datetime.strftime(((datetime.strptime(fire_date, '%Y-%m-%d'))-time_step), '%Y-%m-%d')\n",
    "end_date_pre = datetime.strftime(((datetime.strptime(fire_date, '%Y-%m-%d'))-timedelta(days=1)), '%Y-%m-%d')\n",
    "\n",
    "# Calculate end date for post fire data load\n",
    "start_date_post = datetime.strftime(((datetime.strptime(fire_date, '%Y-%m-%d'))+timedelta(days=1)), '%Y-%m-%d')\n",
    "end_date_post = datetime.strftime(((datetime.strptime(fire_date, '%Y-%m-%d'))+timedelta(days=30)), '%Y-%m-%d')"
   ]
  },
  {
   "cell_type": "code",
   "execution_count": 6,
   "metadata": {},
   "outputs": [
    {
     "name": "stdout",
     "output_type": "stream",
     "text": [
      "start_date_pre:  2019-10-02\n",
      "end_date_pre:    2019-12-31\n",
      "fire_date:       2020-01-01\n",
      "start_date_post: 2020-01-02\n",
      "end_date_post:   2020-01-31\n"
     ]
    }
   ],
   "source": [
    "# Print dates\n",
    "print('start_date_pre:  '+start_date_pre)\n",
    "print('end_date_pre:    '+end_date_pre)\n",
    "print('fire_date:       '+fire_date)\n",
    "print('start_date_post: '+start_date_post)\n",
    "print('end_date_post:   '+end_date_post)"
   ]
  },
  {
   "cell_type": "markdown",
   "metadata": {},
   "source": [
    "## View the selected location\n",
    "The next cell will display the selected area on an interactive map.\n",
    "Feel free to zoom in and out to get a better understanding of the area you'll be analysing.\n",
    "Clicking on any point of the map will reveal the latitude and longitude coordinates of that point."
   ]
  },
  {
   "cell_type": "code",
   "execution_count": 7,
   "metadata": {},
   "outputs": [
    {
     "data": {
      "text/html": [
       "<div style=\"width:100%;\"><div style=\"position:relative;width:100%;height:0;padding-bottom:60%;\"><iframe src=\"data:text/html;charset=utf-8;base64,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\" style=\"position:absolute;width:100%;height:100%;left:0;top:0;border:none !important;\" allowfullscreen webkitallowfullscreen mozallowfullscreen></iframe></div></div>"
      ],
      "text/plain": [
       "<folium.folium.Map at 0x7f359e92aa58>"
      ]
     },
     "execution_count": 7,
     "metadata": {},
     "output_type": "execute_result"
    }
   ],
   "source": [
    "display_map(x=lon_range, y=lat_range)"
   ]
  },
  {
   "cell_type": "markdown",
   "metadata": {},
   "source": [
    "## Load all baseline data"
   ]
  },
  {
   "cell_type": "markdown",
   "metadata": {},
   "source": [
    "The first step in the analysis is load Sentinel-2 data for the pre-fire period, as defined by the baseline length set above.\n",
    "This uses the pre-defined [load_ard](../Frequently_used_code/Using_load_ard.ipynb) utility function.\n",
    "This function will automatically mask any clouds in the dataset, and only return images where more than 60% of the pixels were classified as clear (set using `min_gooddata=0.6`).\n",
    "When working with Sentinel-2, the function will also combine and sort images from both Sentinel-2A and Sentinel-2B.\n",
    "\n",
    "> **Note**: This analysis performs calculations that use the on-ground area of each pixel. For this type of analysis, it is recommended that all data be reprojected to an equal area projection, such as [EPSG:6933](https://epsg.io/6933).\n",
    "This is done below by setting the `output_crs` parameter to `\"EPSG:6933\"`.\n",
    "\n",
    "**Please be patient**.\n",
    "The data may take a few minutes to load and progress will be indicated by text output.\n",
    "The load is complete when the cell status goes from `[*]` to `[number]`."
   ]
  },
  {
   "cell_type": "code",
   "execution_count": 8,
   "metadata": {},
   "outputs": [],
   "source": [
    "# Define load parameters\n",
    "resolution = (-10, 10)\n",
    "measurements = ['blue', 'green', 'red',\n",
    "                'nir_1', 'swir_1', \"swir_2\"]\n",
    "min_gooddata = 0.6"
   ]
  },
  {
   "cell_type": "code",
   "execution_count": null,
   "metadata": {},
   "outputs": [
    {
     "name": "stdout",
     "output_type": "stream",
     "text": [
      "Using pixel quality parameters for Sentinel 2\n",
      "Finding datasets\n",
      "    s2_l2a\n",
      "Counting good quality pixels for each time step\n",
      "Filtering to 16 out of 19 time steps with at least 60.0% good quality pixels\n",
      "Applying pixel quality/cloud mask\n",
      "Loading 16 time steps\n"
     ]
    }
   ],
   "source": [
    "# Choose the Sentinel-2 products to load\n",
    "products = [\"s2_l2a\"]\n",
    "\n",
    "# Create a reusable query\n",
    "query = {   \n",
    "    \"x\": lon_range,\n",
    "    \"y\": lat_range,\n",
    "    \"resolution\": resolution,\n",
    "    \"measurements\": measurements\n",
    "}\n",
    "\n",
    "# Since this analysis calculates pixel areas,\n",
    "# set the output projection to equal area projection EPSG:6933\n",
    "output_crs = \"EPSG:6933\"\n",
    "\n",
    "# Load all data in basline period avalible from ARD data\n",
    "baseline_ard = load_ard(dc=dc,\n",
    "                        products=products,\n",
    "                        time=(start_date_pre, start_date_post),\n",
    "                        min_gooddata=min_gooddata,\n",
    "                        output_crs=output_crs,\n",
    "                        group_by='solar_day',\n",
    "                        **query)"
   ]
  },
  {
   "cell_type": "markdown",
   "metadata": {},
   "source": [
    "**Once the load is complete**, examine the data by printing it in the next cell.\n",
    "The `Dimensions` argument revels the number of time steps in the data set, as well as the number of pixels in the `x` (longitude) and `y` (latitude) dimensions."
   ]
  },
  {
   "cell_type": "code",
   "execution_count": null,
   "metadata": {},
   "outputs": [],
   "source": [
    "baseline_ard"
   ]
  },
  {
   "cell_type": "markdown",
   "metadata": {},
   "source": [
    "### Generate Normalized Burn Ratio for baseline period\n",
    "\n",
    "We now calculate the NBR values for the baseline period using the [calculate_indices](../Frequently_used_code/Calculating_band_indices.ipynb) function, imported from [deafrica_bandindices.py](../Scripts/deafrica_bandindices.py).\n",
    "Here, we use `collection='s2'` since we're working with Sentinel-2 data.\n",
    "When using `calculate_indices` the index is added directly to the `baseline_ard` dataset."
   ]
  },
  {
   "cell_type": "code",
   "execution_count": null,
   "metadata": {},
   "outputs": [],
   "source": [
    "# Calculate NBR for the baseline images\n",
    "baseline_ard = calculate_indices(baseline_ard,\n",
    "                                 index='NBR',\n",
    "                                 collection='s2', \n",
    "                                 drop=False)\n",
    "\n",
    "# Compute median using all observations in the dataset along the time axis\n",
    "baseline_image = baseline_ard.median(dim='time')\n",
    "\n",
    "# Select NBR\n",
    "baseline_NBR = baseline_image.NBR"
   ]
  },
  {
   "cell_type": "markdown",
   "metadata": {},
   "source": [
    "### Visualise NBR\n",
    "\n",
    "To see how NBR corresponds with a standard image, we can plot the baseline NBR data side-by-side with an RGB plot of the study area:"
   ]
  },
  {
   "cell_type": "code",
   "execution_count": null,
   "metadata": {},
   "outputs": [],
   "source": [
    "# Set up subplots\n",
    "f, (ax1, ax2) = plt.subplots(nrows=1, ncols=2, figsize=(13, 7))\n",
    "\n",
    "# Visualise baseline image as true colour image\n",
    "rgb(baseline_image, \n",
    "    bands=['red', 'green', 'blue'], \n",
    "    ax=ax1)\n",
    "ax1.set_title('Baseline RGB')\n",
    "ax1.set_xlabel('X coordinate')\n",
    "ax1.set_ylabel('Y coordinate')\n",
    "\n",
    "# Visualise baseline image as NBR image\n",
    "baseline_NBR.plot(cmap='RdBu', vmin=-1, vmax=1, ax=ax2)\n",
    "ax2.set_title('Baseline NBR')\n",
    "ax2.yaxis.set_visible(False)\n",
    "ax2.set_xlabel('X coordinate')\n",
    "\n",
    "plt.show()"
   ]
  },
  {
   "cell_type": "markdown",
   "metadata": {},
   "source": [
    "## Load post-fire data\n",
    "\n",
    "We now load images that occur up to 30 days after the fire.\n",
    "Since we previously defined the area of interest and measurements with the `query` parameter, we can reuse this to simplify the load command, noting that we only need to change the `time` variable to use the post-fire dates calculated earlier.\n",
    "\n",
    "**Please be patient**.\n",
    "The data may take a few minutes to load and progress will be indicated by text output.\n",
    "The load is complete when the cell status goes from `[*]` to `[number]`."
   ]
  },
  {
   "cell_type": "code",
   "execution_count": null,
   "metadata": {},
   "outputs": [],
   "source": [
    "# Load post-fire NRT data from Sentinel-2A and 2B\n",
    "post_col =  load_ard(dc=dc,\n",
    "                     products=products,\n",
    "                     time=(start_date_post, end_date_post),\n",
    "                     min_gooddata=min_gooddata,\n",
    "                     output_crs=output_crs,\n",
    "                     group_by='solar_day',\n",
    "                     **query)"
   ]
  },
  {
   "cell_type": "markdown",
   "metadata": {},
   "source": [
    "### Generate Normalized Burn Ratio for post fire image\n",
    "\n",
    "The code in the next cell calculates the NBR for the first image in the post-fire dataset.\n",
    "If the image is very cloudy, try a different image by changing the index in `post_col.isel(time=0)`.\n",
    "> **Note**: the maximum value for the index is determined by how many images you loaded. \n",
    "Check the number of time steps listed above in the `load_ard` output for the post-fire dataset.\n",
    "Python counts from 0, so the maximum index you can use will be one fewer than the number of time steps.\n",
    "\n",
    "While the first image will give you an immediate picture of the landscape close to post-fire event, you could also generate the median image from the 30-day post-fire period using the code below. \n",
    "If using this, comment the code for the single image and then copy and paste the code for the median image into the cell below.\n",
    "\n",
    "**Median**\n",
    "```\n",
    "# Calculate NBR on all post-fire images\n",
    "post_combined = calculate_indices(post_col, index='NBR', collection='ga_s2_1', drop=False)\n",
    "\n",
    "# Calculate the median post-fire image\n",
    "post_image = post_combined.median(dim='time')\n",
    "\n",
    "# Select NBR\n",
    "post_NBR = post_image.NBR\n",
    "post_NBR\n",
    "```"
   ]
  },
  {
   "cell_type": "code",
   "execution_count": null,
   "metadata": {},
   "outputs": [],
   "source": [
    "### Use a single image:\n",
    "\n",
    "# Select the most recent image after the fire\n",
    "post_image = post_col.isel(time=0)\n",
    "\n",
    "# Calculate NBR\n",
    "post_image = calculate_indices(post_image, index='NBR', collection='s2', drop=False)\n",
    "\n",
    "# Select NBR\n",
    "post_NBR = post_image.NBR"
   ]
  },
  {
   "cell_type": "markdown",
   "metadata": {},
   "source": [
    "### MODIS and VIIRS hotspot data\n",
    "\n",
    "The Fire information for Resource Management System ([FIRMS](https://firms.modaps.eosdis.nasa.gov/)) distributes hotspots observed from satellites for near real time (NRT) active fires and historical fires. The hotspot information is generated from both the Moderate Resolution Imaging Spectroradiometer (MODIS) and the Visible Infrared Imaging Radiometer Suite (VIIRS).\n",
    "\n",
    "Here, the hotspots data from FIRMS is used to analyse the changes in NBR at the locations identified as active (or historical) fire. To obtain the data from FIRMS, a new request can be created on the [Archive Download](https://firms.modaps.eosdis.nasa.gov/download/) webpage. It is possible to specify the region and dates of interest for the hotspots information. Once the processing of request has been completed, shapefiles containing data from MODIS C6 and VIIRS will be available for download. The hotspots files for MODIS and VIIRS are processed separately.\n",
    "\n",
    "As the region used for requesting hotspots can be different from the region used to process Sentinel-2 data, following two steps can be done either offline or within the notebook. The aforementioned two pre-processing steps are:\n",
    "\n",
    "* Clip hotspots data for (`lon_range, lat_range`)\n",
    "* Merge hotspot information from MODIS and VIIRS\n",
    "\n",
    "After clipping and merging the hotspots information, open the hotspots shapefile using the next cell:"
   ]
  },
  {
   "cell_type": "code",
   "execution_count": null,
   "metadata": {},
   "outputs": [],
   "source": [
    "# Extract contents of zip file\n",
    "\n",
    "with ZipFile('../Supplementary_data/Burnt_area_mapping/fire_hotspots.zip') as spots:\n",
    "    spots.extractall(path=\"../Supplementary_data/Burnt_area_mapping\")"
   ]
  },
  {
   "cell_type": "markdown",
   "metadata": {},
   "source": [
    "The next cell projects hotspots from the source projection (`\"EPSG:4326\"`) to the projection we're using for Sentinel-2 data (`EPSG:6933`). Here, we have used proj4 to transform hotspot locations from source to a desired projection."
   ]
  },
  {
   "cell_type": "code",
   "execution_count": null,
   "metadata": {},
   "outputs": [],
   "source": [
    "# Read shapefile into a geopandas GeoDataFrame\n",
    "\n",
    "fire_hotspots = gpd.read_file(\"../Supplementary_data/Burnt_area_mapping/fire_hotspots/clip_merged.shp\")\n",
    "\n",
    "# Extract the location of hotspots from the GeoDataFrame into a numpy.ndarray\n",
    "spot_locs = fire_hotspots.to_crs(epsg=6933)\n",
    "spot_locs = np.array([[item.x, item.y] for item in spot_locs.geometry.to_list()])"
   ]
  },
  {
   "cell_type": "markdown",
   "metadata": {},
   "source": [
    "### Examine hotspots\n",
    "\n",
    "The next cell plots the FIRMS hotspots on top of the post-fire NBR image, and plots the baseline NBR image alongside. \n",
    "This allows for direct comparison of the NBR values before and after the fire, as well as how hotspots spatially correlate with areas that register as burnt after the fire.\n",
    "Hotspots are shown as black squares in the second image."
   ]
  },
  {
   "cell_type": "code",
   "execution_count": null,
   "metadata": {},
   "outputs": [],
   "source": [
    "fig, (ax1, ax2) = plt.subplots(nrows=1, ncols=2, figsize=(18, 7))\n",
    "\n",
    "# Visualise baseline image as NBR image\n",
    "baseline_NBR.plot(cmap='RdBu', vmin=-1, vmax=1, ax=ax1)\n",
    "ax1.set_title('Baseline NBR')\n",
    "ax1.yaxis.set_visible(False)\n",
    "ax1.set_xlabel('X coordinate')\n",
    "\n",
    "# Visualise post-fire image as NBR image and overplot hotspots\n",
    "post_NBR.plot(cmap='RdBu', vmin=-1, vmax=1, ax=ax2)\n",
    "ax2.plot(spot_locs[:,0], spot_locs[:,1], marker='s',\n",
    "       linestyle='', mfc='None', mec='k', mew=1.5)\n",
    "ax2.set_title('Post-fire NBR with MODIS Hotspots')\n",
    "ax2.yaxis.set_visible(False)\n",
    "ax2.set_xlabel('X coordinate');"
   ]
  },
  {
   "cell_type": "markdown",
   "metadata": {},
   "source": [
    "### Extract data at the FIRMS hotspots for baseline NBR and post-fire NBR\n",
    "\n",
    "The next step is to extract the NBR values at the hotspot locations; doing this for the baseline and post-fire NBR images allows us to examine how the fire has influenced the NBR values.\n",
    "\n",
    "To extract data, we use the `xarray.DataArray.sel` method, which returns a two dimensional array. This in artefact of how we specified the coordinates of the hotspot locations, which are one dimensional numpy array. The values along the diagonal of the returned two dimensional array correspond to the hotspot locations which can be obtained using `np.diagonal` method."
   ]
  },
  {
   "cell_type": "code",
   "execution_count": null,
   "metadata": {},
   "outputs": [],
   "source": [
    "point_nbr = {}\n",
    "\n",
    "# Extract baseline NBR at hotspot locations\n",
    "point_nbr[\"baseline\"] = np.diagonal(baseline_NBR.sel(x=spot_locs[:,0],\n",
    "                                                     y=spot_locs[:,1], \n",
    "                                                     method='nearest'))\n",
    "\n",
    "# Extract post-fire NBR at hotspot locations\n",
    "point_nbr[\"post\"] = np.diagonal(post_NBR.sel(x=spot_locs[:,0],\n",
    "                                             y=spot_locs[:,1],\n",
    "                                             method='nearest'))"
   ]
  },
  {
   "cell_type": "markdown",
   "metadata": {},
   "source": [
    "Using the extracted data, we can make a box-plot of NBR obtained from baseline and post-fire datasets for all the hotspot locations."
   ]
  },
  {
   "cell_type": "code",
   "execution_count": null,
   "metadata": {},
   "outputs": [],
   "source": [
    "ax = pd.DataFrame(point_nbr).boxplot(figsize=(10, 6), whis=0.75,\n",
    "                                     patch_artist=True,\n",
    "                                     vert=True, fontsize=14,\n",
    "                                     return_type='both')\n",
    "\n",
    "ax[0].set_ylabel(\"NBR\", fontsize=14)\n",
    "ax[0].set_title(\"NBR at FIRMS Hotspots\", fontsize=14);\n",
    "ax[0].set_xticklabels([\"baseline\", \"post-fire\"])\n",
    "ax[0].grid(False)\n",
    "\n",
    "colors = ['#addd8e', '#fdbb84']\n",
    "\n",
    "for patch, color in zip(ax[1]['boxes'], colors):\n",
    "    patch.set_facecolor(color)"
   ]
  },
  {
   "cell_type": "markdown",
   "metadata": {},
   "source": [
    "Here, we can notice that the post-fire NBR decreases from the baseline NBR at the hotspots, consistent with those locations having been affected by the fire.\n",
    "\n",
    "We can also compare the change in NBR over the course of three months at the hotspots. To that end, we will use `xarray` method to extract the data the hotspot locations.\n",
    "To do this, we also extact cleaned versions of the dates of the baseline observations."
   ]
  },
  {
   "cell_type": "code",
   "execution_count": null,
   "metadata": {},
   "outputs": [],
   "source": [
    "# Get cleaned baseline observation dates\n",
    "baseline_ard['time'] = baseline_ard.indexes['time'].normalize()\n",
    "dates = (pd.to_datetime((baseline_ard.time).values)).strftime('%Y-%m-%d')\n",
    "\n",
    "# Get the baseline NBR value for each image at all hotspots\n",
    "baseline_nbr_spot = baseline_ard.NBR.sel(x=spot_locs[:,0],\n",
    "                                         y=spot_locs[:,1],\n",
    "                                         method='nearest')\n",
    "\n",
    "nbr_over_time = {}\n",
    "for i in range(len(dates)):\n",
    "    nbr_over_time[dates[i]] = np.diagonal(baseline_nbr_spot[i,:,:])\n",
    "nbr_over_time = pd.DataFrame(nbr_over_time)\n",
    "\n",
    "# Create a box plot for each observation\n",
    "ax = nbr_over_time.boxplot(figsize=(16, 4), whis=0.75,\n",
    "                           patch_artist=True,\n",
    "                           vert=True, return_type='both')\n",
    "ax[0].set_ylabel(\"NBR\", fontsize=14)\n",
    "ax[0].set_title(\"NBR at MODIS Hotspots\", fontsize=14);\n",
    "ax[0].grid(False)\n",
    "\n",
    "# Colour the boxes by the mean NBR of each observation\n",
    "cm = plt.cm.get_cmap(\"Blues\", len(nbr_over_time.index))\n",
    "colors = [cm(item.get_ydata().mean()) for item in ax[1]['medians']]\n",
    "for patch, color in zip(ax[1]['boxes'], colors):\n",
    "    patch.set_facecolor(color)\n",
    "ax[0].tick_params(axis='x', rotation=45)"
   ]
  },
  {
   "cell_type": "markdown",
   "metadata": {},
   "source": [
    "After plotting the change in NBR over a period of three months, we can notice that there is sharp drop in NBR between \n",
    "October 2019 and November 2019, however, there is little to no change between November 2019 to January 2020."
   ]
  },
  {
   "cell_type": "markdown",
   "metadata": {},
   "source": [
    "Finally, we plot the post-fire NBR data side-by-side with an RGB plot of the study area:"
   ]
  },
  {
   "cell_type": "code",
   "execution_count": null,
   "metadata": {},
   "outputs": [],
   "source": [
    "# Set up subplots\n",
    "f, (ax1, ax2) = plt.subplots(nrows=1, ncols=2, figsize=(13, 7))\n",
    "\n",
    "# Visualise post-fire image as true colour image\n",
    "rgb(post_image, \n",
    "    bands=['red', 'green', 'blue'], \n",
    "    ax=ax1)\n",
    "ax1.set_title('Post-fire RGB')\n",
    "ax1.set_xlabel('X coordinate')\n",
    "ax1.set_ylabel('Y coordinate')\n",
    "\n",
    "# Visualise post-fire image as NBR image\n",
    "post_NBR.plot(cmap='RdBu', vmin=-1, vmax=1, ax=ax2)\n",
    "ax2.set_title('Post-fire NBR')\n",
    "ax2.yaxis.set_visible(False)\n",
    "ax2.set_xlabel('X coordinate')\n",
    "\n",
    "plt.show()"
   ]
  },
  {
   "cell_type": "markdown",
   "metadata": {},
   "source": [
    "## Calculate Delta Normalized Burn Ratio\n",
    "We can now compute delta NBR by subtracting our post-fire NBR data from our baseline NBR data:"
   ]
  },
  {
   "cell_type": "code",
   "execution_count": null,
   "metadata": {},
   "outputs": [],
   "source": [
    "delta_NBR = baseline_NBR - post_NBR\n",
    "\n",
    "# Visualise dNBR image\n",
    "delta_NBR.plot(cmap='RdBu_r', vmin=-1, vmax=1, figsize=(11, 9))\n",
    "plt.xlabel('X coordinate')\n",
    "plt.ylabel('Y coordinate')\n",
    "\n",
    "plt.show()"
   ]
  },
  {
   "cell_type": "markdown",
   "metadata": {},
   "source": [
    "### Apply threshold to Delta Normalized Burn Ratio\n",
    "\n",
    "We now apply the dNBR threshold value to try and reduce false positives, only keeping areas with dNBR values greater than the chosen threshold value of 0.3.\n",
    "The chosen threshold value may need to be adjusted depending on the use case."
   ]
  },
  {
   "cell_type": "code",
   "execution_count": null,
   "metadata": {},
   "outputs": [],
   "source": [
    "# Set threshold\n",
    "threshold = 0.3\n",
    "\n",
    "# Apply threshold\n",
    "burnt = delta_NBR > threshold\n",
    "\n",
    "# Mask post-fire true colour image\n",
    "masked = delta_NBR.where(burnt==1)"
   ]
  },
  {
   "cell_type": "markdown",
   "metadata": {},
   "source": [
    "Re-visualize pre and post-fire true colour images to help adjust the NBR threshold:"
   ]
  },
  {
   "cell_type": "code",
   "execution_count": null,
   "metadata": {},
   "outputs": [],
   "source": [
    "# Set up subplots\n",
    "f, axarr = plt.subplots(2, 3, figsize=(13, 11))\n",
    "bands=['red', 'green', 'blue']\n",
    "\n",
    "baseline_NBR.plot(cmap='RdBu', vmin=-1, vmax=1, \n",
    "                  add_colorbar=False, ax=axarr[0, 0])\n",
    "axarr[0, 0].set_title('Baseline NBR')\n",
    "axarr[0, 0].set_ylabel('Y coordinate')\n",
    "axarr[0, 0].xaxis.set_visible(False)\n",
    "\n",
    "post_NBR.plot(cmap='RdBu', vmin=-1, vmax=1, \n",
    "              add_colorbar=False, ax=axarr[0, 1])\n",
    "axarr[0, 1].set_title('Post-fire NBR')\n",
    "axarr[0, 1].yaxis.set_visible(False)\n",
    "axarr[0, 1].xaxis.set_visible(False)\n",
    "\n",
    "delta_NBR.plot(cmap='RdBu_r', vmin=-1, vmax=1, \n",
    "               add_colorbar=False, ax=axarr[0, 2])\n",
    "axarr[0, 2].set_title('Delta NBR')\n",
    "axarr[0, 2].yaxis.set_visible(False)\n",
    "axarr[0, 2].xaxis.set_visible(False)\n",
    "\n",
    "rgb(baseline_image, bands=bands, ax=axarr[1, 0])\n",
    "axarr[1, 0].set_title('Baseline RGB')\n",
    "axarr[1, 0].set_title('Baseline RGB')\n",
    "axarr[1, 0].set_xlabel('X coordinate')\n",
    "axarr[1, 0].set_ylabel('Y coordinate')\n",
    "\n",
    "rgb(post_image, bands=bands, ax=axarr[1,1])\n",
    "axarr[1, 1].set_title('Post-fire RGB')\n",
    "axarr[1, 1].set_xlabel('X coordinate')\n",
    "axarr[1, 1].yaxis.set_visible(False)\n",
    "\n",
    "rgb(post_image.where(burnt==1), bands=bands, ax=axarr[1, 2])\n",
    "axarr[1, 2].set_title('Burnt RGB')\n",
    "axarr[1, 2].set_xlabel('X coordinate')\n",
    "axarr[1, 2].yaxis.set_visible(False)"
   ]
  },
  {
   "cell_type": "markdown",
   "metadata": {},
   "source": [
    "## Calculate area burnt\n",
    "\n",
    "The next cell uses the resolution of Sentinel-2 pixels to estimate the amount of area burnt, defined as those areas with dNBR values greater than the set threshold.\n",
    "A number of other statistics are calculated, accounting for areas that have no data."
   ]
  },
  {
   "cell_type": "code",
   "execution_count": null,
   "metadata": {},
   "outputs": [],
   "source": [
    "# Constants for calculating burnt area\n",
    "pixel_length = resolution[1]  # in metres\n",
    "m_per_km = 1000  # conversion from metres to kilometres\n",
    "\n",
    "# Area per pixel\n",
    "area_per_pixel = pixel_length ** 2 / m_per_km ** 2\n",
    "\n",
    "# Calculate areas\n",
    "unburnt_area = (delta_NBR <= threshold).sum() * area_per_pixel\n",
    "burnt_area = burnt.sum() * area_per_pixel\n",
    "not_nan_area = delta_NBR.notnull().sum() * area_per_pixel\n",
    "nan_area = delta_NBR.isnull().sum() * area_per_pixel\n",
    "total_area = unburnt_area + burnt_area + nan_area\n",
    "\n",
    "print(f'Unburnt area:            {unburnt_area.item():.2f} km^2')\n",
    "print(f'Burnt area:              {burnt_area.item():.2f} km^2')\n",
    "print(f'Nan area:                {nan_area.item():.2f} km^2')\n",
    "print(f'Total area (no nans):    {not_nan_area.item():.2f} km^2')\n",
    "print(f'Total area (with nans):  {total_area.item():.2f} km^2')\n",
    "print()\n",
    "print(f'Percentage of total area burnt: {100*burnt_area.item()/total_area.item():.2f}%')"
   ]
  },
  {
   "cell_type": "markdown",
   "metadata": {},
   "source": [
    "## Export results to GeoTIFF\n",
    "\n",
    "The baseline reference image and the post fire image will both be saved as a multiband GeoTIFF with the following bands in the following order: Blue, Green, Red, NIR, SWIR. \n",
    "\n",
    "The thresholded burnt area image will be saved as a single band image, where a value of 1 = burnt and a value of 0 = not burnt."
   ]
  },
  {
   "cell_type": "code",
   "execution_count": null,
   "metadata": {},
   "outputs": [],
   "source": [
    "# Define an area name to be used in saved file names\n",
    "area_name = 'Example'\n",
    "\n",
    "# Write baseline reference image to multi-band GeoTIFF\n",
    "write_cog(baseline_image.to_array(), f'{area_name}_baseline_image.tif')\n",
    "\n",
    "# Write post fire image to multi-band GeoTIFF\n",
    "write_cog(post_image.to_array(), f'{area_name}_post_fire_image.tif')\n",
    "\n",
    "# Turn delta NBR into a Xarray Dataset for export to GeoTIFF\n",
    "dnbr_dataset = delta_NBR.to_dataset(name='burnt_area')\n",
    "write_cog(dnbr_dataset.to_array(), f'{area_name}_delta_NBR.tif')"
   ]
  },
  {
   "cell_type": "markdown",
   "metadata": {},
   "source": [
    "---\n",
    "\n",
    "## Additional information\n",
    "\n",
    "**License:** The code in this notebook is licensed under the [Apache License, Version 2.0](https://www.apache.org/licenses/LICENSE-2.0). \n",
    "Digital Earth Africa data is licensed under the [Creative Commons by Attribution 4.0](https://creativecommons.org/licenses/by/4.0/) license.\n",
    "\n",
    "**Contact:** If you need assistance, please post a question on the [Open Data Cube Slack channel](http://slack.opendatacube.org/) or on the [GIS Stack Exchange](https://gis.stackexchange.com/questions/ask?tags=open-data-cube) using the `open-data-cube` tag (you can view previously asked questions [here](https://gis.stackexchange.com/questions/tagged/open-data-cube)).\n",
    "If you would like to report an issue with this notebook, you can file one on [Github](https://github.com/digitalearthafrica/deafrica-sandbox-notebooks).\n",
    "\n",
    "**Compatible datacube version:**"
   ]
  },
  {
   "cell_type": "code",
   "execution_count": null,
   "metadata": {},
   "outputs": [],
   "source": [
    "print(datacube.__version__)"
   ]
  },
  {
   "cell_type": "markdown",
   "metadata": {},
   "source": [
    "**Last Tested:**"
   ]
  },
  {
   "cell_type": "code",
   "execution_count": null,
   "metadata": {},
   "outputs": [],
   "source": [
    "from datetime import datetime\n",
    "datetime.today().strftime('%Y-%m-%d')"
   ]
  }
 ],
 "metadata": {
  "kernelspec": {
   "display_name": "Python 3",
   "language": "python",
   "name": "python3"
  },
  "language_info": {
   "codemirror_mode": {
    "name": "ipython",
    "version": 3
   },
   "file_extension": ".py",
   "mimetype": "text/x-python",
   "name": "python",
   "nbconvert_exporter": "python",
   "pygments_lexer": "ipython3",
   "version": "3.6.9"
  },
  "widgets": {
   "application/vnd.jupyter.widget-state+json": {
    "state": {},
    "version_major": 2,
    "version_minor": 0
   }
  }
 },
 "nbformat": 4,
 "nbformat_minor": 4
}
