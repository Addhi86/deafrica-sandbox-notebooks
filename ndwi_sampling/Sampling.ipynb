{
 "cells": [
  {
   "cell_type": "markdown",
   "metadata": {},
   "source": [
    "# Stratified random sampling from NDWI mosaic"
   ]
  },
  {
   "cell_type": "markdown",
   "metadata": {},
   "source": [
    "## Load packages"
   ]
  },
  {
   "cell_type": "code",
   "execution_count": 1,
   "metadata": {},
   "outputs": [],
   "source": [
    "%matplotlib inline\n",
    "\n",
    "import os\n",
    "import xarray as xr\n",
    "import numpy as np\n",
    "import pandas as pd\n",
    "import geopandas as gpd\n",
    "from matplotlib import pyplot as plt\n",
    "\n",
    "import sys\n",
    "sys.path.append('../Scripts')\n",
    "from deafrica_spatialtools import xr_rasterize\n"
   ]
  },
  {
   "cell_type": "code",
   "execution_count": 10,
   "metadata": {},
   "outputs": [],
   "source": [
    "# define area name\n",
    "\n",
    "area_name = 'Eastern'"
   ]
  },
  {
   "cell_type": "markdown",
   "metadata": {},
   "source": [
    "## Convert to one mosaic (only do it once)"
   ]
  },
  {
   "cell_type": "code",
   "execution_count": 3,
   "metadata": {},
   "outputs": [],
   "source": [
    "# make tif\n",
    "\n",
    "if not os.path.exists(f\"NDWI_composite/{area_name.lower()}_NDWI_mosaic.tif\"):\n",
    "    os.chdir('NDWI_composite')\n",
    "    os.system(f\"gdalbuildvrt {area_name.lower()}_NDWI_mosaic.vrt {area_name.lower()}_NDWI_tile*.tif\")\n",
    "    os.system(\"gdal_translate \"\\\n",
    "       \"-co BIGTIFF=YES \"\\\n",
    "       \"-co COMPRESS=DEFLATE \"\\\n",
    "       \"-co ZLEVEL=9 \"\\\n",
    "       \"-co PREDICTOR=1 \"\\\n",
    "       \"-co TILED=YES \"\\\n",
    "       \"-co BLOCKXSIZE=1024 \"\\\n",
    "       \"-co BLOCKYSIZE=1024 \"\\\n",
    "       +f\"{area_name.lower()}_NDWI_mosaic.vrt \"+ f\"{area_name.lower()}_NDWI_mosaic.tif\")\n",
    "    os.chdir('../')"
   ]
  },
  {
   "cell_type": "markdown",
   "metadata": {},
   "source": [
    "## Load NDWI mosaic and clip to AEZ (TODO: use AEZ-large_water_bodies)"
   ]
  },
  {
   "cell_type": "code",
   "execution_count": null,
   "metadata": {},
   "outputs": [],
   "source": [
    "if not os.path.exists(area_name): os.mkdir(area_name)"
   ]
  },
  {
   "cell_type": "code",
   "execution_count": null,
   "metadata": {},
   "outputs": [],
   "source": [
    "ds = xr.open_rasterio(f\"NDWI_composite/{area_name.lower()}_NDWI_mosaic.tif\").squeeze()"
   ]
  },
  {
   "cell_type": "code",
   "execution_count": null,
   "metadata": {},
   "outputs": [],
   "source": [
    "#load shapefile\n",
    "#gdf = gpd.read_file(f'../../shapes/simplified_AEZs/{area_name}.shp')\n",
    "gdf = gpd.read_file(f'../../shapes/AEZs_ExcludeLargeWB/AEZs_ExcludeLargeWB_update_{area_name}.shp')\n",
    "\n",
    "#rasterize shapeile\n",
    "mask = xr_rasterize(gdf=gdf,\n",
    "                     da=ds)\n",
    "\n",
    "ds = ds.where(mask)\n",
    "ds = ds.where(ds!=0)"
   ]
  },
  {
   "cell_type": "code",
   "execution_count": null,
   "metadata": {},
   "outputs": [],
   "source": [
    "dataset = ds.to_dataset(name='ndwi')"
   ]
  },
  {
   "cell_type": "code",
   "execution_count": null,
   "metadata": {},
   "outputs": [],
   "source": [
    "\n",
    "#ds.plot.imshow();"
   ]
  },
  {
   "cell_type": "code",
   "execution_count": null,
   "metadata": {},
   "outputs": [],
   "source": [
    "del mask"
   ]
  },
  {
   "cell_type": "markdown",
   "metadata": {},
   "source": [
    "## Check NDWI distribution and determine thresholds"
   ]
  },
  {
   "cell_type": "code",
   "execution_count": 11,
   "metadata": {},
   "outputs": [],
   "source": [
    "# 5 bins\n",
    "freq_thresh = [0.1, 0.3, 0.6, 0.9]\n",
    "n_class = len(freq_thresh)+1\n",
    "frac_sample = [0.1, 0.1, 0.2, 0.3, 0.3]"
   ]
  },
  {
   "cell_type": "code",
   "execution_count": null,
   "metadata": {},
   "outputs": [],
   "source": [
    "if not os.path.exists(f'{area_name}/ndwi_{area_name}.csv'):\n",
    "    histy, histx, tmp = dataset.ndwi.plot.hist(bins=100, cumulative=True, density=True);\n",
    "    np.savetxt(f'{area_name}/ndwi_{area_name}.csv', np.vstack((histx[1:], histy)).transpose(),fmt='%.3f', delimiter=',')"
   ]
  },
  {
   "cell_type": "code",
   "execution_count": null,
   "metadata": {},
   "outputs": [],
   "source": [
    "# use wofs\n",
    "x, y, t = np.loadtxt(f'wofs_summary_aez/wofs_{area_name}.csv', delimiter=',', unpack=True)\n",
    "perc = np.interp(freq_thresh, x, y)\n",
    "print('percentile for ephemeral and permanent water', perc)\n",
    "histx, histy = np.loadtxt(f'{area_name}/ndwi_{area_name}.csv', delimiter=',', unpack=True)\n",
    "thresh = np.interp(perc, histy, histx)\n",
    "print('Thresholds', thresh)"
   ]
  },
  {
   "cell_type": "markdown",
   "metadata": {},
   "source": [
    "Southen Thresholds [-0.071488 -0.048836 -0.000376  0.033232]\n",
    "Eastern Thresholds [-0.0627   -0.043991 -0.035081  0.030288]"
   ]
  },
  {
   "cell_type": "markdown",
   "metadata": {},
   "source": [
    "## Classify into bins of different water detection frequencies"
   ]
  },
  {
   "cell_type": "code",
   "execution_count": null,
   "metadata": {},
   "outputs": [],
   "source": [
    "label = np.zeros_like(dataset.ndwi.values, dtype=np.uint8)\n",
    "\n",
    "label +=(dataset.ndwi.values<thresh[0]).astype(np.uint8)*1\n",
    "for i in range(2, n_class):\n",
    "    label += ((dataset.ndwi.values>=thresh[i-2]) & (dataset.ndwi.values<thresh[i-1])).astype(np.uint8)*i\n",
    "\n",
    "label += (dataset.ndwi.values>=thresh[-1]).astype(np.uint8)*n_class\n",
    "\n",
    "dataset['label'] = ('y','x'), label\n",
    "dataset['label'].attrs = dataset.ndwi.attrs"
   ]
  },
  {
   "cell_type": "code",
   "execution_count": null,
   "metadata": {},
   "outputs": [],
   "source": [
    "# save classes\n",
    "\n",
    "from datacube.utils.cog import write_cog\n",
    "\n",
    "write_cog(dataset.label, f'{area_name}/{area_name}_label.tif')"
   ]
  },
  {
   "cell_type": "markdown",
   "metadata": {},
   "source": [
    "## If the labels are alreay saved, read the labels"
   ]
  },
  {
   "cell_type": "code",
   "execution_count": 12,
   "metadata": {},
   "outputs": [],
   "source": [
    "#\n",
    "data = xr.open_rasterio(f'{area_name}/{area_name}_label.tif').squeeze()\n",
    "dataset = data.to_dataset(name='label')"
   ]
  },
  {
   "cell_type": "markdown",
   "metadata": {},
   "source": [
    "## plot classified ndwi"
   ]
  },
  {
   "cell_type": "code",
   "execution_count": null,
   "metadata": {},
   "outputs": [],
   "source": [
    "#dataset.label.plot.imshow(figsize=(10,10));\n",
    "#plt.savefig(f'{area_name}_ndwi_classes.png')"
   ]
  },
  {
   "cell_type": "markdown",
   "metadata": {},
   "source": [
    "## sample from array"
   ]
  },
  {
   "cell_type": "code",
   "execution_count": null,
   "metadata": {},
   "outputs": [],
   "source": [
    "del ds"
   ]
  },
  {
   "cell_type": "code",
   "execution_count": null,
   "metadata": {},
   "outputs": [],
   "source": [
    "# this will take a while, and we already know only class 1 (dry) is dominant\n",
    "\n",
    "#class_sizes =[]\n",
    "#for class_id in np.arange(1, n_class+1):\n",
    "#    class_sizes.append((dataset.label==class_id).sum().values)\n",
    "\n",
    "#class_sizes = np.array(class_sizes)\n",
    "#print(class_sizes)\n",
    "#print(class_sizes/class_sizes.sum())"
   ]
  },
  {
   "cell_type": "code",
   "execution_count": 13,
   "metadata": {},
   "outputs": [
    {
     "name": "stdout",
     "output_type": "stream",
     "text": [
      "[ 50  50 100 150 150]\n"
     ]
    }
   ],
   "source": [
    "if area_name in ['Western', 'Eastern', 'Southern', 'Central']: \n",
    "    n_sample = 500\n",
    "else: n_sample = 300\n",
    "\n",
    "# distribute points across classes\n",
    "n_sample_class = (n_sample * np.array(frac_sample)).astype(int) #np.ceil(n_sample*1./ n_class).astype(int)\n",
    "print(n_sample_class)"
   ]
  },
  {
   "cell_type": "code",
   "execution_count": null,
   "metadata": {},
   "outputs": [],
   "source": [
    "label_picked = {}\n",
    "for class_id in np.arange(1, n_class+1):\n",
    "    #if class_sizes[class_id-1]> 1e9:\n",
    "    #already know only class 1 (dry) and big\n",
    "    if class_id ==1:\n",
    "        # slightly over sample\n",
    "        n_sample_over = 5*n_sample_class[class_id-1] #np.ceil(1.5*n_sample_class[class_id-1]*len(dataset.x)*len(dataset.y)/class_sizes[class_id-1]).astype(int)\n",
    "        random_x = np.random.choice(np.arange(len(dataset.x)), n_sample_over, replace=False)\n",
    "        random_y = np.random.choice(np.arange(len(dataset.y)), n_sample_over, replace=False)\n",
    "        match = dataset.label.values[random_y, random_x] == class_id\n",
    "        random_y, random_x = random_y[match], random_x[match]\n",
    "        if len(random_y) < n_sample_class[class_id-1]:\n",
    "            print(\"Not enough points are picked, try increase the number of random points\")\n",
    "            break\n",
    "        else:\n",
    "            pick = np.random.choice(np.arange(len(random_y)), n_sample_class[class_id-1], replace=False)\n",
    "            y, x = random_y[pick], random_x[pick]\n",
    "    else:\n",
    "        index = np.argwhere(dataset.label.values.flatten() == class_id).squeeze()\n",
    "        picked = np.random.choice(index, n_sample_class[class_id-1], replace=False)\n",
    "        # convert back to x, y \n",
    "        y, x  = np.unravel_index(picked, dataset.label.values.shape)\n",
    "    label_picked[class_id] = (y, x)\n",
    "    np.savetxt(f'{area_name}/{area_name}_class_{class_id}.csv', np.vstack((dataset.y[y].values, dataset.x[x].values)).transpose(),fmt='%d', delimiter=',')"
   ]
  },
  {
   "cell_type": "code",
   "execution_count": null,
   "metadata": {},
   "outputs": [],
   "source": [
    "for class_id in np.arange(1, n_class+1):\n",
    "    y, x = label_picked[class_id]\n",
    "    df = pd.DataFrame({'y': dataset.y[y].values, 'x':dataset.x[x].values})\n",
    "    #df = pd.read_csv(f'{area_name}/{area_name}_class_{class_id}.csv', header=None, names=['y','x'] )\n",
    "    df['class']=class_id\n",
    "    if class_id ==1: \n",
    "        dfs = df\n",
    "    else: \n",
    "        dfs = dfs.append(df, ignore_index=True)\n",
    "\n",
    "len(dfs)"
   ]
  },
  {
   "cell_type": "code",
   "execution_count": null,
   "metadata": {},
   "outputs": [],
   "source": [
    "gdf = gpd.GeoDataFrame(\n",
    "        dfs,\n",
    "        crs=dataset.label.crs,\n",
    "        geometry=gpd.points_from_xy(dfs.x, dfs.y)).reset_index()\n",
    "\n",
    "gdf = gdf.drop(['x', 'y'],axis=1)\n",
    "\n",
    "gdf.to_file(f'{area_name}/{area_name}_samples.shp')"
   ]
  },
  {
   "cell_type": "code",
   "execution_count": 14,
   "metadata": {},
   "outputs": [
    {
     "name": "stdout",
     "output_type": "stream",
     "text": [
      "CPU times: user 5min 36s, sys: 1min 49s, total: 7min 26s\n",
      "Wall time: 7min 26s\n"
     ]
    }
   ],
   "source": [
    "%%time\n",
    "\n",
    "from skimage.morphology import disk\n",
    "\n",
    "min_dist = 1000 # this is x, y index, so 15 km \n",
    "# buffer around picked points\n",
    "offset_y, offset_x = np.where(disk(min_dist)==1)\n",
    "offset_y, offset_x = offset_y-min_dist, offset_x-min_dist\n",
    "\n",
    "da_shape = dataset.label.values.shape\n",
    "da = dataset.label.values.copy().flatten()\n",
    "\n",
    "\n",
    "label_picked = {}\n",
    "\n",
    "class_id = 1\n",
    "# slightly over sample\n",
    "n_sample_over = 5*n_sample_class[class_id-1] #np.ceil(1.5*n_sample_class[class_id-1]*len(dataset.x)*len(dataset.y)/class_sizes[class_id-1]).astype(int)\n",
    "random_x = np.random.choice(np.arange(len(dataset.x)), n_sample_over, replace=False)\n",
    "random_y = np.random.choice(np.arange(len(dataset.y)), n_sample_over, replace=False)\n",
    "match = dataset.label.values[random_y, random_x] == class_id\n",
    "random_y, random_x = random_y[match], random_x[match]\n",
    "if len(random_y) < n_sample_class[class_id-1]:\n",
    "    print(\"Not enough points are picked, try increase the number of random points\")\n",
    "else:\n",
    "    pick = np.random.choice(np.arange(len(random_y)), n_sample_class[class_id-1], replace=False)\n",
    "    y, x = random_y[pick], random_x[pick]\n",
    "label_picked[class_id] = (y, x)\n",
    "for yx in zip(y,x):\n",
    "    buffer_y, buffer_x = yx[0]+offset_y, yx[1]+offset_x\n",
    "    # within boundary\n",
    "    mask_ind = (buffer_y>=0) & (buffer_x>=0) & (buffer_y<da_shape[0]) & (buffer_x<da_shape[1])\n",
    "    mask = np.ravel_multi_index((buffer_y[mask_ind], buffer_x[mask_ind]), da_shape)\n",
    "    da[mask] = 0\n",
    "    \n",
    "for class_id in np.arange(2, n_class+1):\n",
    "    \n",
    "    n_batch = (n_sample_class[class_id-1]/5).astype(int)\n",
    "    n_points = (n_sample_class[class_id-1]/n_batch).astype(int)\n",
    "\n",
    "    for i in range(n_batch):\n",
    "        index = np.argwhere(da == class_id).squeeze()\n",
    "        picked = np.random.choice(index, n_points, replace=False)\n",
    "        # convert back to x, y \n",
    "        y, x  = np.unravel_index(picked, da_shape)\n",
    "        for yx in zip(y,x):\n",
    "            buffer_y, buffer_x = yx[0]+offset_y, yx[1]+offset_x\n",
    "            # within boundary\n",
    "            mask_ind = (buffer_y>=0) & (buffer_x>=0) & (buffer_y<da_shape[0]) & (buffer_x<da_shape[1])\n",
    "            mask = np.ravel_multi_index((buffer_y[mask_ind], buffer_x[mask_ind]), da_shape)\n",
    "            da[mask] = 0\n",
    "        if i ==0: \n",
    "            sample_y, sample_x = y, x\n",
    "        else:\n",
    "            sample_y, sample_x = np.concatenate((y, sample_y)), np.concatenate((x, sample_x))\n",
    "    label_picked[class_id] = (sample_y, sample_x)\n",
    "    "
   ]
  },
  {
   "cell_type": "code",
   "execution_count": 15,
   "metadata": {},
   "outputs": [
    {
     "data": {
      "text/plain": [
       "500"
      ]
     },
     "execution_count": 15,
     "metadata": {},
     "output_type": "execute_result"
    }
   ],
   "source": [
    "for class_id in np.arange(1, n_class+1):\n",
    "    y, x = label_picked[class_id]\n",
    "    df = pd.DataFrame({'y': dataset.y[y].values, 'x':dataset.x[x].values})\n",
    "    #df = pd.read_csv(f'{area_name}/{area_name}_class_{class_id}.csv', header=None, names=['y','x'] )\n",
    "    df['class']=class_id\n",
    "    if class_id ==1: \n",
    "        dfs = df\n",
    "    else: \n",
    "        dfs = dfs.append(df, ignore_index=True)\n",
    "\n",
    "len(dfs)"
   ]
  },
  {
   "cell_type": "code",
   "execution_count": 16,
   "metadata": {},
   "outputs": [],
   "source": [
    "gdf = gpd.GeoDataFrame(\n",
    "        dfs,\n",
    "        crs=dataset.label.crs,\n",
    "        geometry=gpd.points_from_xy(dfs.x, dfs.y)).reset_index()\n",
    "\n",
    "gdf = gdf.drop(['x', 'y'],axis=1)\n",
    "\n",
    "gdf.to_file(f'{area_name}/{area_name}_samples_batched.shp')"
   ]
  },
  {
   "cell_type": "code",
   "execution_count": null,
   "metadata": {},
   "outputs": [],
   "source": []
  }
 ],
 "metadata": {
  "kernelspec": {
   "display_name": "Python 3",
   "language": "python",
   "name": "python3"
  },
  "language_info": {
   "codemirror_mode": {
    "name": "ipython",
    "version": 3
   },
   "file_extension": ".py",
   "mimetype": "text/x-python",
   "name": "python",
   "nbconvert_exporter": "python",
   "pygments_lexer": "ipython3",
   "version": "3.6.9"
  }
 },
 "nbformat": 4,
 "nbformat_minor": 4
}
