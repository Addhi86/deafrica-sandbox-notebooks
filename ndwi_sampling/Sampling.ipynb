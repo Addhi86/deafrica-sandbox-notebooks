{
 "cells": [
  {
   "cell_type": "markdown",
   "metadata": {},
   "source": [
    "# Stratified random sampling from NDWI mosaic"
   ]
  },
  {
   "cell_type": "markdown",
   "metadata": {},
   "source": [
    "## Load packages"
   ]
  },
  {
   "cell_type": "code",
   "execution_count": 13,
   "metadata": {},
   "outputs": [],
   "source": [
    "%matplotlib inline\n",
    "\n",
    "import os\n",
    "import xarray as xr\n",
    "import numpy as np\n",
    "import pandas as pd\n",
    "import geopandas as gpd\n",
    "from matplotlib import pyplot as plt\n",
    "\n",
    "import sys\n",
    "sys.path.append('../Scripts')\n",
    "from deafrica_spatialtools import xr_rasterize\n"
   ]
  },
  {
   "cell_type": "code",
   "execution_count": 4,
   "metadata": {},
   "outputs": [],
   "source": [
    "# define area name\n",
    "\n",
    "area_name = 'Southern'"
   ]
  },
  {
   "cell_type": "markdown",
   "metadata": {},
   "source": [
    "## Convert to one mosaic (only do it once)"
   ]
  },
  {
   "cell_type": "code",
   "execution_count": 19,
   "metadata": {},
   "outputs": [],
   "source": [
    "# make tif\n",
    "\n",
    "if not os.path.exists(f\"NDWI_composite/{area_name.lower()}_NDWI_mosaic.tif\"):\n",
    "    os.chdir('NDWI_composite')\n",
    "    os.system(f\"gdalbuildvrt {area_name.lower()}_NDWI_mosaic.vrt {area_name.lower()}_NDWI_tile*.tif\")\n",
    "    os.system(\"gdal_translate \"\\\n",
    "       \"-co BIGTIFF=YES \"\\\n",
    "       \"-co COMPRESS=DEFLATE \"\\\n",
    "       \"-co ZLEVEL=9 \"\\\n",
    "       \"-co PREDICTOR=1 \"\\\n",
    "       \"-co TILED=YES \"\\\n",
    "       \"-co BLOCKXSIZE=1024 \"\\\n",
    "       \"-co BLOCKYSIZE=1024 \"\\\n",
    "       +f\"{area_name.lower()}_NDWI_mosaic.vrt \"+ f\"{area_name.lower()}_NDWI_mosaic.tif\")\n",
    "    os.chdir('../')"
   ]
  },
  {
   "cell_type": "markdown",
   "metadata": {},
   "source": [
    "## Load NDWI mosaic and clip to AEZ (TODO: use AEZ-large_water_bodies)"
   ]
  },
  {
   "cell_type": "code",
   "execution_count": 20,
   "metadata": {},
   "outputs": [],
   "source": [
    "if not os.path.exists(area_name): os.mkdir(area_name)"
   ]
  },
  {
   "cell_type": "code",
   "execution_count": 21,
   "metadata": {},
   "outputs": [],
   "source": [
    "ds = xr.open_rasterio(f\"NDWI_composite/{area_name.lower()}_NDWI_mosaic.tif\").squeeze()"
   ]
  },
  {
   "cell_type": "code",
   "execution_count": 22,
   "metadata": {},
   "outputs": [
    {
     "name": "stderr",
     "output_type": "stream",
     "text": [
      "/env/lib/python3.6/site-packages/pyproj/crs/crs.py:280: FutureWarning: '+init=<authority>:<code>' syntax is deprecated. '<authority>:<code>' is the preferred initialization method. When making the change, be mindful of axis order changes: https://pyproj4.github.io/pyproj/stable/gotchas.html#axis-order-changes-in-proj-6\n",
      "  projstring = _prepare_from_string(projparams)\n"
     ]
    },
    {
     "name": "stdout",
     "output_type": "stream",
     "text": [
      "Rasterizing to match xarray.DataArray dimensions (104514, 93681) and projection system/CRS (e.g. +init=epsg:6933)\n"
     ]
    }
   ],
   "source": [
    "#load shapefile\n",
    "#gdf = gpd.read_file(f'../../shapes/simplified_AEZs/{area_name}.shp')\n",
    "gdf = gpd.read_file(f'../../shapes/AEZs_ExcludeLargeWB/AEZs_ExcludeLargeWB_{area_name}.shp')\n",
    "\n",
    "#rasterize shapeile\n",
    "mask = xr_rasterize(gdf=gdf,\n",
    "                     da=ds)\n",
    "\n",
    "ds = ds.where(mask)\n",
    "ds = ds.where(ds!=0)"
   ]
  },
  {
   "cell_type": "code",
   "execution_count": 23,
   "metadata": {},
   "outputs": [],
   "source": [
    "dataset = ds.to_dataset(name='ndwi')"
   ]
  },
  {
   "cell_type": "code",
   "execution_count": 24,
   "metadata": {},
   "outputs": [],
   "source": [
    "\n",
    "#ds.plot.imshow();"
   ]
  },
  {
   "cell_type": "code",
   "execution_count": 25,
   "metadata": {},
   "outputs": [],
   "source": [
    "del mask"
   ]
  },
  {
   "cell_type": "markdown",
   "metadata": {},
   "source": [
    "## Check NDWI distribution and determine thresholds"
   ]
  },
  {
   "cell_type": "code",
   "execution_count": 26,
   "metadata": {},
   "outputs": [
    {
     "data": {
      "image/png": "[encoded data removed]",
      "text/plain": [
       "<Figure size 432x288 with 1 Axes>"
      ]
     },
     "metadata": {
      "needs_background": "light"
     },
     "output_type": "display_data"
    }
   ],
   "source": [
    "if not os.path.exists(f'{area_name}/ndwi_{area_name}.csv'):\n",
    "    histy, histx, tmp = dataset.ndwi.plot.hist(bins=100, cumulative=True, density=True);\n",
    "    np.savetxt(f'{area_name}/ndwi_{area_name}.csv', np.vstack((histx[1:], histy)).transpose(),fmt='%.3f', delimiter=',')"
   ]
  },
  {
   "cell_type": "code",
   "execution_count": 28,
   "metadata": {},
   "outputs": [
    {
     "name": "stdout",
     "output_type": "stream",
     "text": [
      "percentile for ephemeral and permanent water [0.991 0.998]\n",
      "Thresholds [-0.073  0.04 ]\n"
     ]
    }
   ],
   "source": [
    "# use wofs\n",
    "try:\n",
    "    x, y = np.loadtxt(f'wofs_summary_aez/wofs_{area_name}.csv', delimiter=',', unpack=True)\n",
    "except:\n",
    "    x, y, t = np.loadtxt(f'wofs_summary_aez/wofs_{area_name}.csv', delimiter=',', unpack=True)\n",
    "ephem = 0.1\n",
    "perm = 0.9\n",
    "perc = np.interp([ephem, perm], x, y)\n",
    "print('percentile for ephemeral and permanent water', perc)\n",
    "histx, histy = np.loadtxt(f'{area_name}/ndwi_{area_name}.csv', delimiter=',', unpack=True)\n",
    "thresh = np.interp(perc, histy, histx)\n",
    "print('Thresholds', thresh)"
   ]
  },
  {
   "cell_type": "markdown",
   "metadata": {},
   "source": [
    "## Classify into dry, ephemeral and permanent"
   ]
  },
  {
   "cell_type": "code",
   "execution_count": 29,
   "metadata": {},
   "outputs": [
    {
     "name": "stderr",
     "output_type": "stream",
     "text": [
      "/env/lib/python3.6/site-packages/ipykernel_launcher.py:9: RuntimeWarning: invalid value encountered in greater_equal\n",
      "  if __name__ == '__main__':\n",
      "/env/lib/python3.6/site-packages/ipykernel_launcher.py:10: RuntimeWarning: invalid value encountered in greater_equal\n",
      "  # Remove the CWD from sys.path while we load stuff.\n",
      "/env/lib/python3.6/site-packages/ipykernel_launcher.py:10: RuntimeWarning: invalid value encountered in less\n",
      "  # Remove the CWD from sys.path while we load stuff.\n",
      "/env/lib/python3.6/site-packages/ipykernel_launcher.py:11: RuntimeWarning: invalid value encountered in less\n",
      "  # This is added back by InteractiveShellApp.init_path()\n"
     ]
    }
   ],
   "source": [
    "#threshold = {'Eastern': (-0.062, 0.03), 'Central': (-0.073, 0.04)\n",
    "#             'Western': (-0.14, -0.035)\n",
    "##            }\n",
    "#low, high = threshold[area_name]\n",
    "\n",
    "low, high = thresh[0], thresh[1]\n",
    "\n",
    "label = np.zeros_like(dataset.ndwi.values, dtype=np.uint8)\n",
    "label += (dataset.ndwi.values>=high).astype(np.uint8)*3\n",
    "label += ((dataset.ndwi.values>=low) & (dataset.ndwi.values<high)).astype(np.uint8)*2\n",
    "label +=(dataset.ndwi.values<low).astype(np.uint8)*1\n",
    "dataset['label'] = ('y','x'), label\n",
    "dataset['label'].attrs = dataset.ndwi.attrs"
   ]
  },
  {
   "cell_type": "code",
   "execution_count": 30,
   "metadata": {},
   "outputs": [
    {
     "data": {
      "text/plain": [
       "PosixPath('Southern/Southern_label.tif')"
      ]
     },
     "execution_count": 30,
     "metadata": {},
     "output_type": "execute_result"
    }
   ],
   "source": [
    "# save classes\n",
    "\n",
    "from datacube.utils.cog import write_cog\n",
    "\n",
    "write_cog(dataset.label, f'{area_name}/{area_name}_label.tif')"
   ]
  },
  {
   "cell_type": "markdown",
   "metadata": {},
   "source": [
    "## If the labels are alreay saved, read the labels"
   ]
  },
  {
   "cell_type": "code",
   "execution_count": 5,
   "metadata": {},
   "outputs": [],
   "source": [
    "#\n",
    "#data = xr.open_rasterio(f'{area_name}/{area_name}_label.tif').squeeze()\n",
    "#dataset = data.to_dataset(name='label')"
   ]
  },
  {
   "cell_type": "markdown",
   "metadata": {},
   "source": [
    "## plot classified ndwi"
   ]
  },
  {
   "cell_type": "code",
   "execution_count": null,
   "metadata": {},
   "outputs": [],
   "source": [
    "#dataset.label.plot.imshow(figsize=(10,10));\n",
    "#plt.savefig(f'{area_name}_ndwi_classes.png')"
   ]
  },
  {
   "cell_type": "markdown",
   "metadata": {},
   "source": [
    "## sample from array"
   ]
  },
  {
   "cell_type": "code",
   "execution_count": 31,
   "metadata": {},
   "outputs": [],
   "source": [
    "del ds"
   ]
  },
  {
   "cell_type": "code",
   "execution_count": 7,
   "metadata": {},
   "outputs": [
    {
     "name": "stdout",
     "output_type": "stream",
     "text": [
      "[5140926637   37256967    9159969]\n",
      "[0.99105189 0.00718228 0.00176583]\n"
     ]
    }
   ],
   "source": [
    "n_class= 3\n",
    "class_sizes =[]\n",
    "for class_id in np.arange(1, n_class+1):\n",
    "    class_sizes.append((dataset.label==class_id).sum().values)\n",
    "\n",
    "class_sizes = np.array(class_sizes)\n",
    "print(class_sizes)\n",
    "print(class_sizes/class_sizes.sum())"
   ]
  },
  {
   "cell_type": "code",
   "execution_count": 15,
   "metadata": {},
   "outputs": [
    {
     "name": "stdout",
     "output_type": "stream",
     "text": [
      "167\n"
     ]
    }
   ],
   "source": [
    "n_sample = 500\n",
    "n_sample_class = np.ceil(n_sample*1./ n_class).astype(int)\n",
    "print(n_sample_class)"
   ]
  },
  {
   "cell_type": "code",
   "execution_count": 42,
   "metadata": {},
   "outputs": [],
   "source": [
    "label_picked = {}\n",
    "for class_id in np.arange(1, n_class+1):\n",
    "    if class_sizes[class_id-1]> 1e9:\n",
    "        # slightly over sample\n",
    "        n_sample_over = np.ceil(n_sample_class*len(dataset.x)*len(dataset.y)/class_sizes[class_id-1]).astype(int)\n",
    "        random_x = np.random.choice(np.arange(len(dataset.x)), n_sample_over, replace=False)\n",
    "        random_y = np.random.choice(np.arange(len(dataset.y)), n_sample_over, replace=False)\n",
    "        match = dataset.label.values[random_y, random_x] == class_id\n",
    "        random_y, random_x = random_y[match], random_x[match]\n",
    "        if len(random_y) < n_sample_class:\n",
    "            print(\"Not enough points are picked, try increase the number of random points\")\n",
    "            break\n",
    "        else:\n",
    "            pick = np.random.choice(np.arange(len(random_y)), n_sample_class, replace=False)\n",
    "            y, x = random_y[pick], random_x[pick]\n",
    "    else:\n",
    "        index = np.argwhere(dataset.label.values.flatten() == class_id).squeeze()\n",
    "        picked = np.random.choice(index, n_sample_class, replace=False)\n",
    "        # convert back to x, y \n",
    "        y, x  = np.unravel_index(picked, dataset.label.values.shape)\n",
    "    label_picked[class_id] = (y, x)\n",
    "    np.savetxt(f'{area_name}/{area_name}_class_{class_id}.csv', np.vstack((dataset.y[y].values, dataset.x[x].values)).transpose(),fmt='%d', delimiter=',')"
   ]
  },
  {
   "cell_type": "code",
   "execution_count": 43,
   "metadata": {},
   "outputs": [
    {
     "data": {
      "text/plain": [
       "501"
      ]
     },
     "execution_count": 43,
     "metadata": {},
     "output_type": "execute_result"
    }
   ],
   "source": [
    "for class_id in np.arange(1, n_class+1):\n",
    "    #y, x = label_picked[class_id]\n",
    "    #df = pd.DataFrame({'y': dataset.y[y].values, 'x':dataset.x[x].values})\n",
    "    df = pd.read_csv(f'{area_name}/{area_name}_class_{class_id}.csv', header=None, names=['y','x'] )\n",
    "    df['class']=class_id\n",
    "    if class_id ==1: \n",
    "        dfs = df\n",
    "    else: \n",
    "        dfs = dfs.append(df, ignore_index=True)\n",
    "\n",
    "len(dfs)"
   ]
  },
  {
   "cell_type": "code",
   "execution_count": 44,
   "metadata": {},
   "outputs": [],
   "source": [
    "gdf = gpd.GeoDataFrame(\n",
    "        dfs,\n",
    "        crs=dataset.label.crs,\n",
    "        geometry=gpd.points_from_xy(dfs.x, dfs.y)).reset_index()\n",
    "\n",
    "gdf = gdf.drop(['x', 'y'],axis=1)\n",
    "\n",
    "gdf.to_file(f'{area_name}/{area_name}_samples.shp')"
   ]
  },
  {
   "cell_type": "code",
   "execution_count": null,
   "metadata": {},
   "outputs": [],
   "source": []
  }
 ],
 "metadata": {
  "kernelspec": {
   "display_name": "Python 3",
   "language": "python",
   "name": "python3"
  },
  "language_info": {
   "codemirror_mode": {
    "name": "ipython",
    "version": 3
   },
   "file_extension": ".py",
   "mimetype": "text/x-python",
   "name": "python",
   "nbconvert_exporter": "python",
   "pygments_lexer": "ipython3",
   "version": "3.6.9"
  }
 },
 "nbformat": 4,
 "nbformat_minor": 4
}
