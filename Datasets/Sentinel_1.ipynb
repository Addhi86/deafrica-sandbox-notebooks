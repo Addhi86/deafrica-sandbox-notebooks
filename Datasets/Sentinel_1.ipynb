{
 "cells": [
  {
   "cell_type": "markdown",
   "metadata": {},
   "source": [
    "# Sentinel-1 <img align=\"right\" src=\"../Supplementary_data/DE_Africa_Logo_Stacked_RGB_small.jpg\">\n",
    "\n",
    "\n",
    "* **Products used:** \n",
    "[s1_rtc]()"
   ]
  },
  {
   "cell_type": "raw",
   "metadata": {
    "raw_mimetype": "text/restructuredtext"
   },
   "source": [
    "**Keywords** :index:`data used; Sentinel_1`, :index:`datasets`; index:`radar`"
   ]
  },
  {
   "cell_type": "markdown",
   "metadata": {},
   "source": [
    "## Background\n",
    "\n",
    "The [Sentinel-1](https://en.wikipedia.org/wiki/Sentinel-1) mission is composed of a constellation of two Synthetic Aperture Radar (SAR) satellites, Sentinel-1A and Sentinel-1B, sharing the same orbital plane. Sentinel-1 provides dual polarisation capability, very short revisit times, and rapid product delivery.\n",
    "\n",
    "SAR data has the advantage of operating at wavelengths not impeded by cloud cover or a lack of illumination and can acquire data over a site during the day or night, and under most weather conditions. The Sentinel-1 mission is the European Radar Observatory for the Copernicus joint initiative of the European Commission (EC) and the European Space Agency (ESA) that can offer reliable and repeated wide area monitoring with its SAR instrument. \n",
    "\n",
    "Sentinel-1 products will benefit users interested in agriculture, forestry and land cover classification. The rapid data dissemination and short revisit cycles of Sentinel-1 together with its interferometric capabilities will also benefit emergency response users, such as the United Nations [International Charter on Space and Major Disasters](https://disasterscharter.org/web/guest/home;jsessionid=83C5354659FD4EFBE0A8D388BBA5B56F.jvm1), in emergency situations such as floods, earthquakes, volcanic eruptions and landslides.\n",
    "\n",
    "Sentinel-1A was launched on 3 April 2014 and Sentinel-1B followed on 25 April 2016. Two other spacecraft (Sentinel-1C and Sentinel-1D) are planned to replace the first two satellites at the end of their operational lifespan. For more information on the Sentinel-1 platforms and applications, check out the [European Space Agency](https://sentinel.esa.int/web/sentinel/missions/sentinel-1) website.\n",
    "\n",
    "The Normalized Radar Backscatter product needs Radiometric Terrain Correction (RTC) that is called gamma0 (γ0) backscatter. In this product the systematic contamination that would otherwise still be present in sets of data acquired with multiple geometries will be mitigated."
   ]
  },
  {
   "cell_type": "markdown",
   "metadata": {},
   "source": [
    "## Modes, Swath Widths and Resolution\n",
    "The C-SAR instrument on Sentinel-1 supports operation in dual polarisation (HH+HV, VV+VH) that is useful for land cover classification and sea-ice applications. Sentinel-1 operates in four exclusive acquisition modes:\n",
    "* Strip Map Mode: 80 km swath, 5 x 5 m spatial resolution\n",
    "* Interferometric Wide Swath: 250 km swath, 5 x 20 m spatial resolution\n",
    "* Extra-Wide Swath Mode: 400 km swath, 20 x 40 m spatial resolution\n",
    "* Wave-Mode: 20 x 20 km, 5 x 5 m spatial resolution\n",
    "\n",
    "<img align='center'\n",
    "     src='' Width='700'>\n",
    "\n",
    "\n",
    "---"
   ]
  },
  {
   "cell_type": "markdown",
   "metadata": {},
   "source": [
    "## Description\n",
    "This notebook will run through loading in Sentinel-1 monthly composite satellite images over Ghana.\n",
    "Topics covered include:\n",
    "\n",
    "* Using the native `dc.load()` function to load in Sentinel-1\n",
    "\n",
    "**Digital Earth Africa currently has Sentinel 1 terrain and radiometric corrected data over Ghana. This data is provided as a monthly mean composite, contains both VH and VV bands, and is available from 2015 to 2018 (inclusive)** \n",
    "\n",
    "An example of using Sentinel 1 for classify water is available under the `Real_world_examples` folder, [Radar Water Detection](../Real_world_example/Radar_water_detetcion.ipynb)\n",
    "\n",
    "***"
   ]
  },
  {
   "cell_type": "markdown",
   "metadata": {},
   "source": [
    "## Getting started\n",
    "\n",
    "To run this analysis, run all the cells in the notebook, starting with the \"Load packages\" cell."
   ]
  },
  {
   "cell_type": "markdown",
   "metadata": {},
   "source": [
    "### Load packages"
   ]
  },
  {
   "cell_type": "code",
   "execution_count": 8,
   "metadata": {},
   "outputs": [],
   "source": [
    "%matplotlib inline\n",
    "\n",
    "import sys\n",
    "import datacube\n",
    "\n",
    "sys.path.append(\"../Scripts\")\n",
    "from deafrica_plotting import display_map"
   ]
  },
  {
   "cell_type": "markdown",
   "metadata": {},
   "source": [
    "### Connect to the datacube"
   ]
  },
  {
   "cell_type": "code",
   "execution_count": 3,
   "metadata": {},
   "outputs": [],
   "source": [
    "dc = datacube.Datacube(app=\"Sentinel_1\")"
   ]
  },
  {
   "cell_type": "markdown",
   "metadata": {},
   "source": [
    "## Load Sentinel-1 data from the datacube\n",
    "\n",
    "You can change any of the parameters in the cell below to adjust the location and time extent of the returned datasets. These parameters will go into the `query` object in the second cell.\n",
    "To learn more about querying, refer to the Beginner's guide notebook on [loading data](../Beginners_guide/03_Loading_data.ipynb)."
   ]
  },
  {
   "cell_type": "code",
   "execution_count": 4,
   "metadata": {},
   "outputs": [],
   "source": [
    "# Define the area of interest\n",
    "latitude = 5.423\n",
    "longitude = -0.464\n",
    "buffer = 0.05\n",
    "time = ('2021')"
   ]
  },
  {
   "cell_type": "code",
   "execution_count": null,
   "metadata": {},
   "outputs": [],
   "source": [
    "#add spatio-temporal extent to the query\n",
    "query = {\n",
    "    'x': (longitude-buffer, longitude+buffer),\n",
    "    'y': (latitude+buffer, latitude-buffer),\n",
    "    'time':time,\n",
    "}"
   ]
  },
  {
   "cell_type": "markdown",
   "metadata": {},
   "source": [
    "## View the selected location\n",
    "The next cell will display the selected area on an interactive map.\n",
    "Feel free to zoom in and out to get a better understanding of the area you'll be analysing.\n",
    "Clicking on any point of the map will reveal the latitude and longitude coordinates of that point."
   ]
  },
  {
   "cell_type": "code",
   "execution_count": 6,
   "metadata": {},
   "outputs": [],
   "source": [
    "display_map(x=(longitude-buffer, longitude+buffer), y=(latitude+buffer, latitude-buffer))"
   ]
  },
  {
   "cell_type": "markdown",
   "metadata": {},
   "source": [
    "### Load Sentinel-1 using `dc.load()`\n",
    "\n",
    "Sentinel-1 backscatter data has two measurements, `VV` and `VH` (in units of dB), which correspond to the polarisation of the light sent and received by the satellite.\n",
    "*VV* refers to the satellite sending out vertically-polarised light and receiving vertically-polarised light back, whereas *VH* refers to the satellite sending out vertically-polarised light and receiving horizontally-polarised light back. "
   ]
  },
  {
   "cell_type": "code",
   "execution_count": null,
   "metadata": {},
   "outputs": [],
   "source": [
    "# Load the data\n",
    "ds_s1 = dc.load(**query,\n",
    "                product=\"s1_rtc\")\n",
    "\n",
    "print(ds_s1)"
   ]
  },
  {
   "cell_type": "markdown",
   "metadata": {},
   "source": [
    "### Visualise loaded data "
   ]
  },
  {
   "cell_type": "code",
   "execution_count": null,
   "metadata": {},
   "outputs": [],
   "source": [
    "# Plot all VH observations for the year\n",
    "ds_s1.vh.plot(cmap=\"Greys_r\", robust=True, col=\"time\", col_wrap=5)"
   ]
  },
  {
   "cell_type": "markdown",
   "metadata": {},
   "source": [
    "***\n",
    "\n",
    "## Additional information\n",
    "\n",
    "**License:** The code in this notebook is licensed under the [Apache License, Version 2.0](https://www.apache.org/licenses/LICENSE-2.0). \n",
    "Digital Earth Africa data is licensed under the [Creative Commons by Attribution 4.0](https://creativecommons.org/licenses/by/4.0/) license.\n",
    "\n",
    "**Contact:** If you need assistance, please post a question on the [Open Data Cube Slack channel](http://slack.opendatacube.org/) or on the [GIS Stack Exchange](https://gis.stackexchange.com/questions/ask?tags=open-data-cube) using the `open-data-cube` tag (you can view previously asked questions [here](https://gis.stackexchange.com/questions/tagged/open-data-cube)).\n",
    "If you would like to report an issue with this notebook, you can file one on [Github](https://github.com/digitalearthafrica/deafrica-sandbox-notebooks).\n",
    "\n",
    "**Compatible datacube version:** "
   ]
  },
  {
   "cell_type": "code",
   "execution_count": 12,
   "metadata": {},
   "outputs": [
    {
     "name": "stdout",
     "output_type": "stream",
     "text": [
      "1.8.4.dev52+g07bc51a5\n"
     ]
    }
   ],
   "source": [
    "print(datacube.__version__)"
   ]
  },
  {
   "cell_type": "markdown",
   "metadata": {},
   "source": [
    "**Last Tested:**"
   ]
  },
  {
   "cell_type": "code",
   "execution_count": 13,
   "metadata": {},
   "outputs": [
    {
     "data": {
      "text/plain": [
       "'2021-04-19'"
      ]
     },
     "execution_count": 13,
     "metadata": {},
     "output_type": "execute_result"
    }
   ],
   "source": [
    "from datetime import datetime\n",
    "datetime.today().strftime('%Y-%m-%d')"
   ]
  }
 ],
 "metadata": {
  "kernelspec": {
   "display_name": "Python 3",
   "language": "python",
   "name": "python3"
  },
  "language_info": {
   "codemirror_mode": {
    "name": "ipython",
    "version": 3
   },
   "file_extension": ".py",
   "mimetype": "text/x-python",
   "name": "python",
   "nbconvert_exporter": "python",
   "pygments_lexer": "ipython3",
   "version": "3.6.9"
  }
 },
 "nbformat": 4,
 "nbformat_minor": 4
}
