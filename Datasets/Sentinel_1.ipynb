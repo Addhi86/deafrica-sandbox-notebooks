{
 "cells": [
  {
   "cell_type": "markdown",
   "metadata": {},
   "source": [
    "# Sentinel-1 <img align=\"right\" src=\"../Supplementary_data/DE_Africa_Logo_Stacked_RGB_small.jpg\">\n",
    "\n",
    "\n",
    "* **Products used:** \n",
    "[s1_rtc](https://explorer.digitalearth.africa/s1_rtc)"
   ]
  },
  {
   "cell_type": "raw",
   "metadata": {
    "raw_mimetype": "text/restructuredtext"
   },
   "source": [
    "**Keywords** :index:`data used; Sentinel 1`,:index:`datasets; Sentinel 1`, index:`SAR`"
   ]
  },
  {
   "cell_type": "markdown",
   "metadata": {},
   "source": [
    "## Background\n",
    "\n",
    "The [Sentinel-1](https://sentinel.esa.int/web/sentinel/missions/sentinel-1) mission is composed of a constellation of two Synthetic Aperture Radar (SAR) satellites, Sentinel-1A and Sentinel-1B, sharing the same orbital plane. Sentinel-1 provides dual polarisation capability, very short revisit times, and rapid product delivery. The mission currently collects data every 12 days over Africa at a spatial resolution of approximately 20m. Sentinel-1A was launched on 3 April 2014 and Sentinel-1B followed on 25 April 2016. Two other spacecraft (Sentinel-1C and Sentinel-1D) are planned to replace the first two satellites at the end of their operational lifespan. For more information on the Sentinel-1 platforms and applications, check out the [European Space Agency](https://www.esa.int/Applications/Observing_the_Earth/Copernicus/Sentinel-1) website.\n",
    "\n",
    "SAR data has the advantage of operating at wavelengths not impeded by cloud cover and can acquire data over a site during the day or night. The Sentinel-1 mission is the European Radar Observatory for the Copernicus joint initiative of the European Commission (EC) and the European Space Agency (ESA) that can offer reliable and repeated wide area monitoring with its SAR instrument.\n",
    "\n",
    "Radar backscatter measures the amount of microwave radiation reflected back to the centre from the ground surface. This measurement is sensitive to surface roughness, moisture content, and viewing geometry. DEAfrica provides Sentinel-1 backscatter as Radiometric Terrain Corrected (RTC) gamma-0 (γ0) where variation due to changing observation geometries has been mitigated.\n",
    "\n",
    "DE Africa provides Sentinel-1 data acquired in Interferometric Wide Swath (IW) mode and with dual polarisation (VV and VH). The dual polarisation backscatter timeseries can be used in applications for forests, agriculture, wetlands, and land cover classification. SAR's ability to see through clouds makes it critical for mapping and monitoring land cover changes in the wet tropics. \n",
    "\n",
    "DEAfrica Sentinel-1 backscatter is processed to be compliant with the [CEOS Analysis Ready Data for Land (CARD4L)](https://ceos.org/ard/) specification. More technical information can be found in the [DE Africa User Guide](https://docs.digitalearthafrica.org/en/latest/data_specs/Sentinel-1_specs.html).\n"
   ]
  },
  {
   "cell_type": "markdown",
   "metadata": {},
   "source": [
    "## Description\n",
    "\n",
    "In this notebook we will load sentinel-1 Radiometric Terrain Corrected (RTC) SAR backscatter data using `dc.load()` to return a time series of satellite images. The returned xarray.Dataset dataset will contain analysis ready images over Ghana in 2021.\n",
    "\n",
    "Topics covered include:\n",
    "1. Inspecting the Sentinel-1 product and measurements available in the datacube\n",
    "2. Using the native `dc.load()` function to load in Sentinel-1 data\n",
    "\n",
    "An example of using Sentinel-1 for classify water is available under the `Real_world_examples` folder, [Radar Water Detection](../Real_world_examples/Radar_water_detection.ipynb)\n",
    "***"
   ]
  },
  {
   "cell_type": "markdown",
   "metadata": {},
   "source": [
    "## Getting started\n",
    "\n",
    "To run this analysis, run all the cells in the notebook, starting with the \"Load packages\" cell."
   ]
  },
  {
   "cell_type": "markdown",
   "metadata": {},
   "source": [
    "### Load packages"
   ]
  },
  {
   "cell_type": "code",
   "execution_count": null,
   "metadata": {},
   "outputs": [],
   "source": [
    "%matplotlib inline\n",
    "import datacube\n",
    "import sys\n",
    "import math \n",
    "import numpy as np\n",
    "import matplotlib.pyplot as plt\n",
    "from deafrica_tools.plotting import rgb \n",
    "from deafrica_tools.plotting import display_map"
   ]
  },
  {
   "cell_type": "markdown",
   "metadata": {},
   "source": [
    "### Connect to the datacube"
   ]
  },
  {
   "cell_type": "code",
   "execution_count": null,
   "metadata": {},
   "outputs": [],
   "source": [
    "dc = datacube.Datacube(app=\"Sentinel_1\")"
   ]
  },
  {
   "cell_type": "markdown",
   "metadata": {},
   "source": [
    "## Available products and measurements\n",
    "\n",
    "### List products\n",
    "\n",
    "We can use datacube's `list_products` functionality to inspect DE Africa's SAR products that are available in the datacube. The table below shows the product names that we will use to load the data, a brief description of the data, and the satellite instrument that acquired the data."
   ]
  },
  {
   "cell_type": "code",
   "execution_count": null,
   "metadata": {},
   "outputs": [],
   "source": [
    "dc.list_products().loc[dc.list_products()['description'].str.contains('radar')]"
   ]
  },
  {
   "cell_type": "code",
   "execution_count": null,
   "metadata": {},
   "outputs": [],
   "source": [
    "product = \"s1_rtc\""
   ]
  },
  {
   "cell_type": "markdown",
   "metadata": {},
   "source": [
    "### List measurements\n",
    "\n",
    "We can further inspect the data available for each SAR product using datacube's `list_measurements` functionality. The table below lists each of the measurements available in the data."
   ]
  },
  {
   "cell_type": "code",
   "execution_count": null,
   "metadata": {},
   "outputs": [],
   "source": [
    "measurements = dc.list_measurements()\n",
    "measurements.loc[product]"
   ]
  },
  {
   "cell_type": "markdown",
   "metadata": {},
   "source": [
    "The Sentinel-1 product has five measurements:\n",
    "* Backscatter in two polarisations,`VV` and `VH`. The two letters correspond to the polarisations of the light sent and received by the satellite. *VV* refers to the satellite sending out vertically-polarised light and receiving vertically-polarised light back, whereas *VH* refers to the satellite sending out vertically-polarised light and receiving horizontally-polarised light back.\n",
    "* A data mask, with `0` for `no-data`, `1` for valid data, and `2` for in/near radar shadow.\n",
    "* Scattering area, the normalization that has been calcuated using a digital elevation model and been applied to obtain radiometric terrain correction.\n",
    "* Local incidence angle."
   ]
  },
  {
   "cell_type": "markdown",
   "metadata": {},
   "source": [
    "## Load Sentinel-1 dataset using `dc.load()`\n",
    "\n",
    "Now that we know what products and measurements are available for the product, we can load data from the datacube using `dc.load`.\n",
    "\n",
    "In the example below, we will load Sentinel-1 for part of Ghana in 2021. \n",
    "\n",
    "We will load data from two polarisation bands,`VV` and `VH`, as well as the data mask (`'mask'`). The data is loaded in native EPSG:4326 coordinate reference system (CRS). It can be reprojected if `output_crs` and `resolution` are defined in the query.\n",
    "\n",
    "> Note: For a more general discussion of how to load data using the datacube, refer to the [Introduction to loading data](../Beginners_guide/03_Loading_data.ipynb) notebook."
   ]
  },
  {
   "cell_type": "code",
   "execution_count": null,
   "metadata": {},
   "outputs": [],
   "source": [
    "# Define the area of interest\n",
    "latitude = 5.423\n",
    "longitude = -0.464\n",
    "buffer = 0.02\n",
    "time = ('2021')"
   ]
  },
  {
   "cell_type": "code",
   "execution_count": null,
   "metadata": {},
   "outputs": [],
   "source": [
    "#add spatio-temporal extent to the query\n",
    "query = {\n",
    "    'x': (longitude-buffer, longitude+buffer),\n",
    "    'y': (latitude+buffer, latitude-buffer),\n",
    "    'time':time,\n",
    "}"
   ]
  },
  {
   "cell_type": "markdown",
   "metadata": {},
   "source": [
    "### Visualise the selected area "
   ]
  },
  {
   "cell_type": "code",
   "execution_count": null,
   "metadata": {},
   "outputs": [],
   "source": [
    "display_map(x=(longitude-buffer, longitude+buffer), y=(latitude+buffer, latitude-buffer))"
   ]
  },
  {
   "cell_type": "code",
   "execution_count": null,
   "metadata": {},
   "outputs": [],
   "source": [
    "#loading the data with the mask band included \n",
    "bands = ['vv','vh','mask']\n",
    "ds_S1 = dc.load(product='s1_rtc',\n",
    "             measurements=bands,\n",
    "             **query)\n",
    "\n",
    "print(ds_S1)"
   ]
  },
  {
   "cell_type": "code",
   "execution_count": null,
   "metadata": {},
   "outputs": [],
   "source": [
    "# Plot all VV observations for the year, and apply data mask to exclude pixels in and near radar shadow\n",
    "ds_S1.vv.where(ds_S1.mask==1).plot(cmap=\"Greys_r\", robust=True, col=\"time\", col_wrap=4);"
   ]
  },
  {
   "cell_type": "code",
   "execution_count": null,
   "metadata": {},
   "outputs": [],
   "source": [
    "# Plot all VH observations for the year, and apply data mask to exclude pixels in and near radar shadow\n",
    "ds_S1.vh.where(ds_S1.mask==1).plot(cmap=\"Greys_r\", robust=True, col=\"time\", col_wrap=4);"
   ]
  },
  {
   "cell_type": "code",
   "execution_count": null,
   "metadata": {},
   "outputs": [],
   "source": [
    "# Plot the average of all VV observations\n",
    "mean_vv = ds_S1.vv.where(ds_S1.mask==1).mean(dim=\"time\")\n",
    "\n",
    "fig = plt.figure(figsize=(8, 7))\n",
    "mean_vv.plot(cmap=\"Greys_r\", robust=True)\n",
    "plt.title(\"Average VV\");"
   ]
  },
  {
   "cell_type": "code",
   "execution_count": null,
   "metadata": {},
   "outputs": [],
   "source": [
    "# Plot the average of all VH observations\n",
    "mean_vh = ds_S1.vh.mean(dim=\"time\")\n",
    "\n",
    "fig = plt.figure(figsize=(8, 7))\n",
    "mean_vh.plot(cmap=\"Greys_r\", robust=True)\n",
    "plt.title(\"Average VH\");"
   ]
  },
  {
   "cell_type": "markdown",
   "metadata": {},
   "source": [
    "Low backscatter is measured over water due to specular reflection. \n",
    "\n",
    "You may have noticed that the water in the individual *VV* and *VH* images isn't a consistent colour.\n",
    "The distortion you're seeing is a type of noise known as speckle, which gives the images a grainy appearence.\n",
    "Speckle noise can be reduced through filtering. Applying a speckle filter will reduce noise and improve our ability to distinguish water from land. \n",
    "If interested, you can find a technical introduction to speckle filtering [here](https://earth.esa.int/documents/653194/656796/Speckle_Filtering.pdf) and one method to do the filtering in the [Radar Water Detection](../Real_world_examples/Radar_water_detection.ipynb) notebook."
   ]
  },
  {
   "cell_type": "code",
   "execution_count": null,
   "metadata": {},
   "outputs": [],
   "source": [
    "#creation of a new band (VH/VV=vhvv) for RGB display \n",
    "ds_S1['vhvv'] = ds_S1.vh.where(ds_S1.mask==1) / ds_S1.vv.where(ds_S1.mask==1)"
   ]
  },
  {
   "cell_type": "code",
   "execution_count": null,
   "metadata": {},
   "outputs": [],
   "source": [
    "# Set the timesteps to visualise\n",
    "timesteps = [0,1,3]\n",
    "\n",
    "# Generate RGB plots at each timestep\n",
    "rgb(ds_S1.where(ds_S1.mask==1), bands=['vh','vv','vhvv'], index=timesteps)"
   ]
  },
  {
   "cell_type": "markdown",
   "metadata": {},
   "source": [
    "In the above false color composites, low backscatter is measured over water which appears black or dark blue. High backscatter is measured in urban areas which appear green. The salt and pepper a.k.a speckle noise over water is also visible. "
   ]
  },
  {
   "cell_type": "markdown",
   "metadata": {},
   "source": [
    "## Histogram Analysis for Sentinel-1 Dataset \n",
    "\n",
    "Histrograms below show bimodal distributions where low backscatter is measured over water. How this can be used to map water is demonstrated in the [Radar Water Detection](../Real_world_examples/Radar_water_detection.ipynb) notebook."
   ]
  },
  {
   "cell_type": "code",
   "execution_count": null,
   "metadata": {},
   "outputs": [],
   "source": [
    "#plotting each polorisation bands following converting to dB values \n",
    "fig, ax = plt.subplots(1, 3, figsize=(10, 4))\n",
    "ds_S1.vh.where(ds_S1.mask==1).plot.hist(ax=ax[0], bins=np.arange(0, 0.1, 0.002), facecolor='red')\n",
    "ds_S1.vv.where(ds_S1.mask==1).plot.hist(ax=ax[1], bins=np.arange(0, 0.3, 0.006), facecolor='green')\n",
    "ds_S1.vhvv.plot.hist(ax=ax[2], bins=20, facecolor='blue')\n",
    "plt.tight_layout()"
   ]
  },
  {
   "cell_type": "markdown",
   "metadata": {},
   "source": [
    "***\n",
    "\n",
    "## Additional information\n",
    "\n",
    "**License:** The code in this notebook is licensed under the [Apache License, Version 2.0](https://www.apache.org/licenses/LICENSE-2.0). \n",
    "Digital Earth Africa data is licensed under the [Creative Commons by Attribution 4.0](https://creativecommons.org/licenses/by/4.0/) license.\n",
    "\n",
    "**Contact:** If you need assistance, please post a question on the [Open Data Cube Slack channel](http://slack.opendatacube.org/) or on the [GIS Stack Exchange](https://gis.stackexchange.com/questions/ask?tags=open-data-cube) using the `open-data-cube` tag (you can view previously asked questions [here](https://gis.stackexchange.com/questions/tagged/open-data-cube)).\n",
    "If you would like to report an issue with this notebook, you can file one on [Github](https://github.com/digitalearthafrica/deafrica-sandbox-notebooks).\n",
    "\n",
    "**Compatible datacube version:** "
   ]
  },
  {
   "cell_type": "code",
   "execution_count": null,
   "metadata": {},
   "outputs": [],
   "source": [
    "print(datacube.__version__)"
   ]
  },
  {
   "cell_type": "markdown",
   "metadata": {},
   "source": [
    "**Last Tested:**"
   ]
  },
  {
   "cell_type": "code",
   "execution_count": null,
   "metadata": {},
   "outputs": [],
   "source": [
    "from datetime import datetime\n",
    "datetime.today().strftime('%Y-%m-%d')"
   ]
  }
 ],
 "metadata": {
  "kernelspec": {
   "display_name": "Python 3",
   "language": "python",
   "name": "python3"
  },
  "language_info": {
   "codemirror_mode": {
    "name": "ipython",
    "version": 3
   },
   "file_extension": ".py",
   "mimetype": "text/x-python",
   "name": "python",
   "nbconvert_exporter": "python",
   "pygments_lexer": "ipython3",
   "version": "3.6.9"
  }
 },
 "nbformat": 4,
 "nbformat_minor": 4
}
