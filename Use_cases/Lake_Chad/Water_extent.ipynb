{
 "cells": [
  {
   "cell_type": "markdown",
   "metadata": {},
   "source": [
    "# Mapping the seasonal changes to the open water extent of Lake Chad\n",
    "\n",
    "* **Products used:** \n",
    "[ls7_sr](https://explorer.digitalearth.africa/products/ls7_sr), [ls8_sr](https://explorer.digitalearth.africa/products/ls8_sr)\n",
    "\n"
   ]
  },
  {
   "cell_type": "markdown",
   "metadata": {},
   "source": [
    "## Getting started\n",
    "To run this analysis, run all the cells in the notebook, starting with the \"Load packages\" cell. \n"
   ]
  },
  {
   "cell_type": "markdown",
   "metadata": {},
   "source": [
    "### Load packages\n",
    "Import Python packages that are used for the analysis."
   ]
  },
  {
   "cell_type": "code",
   "execution_count": null,
   "metadata": {},
   "outputs": [],
   "source": [
    "%matplotlib inline\n",
    "\n",
    "import datacube\n",
    "import matplotlib.pyplot as plt\n",
    "import numpy as np\n",
    "import sys\n",
    "import xarray as xr\n",
    "import geopandas as gpd\n",
    "\n",
    "from IPython.display import Image\n",
    "from matplotlib.colors import ListedColormap\n",
    "from matplotlib.patches import Patch\n",
    "from odc.ui import image_aspect\n",
    "from datacube.utils import geometry\n",
    "from datacube.utils.cog import write_cog\n",
    "\n",
    "from deafrica_tools.datahandling import load_ard\n",
    "from deafrica_tools.bandindices import calculate_indices\n",
    "from deafrica_tools.plotting import map_shapefile\n",
    "from deafrica_tools.dask import create_local_dask_cluster\n",
    "from deafrica_tools.spatial import xr_rasterize\n",
    "\n",
    "from datacube.utils.aws import configure_s3_access\n",
    "configure_s3_access(aws_unsigned=True, cloud_defaults=True)"
   ]
  },
  {
   "cell_type": "markdown",
   "metadata": {},
   "source": [
    "## Set up a Dask cluster\n",
    "\n",
    "Dask can be used to better manage memory use and conduct the analysis in parallel. \n",
    "For an introduction to using Dask with Digital Earth Africa, see the [Dask notebook](../Beginners_guide/06_Parallel_processing_with_dask.ipynb).\n",
    "\n",
    ">**Note**: We recommend opening the Dask processing window to view the different computations that are being executed; to do this, see the *Dask dashboard in DE Africa* section of the [Dask notebook](../Beginners_guide/06_Parallel_processing_with_dask.ipynb).\n",
    "\n",
    "To activate Dask, set up the local computing cluster using the cell below."
   ]
  },
  {
   "cell_type": "code",
   "execution_count": null,
   "metadata": {},
   "outputs": [],
   "source": [
    "create_local_dask_cluster()"
   ]
  },
  {
   "cell_type": "markdown",
   "metadata": {},
   "source": [
    "## Analysis parameters\n",
    "\n",
    "The following cell sets the parameters, which define the area of interest and the length of time to conduct the analysis over.\n",
    "\n",
    "The parameters are:\n",
    "* `vector_file`: The path to the shapefile or geojson that will define the analysis area of the study\n",
    "* `products`: The products to load from the datacube, e.g. `'s2_l2a``, or `'ls8_sr'`\n",
    "* `time_range`: The date range to analyse (e.g. `('2017', '2019')`.\n",
    "* `measurements`: The spectral bands to load from the satellite product. `MNDWI` requires the `'green'` and `'swir_1'` bands\n",
    "* `resolution`: The pixel resolution of the satellite data. `(-30,30)` for Landsat or `(-10,10)` for Sentinel-2\n",
    "* `dask_chunks`: Chunk sizes to use for dask, the default values below are optimized for the full Okavango delta\n",
    "\n",
    "**If running the notebook for the first time**, keep the default settings below.\n",
    "This will demonstrate how the analysis works and provide meaningful results.\n",
    "The default area is the Ruko Conservancy. \n"
   ]
  },
  {
   "cell_type": "code",
   "execution_count": null,
   "metadata": {},
   "outputs": [],
   "source": [
    "vector_file = 'data/lake_chad_extent.geojson'\n",
    "\n",
    "products = ['ls7_sr','ls8_sr']\n",
    "\n",
    "wetness_index = 'MNDWI'\n",
    "\n",
    "time_range = ('2013-12', '2021-05')\n",
    "\n",
    "measurements = ['green','swir_1']\n",
    "\n",
    "resolution = (-30,30)\n",
    "\n",
    "dask_chunks = {'time':1,'x':1500,'y':1500}\n"
   ]
  },
  {
   "cell_type": "markdown",
   "metadata": {},
   "source": [
    "## View the Area of Interest on an interative map\n",
    "The next cell will  first open the vector file and then display the selected area on an interactive map.\n",
    "Zoom in and out to get a better understanding of the area of interest."
   ]
  },
  {
   "cell_type": "code",
   "execution_count": null,
   "metadata": {},
   "outputs": [],
   "source": [
    "#read shapefile\n",
    "gdf = gpd.read_file(vector_file)\n",
    "\n",
    "map_shapefile(gdf, attribute='GRID_CODE')"
   ]
  },
  {
   "cell_type": "markdown",
   "metadata": {},
   "source": [
    "### Connect to the datacube\n",
    "\n",
    "Activate the datacube database, which provides functionality for loading and displaying stored Earth observation data."
   ]
  },
  {
   "cell_type": "code",
   "execution_count": null,
   "metadata": {},
   "outputs": [],
   "source": [
    "dc = datacube.Datacube(app='water_extent')"
   ]
  },
  {
   "cell_type": "markdown",
   "metadata": {},
   "source": [
    "## Load cloud-masked Satellite data"
   ]
  },
  {
   "cell_type": "markdown",
   "metadata": {},
   "source": [
    "The first step is to load satellite data for the specified area of interest and time range. "
   ]
  },
  {
   "cell_type": "code",
   "execution_count": null,
   "metadata": {},
   "outputs": [],
   "source": [
    "bbox=list(gdf.total_bounds)\n",
    "lon_range = (bbox[0], bbox[2])\n",
    "lat_range = (bbox[1], bbox[3])\n",
    "\n",
    "#create the dc query\n",
    "water_query = {\n",
    "    'x': lon_range,\n",
    "    'y': lat_range,\n",
    "    'time': time_range,\n",
    "    'measurements': measurements,\n",
    "    'resolution': resolution,\n",
    "    'output_crs': 'EPSG:6933',\n",
    "    'dask_chunks': dask_chunks,\n",
    "    'group_by':'solar_day'\n",
    "              }"
   ]
  },
  {
   "cell_type": "markdown",
   "metadata": {},
   "source": [
    "Now load the satellite data"
   ]
  },
  {
   "cell_type": "code",
   "execution_count": null,
   "metadata": {},
   "outputs": [],
   "source": [
    "ds = load_ard(dc=dc,\n",
    "              products=products,\n",
    "              **water_query\n",
    "                   )\n",
    "print(ds)"
   ]
  },
  {
   "cell_type": "markdown",
   "metadata": {},
   "source": [
    "## Mask the satellite data with vector file"
   ]
  },
  {
   "cell_type": "code",
   "execution_count": null,
   "metadata": {},
   "outputs": [],
   "source": [
    "#create mask\n",
    "mask = xr_rasterize(gdf,ds)\n",
    "\n",
    "#mask data\n",
    "ds = ds.where(mask)"
   ]
  },
  {
   "cell_type": "markdown",
   "metadata": {},
   "source": [
    "## Calculate the wetness index"
   ]
  },
  {
   "cell_type": "code",
   "execution_count": null,
   "metadata": {},
   "outputs": [],
   "source": [
    "# Calculate the chosen vegetation proxy index and add it to the loaded data set\n",
    "ds = calculate_indices(ds=ds, index=[wetness_index], drop=True, collection='c2')\n",
    "\n",
    "#convert to float 32 to conserve memory\n",
    "ds=ds.astype(np.float32)"
   ]
  },
  {
   "cell_type": "markdown",
   "metadata": {},
   "source": [
    "## Resample time series\n",
    "\n",
    "Due to many factors (e.g. cloud obscuring the region, missed cloud cover in the SCL layer) the data will be gappy and noisy. Here, we will resample the data to ensure we working with a consistent time-series.\n",
    "\n",
    "To do this we resample the data to seasonal time-steps using medians\n",
    "\n",
    "These calculations will take **nearly an hour** to complete as we will run `.compute()`, triggering all the tasks we scheduled above and bringing the arrays into memory."
   ]
  },
  {
   "cell_type": "code",
   "execution_count": null,
   "metadata": {},
   "outputs": [],
   "source": [
    "%%time\n",
    "sample_frequency=\"QS-DEC\"  # quarterly starting in DEC, i.e. seasonal\n",
    "\n",
    "#resample MNDWI using medians\n",
    "print('calculating '+wetness_index+' seasonal medians...')\n",
    "ds = ds.resample(time=sample_frequency, loffset='1M').median().compute()\n"
   ]
  },
  {
   "cell_type": "markdown",
   "metadata": {},
   "source": [
    "### Facet plot the water extent for every season"
   ]
  },
  {
   "cell_type": "code",
   "execution_count": null,
   "metadata": {},
   "outputs": [],
   "source": [
    "ds[wetness_index].plot.imshow(col='time', col_wrap=4, cmap='Blues', vmax=0.3, vmin=-0.5);"
   ]
  },
  {
   "cell_type": "markdown",
   "metadata": {},
   "source": [
    "## Calculate the water extent per time-step\n",
    "\n",
    "The number of pixels can be used for the area of the waterbody if the pixel area is known. \n",
    "Run the following cell to generate the necessary constants for performing this conversion."
   ]
  },
  {
   "cell_type": "code",
   "execution_count": null,
   "metadata": {},
   "outputs": [],
   "source": [
    "pixel_length = water_query[\"resolution\"][1]  # in metres\n",
    "m_per_km = 1000  # conversion from metres to kilometres\n",
    "area_per_pixel = pixel_length**2 / m_per_km**2"
   ]
  },
  {
   "cell_type": "markdown",
   "metadata": {},
   "source": [
    "## Calculating the extent of open water\n",
    "Calculates the area of pixels classified as water (if MNDWI is > 0, the water)"
   ]
  },
  {
   "cell_type": "code",
   "execution_count": null,
   "metadata": {},
   "outputs": [],
   "source": [
    "water = ds[wetness_index].where(ds[wetness_index] > 0, np.nan)\n",
    "\n",
    "area_ds = water.where(np.isnan(water), 1)\n",
    "\n",
    "ds_valid_water_area = area_ds.sum(dim=['x', 'y']) * area_per_pixel"
   ]
  },
  {
   "cell_type": "markdown",
   "metadata": {},
   "source": [
    "### Export time-series as csv"
   ]
  },
  {
   "cell_type": "code",
   "execution_count": null,
   "metadata": {},
   "outputs": [],
   "source": [
    "ds_valid_water_area.to_dataframe().drop('spatial_ref',axis=1).rename({'MNDWI':'Area of waterbodies (km2)'},axis=1).to_csv(f'results/water_extent_{time_range[0]}_to_{time_range[1]}.csv')"
   ]
  },
  {
   "cell_type": "markdown",
   "metadata": {},
   "source": [
    "### Plot a time series of open water area"
   ]
  },
  {
   "cell_type": "code",
   "execution_count": null,
   "metadata": {},
   "outputs": [],
   "source": [
    "plt.figure(figsize=(18, 4))\n",
    "ds_valid_water_area.plot(marker='o', color='#9467bd')\n",
    "plt.title(f'Observed Area of Water from {time_range[0]} to {time_range[1]}')\n",
    "plt.xlabel('Dates')\n",
    "plt.ylabel('Waterbody area (km$^2$)')\n",
    "plt.tight_layout()\n",
    "plt.savefig(f'results/water_extent_{time_range[0]}_to_{time_range[1]}.png')"
   ]
  },
  {
   "cell_type": "markdown",
   "metadata": {},
   "source": [
    "## Compare water extent between two periods\n",
    "\n",
    "* `baseline_time` : The baseline year for the analysis\n",
    "* `analysis_time` : The year to compare to the baseline year\n"
   ]
  },
  {
   "cell_type": "code",
   "execution_count": null,
   "metadata": {},
   "outputs": [],
   "source": [
    "baseline_time = '2018-06-30'\n",
    "analysis_time = '2019-06-30'"
   ]
  },
  {
   "cell_type": "code",
   "execution_count": null,
   "metadata": {},
   "outputs": [],
   "source": [
    "baseline_ds, analysis_ds = ds_valid_water_area.sel(time=baseline_time, method ='nearest'),ds_valid_water_area.sel(time=analysis_time, method ='nearest')\n",
    "\n",
    "time_xr = xr.DataArray([baseline_ds.time.values, analysis_ds.time.values], dims=[\"time\"])\n",
    "print(time_xr.values)"
   ]
  },
  {
   "cell_type": "markdown",
   "metadata": {},
   "source": [
    "## Plotting\n",
    "Plot water extent of the MNDWI product for the two chosen periods."
   ]
  },
  {
   "cell_type": "code",
   "execution_count": null,
   "metadata": {},
   "outputs": [],
   "source": [
    "area_ds.sel(time=time_xr).plot(col=\"time\", col_wrap=2, robust=True, figsize=(12, 9), cmap='viridis', add_colorbar=False);"
   ]
  },
  {
   "cell_type": "markdown",
   "metadata": {},
   "source": [
    "### Save the water extents as geotiffs \n",
    "\n",
    "Both the 'analysis time' and the 'baseline time' water extents will be saved as cloud-opimtised geotiffs in the `results/` folder"
   ]
  },
  {
   "cell_type": "code",
   "execution_count": null,
   "metadata": {},
   "outputs": [],
   "source": [
    "write_cog(area_ds.sel(time=baseline_time),\n",
    "          fname='results/water_extent_'+baseline_time+'.tif',\n",
    "          overwrite=True)\n",
    "\n",
    "write_cog(area_ds.sel(time=analysis_time),\n",
    "          fname='results/water_extent_'+analysis_time+'.tif',\n",
    "          overwrite=True)"
   ]
  },
  {
   "cell_type": "markdown",
   "metadata": {},
   "source": [
    "### Calculate the change between the two nominated periods\n",
    "\n",
    "The cells below calculate the amount of water gain, loss and stable for the two periods"
   ]
  },
  {
   "cell_type": "code",
   "execution_count": null,
   "metadata": {},
   "outputs": [],
   "source": [
    "# The two period Extract the two periods(Baseline and analysis) dataset from\n",
    "ds_selected = area_ds.where(area_ds == 1, 0).sel(time=time_xr)\n",
    "\n",
    "analyse_total_value = ds_selected[1]\n",
    "change = analyse_total_value - ds_selected[0]\n",
    "\n",
    "water_appeared = change.where(change == 1)\n",
    "permanent_water = change.where((change == 0) & (analyse_total_value == 1))\n",
    "permanent_land = change.where((change == 0) & (analyse_total_value == 0))\n",
    "water_disappeared = change.where(change == -1)"
   ]
  },
  {
   "cell_type": "markdown",
   "metadata": {},
   "source": [
    "The cell below calculate the area of water extent for water_loss, water_gain, permanent water and land "
   ]
  },
  {
   "cell_type": "code",
   "execution_count": null,
   "metadata": {},
   "outputs": [],
   "source": [
    "total_area = analyse_total_value.count().values * area_per_pixel\n",
    "water_apperaed_area = water_appeared.count().values * area_per_pixel\n",
    "permanent_water_area = permanent_water.count().values * area_per_pixel\n",
    "water_disappeared_area = water_disappeared.count().values * area_per_pixel"
   ]
  },
  {
   "cell_type": "markdown",
   "metadata": {},
   "source": [
    "## Plot the changes\n",
    "The water variables are plotted to visualised the result"
   ]
  },
  {
   "cell_type": "code",
   "execution_count": null,
   "metadata": {},
   "outputs": [],
   "source": [
    "water_appeared_color = \"Green\"\n",
    "water_disappeared_color = \"Yellow\"\n",
    "stable_color = \"Blue\"\n",
    "land_color = \"Brown\"\n",
    "\n",
    "fig, ax = plt.subplots(1, 1, figsize=(15, 15))\n",
    "\n",
    "ds_selected[1].where(mask).plot.imshow(cmap=\"Pastel1\",\n",
    "                                       add_colorbar=False,\n",
    "                                       add_labels=False,\n",
    "                                       ax=ax)\n",
    "water_appeared.plot.imshow(\n",
    "    cmap=ListedColormap([water_appeared_color]),\n",
    "    add_colorbar=False,\n",
    "    add_labels=False,\n",
    "    ax=ax,\n",
    ")\n",
    "water_disappeared.plot.imshow(\n",
    "    cmap=ListedColormap([water_disappeared_color]),\n",
    "    add_colorbar=False,\n",
    "    add_labels=False,\n",
    "    ax=ax,\n",
    ")\n",
    "permanent_water.plot.imshow(cmap=ListedColormap([stable_color]),\n",
    "                            add_colorbar=False,\n",
    "                            add_labels=False,\n",
    "                            ax=ax)\n",
    "\n",
    "plt.legend(\n",
    "    [\n",
    "        Patch(facecolor=stable_color),\n",
    "        Patch(facecolor=water_disappeared_color),\n",
    "        Patch(facecolor=water_appeared_color),\n",
    "        Patch(facecolor=land_color),\n",
    "    ],\n",
    "    [\n",
    "        f\"Water to Water {round(permanent_water_area, 2)} km2\",\n",
    "        f\"Water to No Water {round(water_disappeared_area, 2)} km2\",\n",
    "        f\"No Water to Water: {round(water_apperaed_area, 2)} km2\",\n",
    "    ],\n",
    "    loc=\"lower left\",\n",
    ")\n",
    "\n",
    "plt.title(\"Change in water extent: \" + baseline_time + \" to \" + analysis_time);"
   ]
  },
  {
   "cell_type": "markdown",
   "metadata": {},
   "source": [
    "***\n",
    "\n",
    "## Additional information\n",
    "\n",
    "**License:** The code in this notebook is licensed under the [Apache License, Version 2.0](https://www.apache.org/licenses/LICENSE-2.0). \n",
    "Digital Earth Africa data is licensed under the [Creative Commons by Attribution 4.0](https://creativecommons.org/licenses/by/4.0/) license.\n",
    "\n",
    "**Contact:** If you need assistance, please post a question on the [Open Data Cube Slack channel](http://slack.opendatacube.org/) or on the [GIS Stack Exchange](https://gis.stackexchange.com/questions/ask?tags=open-data-cube) using the `open-data-cube` tag (you can view previously asked questions [here](https://gis.stackexchange.com/questions/tagged/open-data-cube)).\n",
    "If you would like to report an issue with this notebook, you can file one on [Github](https://github.com/digitalearthafrica/deafrica-sandbox-notebooks).\n",
    "\n",
    "**Compatible datacube version:** "
   ]
  },
  {
   "cell_type": "code",
   "execution_count": null,
   "metadata": {},
   "outputs": [],
   "source": [
    "print(datacube.__version__)"
   ]
  },
  {
   "cell_type": "markdown",
   "metadata": {},
   "source": [
    "**Last Tested:**"
   ]
  },
  {
   "cell_type": "code",
   "execution_count": null,
   "metadata": {},
   "outputs": [],
   "source": [
    "from datetime import datetime\n",
    "datetime.today().strftime('%Y-%m-%d')"
   ]
  }
 ],
 "metadata": {
  "kernelspec": {
   "display_name": "Python 3",
   "language": "python",
   "name": "python3"
  },
  "language_info": {
   "codemirror_mode": {
    "name": "ipython",
    "version": 3
   },
   "file_extension": ".py",
   "mimetype": "text/x-python",
   "name": "python",
   "nbconvert_exporter": "python",
   "pygments_lexer": "ipython3",
   "version": "3.8.10"
  },
  "widgets": {
   "application/vnd.jupyter.widget-state+json": {
    "state": {},
    "version_major": 2,
    "version_minor": 0
   }
  }
 },
 "nbformat": 4,
 "nbformat_minor": 4
}
