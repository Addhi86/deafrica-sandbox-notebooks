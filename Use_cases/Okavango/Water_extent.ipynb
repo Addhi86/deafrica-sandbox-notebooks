{
 "cells": [
  {
   "cell_type": "markdown",
   "metadata": {},
   "source": [
    "# Mapping changing water extents through time\n",
    "\n",
    "* **Products used:** \n",
    "[s2_l2a](https://explorer.digitalearth.africa/products/s2_l2a)\n",
    "\n"
   ]
  },
  {
   "cell_type": "markdown",
   "metadata": {},
   "source": [
    "## Background\n",
    "The United Nations have prescribed 17 \"Sustainable Development Goals\" (SDGs). This notebook attempts to monitor SDG Indicator 6.6.1 - change in the extent of water-related ecosystems. Indicator 6.6.1 has 4 sub-indicators:\n",
    "\n",
    ">    i. The spatial extent of water-related ecosystems <br>\n",
    ">    ii. The quantity of water contained within these ecosystems <br>\n",
    ">    iii. The quality of water within these ecosystems <br>\n",
    ">    iv. The health or state of these ecosystems <br>\n",
    "\n",
    "This notebook primarily focuses on the first sub-indicator - spatial extents.\n",
    "\n",
    "Water extent is estimated using Sentinel-2 satellite images and the Modified Normalised Difference Water Index (MNDWI).\n"
   ]
  },
  {
   "cell_type": "markdown",
   "metadata": {},
   "source": [
    "## Description\n",
    "The notebook loads Setinel-2 data for a given shapefile (the Ruko Conservancy in the default example) and calculates the changing water extent of Lake Baringo and surrounds.  \n",
    "\n",
    "The following steps are taken:\n",
    "\n",
    "1. Load and view the analyis region as defined by the input vector file\n",
    "2. Load cloud-masked Sentinel-2 satellite images\n",
    "3. Buffer the S2 cloud mask to improve its quality\n",
    "3. Mask the satellite data with the vector file\n",
    "4. Calculate the MNDWI\n",
    "5. Resample the time-series to seasonal medians to reduce noise and gaps in the data\n",
    "6. Calculate and plot the water extent (in square kilometres) per time-step, \n",
    "7. Determine the time when the maximum and minimum water extents occurred\n",
    "8. Generate an animation of the seasonal MNDWI plots\n",
    "9. Compare the ewater extent between two nominated time-periods and plot a map of the changes. \n",
    "\n",
    "***"
   ]
  },
  {
   "cell_type": "markdown",
   "metadata": {},
   "source": [
    "## Getting started\n",
    "To run this analysis, run all the cells in the notebook, starting with the \"Load packages\" cell. "
   ]
  },
  {
   "cell_type": "markdown",
   "metadata": {},
   "source": [
    "### Load packages\n",
    "Import Python packages that are used for the analysis."
   ]
  },
  {
   "cell_type": "code",
   "execution_count": 1,
   "metadata": {},
   "outputs": [
    {
     "name": "stderr",
     "output_type": "stream",
     "text": [
      "/env/lib/python3.6/site-packages/geopandas/_compat.py:88: UserWarning: The Shapely GEOS version (3.7.2-CAPI-1.11.0 ) is incompatible with the GEOS version PyGEOS was compiled with (3.9.1-CAPI-1.14.2). Conversions between both will be slow.\n",
      "  shapely_geos_version, geos_capi_version_string\n"
     ]
    }
   ],
   "source": [
    "%matplotlib inline\n",
    "\n",
    "import datacube\n",
    "import matplotlib.pyplot as plt\n",
    "import numpy as np\n",
    "import sys\n",
    "import xarray as xr\n",
    "import geopandas as gpd\n",
    "\n",
    "from IPython.display import Image\n",
    "from matplotlib.colors import ListedColormap\n",
    "from matplotlib.patches import Patch\n",
    "from odc.ui import image_aspect\n",
    "from datacube.utils import geometry\n",
    "\n",
    "sys.path.append('../../Scripts')\n",
    "from deafrica_datahandling import load_ard\n",
    "from deafrica_bandindices import calculate_indices\n",
    "from deafrica_plotting import xr_animation, display_map\n",
    "from deafrica_dask import create_local_dask_cluster\n",
    "from deafrica_spatialtools import xr_rasterize\n",
    "\n",
    "from datacube.utils.aws import configure_s3_access\n",
    "configure_s3_access(aws_unsigned=True, cloud_defaults=True)"
   ]
  },
  {
   "cell_type": "markdown",
   "metadata": {},
   "source": [
    "## Set up a Dask cluster\n",
    "\n",
    "Dask can be used to better manage memory use and conduct the analysis in parallel. \n",
    "For an introduction to using Dask with Digital Earth Africa, see the [Dask notebook](../Beginners_guide/06_Parallel_processing_with_dask.ipynb).\n",
    "\n",
    ">**Note**: We recommend opening the Dask processing window to view the different computations that are being executed; to do this, see the *Dask dashboard in DE Africa* section of the [Dask notebook](../Beginners_guide/06_Parallel_processing_with_dask.ipynb).\n",
    "\n",
    "To activate Dask, set up the local computing cluster using the cell below."
   ]
  },
  {
   "cell_type": "code",
   "execution_count": 2,
   "metadata": {},
   "outputs": [
    {
     "data": {
      "text/html": [
       "<table style=\"border: 2px solid white;\">\n",
       "<tr>\n",
       "<td style=\"vertical-align: top; border: 0px solid white\">\n",
       "<h3 style=\"text-align: left;\">Client</h3>\n",
       "<ul style=\"text-align: left; list-style: none; margin: 0; padding: 0;\">\n",
       "  <li><b>Scheduler: </b>tcp://127.0.0.1:39939</li>\n",
       "  <li><b>Dashboard: </b><a href='/user/chad/proxy/8787/status' target='_blank'>/user/chad/proxy/8787/status</a></li>\n",
       "</ul>\n",
       "</td>\n",
       "<td style=\"vertical-align: top; border: 0px solid white\">\n",
       "<h3 style=\"text-align: left;\">Cluster</h3>\n",
       "<ul style=\"text-align: left; list-style:none; margin: 0; padding: 0;\">\n",
       "  <li><b>Workers: </b>1</li>\n",
       "  <li><b>Cores: </b>15</li>\n",
       "  <li><b>Memory: </b>104.37 GB</li>\n",
       "</ul>\n",
       "</td>\n",
       "</tr>\n",
       "</table>"
      ],
      "text/plain": [
       "<Client: 'tcp://127.0.0.1:39939' processes=1 threads=15, memory=104.37 GB>"
      ]
     },
     "metadata": {},
     "output_type": "display_data"
    }
   ],
   "source": [
    "create_local_dask_cluster()"
   ]
  },
  {
   "cell_type": "markdown",
   "metadata": {},
   "source": [
    "### Analysis parameters\n",
    "\n",
    "The following cell sets the parameters, which define the area of interest and the length of time to conduct the analysis over.\n",
    "\n",
    "The parameters are:\n",
    "* `lat`: The central latitude to analyse (e.g. 10.338).\n",
    "* `lon` : The central longitude to analyse (e.g. -1.055).\n",
    "* `lat_buffer` : The number of degrees to load around the central latitude.\n",
    "* `lon_buffer` : The number of degrees to load around the central longitude.\n",
    "* `products`: The products to load from the datacube, e.g. `'s2_l2a``\n",
    "* `time_range`: The date range to analyse (e.g. `('2017', '2019')`.\n",
    "* `min_gooddata`: This value sets the minimum amount of good data a scene must have before it will be loaded into memory e.g. `0.75` means only images with 75% good data will be retained.\n",
    "* `measurements`: The spectral bands to load from the satellite product. MNDWI requires the green and swir1 bands, and cloud buffer requires the SCL band\n",
    "* `resolution`: The pixel resolution of the satellite data.\n",
    "* `dask_chunks`: Chunk sizes to use for dask, the default values below are optimized for the Ruko Conservancy at 20m resolution.\n",
    "\n",
    "**If running the notebook for the first time**, keep the default settings below.\n",
    "This will demonstrate how the analysis works and provide meaningful results.\n",
    "The default area is the Ruko Conservancy. \n"
   ]
  },
  {
   "cell_type": "code",
   "execution_count": 3,
   "metadata": {},
   "outputs": [],
   "source": [
    "# Define the area of interest\n",
    "lat = -19.\n",
    "lon = 22.5\n",
    "\n",
    "lat_buffer = 0.5\n",
    "lon_buffer = 0.5\n",
    "\n",
    "products = ['s2_l2a']\n",
    "\n",
    "wetness_index = 'MNDWI'\n",
    "\n",
    "time_range = ('2017-03', '2020-02')\n",
    "\n",
    "min_gooddata = 0.10\n",
    "\n",
    "measurements = ['green','red','blue','nir','swir_1','swir_2','SCL']\n",
    "\n",
    "resolution = (-20,20)\n",
    "\n",
    "dask_chunks = {'time':1,'x':1250,'y':1250}\n"
   ]
  },
  {
   "cell_type": "markdown",
   "metadata": {},
   "source": [
    "### Connect to the datacube\n",
    "\n",
    "Activate the datacube database, which provides functionality for loading and displaying stored Earth observation data."
   ]
  },
  {
   "cell_type": "code",
   "execution_count": 4,
   "metadata": {},
   "outputs": [
    {
     "name": "stderr",
     "output_type": "stream",
     "text": [
      "/env/lib/python3.6/site-packages/datacube/drivers/postgres/_connections.py:87: SADeprecationWarning: Calling URL() directly is deprecated and will be disabled in a future release.  The public constructor for URL is now the URL.create() method.\n",
      "  username=username, password=password,\n"
     ]
    }
   ],
   "source": [
    "dc = datacube.Datacube(app='water_extent_shape')"
   ]
  },
  {
   "cell_type": "markdown",
   "metadata": {},
   "source": [
    "### Combine central lat,lon with buffer to get area of interest\n"
   ]
  },
  {
   "cell_type": "code",
   "execution_count": 5,
   "metadata": {},
   "outputs": [],
   "source": [
    "lat_range = (lat - lat_buffer, lat + lat_buffer)\n",
    "lon_range = (lon - lon_buffer, lon + lon_buffer)"
   ]
  },
  {
   "cell_type": "code",
   "execution_count": 6,
   "metadata": {},
   "outputs": [
    {
     "data": {
      "text/html": [
       "<div style=\"width:100%;\"><div style=\"position:relative;width:100%;height:0;padding-bottom:60%;\"><iframe src=\"data:text/html;charset=utf-8;base64,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\" style=\"position:absolute;width:100%;height:100%;left:0;top:0;border:none !important;\" allowfullscreen webkitallowfullscreen mozallowfullscreen></iframe></div></div>"
      ],
      "text/plain": [
       "<folium.folium.Map at 0x7f8fec82db38>"
      ]
     },
     "execution_count": 6,
     "metadata": {},
     "output_type": "execute_result"
    }
   ],
   "source": [
    "display_map(lon_range, lat_range)"
   ]
  },
  {
   "cell_type": "markdown",
   "metadata": {},
   "source": [
    "## Load cloud-masked Sentinel-2 data"
   ]
  },
  {
   "cell_type": "markdown",
   "metadata": {},
   "source": [
    "The first step is to load Sentinel-2 data for the specified area of interest and time range. \n",
    "The `load_ard` function is used here to load data that has been masked for cloud, shadow and quality filters, making it ready for analysis.\n",
    "\n",
    "The cell directly below will create a query object using the first geometry in the shapefile, along with the parameters we defined in the Analysis Parameters section above."
   ]
  },
  {
   "cell_type": "code",
   "execution_count": 7,
   "metadata": {},
   "outputs": [],
   "source": [
    "water_query = {\n",
    "    'x': lon_range,\n",
    "    'y': lat_range,\n",
    "    'time': time_range,\n",
    "    'measurements': measurements,\n",
    "    'resolution': resolution,\n",
    "    'output_crs': 'EPSG:6933',\n",
    "    'dask_chunks': dask_chunks,\n",
    "    'group_by':'solar_day'\n",
    "              }"
   ]
  },
  {
   "cell_type": "markdown",
   "metadata": {},
   "source": [
    "Now load the satellite data"
   ]
  },
  {
   "cell_type": "code",
   "execution_count": 8,
   "metadata": {},
   "outputs": [
    {
     "name": "stderr",
     "output_type": "stream",
     "text": [
      "/home/jovyan/git/deafrica-sandbox-notebooks/Use_cases/Okavango/../../Tools/deafrica_tools/datahandling.py:261: UserWarning: Setting 'min_gooddata' percentage to > 0.0 will cause dask arrays to compute when loading pixel-quality data to calculate 'good pixel' percentage. This can slow the return of your dataset.\n",
      "  \"Setting 'min_gooddata' percentage to > 0.0 \"\n"
     ]
    },
    {
     "name": "stdout",
     "output_type": "stream",
     "text": [
      "Using pixel quality parameters for Sentinel 2\n",
      "Finding datasets\n",
      "    s2_l2a\n",
      "Counting good quality pixels for each time step\n",
      "Filtering to 191 out of 409 time steps with at least 10.0% good quality pixels\n",
      "Applying pixel quality/cloud mask\n",
      "Returning 191 time steps as a dask array\n",
      "<xarray.Dataset>\n",
      "Dimensions:      (time: 191, x: 4826, y: 6041)\n",
      "Coordinates:\n",
      "  * time         (time) datetime64[ns] 2017-03-02T08:41:08 ... 2020-02-20T08:...\n",
      "  * y            (y) float64 -2.32e+06 -2.32e+06 ... -2.441e+06 -2.441e+06\n",
      "  * x            (x) float64 2.123e+06 2.123e+06 ... 2.219e+06 2.219e+06\n",
      "    spatial_ref  int32 6933\n",
      "Data variables:\n",
      "    green        (time, y, x) float32 dask.array<chunksize=(1, 1250, 1250), meta=np.ndarray>\n",
      "    red          (time, y, x) float32 dask.array<chunksize=(1, 1250, 1250), meta=np.ndarray>\n",
      "    blue         (time, y, x) float32 dask.array<chunksize=(1, 1250, 1250), meta=np.ndarray>\n",
      "    nir          (time, y, x) float32 dask.array<chunksize=(1, 1250, 1250), meta=np.ndarray>\n",
      "    swir_1       (time, y, x) float32 dask.array<chunksize=(1, 1250, 1250), meta=np.ndarray>\n",
      "    swir_2       (time, y, x) float32 dask.array<chunksize=(1, 1250, 1250), meta=np.ndarray>\n",
      "    SCL          (time, y, x) uint8 dask.array<chunksize=(1, 1250, 1250), meta=np.ndarray>\n",
      "Attributes:\n",
      "    crs:           EPSG:6933\n",
      "    grid_mapping:  spatial_ref\n"
     ]
    }
   ],
   "source": [
    "ds = load_ard(dc=dc,\n",
    "              products=products,\n",
    "              min_gooddata=min_gooddata,\n",
    "              **water_query\n",
    "                   )\n",
    "print(ds)"
   ]
  },
  {
   "cell_type": "markdown",
   "metadata": {},
   "source": [
    "## Cloud Buffering\n",
    "\n",
    "The cloud masking data for Sentinel-2 is less than perfect, and missed cloud in the data greatly impacts vegetation  calculations. Below we will buffer the cloud-masking bands in an attempt to improve the masking of poor quality data."
   ]
  },
  {
   "cell_type": "code",
   "execution_count": 9,
   "metadata": {},
   "outputs": [],
   "source": [
    "import odc.algo\n",
    "\n",
    "#Extract boolean mask\n",
    "mask = odc.algo.enum_to_bool(ds.SCL, \n",
    "                             categories=['cloud shadows', 'cloud medium probability',\n",
    "                                         'cloud high probability', 'thin cirrus'])\n",
    "                             \n",
    "# Close mask to remove small holes in cloud, open mask to \n",
    "# remove narrow false positive cloud, then dilate\n",
    "mask = odc.algo.binary_closing(mask, 2)\n",
    "mask_cleaned = odc.algo.mask_cleanup(mask, r=(2, 10))\n",
    "\n",
    "# Add new mask as nodata pixels\n",
    "ds = odc.algo.erase_bad(ds, mask_cleaned)\n",
    "\n",
    "#remove SCL since we don't need it anymore\n",
    "ds = ds.drop('SCL')"
   ]
  },
  {
   "cell_type": "markdown",
   "metadata": {},
   "source": [
    "## Calculate the wetness index"
   ]
  },
  {
   "cell_type": "code",
   "execution_count": 10,
   "metadata": {},
   "outputs": [],
   "source": [
    "# Calculate the chosen vegetation proxy index and add it to the loaded data set\n",
    "ds = calculate_indices(ds=ds, index=[wetness_index], collection='s2')\n",
    "\n",
    "# drop green and swir since we don't need it\n",
    "ds = ds.drop(['green','red','blue','nir','swir_1','swir_2'])"
   ]
  },
  {
   "cell_type": "markdown",
   "metadata": {},
   "source": [
    "## Resample time series\n",
    "\n",
    "Due to many factors (e.g. cloud obscuring the region, missed cloud cover in the SCL layer) the data will be gappy and noisy. Here, we will resample the data to ensure we working with a consistent time-series.\n",
    "\n",
    "To do this we resample the data to seasonal time-steps using medians\n",
    "\n",
    "These calculations will take several minutes to complete as we will run `.compute()`, triggering all the tasks we scheduled above and bringing the arrays into memory."
   ]
  },
  {
   "cell_type": "code",
   "execution_count": 11,
   "metadata": {},
   "outputs": [
    {
     "name": "stdout",
     "output_type": "stream",
     "text": [
      "calculating MNDWI medians\n",
      "CPU times: user 4min 36s, sys: 15.7 s, total: 4min 52s\n",
      "Wall time: 13min 43s\n"
     ]
    }
   ],
   "source": [
    "%%time\n",
    "sample_frequency=\"QS-DEC\"  # quatrley starting in DEC, i.e. seasonal\n",
    "\n",
    "#resample MNDWI using medians\n",
    "print('calculating '+wetness_index+' seasonal medians')\n",
    "ds = ds.resample(time=sample_frequency).median().compute()\n"
   ]
  },
  {
   "cell_type": "markdown",
   "metadata": {},
   "source": [
    "### Facet plot the wetness index time-steps"
   ]
  },
  {
   "cell_type": "code",
   "execution_count": 14,
   "metadata": {},
   "outputs": [],
   "source": [
    "# ds[wetness_index].plot(col='time', col_wrap=4, cmap='RdBu', vmax=0.75, vmin=-0.75);"
   ]
  },
  {
   "cell_type": "markdown",
   "metadata": {},
   "source": [
    "## Calculate the water extent per time-step\n",
    "\n",
    "The number of pixels can be used for the area of the waterbody if the pixel area is known. \n",
    "Run the following cell to generate the necessary constants for performing this conversion."
   ]
  },
  {
   "cell_type": "code",
   "execution_count": 16,
   "metadata": {},
   "outputs": [],
   "source": [
    "pixel_length = water_query[\"resolution\"][1]  # in metres\n",
    "m_per_km = 1000  # conversion from metres to kilometres\n",
    "area_per_pixel = pixel_length**2 / m_per_km**2"
   ]
  },
  {
   "cell_type": "markdown",
   "metadata": {},
   "source": [
    "## Calculating the extent of open water\n",
    "Calculates the area of pixels classified as water (if MNDWI is > 0, the water)"
   ]
  },
  {
   "cell_type": "code",
   "execution_count": 17,
   "metadata": {},
   "outputs": [],
   "source": [
    "water = ds[wetness_index].where(ds[wetness_index] > 0, np.nan)\n",
    "\n",
    "area_ds = water.where(np.isnan(water),1)\n",
    "\n",
    "ds_valid_water_area = area_ds.sum(dim=['x', 'y']) * area_per_pixel"
   ]
  },
  {
   "cell_type": "markdown",
   "metadata": {},
   "source": [
    "### Plot monthly time series of water area"
   ]
  },
  {
   "cell_type": "code",
   "execution_count": 18,
   "metadata": {},
   "outputs": [
    {
     "data": {
      "image/png": "[encoded data removed]",
      "text/plain": [
       "<Figure size 1296x288 with 1 Axes>"
      ]
     },
     "metadata": {
      "needs_background": "light"
     },
     "output_type": "display_data"
    }
   ],
   "source": [
    "plt.figure(figsize=(18, 4))\n",
    "ds_valid_water_area.plot(marker='o', color='#9467bd')\n",
    "plt.title(f'Observed Area of Water from {time_range[0]} to {time_range[1]}')\n",
    "plt.xlabel('Dates')\n",
    "plt.ylabel('Waterbody area (km$^2$)')\n",
    "plt.tight_layout()"
   ]
  },
  {
   "cell_type": "markdown",
   "metadata": {},
   "source": [
    "## Compare water extent between two periods\n",
    "\n",
    "* `baseline_time` : The baseline year for the analysis\n",
    "* `analysis_time` : The year to compare to the baseline year\n",
    "\n",
    "* The water extent for the two time-periods are extracted from the datatset `ds_valid_water_area`"
   ]
  },
  {
   "cell_type": "code",
   "execution_count": 19,
   "metadata": {},
   "outputs": [],
   "source": [
    "baseline_time = '2018-06-01'\n",
    "analysis_time = '2019-06-01'\n",
    "\n",
    "baseline_ds, analysis_ds = ds_valid_water_area.sel(time=baseline_time, method ='nearest'),ds_valid_water_area.sel(time=analysis_time, method ='nearest')"
   ]
  },
  {
   "cell_type": "code",
   "execution_count": 20,
   "metadata": {},
   "outputs": [],
   "source": [
    "time_xr = xr.DataArray([baseline_ds.time.values, analysis_ds.time.values], dims=[\"time\"])"
   ]
  },
  {
   "cell_type": "markdown",
   "metadata": {},
   "source": [
    "## Plotting\n",
    "Plot water extent of the MNDWI product for the two chosen periods."
   ]
  },
  {
   "cell_type": "code",
   "execution_count": 22,
   "metadata": {},
   "outputs": [
    {
     "data": {
      "image/png": "[encoded data removed]",
      "text/plain": [
       "<Figure size 864x576 with 2 Axes>"
      ]
     },
     "metadata": {
      "needs_background": "light"
     },
     "output_type": "display_data"
    }
   ],
   "source": [
    "area_ds.sel(time=time_xr).plot(col=\"time\", col_wrap=2, robust=True, figsize=(12, 9), cmap='viridis', add_colorbar=False);"
   ]
  },
  {
   "cell_type": "markdown",
   "metadata": {},
   "source": [
    "### Calculate the change between the two nominated periods\n",
    "\n",
    "The cells below calculate the amount of water gain, loss and stable for the two periods"
   ]
  },
  {
   "cell_type": "code",
   "execution_count": 23,
   "metadata": {},
   "outputs": [],
   "source": [
    "# The two period Extract the two periods(Baseline and analysis) dataset from\n",
    "ds_selected = area_ds.where(area_ds == 1, 0).sel(time=time_xr)\n",
    "\n",
    "#The dataset array is transform to 1 and 0 using the `astype(int)` function.\n",
    "analyse_total_value = ds_selected[1]\n",
    "change = analyse_total_value - ds_selected[0]\n",
    "\n",
    "#The various scenarios are extracted from the `change` variable for the two years\n",
    "#Water gain  is 1\n",
    "water_appeared = change.where(change == 1)\n",
    "\n",
    "#Permanent water = 0\n",
    "permanent_water = change.where((change == 0) & (analyse_total_value == 1))\n",
    "\n",
    "#Permanent Land = 0\n",
    "permanent_land = change.where((change == 0) & (analyse_total_value == 0))\n",
    "\n",
    "#Water loss = -1\n",
    "water_disappeared = change.where(change == -1)"
   ]
  },
  {
   "cell_type": "markdown",
   "metadata": {},
   "source": [
    "The cell below calculate the area of water extent for water_loss, water_gain, permanent water and land "
   ]
  },
  {
   "cell_type": "code",
   "execution_count": 24,
   "metadata": {},
   "outputs": [],
   "source": [
    "total_area = analyse_total_value.count().values * area_per_pixel\n",
    "water_apperaed_area = water_appeared.count().values * area_per_pixel\n",
    "permanent_water_area = permanent_water.count().values * area_per_pixel\n",
    "permanent_land_area = permanent_land.count().values * area_per_pixel\n",
    "water_disappeared_area = water_disappeared.count().values * area_per_pixel"
   ]
  },
  {
   "cell_type": "markdown",
   "metadata": {},
   "source": [
    "The cell below calculate the percentage of area of water extent for water_loss, water_gain, permanent water and land "
   ]
  },
  {
   "cell_type": "code",
   "execution_count": 28,
   "metadata": {},
   "outputs": [],
   "source": [
    "# Percentage Change in water extent\n",
    "percentage_water_gain = round(water_apperaed_area, 2)\n",
    "percentage_water_loss = round(water_disappeared_area, 2)\n",
    "percentage_permanent_water = round(permanent_water_area, 2)\n",
    "percentage_permanent_land = round(permanent_land_area, 2)"
   ]
  },
  {
   "cell_type": "markdown",
   "metadata": {},
   "source": [
    "## Plot the changes\n",
    "The water variables are plotted to visualised the result"
   ]
  },
  {
   "cell_type": "code",
   "execution_count": null,
   "metadata": {},
   "outputs": [],
   "source": [
    "water_appeared_color = 'Green'\n",
    "water_disappeared_color = 'Yellow'\n",
    "stable_color = 'Blue'\n",
    "land_color = 'Brown'\n",
    "\n",
    "plot_aspect = image_aspect(area_ds)\n",
    "\n",
    "ds_selected[1].plot.imshow(cmap='jet_r', add_colorbar=False, add_labels=False, figsize=(10,10))\n",
    "water_appeared.plot.imshow(cmap=ListedColormap([water_appeared_color]), add_colorbar=False, add_labels=False)\n",
    "water_disappeared.plot.imshow(cmap=ListedColormap([water_disappeared_color]), add_colorbar=False, add_labels=False)\n",
    "\n",
    "plt.legend(\n",
    "        [Patch(facecolor=stable_color), Patch(facecolor=water_disappeared_color), Patch(facecolor=water_appeared_color),   Patch(facecolor=land_color)], \n",
    "        [f'Water to Water {percentage_permanent_water} km2', f'Water to No Water {percentage_water_loss} km2' , f'No Water to Water: {percentage_water_gain} km2',  \n",
    "         f'No Water to No water {percentage_permanent_land} km2'],\n",
    "         loc = 'lower left'\n",
    "    );\n",
    "\n",
    "plt.title('Change in water extent: '+baseline_time+' to '+analysis_time);"
   ]
  },
  {
   "cell_type": "markdown",
   "metadata": {},
   "source": [
    "***\n",
    "\n",
    "## Additional information\n",
    "\n",
    "**License:** The code in this notebook is licensed under the [Apache License, Version 2.0](https://www.apache.org/licenses/LICENSE-2.0). \n",
    "Digital Earth Africa data is licensed under the [Creative Commons by Attribution 4.0](https://creativecommons.org/licenses/by/4.0/) license.\n",
    "\n",
    "**Contact:** If you need assistance, please post a question on the [Open Data Cube Slack channel](http://slack.opendatacube.org/) or on the [GIS Stack Exchange](https://gis.stackexchange.com/questions/ask?tags=open-data-cube) using the `open-data-cube` tag (you can view previously asked questions [here](https://gis.stackexchange.com/questions/tagged/open-data-cube)).\n",
    "If you would like to report an issue with this notebook, you can file one on [Github](https://github.com/digitalearthafrica/deafrica-sandbox-notebooks).\n",
    "\n",
    "**Compatible datacube version:** "
   ]
  },
  {
   "cell_type": "code",
   "execution_count": null,
   "metadata": {},
   "outputs": [],
   "source": [
    "print(datacube.__version__)"
   ]
  },
  {
   "cell_type": "markdown",
   "metadata": {},
   "source": [
    "**Last Tested:**"
   ]
  },
  {
   "cell_type": "code",
   "execution_count": null,
   "metadata": {},
   "outputs": [],
   "source": [
    "from datetime import datetime\n",
    "datetime.today().strftime('%Y-%m-%d')"
   ]
  }
 ],
 "metadata": {
  "kernelspec": {
   "display_name": "Python 3",
   "language": "python",
   "name": "python3"
  },
  "language_info": {
   "codemirror_mode": {
    "name": "ipython",
    "version": 3
   },
   "file_extension": ".py",
   "mimetype": "text/x-python",
   "name": "python",
   "nbconvert_exporter": "python",
   "pygments_lexer": "ipython3",
   "version": "3.6.9"
  },
  "widgets": {
   "application/vnd.jupyter.widget-state+json": {
    "state": {},
    "version_major": 2,
    "version_minor": 0
   }
  }
 },
 "nbformat": 4,
 "nbformat_minor": 4
}
