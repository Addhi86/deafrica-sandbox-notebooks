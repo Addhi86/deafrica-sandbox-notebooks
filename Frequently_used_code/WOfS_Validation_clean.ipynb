{
 "cells": [
  {
   "cell_type": "markdown",
   "metadata": {},
   "source": [
    "# Accuracy Assessment of WOfS Product in Africa using Ground Truth Data  <img align=\"right\" src=\"../Supplementary_data/DE_Africa_Logo_Stacked_RGB_small.jpg\">\n",
    "\n",
    "* **Products used:** \n",
    "[ga_ls8c_wofs_2](https://explorer.digitalearth.africa/ga_ls8c_wofs_2),\n",
    "[ga_ls8c_wofs_2_summary ](https://explorer.digitalearth.africa/ga_ls8c_wofs_2_summary),\n",
    "[usgs_ls8c_level2_2]()\n",
    "\n",
    "Notes:\n",
    "* Landsat 8 collection 2 is confidential at continental level on 26 June 2020.\n",
    "* This notebook should be run in Collection 2 Read Private Workspace should we need to run the Landsat 8 Collection 2 Sample dataset. "
   ]
  },
  {
   "cell_type": "markdown",
   "metadata": {},
   "source": [
    "## Background\n",
    "The [Water Observations from Space (WOfS)](https://www.ga.gov.au/scientific-topics/community-safety/flood/wofs/about-wofs) is a derived product from Landsat 8 satellite observations as part of provisional Landsat 8 Collection 2 surface reflectance and shows surface water detected in Africa.\n",
    "Individual water classified images are called Water Observation Feature Layers (WOFLs), and are created in a 1-to-1 relationship with the input satellite data. \n",
    "Hence there is one WOFL for each satellite dataset processed for the occurrence of water.\n",
    "\n",
    "The data in a WOFL is stored as a bit field. This is a binary number, where each digit of the number is independantly set or not based on the presence (1) or absence (0) of a particular attribute (water, cloud, cloud shadow etc). In this way, the single decimal value associated to each pixel can provide information on a variety of features of that pixel. \n",
    "For more information on the structure of WOFLs and how to interact with them, see [Water Observations from Space](../Datasets/Water_Observations_from_Space.ipynb) and [Applying WOfS bitmasking](../Frequently_used_code/Applying_WOfS_bitmasking.ipynb) notebooks. \n",
    "\n",
    "Accuracy assessment for WOfS product in Africa includes generating a confusion error matrix for a WOFL binary classification.\n",
    "The inputs for the estimating the accuracy of WOfS derived product are a binary classification WOFL layer showing water/non-water and a shapefile containing validation points collected by [Collect Earth Online](https://collect.earth/) tool. Validation points are the ground truth or actual data while the extracted value for each location from WOFL is the predicted value. A confusion error matrix containing overall, producer's and user's accuracy is the output of this analysis. "
   ]
  },
  {
   "cell_type": "markdown",
   "metadata": {},
   "source": [
    "## Description\n",
    "This notebook explains how you can perform accuracy assessment for WOFS derived product using collected ground truth dataset. \n",
    "\n",
    "The notebook demonstrates how to:\n",
    "\n",
    "1. Load collected validation points as a list of observations each has a location and month\n",
    "2. Query WOFL data for the collected points and capture available WOfS observation available\n",
    "3. Extract statistics for each WOfS observation in each validation point including min, max and mean values for each point (location and month)\n",
    "4. Extract a LUT for each point that contains both validation info and WOfS result for each month \n",
    "5. Generating a confusion error matrix for WOFL classification\n",
    "6. Assessing the accuracy of the classification \n",
    "***"
   ]
  },
  {
   "cell_type": "markdown",
   "metadata": {},
   "source": [
    "* Two extreme cases: \n",
    "    - only test wofs classifier and excluding clouds is ok \n",
    "     - keep clear observations and remove non-clear ones\n",
    "     - then query on those that are water/non-water\n",
    "    - include terrain so water observed and no terrain is predicted true "
   ]
  },
  {
   "cell_type": "markdown",
   "metadata": {},
   "source": [
    "## Getting started\n",
    "\n",
    "To run this analysis, run all the cells in the notebook, starting with the \"Load packages\" cell.\n",
    "\n",
    "After finishing the analysis, you can modify some values in the \"Analysis parameters\" cell and re-run the analysis to load WOFLs for a different location or time period."
   ]
  },
  {
   "cell_type": "markdown",
   "metadata": {},
   "source": [
    "### Load packages"
   ]
  },
  {
   "cell_type": "code",
   "execution_count": 1,
   "metadata": {},
   "outputs": [],
   "source": [
    "%matplotlib inline\n",
    "\n",
    "import datacube\n",
    "from datacube.utils import masking, geometry \n",
    "import sys\n",
    "import os\n",
    "import dask \n",
    "import rasterio, rasterio.features\n",
    "import xarray\n",
    "import glob\n",
    "import numpy as np\n",
    "import pandas as pd\n",
    "import seaborn as sn\n",
    "import geopandas as gpd\n",
    "import subprocess as sp\n",
    "import matplotlib.pyplot as plt\n",
    "import scipy, scipy.ndimage\n",
    "import warnings\n",
    "warnings.filterwarnings(\"ignore\") #this will suppress the warnings for multiple UTM zones in your AOI \n",
    "\n",
    "sys.path.append(\"../Scripts\")\n",
    "from deafrica_plotting import display_map, rgb\n",
    "from deafrica_spatialtools import xr_rasterize\n",
    "from deafrica_datahandling import wofs_fuser, mostcommon_crs,load_ard\n",
    "from rasterio.mask import mask"
   ]
  },
  {
   "cell_type": "markdown",
   "metadata": {},
   "source": [
    "### Connect to the datacube"
   ]
  },
  {
   "cell_type": "code",
   "execution_count": 104,
   "metadata": {},
   "outputs": [],
   "source": [
    "dc = datacube.Datacube()"
   ]
  },
  {
   "cell_type": "markdown",
   "metadata": {},
   "source": [
    "### Analysis parameters"
   ]
  },
  {
   "cell_type": "code",
   "execution_count": 123,
   "metadata": {},
   "outputs": [],
   "source": [
    "#make sure that validation points have at least three columns : location (x,y), class, as well as 12 records for each observation  \n",
    "#Path to the validation data points csv file \n",
    "CEO = '../Supplementary_data/Validation/CEO_2_RCMRD_2020-07-30.csv'"
   ]
  },
  {
   "cell_type": "markdown",
   "metadata": {},
   "source": [
    "### Loading Dataset"
   ]
  },
  {
   "cell_type": "code",
   "execution_count": 124,
   "metadata": {},
   "outputs": [],
   "source": [
    "#Read in the validation data csv\n",
    "df = pd.read_csv(CEO, delimiter=\",\")\n",
    "ground_truth = df.drop(['SAMPLE_ID','USER_ID','IMAGERY_TITLE','COLLECTION_TIME','ANALYSIS_DURATION','PL_PLOTID'], axis=1)"
   ]
  },
  {
   "cell_type": "code",
   "execution_count": 125,
   "metadata": {},
   "outputs": [
    {
     "data": {
      "text/plain": [
       "Index(['PLOT_ID', 'LON', 'LAT', 'FLAGGED', 'ANALYSES',\n",
       "       'SENTINEL2MOSAICYEARMONTH',\n",
       "       'ENTER MONTHS[1-12] IN 2018, WATER WAS OBSERVED?',\n",
       "       'ENTER MONTHS[1-12] IN 2018, WATER WAS NOT OBSERVED?',\n",
       "       'ENTER MONTHS[1-12] IN 2018, IMAGE WAS BAD?',\n",
       "       'ENTER MONTHS[1-12] IN 2018, THAT YOU ARE UNSURE IF YOU OBSERVE WATER OR NOT? ',\n",
       "       'WHAT IS THE FEATURE?', 'COMMENT'],\n",
       "      dtype='object')"
      ]
     },
     "execution_count": 125,
     "metadata": {},
     "output_type": "execute_result"
    }
   ],
   "source": [
    "ground_truth.columns"
   ]
  },
  {
   "cell_type": "code",
   "execution_count": 126,
   "metadata": {},
   "outputs": [
    {
     "data": {
      "text/html": [
       "<div>\n",
       "<style scoped>\n",
       "    .dataframe tbody tr th:only-of-type {\n",
       "        vertical-align: middle;\n",
       "    }\n",
       "\n",
       "    .dataframe tbody tr th {\n",
       "        vertical-align: top;\n",
       "    }\n",
       "\n",
       "    .dataframe thead th {\n",
       "        text-align: right;\n",
       "    }\n",
       "</style>\n",
       "<table border=\"1\" class=\"dataframe\">\n",
       "  <thead>\n",
       "    <tr style=\"text-align: right;\">\n",
       "      <th></th>\n",
       "      <th>PLOT_ID</th>\n",
       "      <th>LON</th>\n",
       "      <th>LAT</th>\n",
       "      <th>FLAGGED</th>\n",
       "      <th>ANALYSES</th>\n",
       "      <th>SENTINEL2MOSAICYEARMONTH</th>\n",
       "      <th>WATER</th>\n",
       "      <th>NO_WATER</th>\n",
       "      <th>BAD_IMAGE</th>\n",
       "      <th>NOT_SURE</th>\n",
       "      <th>CLASS</th>\n",
       "      <th>COMMENT</th>\n",
       "    </tr>\n",
       "  </thead>\n",
       "  <tbody>\n",
       "    <tr>\n",
       "      <th>0</th>\n",
       "      <td>137387037</td>\n",
       "      <td>29.875854</td>\n",
       "      <td>2.178788</td>\n",
       "      <td>False</td>\n",
       "      <td>1</td>\n",
       "      <td>2018 - 2018</td>\n",
       "      <td>1-Dec</td>\n",
       "      <td>0</td>\n",
       "      <td>10</td>\n",
       "      <td>0</td>\n",
       "      <td>Open water - freshwater</td>\n",
       "      <td>Point is within the river channel</td>\n",
       "    </tr>\n",
       "    <tr>\n",
       "      <th>1</th>\n",
       "      <td>137387038</td>\n",
       "      <td>27.272168</td>\n",
       "      <td>0.893874</td>\n",
       "      <td>False</td>\n",
       "      <td>1</td>\n",
       "      <td>2018 - 2018</td>\n",
       "      <td>1-Dec</td>\n",
       "      <td>0</td>\n",
       "      <td>10</td>\n",
       "      <td>0</td>\n",
       "      <td>Open water - freshwater</td>\n",
       "      <td>Point is near the river bank</td>\n",
       "    </tr>\n",
       "    <tr>\n",
       "      <th>2</th>\n",
       "      <td>137387039</td>\n",
       "      <td>27.977967</td>\n",
       "      <td>0.489607</td>\n",
       "      <td>False</td>\n",
       "      <td>1</td>\n",
       "      <td>2018 - 2018</td>\n",
       "      <td>1, 3-5, 7-12</td>\n",
       "      <td>0</td>\n",
       "      <td>2, 3</td>\n",
       "      <td>2, 6</td>\n",
       "      <td>Open water - freshwater</td>\n",
       "      <td>Bad image month 2 &amp; 6</td>\n",
       "    </tr>\n",
       "    <tr>\n",
       "      <th>3</th>\n",
       "      <td>137387040</td>\n",
       "      <td>28.071867</td>\n",
       "      <td>-3.271851</td>\n",
       "      <td>False</td>\n",
       "      <td>1</td>\n",
       "      <td>2018 - 2018</td>\n",
       "      <td>1, 3, 4, 5, 6, 7, 12</td>\n",
       "      <td>8-Nov</td>\n",
       "      <td>2</td>\n",
       "      <td>2</td>\n",
       "      <td>Open water - freshwater</td>\n",
       "      <td>No image for February</td>\n",
       "    </tr>\n",
       "    <tr>\n",
       "      <th>4</th>\n",
       "      <td>137387041</td>\n",
       "      <td>28.708019</td>\n",
       "      <td>-5.872515</td>\n",
       "      <td>False</td>\n",
       "      <td>1</td>\n",
       "      <td>2018 - 2018</td>\n",
       "      <td>3-Sep</td>\n",
       "      <td>0</td>\n",
       "      <td>0</td>\n",
       "      <td>1 - 2 &amp; 10 -12</td>\n",
       "      <td>Open water - freshwater</td>\n",
       "      <td>It is difficult to know the month the water wa...</td>\n",
       "    </tr>\n",
       "    <tr>\n",
       "      <th>...</th>\n",
       "      <td>...</td>\n",
       "      <td>...</td>\n",
       "      <td>...</td>\n",
       "      <td>...</td>\n",
       "      <td>...</td>\n",
       "      <td>...</td>\n",
       "      <td>...</td>\n",
       "      <td>...</td>\n",
       "      <td>...</td>\n",
       "      <td>...</td>\n",
       "      <td>...</td>\n",
       "      <td>...</td>\n",
       "    </tr>\n",
       "    <tr>\n",
       "      <th>195</th>\n",
       "      <td>137387232</td>\n",
       "      <td>30.050283</td>\n",
       "      <td>-0.288776</td>\n",
       "      <td>False</td>\n",
       "      <td>1</td>\n",
       "      <td>2018 - 2018</td>\n",
       "      <td>1,3,5-11</td>\n",
       "      <td>0</td>\n",
       "      <td>2,4,12</td>\n",
       "      <td>0</td>\n",
       "      <td>Open water - marine</td>\n",
       "      <td>none</td>\n",
       "    </tr>\n",
       "    <tr>\n",
       "      <th>196</th>\n",
       "      <td>137387233</td>\n",
       "      <td>34.518275</td>\n",
       "      <td>-0.326637</td>\n",
       "      <td>False</td>\n",
       "      <td>1</td>\n",
       "      <td>2018 - 2018</td>\n",
       "      <td>1-Dec</td>\n",
       "      <td>0</td>\n",
       "      <td>0</td>\n",
       "      <td>0</td>\n",
       "      <td>Open water - marine</td>\n",
       "      <td>none</td>\n",
       "    </tr>\n",
       "    <tr>\n",
       "      <th>197</th>\n",
       "      <td>137387234</td>\n",
       "      <td>36.102439</td>\n",
       "      <td>-0.336985</td>\n",
       "      <td>False</td>\n",
       "      <td>1</td>\n",
       "      <td>2018 - 2018</td>\n",
       "      <td>1-3,5-12</td>\n",
       "      <td>0</td>\n",
       "      <td>4</td>\n",
       "      <td>0</td>\n",
       "      <td>Open water - marine</td>\n",
       "      <td>none</td>\n",
       "    </tr>\n",
       "    <tr>\n",
       "      <th>198</th>\n",
       "      <td>137387235</td>\n",
       "      <td>31.875724</td>\n",
       "      <td>-0.358620</td>\n",
       "      <td>False</td>\n",
       "      <td>1</td>\n",
       "      <td>2019 - 2019</td>\n",
       "      <td>1,2,4,6-8</td>\n",
       "      <td>0</td>\n",
       "      <td>3,5,9,10-12</td>\n",
       "      <td>0</td>\n",
       "      <td>Open water - marine</td>\n",
       "      <td>none</td>\n",
       "    </tr>\n",
       "    <tr>\n",
       "      <th>199</th>\n",
       "      <td>137387236</td>\n",
       "      <td>31.885362</td>\n",
       "      <td>-0.389661</td>\n",
       "      <td>False</td>\n",
       "      <td>1</td>\n",
       "      <td>2018 - 2018</td>\n",
       "      <td>1,2,5,6,8-12</td>\n",
       "      <td>0</td>\n",
       "      <td>3,4,7</td>\n",
       "      <td>0</td>\n",
       "      <td>Open water - marine</td>\n",
       "      <td>none</td>\n",
       "    </tr>\n",
       "  </tbody>\n",
       "</table>\n",
       "<p>200 rows × 12 columns</p>\n",
       "</div>"
      ],
      "text/plain": [
       "       PLOT_ID        LON       LAT  FLAGGED  ANALYSES  \\\n",
       "0    137387037  29.875854  2.178788    False         1   \n",
       "1    137387038  27.272168  0.893874    False         1   \n",
       "2    137387039  27.977967  0.489607    False         1   \n",
       "3    137387040  28.071867 -3.271851    False         1   \n",
       "4    137387041  28.708019 -5.872515    False         1   \n",
       "..         ...        ...       ...      ...       ...   \n",
       "195  137387232  30.050283 -0.288776    False         1   \n",
       "196  137387233  34.518275 -0.326637    False         1   \n",
       "197  137387234  36.102439 -0.336985    False         1   \n",
       "198  137387235  31.875724 -0.358620    False         1   \n",
       "199  137387236  31.885362 -0.389661    False         1   \n",
       "\n",
       "    SENTINEL2MOSAICYEARMONTH                 WATER NO_WATER    BAD_IMAGE  \\\n",
       "0                2018 - 2018                 1-Dec        0           10   \n",
       "1                2018 - 2018                 1-Dec        0           10   \n",
       "2                2018 - 2018          1, 3-5, 7-12        0         2, 3   \n",
       "3                2018 - 2018  1, 3, 4, 5, 6, 7, 12    8-Nov            2   \n",
       "4                2018 - 2018                 3-Sep        0            0   \n",
       "..                       ...                   ...      ...          ...   \n",
       "195              2018 - 2018              1,3,5-11        0       2,4,12   \n",
       "196              2018 - 2018                 1-Dec        0            0   \n",
       "197              2018 - 2018              1-3,5-12        0            4   \n",
       "198              2019 - 2019             1,2,4,6-8        0  3,5,9,10-12   \n",
       "199              2018 - 2018          1,2,5,6,8-12        0        3,4,7   \n",
       "\n",
       "           NOT_SURE                    CLASS  \\\n",
       "0                 0  Open water - freshwater   \n",
       "1                 0  Open water - freshwater   \n",
       "2              2, 6  Open water - freshwater   \n",
       "3                 2  Open water - freshwater   \n",
       "4    1 - 2 & 10 -12  Open water - freshwater   \n",
       "..              ...                      ...   \n",
       "195               0      Open water - marine   \n",
       "196               0      Open water - marine   \n",
       "197               0      Open water - marine   \n",
       "198               0      Open water - marine   \n",
       "199               0      Open water - marine   \n",
       "\n",
       "                                               COMMENT  \n",
       "0                    Point is within the river channel  \n",
       "1                         Point is near the river bank  \n",
       "2                                Bad image month 2 & 6  \n",
       "3                                No image for February  \n",
       "4    It is difficult to know the month the water wa...  \n",
       "..                                                 ...  \n",
       "195                                               none  \n",
       "196                                               none  \n",
       "197                                               none  \n",
       "198                                               none  \n",
       "199                                               none  \n",
       "\n",
       "[200 rows x 12 columns]"
      ]
     },
     "execution_count": 126,
     "metadata": {},
     "output_type": "execute_result"
    }
   ],
   "source": [
    "ground_truth = ground_truth.rename(columns={'WHAT IS THE FEATURE?':'CLASS','ENTER MONTHS[1-12] IN 2018, WATER WAS OBSERVED?':'WATER',\n",
    "                                            'ENTER MONTHS[1-12] IN 2018, WATER WAS NOT OBSERVED?':'NO_WATER','ENTER MONTHS[1-12] IN 2018, IMAGE WAS BAD?':'BAD_IMAGE',\n",
    "                                            'ENTER MONTHS[1-12] IN 2018, THAT YOU ARE UNSURE IF YOU OBSERVE WATER OR NOT? ':'NOT_SURE'})\n",
    "ground_truth"
   ]
  },
  {
   "cell_type": "code",
   "execution_count": 127,
   "metadata": {},
   "outputs": [],
   "source": [
    "#Converting all column types to string if not already\n",
    "#ground_truth = ground_truth.astype(str)\n",
    "ground_truth['NOT_SURE'] = ground_truth.NOT_SURE.astype(str)"
   ]
  },
  {
   "cell_type": "code",
   "execution_count": 129,
   "metadata": {},
   "outputs": [],
   "source": [
    "cols = ['WATER','NO_WATER','BAD_IMAGE','NOT_SURE']\n",
    "for col in cols:\n",
    "    ground_truth[col] = ground_truth[col].str.replace('[','')\n",
    "    ground_truth[col] = ground_truth[col].str.replace(']','')\n",
    "    ground_truth[col] = ground_truth[col].str.replace('&','')\n",
    "    ground_truth[col] = [''.join(c.split()) for c in ground_truth[col]]"
   ]
  },
  {
   "cell_type": "code",
   "execution_count": 130,
   "metadata": {},
   "outputs": [],
   "source": [
    "#check whether any nan values in the dataframe and print it out against the column name \n",
    "# count_nan_in_df = ground_truth.isnull().sum()\n",
    "# print (count_nan_in_df)"
   ]
  },
  {
   "cell_type": "code",
   "execution_count": 131,
   "metadata": {},
   "outputs": [],
   "source": [
    "#replacing the name of months with their numerical values\n",
    "replacements = { 'WATER': {r'Jan':'1', r'Feb':'2',r'Mar':'3',r'Apr':'4',r'May':'5',r'Jun':'6',r'Jul':'7',r'Aug':'8',r'Sep':'9',r'Oct':'10',r'Nov':'11',r'Dec':'12'},\n",
    "               'NO_WATER': {r'Jan':'1', r'Feb':'2',r'Mar':'3',r'Apr':'4',r'May':'5',r'Jun':'6',r'Jul':'7',r'Aug':'8',r'Sep':'9',r'Oct':'10',r'Nov':'11',r'Dec':'12'},\n",
    "               'BAD_IMAGE':{r'Jan':'1', r'Feb':'2',r'Mar':'3',r'Apr':'4',r'May':'5',r'Jun':'6',r'Jul':'7',r'Aug':'8',r'Sep':'9',r'Oct':'10',r'Nov':'11',r'Dec':'12'}}\n",
    "\n",
    "ground_truth.replace(replacements, regex=True, inplace=True)"
   ]
  },
  {
   "cell_type": "code",
   "execution_count": 132,
   "metadata": {},
   "outputs": [],
   "source": [
    "ground_truth['SENTINEL2MOSAICYEARMONTH'] = ground_truth['SENTINEL2MOSAICYEARMONTH'].str.replace('2019-2019','2018-2018')"
   ]
  },
  {
   "cell_type": "code",
   "execution_count": 133,
   "metadata": {},
   "outputs": [],
   "source": [
    "def split_str(row, newtable):\n",
    "#check each row for No-WATER info an update the water column \n",
    "    monthstr=row['NO_WATER']\n",
    "    if monthstr!='0'and monthstr!='nan':\n",
    "        monthlist=[[int(i) for i in s.split('-')] for s in monthstr.split(',')]\n",
    "        for l in monthlist:\n",
    "            if len(l)==1: l=[l[0],l[0]]\n",
    "            for i in range(l[0], l[1]+1):\n",
    "                newrow=row[['PLOT_ID','LON','LAT','FLAGGED','ANALYSES','WATER','NO_WATER','BAD_IMAGE','NOT_SURE','CLASS','COMMENT']]\n",
    "                newrow['MONTH']=f'{i:02d}'\n",
    "                newrow['WATERFLAG']='0'\n",
    "                newrow[\"SENTINEL2YEAR\"]='2018'\n",
    "                newtable=newtable.append(newrow)\n",
    "#check each row for water info \n",
    "    monthstr=row['WATER']\n",
    "    if monthstr!='0' and monthstr!='nan':\n",
    "        monthlist=[[int(i) for i in s.split('-')] for s in monthstr.split(',')]\n",
    "        for l in monthlist:\n",
    "            if len(l)==1: l=[l[0],l[0]]\n",
    "            for i in range(l[0], l[1]+1):\n",
    "                newrow=row[['PLOT_ID','LON','LAT','FLAGGED','ANALYSES','WATER','NO_WATER','BAD_IMAGE','NOT_SURE','CLASS','COMMENT']]\n",
    "                newrow['MONTH']=f'{i:02d}'\n",
    "                newrow['WATERFLAG']='1'\n",
    "                newrow[\"SENTINEL2YEAR\"]='2018'\n",
    "                newtable=newtable.append(newrow)  # update index / ignore original index\n",
    "#check each row for bad image \n",
    "    monthstr=row['BAD_IMAGE']\n",
    "    if monthstr!='0' and monthstr!='nan':\n",
    "        monthlist=[[int(i) for i in s.split('-')] for s in monthstr.split(',')]\n",
    "        for l in monthlist:\n",
    "            if len(l)==1: l=[l[0],l[0]]\n",
    "            for i in range(l[0], l[1]+1):\n",
    "                newrow=row[['PLOT_ID','LON','LAT','FLAGGED','ANALYSES','WATER','NO_WATER','BAD_IMAGE','NOT_SURE','CLASS','COMMENT']]\n",
    "                newrow['MONTH']=f'{i:02d}'\n",
    "                newrow['WATERFLAG']='2'\n",
    "                newrow[\"SENTINEL2YEAR\"]='2018'\n",
    "                newtable=newtable.append(newrow) \n",
    "    monthstr=row['NOT_SURE']\n",
    "    if monthstr!='0' and monthstr!='nan':\n",
    "        monthlist=[[int(i) for i in s.split('-')] for s in monthstr.split(',')]\n",
    "        for l in monthlist:\n",
    "            if len(l)==1: l=[l[0],l[0]]\n",
    "            for i in range(l[0], l[1]+1):\n",
    "                newrow=row[['PLOT_ID','LON','LAT','FLAGGED','ANALYSES','WATER','NO_WATER','BAD_IMAGE','NOT_SURE','CLASS','COMMENT']]\n",
    "                newrow['MONTH']=f'{i:02d}'\n",
    "                newrow['WATERFLAG']='3'\n",
    "                newrow[\"SENTINEL2YEAR\"]='2018'\n",
    "                newtable=newtable.append(newrow) \n",
    "                \n",
    "    return newtable\n"
   ]
  },
  {
   "cell_type": "code",
   "execution_count": 134,
   "metadata": {},
   "outputs": [],
   "source": [
    "#count_nan_in_df = ground_truth.isnull().sum()\n",
    "#print (count_nan_in_df)"
   ]
  },
  {
   "cell_type": "code",
   "execution_count": 135,
   "metadata": {},
   "outputs": [],
   "source": [
    "#for check on any issues \n",
    "ground_truth.to_csv('../Supplementary_data/Validation/Refined/CEO_2.csv')"
   ]
  },
  {
   "cell_type": "code",
   "execution_count": 138,
   "metadata": {},
   "outputs": [],
   "source": [
    "#Making an empty dataframe\n",
    "result = pd.DataFrame()"
   ]
  },
  {
   "cell_type": "code",
   "execution_count": 139,
   "metadata": {},
   "outputs": [],
   "source": [
    "for irow in range(len(ground_truth)):\n",
    "    result=split_str(ground_truth.iloc[irow], result)\n",
    "    result.update(result)"
   ]
  },
  {
   "cell_type": "code",
   "execution_count": 140,
   "metadata": {},
   "outputs": [],
   "source": [
    "#result\n",
    "#result.loc[13]#this shows all the table "
   ]
  },
  {
   "cell_type": "code",
   "execution_count": 141,
   "metadata": {},
   "outputs": [],
   "source": [
    "result = result[['PLOT_ID', 'LON', 'LAT','FLAGGED','ANALYSES','SENTINEL2YEAR', 'WATER','NO_WATER','BAD_IMAGE','NOT_SURE','CLASS', 'COMMENT', 'MONTH','WATERFLAG']]"
   ]
  },
  {
   "cell_type": "code",
   "execution_count": 142,
   "metadata": {},
   "outputs": [],
   "source": [
    "#save the dataframe as csv file \n",
    "result.to_csv('../Supplementary_data/Validation/Refined/CEO_3_RCMRD_2020-07-30.csv')"
   ]
  },
  {
   "cell_type": "code",
   "execution_count": 22,
   "metadata": {},
   "outputs": [],
   "source": [
    "#joining dataframes together and extract one csv for each partner institution \n",
    "DF = glob.glob('../Supplementary_data/Validation/Refined/*_RCMRD_*.csv')\n",
    "frame = []\n",
    "for d in DF: \n",
    "    f = pd.read_csv(d,delimiter=\",\")\n",
    "    frame.append(f)\n",
    "out = pd.concat(frame)\n",
    "out.to_csv('../Supplementary_data/Validation/Refined/CEO_RCMRD_2020-07-30.csv')"
   ]
  },
  {
   "cell_type": "markdown",
   "metadata": {},
   "source": [
    "***\n",
    "\n",
    "## Additional information\n",
    "\n",
    "**License:** The code in this notebook is licensed under the [Apache License, Version 2.0](https://www.apache.org/licenses/LICENSE-2.0). \n",
    "Digital Earth Africa data is licensed under the [Creative Commons by Attribution 4.0](https://creativecommons.org/licenses/by/4.0/) license.\n",
    "\n",
    "**Contact:** If you need assistance, please post a question on the [Open Data Cube Slack channel](http://slack.opendatacube.org/) or on the [GIS Stack Exchange](https://gis.stackexchange.com/questions/ask?tags=open-data-cube) using the `open-data-cube` tag (you can view previously asked questions [here](https://gis.stackexchange.com/questions/tagged/open-data-cube)).\n",
    "If you would like to report an issue with this notebook, you can file one on [Github](https://github.com/digitalearthafrica/deafrica-sandbox-notebooks).\n",
    "\n",
    "**Last modified:** January 2020\n",
    "\n",
    "**Compatible datacube version:** "
   ]
  },
  {
   "cell_type": "markdown",
   "metadata": {},
   "source": [
    "## Tags\n",
    "Browse all available tags on the DE Africa User Guide's [Tags Index](https://) (placeholder as this does not exist yet)"
   ]
  },
  {
   "cell_type": "raw",
   "metadata": {
    "raw_mimetype": "text/restructuredtext"
   },
   "source": [
    "**Tags**:  :index:`WOfS`, :index:`fractional cover`, :index:`deafrica_plotting`, :index:`deafrica_datahandling`, :index:`display_map`, :index:`wofs_fuser`, :index:`WOFL`, :index:`masking`"
   ]
  },
  {
   "cell_type": "code",
   "execution_count": null,
   "metadata": {},
   "outputs": [],
   "source": [
    "#test the groundtruth with a 6933 EPSG as well (conversion) - how to reproject"
   ]
  }
 ],
 "metadata": {
  "kernelspec": {
   "display_name": "Python 3",
   "language": "python",
   "name": "python3"
  },
  "language_info": {
   "codemirror_mode": {
    "name": "ipython",
    "version": 3
   },
   "file_extension": ".py",
   "mimetype": "text/x-python",
   "name": "python",
   "nbconvert_exporter": "python",
   "pygments_lexer": "ipython3",
   "version": "3.6.9"
  },
  "widgets": {
   "application/vnd.jupyter.widget-state+json": {
    "state": {
     "9e3fa49adf8c4170abfcd954c2ec045a": {
      "model_module": "jupyter-leaflet",
      "model_module_version": "^0.11.1",
      "model_name": "LeafletZoomControlModel",
      "state": {
       "_model_module_version": "^0.11.1",
       "_view_count": null,
       "_view_module_version": "^0.11.1",
       "options": [
        "position",
        "zoom_in_text",
        "zoom_in_title",
        "zoom_out_text",
        "zoom_out_title"
       ]
      }
     },
     "dc642f11c1fb492ca419b0ed6fc4f8c3": {
      "model_module": "jupyter-leaflet",
      "model_module_version": "^0.11.1",
      "model_name": "LeafletAttributionControlModel",
      "state": {
       "_model_module_version": "^0.11.1",
       "_view_count": null,
       "_view_module_version": "^0.11.1",
       "options": [
        "position",
        "prefix"
       ],
       "position": "bottomright",
       "prefix": "Leaflet"
      }
     }
    },
    "version_major": 2,
    "version_minor": 0
   }
  }
 },
 "nbformat": 4,
 "nbformat_minor": 4
}
