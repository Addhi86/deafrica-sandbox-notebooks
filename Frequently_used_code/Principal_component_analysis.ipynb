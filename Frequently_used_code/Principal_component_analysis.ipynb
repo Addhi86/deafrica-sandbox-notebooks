{
 "cells": [
  {
   "cell_type": "markdown",
   "metadata": {},
   "source": [
    "# Principal component analysis for multi-spectral data\n",
    "\n",
    "* **Products used:** \n",
    "[s2_l2a](https://explorer.digitalearth.africa/s2_l2a)\n"
   ]
  },
  {
   "cell_type": "raw",
   "metadata": {
    "raw_mimetype": "text/restructuredtext"
   },
   "source": [
    "**Keywords** :index:`data used; sentinel 2`, :index:`analysis; principal component analysis`"
   ]
  },
  {
   "cell_type": "markdown",
   "metadata": {},
   "source": [
    "## Background\n",
    "\n",
    "Principal Component Analysis (PCA) is a popular technique for dimensionality reduction.\n",
    "It can be used to explore patterns in high-dimensional data and assist unsupervised learning.\n",
    "\n",
    "Principal components are a series of linear combinations of the original variables, among which the first principal component accounts for the greatest variance within a dataset.\n",
    "Each subsequent principal component accounts for the next greatest possible variance and is uncorrelated with the previously defined components.\n",
    "\n",
    "This technique is useful for understanding Sentinel-2 data as images are captured in 12 spectral bands but only 3 variables can be visualized in a RGB composite.\n",
    "PCA can also be applied to timeseries data to investigate temporal evolution patterns for different land cover types."
   ]
  },
  {
   "cell_type": "markdown",
   "metadata": {},
   "source": [
    "## Description\n",
    "\n",
    "This notebook demonstrates a principal component analysis for Sentinel-2 multi-spectal data. \n",
    "Following steps are covered:\n",
    "\n",
    "1. Loading Sentinel-2 multi-spectral data.\n",
    "2. Applying PCA to transform and visualize data.\n",
    "***"
   ]
  },
  {
   "cell_type": "markdown",
   "metadata": {},
   "source": [
    "## Getting started\n",
    "\n",
    "To run this analysis, run all the cells in the notebook, starting with the \"Load packages\" cell. "
   ]
  },
  {
   "cell_type": "markdown",
   "metadata": {},
   "source": [
    "### Load packages\n",
    "Import Python packages that are used for the analysis."
   ]
  },
  {
   "cell_type": "code",
   "execution_count": 5,
   "metadata": {},
   "outputs": [],
   "source": [
    "%matplotlib inline\n",
    "\n",
    "from sklearn.decomposition import PCA\n",
    "import datacube\n",
    "\n",
    "from deafrica_tools.datahandling import load_ard\n",
    "from deafrica_tools.plotting import rgb\n",
    "from deafrica_tools.classification import sklearn_flatten, sklearn_unflatten"
   ]
  },
  {
   "cell_type": "markdown",
   "metadata": {},
   "source": [
    "### Connect to the datacube\n",
    "\n",
    "Connect to the datacube so we can access DEAfrica data."
   ]
  },
  {
   "cell_type": "code",
   "execution_count": 6,
   "metadata": {},
   "outputs": [],
   "source": [
    "dc = datacube.Datacube(app='pca')"
   ]
  },
  {
   "cell_type": "markdown",
   "metadata": {},
   "source": [
    "### Analysis parameters\n",
    "\n",
    "This section defines the analysis parameters, including \n",
    "\n",
    "* center lat/lon and analysis window size for the area of interest\n",
    "* time period to be investigated\n",
    "* projection and resolution for loading data\n",
    "* acceptable range of cloud cover percentage for input Sentinel-2 granule (`min_gooddata`)\n",
    "* spectral bands to be explored\n",
    "\n",
    "The default location is Betsiboka Estuary, Madagascar.\n",
    "\n",
    "To limit overall memory usage, if a larger analysis window or higher resolution is desired, the time period should be reduced accordingly."
   ]
  },
  {
   "cell_type": "code",
   "execution_count": 7,
   "metadata": {},
   "outputs": [],
   "source": [
    "# Create a query object\n",
    "lat, lon = -15.92, 46.35\n",
    "buffer = 0.1 \n",
    "\n",
    "query = {\n",
    "    'time': ('2020-01', '2020-03'),\n",
    "    'x': (lon - buffer, lon + buffer),\n",
    "    'y': (lat + buffer, lat - buffer),\n",
    "    'output_crs': 'epsg:6933',\n",
    "    'resolution':(-20,20),\n",
    "}\n",
    "\n",
    "# use all non-overlapping 10m and 20m bands\n",
    "bands = ['blue', 'green', 'red', 'red_edge_1', 'red_edge_2',\n",
    "         'red_edge_3', 'nir_narrow', 'swir_1', 'swir_2']"
   ]
  },
  {
   "cell_type": "markdown",
   "metadata": {},
   "source": [
    "## Loading Sentinel-2 multi-spectral data\n",
    "\n",
    "Only high probablity cloud is excluded in this example, but this can be modified for a different area.\n"
   ]
  },
  {
   "cell_type": "code",
   "execution_count": 8,
   "metadata": {},
   "outputs": [
    {
     "name": "stdout",
     "output_type": "stream",
     "text": [
      "Using pixel quality parameters for Sentinel 2\n",
      "Finding datasets\n",
      "    s2_l2a\n",
      "Counting good quality pixels for each time step\n",
      "Filtering to 18 out of 18 time steps with at least 5.0% good quality pixels\n",
      "Applying pixel quality/cloud mask\n",
      "Loading 18 time steps\n"
     ]
    }
   ],
   "source": [
    "ds = load_ard(dc=dc,\n",
    "              products=['s2_l2a'],\n",
    "              measurements=bands,\n",
    "              min_gooddata=0.05,\n",
    "              pq_categories_s2=['vegetation', 'snow or ice', 'water', 'bare soils',\n",
    "                                'unclassified', 'dark area pixels', 'cloud_shadows',\n",
    "                                'cloud medium probability', 'thin cirrus'],\n",
    "              group_by='solar_day',\n",
    "              **query)\n"
   ]
  },
  {
   "cell_type": "code",
   "execution_count": null,
   "metadata": {},
   "outputs": [],
   "source": [
    "# visualize data using selected input spectral bands\n",
    "rgb(ds, bands=['swir_1','nir_narrow','red_edge_1'], index=list(range(len(ds.time))), col_wrap=4)"
   ]
  },
  {
   "cell_type": "markdown",
   "metadata": {},
   "source": [
    "## Applying PCA to transform and visualize data\n",
    "\n",
    "To perform a PCA, data is first transformed into a numpy array that can be used by sklearn."
   ]
  },
  {
   "cell_type": "code",
   "execution_count": null,
   "metadata": {},
   "outputs": [],
   "source": [
    "X = sklearn_flatten(ds)"
   ]
  },
  {
   "cell_type": "markdown",
   "metadata": {},
   "source": [
    "A PCA model is generated with 3 principal components and fitted on the data."
   ]
  },
  {
   "cell_type": "code",
   "execution_count": null,
   "metadata": {},
   "outputs": [],
   "source": [
    "pca = PCA(n_components=3)\n",
    "pca.fit(X)"
   ]
  },
  {
   "cell_type": "markdown",
   "metadata": {},
   "source": [
    "We can investigate how much variance is accounted for in each principal component.\n",
    "In the default example, the first principal component accounts for a much high variance than the next two.\n",
    "\n",
    "This step can help determine whether more principal components are needed."
   ]
  },
  {
   "cell_type": "code",
   "execution_count": null,
   "metadata": {},
   "outputs": [],
   "source": [
    "print(\"Relative variance in principal components:\", pca.explained_variance_ratio_)"
   ]
  },
  {
   "cell_type": "markdown",
   "metadata": {},
   "source": [
    "The input data can now be transformed into this new reference space and rearranged into a xarray dataset compatible with input data."
   ]
  },
  {
   "cell_type": "code",
   "execution_count": null,
   "metadata": {},
   "outputs": [],
   "source": [
    "predict = pca.transform(X)"
   ]
  },
  {
   "cell_type": "code",
   "execution_count": null,
   "metadata": {},
   "outputs": [],
   "source": [
    "out = sklearn_unflatten(predict, ds)\n",
    "out = out.to_dataset(dim=out.dims[0]).transpose('time','y','x')"
   ]
  },
  {
   "cell_type": "markdown",
   "metadata": {},
   "source": [
    "### Visualise PCA results"
   ]
  },
  {
   "cell_type": "code",
   "execution_count": null,
   "metadata": {},
   "outputs": [],
   "source": [
    "# Use code comments for low-level documentation of code\n",
    "rgb(out, bands=[2,1,0], index=list(range(len(out.time))), col_wrap=4)"
   ]
  },
  {
   "cell_type": "markdown",
   "metadata": {},
   "source": [
    "***\n",
    "\n",
    "## Additional information\n",
    "\n",
    "**License:** The code in this notebook is licensed under the [Apache License, Version 2.0](https://www.apache.org/licenses/LICENSE-2.0). \n",
    "Digital Earth Africa data is licensed under the [Creative Commons by Attribution 4.0](https://creativecommons.org/licenses/by/4.0/) license.\n",
    "\n",
    "**Contact:** If you need assistance, please post a question on the [Open Data Cube Slack channel](http://slack.opendatacube.org/) or on the [GIS Stack Exchange](https://gis.stackexchange.com/questions/ask?tags=open-data-cube) using the `open-data-cube` tag (you can view previously asked questions [here](https://gis.stackexchange.com/questions/tagged/open-data-cube)).\n",
    "If you would like to report an issue with this notebook, you can file one on [Github](https://github.com/digitalearthafrica/deafrica-sandbox-notebooks).\n",
    "\n",
    "**Compatible datacube version:** "
   ]
  },
  {
   "cell_type": "code",
   "execution_count": null,
   "metadata": {},
   "outputs": [],
   "source": [
    "print(datacube.__version__)"
   ]
  },
  {
   "cell_type": "markdown",
   "metadata": {},
   "source": [
    "**Last Tested:**"
   ]
  },
  {
   "cell_type": "code",
   "execution_count": null,
   "metadata": {},
   "outputs": [],
   "source": [
    "from datetime import datetime\n",
    "datetime.today().strftime('%Y-%m-%d')"
   ]
  }
 ],
 "metadata": {
  "kernelspec": {
   "display_name": "Python 3",
   "language": "python",
   "name": "python3"
  },
  "language_info": {
   "codemirror_mode": {
    "name": "ipython",
    "version": 3
   },
   "file_extension": ".py",
   "mimetype": "text/x-python",
   "name": "python",
   "nbconvert_exporter": "python",
   "pygments_lexer": "ipython3",
   "version": "3.6.9"
  },
  "widgets": {
   "application/vnd.jupyter.widget-state+json": {
    "state": {},
    "version_major": 2,
    "version_minor": 0
   }
  }
 },
 "nbformat": 4,
 "nbformat_minor": 4
}
