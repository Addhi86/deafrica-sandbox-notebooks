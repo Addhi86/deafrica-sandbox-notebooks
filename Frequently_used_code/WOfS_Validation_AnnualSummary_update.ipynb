{
 "cells": [
  {
   "cell_type": "markdown",
   "metadata": {},
   "source": [
    "# WOfS Validation Data Analysis - Water Body Type Classification  <img align=\"right\" src=\"../Supplementary_data/DE_Africa_Logo_Stacked_RGB_small.jpg\">\n",
    "\n",
    "* **Products used:** \n",
    "[ga_ls8c_wofs_2](https://explorer.digitalearth.africa/ga_ls8c_wofs_2),\n",
    "[ga_ls8c_wofs_2_annual_summary ](https://explorer.digitalearth.africa/ga_ls8c_wofs_2_annual_summary)"
   ]
  },
  {
   "cell_type": "markdown",
   "metadata": {},
   "source": [
    "## Background\n",
    "The [Water Observations from Space (WOfS)](https://www.ga.gov.au/scientific-topics/community-safety/flood/wofs/about-wofs) is a derived product from Landsat 8 satellite observations as part of provisional Landsat 8 Collection 2 surface reflectance and shows surface water detected in Africa.\n",
    "Individual water classified images are called Water Observation Feature Layers (WOFLs), and are created in a 1-to-1 relationship with the input satellite data. \n",
    "Hence there is one WOFL for each satellite dataset processed for the occurrence of water.\n",
    "\n",
    "The data in a WOFL is stored as a bit field. This is a binary number, where each digit of the number is independantly set or not based on the presence (1) or absence (0) of a particular attribute (water, cloud, cloud shadow etc). In this way, the single decimal value associated to each pixel can provide information on a variety of features of that pixel. \n",
    "For more information on the structure of WOFLs and how to interact with them, see [Water Observations from Space](../Datasets/Water_Observations_from_Space.ipynb) and [Applying WOfS bitmasking](../Frequently_used_code/Applying_WOfS_bitmasking.ipynb) notebooks."
   ]
  },
  {
   "cell_type": "markdown",
   "metadata": {},
   "source": [
    "## Description\n",
    "This notebook explains how you can perform validation analysis for WOFS derived product using collected ground truth dataset and window-based sampling. \n",
    "\n",
    "The notebook demonstrates how to:\n",
    "\n",
    "1. Load validation points for each partner institutions following cleaning stage as an ESRI shapefile\n",
    "2. Query WOFL data for validation points and capture available WOfS observation available\n",
    "3. Extract statistics for each WOfS observation in each validation point using a 3 by 3 window and multiprocessing functionality \n",
    "4. Extract a LUT for each point that contains both validation info and WOfS result for each month \n",
    "***"
   ]
  },
  {
   "cell_type": "markdown",
   "metadata": {},
   "source": [
    "## Getting started\n",
    "\n",
    "To run this analysis, run all the cells in the notebook, starting with the \"Load packages\" cell.\n",
    "\n",
    "After finishing the analysis, you can modify some values in the \"Analysis parameters\" cell and re-run the analysis to load WOFLs for a different location or time period."
   ]
  },
  {
   "cell_type": "markdown",
   "metadata": {},
   "source": [
    "### Load packages\n",
    "Import Python packages that are used for the analysis."
   ]
  },
  {
   "cell_type": "code",
   "execution_count": 1,
   "metadata": {},
   "outputs": [],
   "source": [
    "%matplotlib inline\n",
    "\n",
    "import time \n",
    "import datacube\n",
    "from datacube.utils import masking, geometry \n",
    "import sys\n",
    "import os\n",
    "import dask \n",
    "import rasterio, rasterio.features\n",
    "import xarray\n",
    "import glob\n",
    "import numpy as np\n",
    "import pandas as pd\n",
    "import seaborn as sn\n",
    "import geopandas as gpd\n",
    "import subprocess as sp\n",
    "import matplotlib.pyplot as plt\n",
    "import scipy, scipy.ndimage\n",
    "import warnings\n",
    "warnings.filterwarnings(\"ignore\") #this will suppress the warnings for multiple UTM zones in your AOI \n",
    "\n",
    "sys.path.append(\"../Scripts\")\n",
    "from rasterio.mask import mask\n",
    "from geopandas import GeoSeries, GeoDataFrame\n",
    "from shapely.geometry import Point\n",
    "from sklearn import metrics \n",
    "from scipy import stats\n",
    "from scipy.stats import pearsonr\n",
    "from sklearn.metrics import plot_confusion_matrix, f1_score, mean_squared_error\n",
    "from sklearn.metrics import jaccard_score\n",
    "from deafrica_plotting import map_shapefile,display_map, rgb\n",
    "from deafrica_spatialtools import xr_rasterize\n",
    "from deafrica_datahandling import wofs_fuser, mostcommon_crs,load_ard,deepcopy\n",
    "from deafrica_dask import create_local_dask_cluster\n",
    "\n",
    "#for parallelisation \n",
    "from multiprocessing import Pool, Manager\n",
    "import multiprocessing as mp\n",
    "from tqdm import tqdm"
   ]
  },
  {
   "cell_type": "markdown",
   "metadata": {},
   "source": [
    "### Analysis parameters"
   ]
  },
  {
   "cell_type": "markdown",
   "metadata": {},
   "source": [
    "To analyse validation points collected by each partner institution, we need to obtain WOfS surface water observation data that corresponds with the labelled input data locations. "
   ]
  },
  {
   "cell_type": "markdown",
   "metadata": {},
   "source": [
    "### Loading Dataset"
   ]
  },
  {
   "cell_type": "markdown",
   "metadata": {},
   "source": [
    "1. Load validation points for each partner institutions as a list of observations each has a location and month\n",
    "    * Load the cleaned validation file as ESRI `shapefile`\n",
    "    * Inspect the shapefile"
   ]
  },
  {
   "cell_type": "markdown",
   "metadata": {},
   "source": [
    "We will focus on the actual and prediction values of the table to understand the frequency of clear water observations in CEO and WOfS as well as distribution graph."
   ]
  },
  {
   "cell_type": "code",
   "execution_count": 2,
   "metadata": {},
   "outputs": [],
   "source": [
    "#Read the ground truth data following analysis step \n",
    "CEO = '../Supplementary_data/Validation/Refined/Continent/Africa_validation_inland.csv'\n",
    "input_data = pd.read_csv(CEO,delimiter=\",\")"
   ]
  },
  {
   "cell_type": "code",
   "execution_count": 3,
   "metadata": {},
   "outputs": [
    {
     "data": {
      "text/plain": [
       "Unnamed: 0    9961\n",
       "PLOT_ID       9961\n",
       "LON           9961\n",
       "LAT           9961\n",
       "CLASS         9961\n",
       "MONTH         9961\n",
       "ACTUAL        9961\n",
       "CLASS_WET     9961\n",
       "CLEAR_OBS     9961\n",
       "PREDICTION    9961\n",
       "geometry      9961\n",
       "dtype: int64"
      ]
     },
     "execution_count": 3,
     "metadata": {},
     "output_type": "execute_result"
    }
   ],
   "source": [
    "input_data.count()"
   ]
  },
  {
   "cell_type": "code",
   "execution_count": 4,
   "metadata": {},
   "outputs": [],
   "source": [
    "input_data=input_data.drop(['Unnamed: 0','geometry'], axis=1)\n",
    "#input_data.head()"
   ]
  },
  {
   "cell_type": "code",
   "execution_count": 5,
   "metadata": {},
   "outputs": [],
   "source": [
    "input_data['Actual_Sum'] = input_data['ACTUAL'].groupby(input_data['PLOT_ID']).transform('sum')"
   ]
  },
  {
   "cell_type": "code",
   "execution_count": 6,
   "metadata": {},
   "outputs": [],
   "source": [
    "input_data['WOfS_Sum'] = input_data['PREDICTION'].groupby(input_data['PLOT_ID']).transform('sum')"
   ]
  },
  {
   "cell_type": "code",
   "execution_count": 7,
   "metadata": {},
   "outputs": [],
   "source": [
    "#input_data.loc[input_data['PLOT_ID'] == 137387040]"
   ]
  },
  {
   "cell_type": "code",
   "execution_count": 8,
   "metadata": {},
   "outputs": [],
   "source": [
    "input_data['Actual_count'] = input_data.groupby('PLOT_ID')['ACTUAL'].transform('count')\n",
    "input_data['WOfS_count'] = input_data.groupby('PLOT_ID')['PREDICTION'].transform('count')"
   ]
  },
  {
   "cell_type": "code",
   "execution_count": 9,
   "metadata": {},
   "outputs": [],
   "source": [
    "input_data['WOfS_Wet_Sum'] = input_data['CLASS_WET'].groupby(input_data['PLOT_ID']).transform('sum')\n",
    "input_data['WOfS_Clear_Sum'] = input_data['CLEAR_OBS'].groupby(input_data['PLOT_ID']).transform('sum')"
   ]
  },
  {
   "cell_type": "markdown",
   "metadata": {},
   "source": [
    "### Classification Method\n",
    "\n",
    "Having access to the actual labels for each validation points extracted from CEO tool and predicted values from WOfS query, the frequency of water observation for each validation point was extracted by using the following two formulas:\n",
    "\n",
    "CEO_FREQUENCY = ∑ (ACTUAL) / count (ACTUAL)\n",
    "\n",
    "WOfS_FREQUENCY = ∑ (PREDICTION) / count (PREDICTION)\n",
    "\n",
    "Please take into the consideration that WOfs query for the dataset validated by RCMRD is based on entire calendar month (i.e. Eastern and Indian Ocean AEZ) while the WOfS query for dataset validated by other three institutions are based on (+/- 5 days) in each calendar month. \n",
    "\n",
    "We also tested an alternative approach for comparing with the above method. In this approach the CEO_frequecy is being evaluated against the WOfS frequency that is extracted from the following formula: \n",
    "\n",
    "WOfS_FREQ = ∑ (CLASS_WET) / ∑ (CLEAR_OBS)\n",
    "\n",
    "Using thresholding method, the frequency values for both CEO and WOfS will be categorised in three distict classes i.e. dry, ephemeral and permanent water features for further accuracy assessment. "
   ]
  },
  {
   "cell_type": "code",
   "execution_count": 10,
   "metadata": {},
   "outputs": [],
   "source": [
    "#input_data.loc[input_data['PLOT_ID'] == 137387040]"
   ]
  },
  {
   "cell_type": "code",
   "execution_count": 11,
   "metadata": {},
   "outputs": [],
   "source": [
    "Summarize = input_data.groupby('PLOT_ID',as_index=False,sort=False).last()"
   ]
  },
  {
   "cell_type": "code",
   "execution_count": 12,
   "metadata": {},
   "outputs": [],
   "source": [
    "Summarize['CEO_FREQUENCY'] = Summarize['Actual_Sum']/Summarize['Actual_count']\n",
    "Summarize['WOfS_FREQUENCY'] = Summarize['WOfS_Sum']/Summarize['WOfS_count']\n",
    "Summarize['WOfS_FREQ'] = Summarize['WOfS_Wet_Sum']/Summarize['WOfS_Clear_Sum']"
   ]
  },
  {
   "cell_type": "code",
   "execution_count": 13,
   "metadata": {},
   "outputs": [],
   "source": [
    "#Define water body classes for CEO based on thresholding \n",
    "Summarize.loc[Summarize['Actual_Sum'] == 0.0, 'CEO_TYPE'] = 'Dry'\n",
    "Summarize.loc[(Summarize['Actual_Sum'] != 0.0) & (Summarize['CEO_FREQUENCY'] <= 0.9), 'CEO_TYPE'] = 'Ephemeral'  \n",
    "Summarize.loc[(Summarize['Actual_Sum'] != 0.0) & (Summarize['CEO_FREQUENCY'] > 0.9), 'CEO_TYPE'] = 'Permanent'"
   ]
  },
  {
   "cell_type": "code",
   "execution_count": 14,
   "metadata": {},
   "outputs": [],
   "source": [
    "#Define water body classes for WOfS based on thresholding \n",
    "Summarize.loc[Summarize['WOfS_Sum'] == 0.0, 'WOfS_TYPE'] = 'Dry'\n",
    "Summarize.loc[(Summarize['WOfS_Sum'] != 0.0) & (Summarize['WOfS_FREQUENCY'] <= 0.9), 'WOfS_TYPE'] = 'Ephemeral'  \n",
    "Summarize.loc[(Summarize['WOfS_Sum'] != 0.0) & (Summarize['WOfS_FREQUENCY'] > 0.9), 'WOfS_TYPE'] = 'Permanent'"
   ]
  },
  {
   "cell_type": "code",
   "execution_count": 15,
   "metadata": {},
   "outputs": [],
   "source": [
    "# #Define water body classes for WOfS based on thresholding \n",
    "Summarize.loc[Summarize['WOfS_Wet_Sum'] == 0.0, 'WOfS_TYPE_O'] = 'Dry'\n",
    "Summarize.loc[(Summarize['WOfS_Wet_Sum'] != 0.0) & (Summarize['WOfS_FREQ'] <= 0.9), 'WOfS_TYPE_O'] = 'Ephemeral'  \n",
    "Summarize.loc[(Summarize['WOfS_Wet_Sum'] != 0.0) & (Summarize['WOfS_FREQ'] > 0.9), 'WOfS_TYPE_O'] = 'Permanent'"
   ]
  },
  {
   "cell_type": "code",
   "execution_count": 16,
   "metadata": {},
   "outputs": [],
   "source": [
    "# Summarize.head(n=10)"
   ]
  },
  {
   "cell_type": "code",
   "execution_count": 17,
   "metadata": {},
   "outputs": [],
   "source": [
    "Summarize.to_csv(('../Supplementary_data/Validation/Refined/Continent/WOfS_Summary/Africa_WOfS_validation_inland_Summarize_T0.9_Classified.csv'))"
   ]
  },
  {
   "cell_type": "markdown",
   "metadata": {},
   "source": [
    "### Extract the AEZ-based Validation Data Points from Africa Continental Dataset  "
   ]
  },
  {
   "cell_type": "code",
   "execution_count": 18,
   "metadata": {},
   "outputs": [],
   "source": [
    "#Read the ground truth data following analysis step \n",
    "CEO = '../Supplementary_data/Validation/Refined/Continent/WOfS_Summary/Africa_WOfS_validation_inland_Summarize_T0.9_Classified.csv'\n",
    "df = pd.read_csv(CEO,delimiter=\",\")"
   ]
  },
  {
   "cell_type": "code",
   "execution_count": 19,
   "metadata": {},
   "outputs": [
    {
     "data": {
      "text/plain": [
       "Index(['Unnamed: 0', 'PLOT_ID', 'LON', 'LAT', 'CLASS', 'MONTH', 'ACTUAL',\n",
       "       'CLASS_WET', 'CLEAR_OBS', 'PREDICTION', 'Actual_Sum', 'WOfS_Sum',\n",
       "       'Actual_count', 'WOfS_count', 'WOfS_Wet_Sum', 'WOfS_Clear_Sum',\n",
       "       'CEO_FREQUENCY', 'WOfS_FREQUENCY', 'WOfS_FREQ', 'CEO_TYPE', 'WOfS_TYPE',\n",
       "       'WOfS_TYPE_O'],\n",
       "      dtype='object')"
      ]
     },
     "execution_count": 19,
     "metadata": {},
     "output_type": "execute_result"
    }
   ],
   "source": [
    "df.columns"
   ]
  },
  {
   "cell_type": "code",
   "execution_count": 20,
   "metadata": {},
   "outputs": [],
   "source": [
    "#input_data=df.drop(['Unnamed: 0'], axis=1)\n",
    "input_data=df.drop(['Unnamed: 0'], axis=1)"
   ]
  },
  {
   "cell_type": "code",
   "execution_count": 21,
   "metadata": {},
   "outputs": [],
   "source": [
    "geometry = [Point(xy) for xy in zip(input_data.LON, input_data.LAT)]\n",
    "crs = {'init': 'epsg:4326'} \n",
    "ValPoints = GeoDataFrame(input_data, crs=crs, geometry=geometry)"
   ]
  },
  {
   "cell_type": "code",
   "execution_count": 22,
   "metadata": {},
   "outputs": [],
   "source": [
    "#Reading the boundary file for African countries \n",
    "aez = '../Supplementary_data/Validation/Refined/Continent/shapefile/AEZs_simple_eastern.shp'"
   ]
  },
  {
   "cell_type": "code",
   "execution_count": 23,
   "metadata": {},
   "outputs": [],
   "source": [
    "outline = gpd.read_file(aez).to_crs('EPSG:4326')\n",
    "#outline"
   ]
  },
  {
   "cell_type": "code",
   "execution_count": 24,
   "metadata": {},
   "outputs": [],
   "source": [
    "#Clipping the input data with the buffer zone to have all inland points that are not coastal \n",
    "include_points = gpd.clip(ValPoints, outline)"
   ]
  },
  {
   "cell_type": "code",
   "execution_count": 25,
   "metadata": {},
   "outputs": [],
   "source": [
    "include_points.to_csv(('../Supplementary_data/Validation/Refined/Continent/AEZs_Assessment/Africa_WOfS_Validation_Class_Eastern_T0.9.csv'))"
   ]
  },
  {
   "cell_type": "markdown",
   "metadata": {},
   "source": [
    "### Accuracy Assessment "
   ]
  },
  {
   "cell_type": "markdown",
   "metadata": {},
   "source": [
    "In order to assess the tables extracted from WOfS or S2 tables as above classification for the type of water features i.e. dry, ephemeral, and permanent, the following cells need to be run:"
   ]
  },
  {
   "cell_type": "code",
   "execution_count": 30,
   "metadata": {},
   "outputs": [
    {
     "data": {
      "text/plain": [
       "Index(['Unnamed: 0', 'PLOT_ID', 'LON', 'LAT', 'CLASS', 'MONTH', 'ACTUAL',\n",
       "       'CLASS_WET', 'CLEAR_OBS', 'PREDICTION', 'Actual_Sum', 'WOfS_Sum',\n",
       "       'Actual_count', 'WOfS_count', 'WOfS_Wet_Sum', 'WOfS_Clear_Sum',\n",
       "       'CEO_FREQUENCY', 'WOfS_FREQUENCY', 'WOfS_FREQ', 'CEO_TYPE', 'WOfS_TYPE',\n",
       "       'WOfS_TYPE_O', 'geometry'],\n",
       "      dtype='object')"
      ]
     },
     "execution_count": 30,
     "metadata": {},
     "output_type": "execute_result"
    }
   ],
   "source": [
    "#Reading the classification table extracted  from 0.9 thresholding of the frequncy for each AEZ exteracted from WOfS_Validation_Africa notebook \n",
    "SummaryTable = '../Supplementary_data/Validation/Refined/Continent/AEZs_Assessment/Africa_WOfS_Validation_Class_Northern_T0.9.csv'\n",
    "CLF = pd.read_csv(SummaryTable,delimiter=\",\")\n",
    "CLF.columns"
   ]
  },
  {
   "cell_type": "code",
   "execution_count": 31,
   "metadata": {},
   "outputs": [],
   "source": [
    "sn.set()\n",
    "sn.set_theme(color_codes=True)"
   ]
  },
  {
   "cell_type": "code",
   "execution_count": 32,
   "metadata": {},
   "outputs": [
    {
     "data": {
      "image/png": "[encoded data removed]",
      "text/plain": [
       "<Figure size 432x288 with 1 Axes>"
      ]
     },
     "metadata": {},
     "output_type": "display_data"
    }
   ],
   "source": [
    "sn.distplot(CLF['Actual_count']);"
   ]
  },
  {
   "cell_type": "code",
   "execution_count": 33,
   "metadata": {},
   "outputs": [
    {
     "data": {
      "text/html": [
       "<div>\n",
       "<style scoped>\n",
       "    .dataframe tbody tr th:only-of-type {\n",
       "        vertical-align: middle;\n",
       "    }\n",
       "\n",
       "    .dataframe tbody tr th {\n",
       "        vertical-align: top;\n",
       "    }\n",
       "\n",
       "    .dataframe thead th {\n",
       "        text-align: right;\n",
       "    }\n",
       "</style>\n",
       "<table border=\"1\" class=\"dataframe\">\n",
       "  <thead>\n",
       "    <tr style=\"text-align: right;\">\n",
       "      <th></th>\n",
       "      <th>PLOT_ID</th>\n",
       "      <th>LON</th>\n",
       "      <th>LAT</th>\n",
       "      <th>CLASS</th>\n",
       "      <th>CEO_FREQUENCY</th>\n",
       "      <th>WOfS_FREQUENCY</th>\n",
       "      <th>WOfS_FREQ</th>\n",
       "      <th>CEO_TYPE</th>\n",
       "      <th>WOfS_TYPE</th>\n",
       "      <th>WOfS_TYPE_O</th>\n",
       "    </tr>\n",
       "  </thead>\n",
       "  <tbody>\n",
       "    <tr>\n",
       "      <th>0</th>\n",
       "      <td>137755561</td>\n",
       "      <td>-8.847683</td>\n",
       "      <td>30.996639</td>\n",
       "      <td>Barren (Bare soil / Rocky Land)</td>\n",
       "      <td>0.0</td>\n",
       "      <td>0.500000</td>\n",
       "      <td>0.250000</td>\n",
       "      <td>Dry</td>\n",
       "      <td>Ephemeral</td>\n",
       "      <td>Ephemeral</td>\n",
       "    </tr>\n",
       "    <tr>\n",
       "      <th>1</th>\n",
       "      <td>137755562</td>\n",
       "      <td>29.639551</td>\n",
       "      <td>30.982425</td>\n",
       "      <td>I am unsure</td>\n",
       "      <td>1.0</td>\n",
       "      <td>1.000000</td>\n",
       "      <td>0.444444</td>\n",
       "      <td>Permanent</td>\n",
       "      <td>Permanent</td>\n",
       "      <td>Ephemeral</td>\n",
       "    </tr>\n",
       "    <tr>\n",
       "      <th>2</th>\n",
       "      <td>137755563</td>\n",
       "      <td>31.242680</td>\n",
       "      <td>30.954004</td>\n",
       "      <td>Wetlands - freshwater</td>\n",
       "      <td>0.6</td>\n",
       "      <td>0.800000</td>\n",
       "      <td>0.500000</td>\n",
       "      <td>Ephemeral</td>\n",
       "      <td>Ephemeral</td>\n",
       "      <td>Ephemeral</td>\n",
       "    </tr>\n",
       "    <tr>\n",
       "      <th>3</th>\n",
       "      <td>137755564</td>\n",
       "      <td>-7.271915</td>\n",
       "      <td>30.949085</td>\n",
       "      <td>Wetlands - freshwater</td>\n",
       "      <td>0.6</td>\n",
       "      <td>0.000000</td>\n",
       "      <td>0.000000</td>\n",
       "      <td>Ephemeral</td>\n",
       "      <td>Dry</td>\n",
       "      <td>Dry</td>\n",
       "    </tr>\n",
       "    <tr>\n",
       "      <th>4</th>\n",
       "      <td>137755565</td>\n",
       "      <td>-6.064282</td>\n",
       "      <td>30.936518</td>\n",
       "      <td>Barren (Bare soil / Rocky Land)</td>\n",
       "      <td>0.0</td>\n",
       "      <td>0.142857</td>\n",
       "      <td>0.071429</td>\n",
       "      <td>Dry</td>\n",
       "      <td>Ephemeral</td>\n",
       "      <td>Ephemeral</td>\n",
       "    </tr>\n",
       "    <tr>\n",
       "      <th>...</th>\n",
       "      <td>...</td>\n",
       "      <td>...</td>\n",
       "      <td>...</td>\n",
       "      <td>...</td>\n",
       "      <td>...</td>\n",
       "      <td>...</td>\n",
       "      <td>...</td>\n",
       "      <td>...</td>\n",
       "      <td>...</td>\n",
       "      <td>...</td>\n",
       "    </tr>\n",
       "    <tr>\n",
       "      <th>186</th>\n",
       "      <td>137755553</td>\n",
       "      <td>31.998850</td>\n",
       "      <td>31.150663</td>\n",
       "      <td>Cultivated (Cropland/ Plantation)</td>\n",
       "      <td>0.0</td>\n",
       "      <td>0.000000</td>\n",
       "      <td>0.000000</td>\n",
       "      <td>Dry</td>\n",
       "      <td>Dry</td>\n",
       "      <td>Dry</td>\n",
       "    </tr>\n",
       "    <tr>\n",
       "      <th>187</th>\n",
       "      <td>137755555</td>\n",
       "      <td>-3.786445</td>\n",
       "      <td>31.125477</td>\n",
       "      <td>Barren (Bare soil / Rocky Land)</td>\n",
       "      <td>0.0</td>\n",
       "      <td>0.000000</td>\n",
       "      <td>0.000000</td>\n",
       "      <td>Dry</td>\n",
       "      <td>Dry</td>\n",
       "      <td>Dry</td>\n",
       "    </tr>\n",
       "    <tr>\n",
       "      <th>188</th>\n",
       "      <td>137755558</td>\n",
       "      <td>30.981503</td>\n",
       "      <td>31.046950</td>\n",
       "      <td>Open water - freshwater</td>\n",
       "      <td>1.0</td>\n",
       "      <td>1.000000</td>\n",
       "      <td>0.600000</td>\n",
       "      <td>Permanent</td>\n",
       "      <td>Permanent</td>\n",
       "      <td>Ephemeral</td>\n",
       "    </tr>\n",
       "    <tr>\n",
       "      <th>189</th>\n",
       "      <td>137755559</td>\n",
       "      <td>29.759257</td>\n",
       "      <td>31.046130</td>\n",
       "      <td>Open water - Constructed (e.g. aquaculture)</td>\n",
       "      <td>1.0</td>\n",
       "      <td>1.000000</td>\n",
       "      <td>0.727273</td>\n",
       "      <td>Permanent</td>\n",
       "      <td>Permanent</td>\n",
       "      <td>Ephemeral</td>\n",
       "    </tr>\n",
       "    <tr>\n",
       "      <th>190</th>\n",
       "      <td>137755560</td>\n",
       "      <td>32.430103</td>\n",
       "      <td>31.028901</td>\n",
       "      <td>Cultivated (Cropland/ Plantation)</td>\n",
       "      <td>0.0</td>\n",
       "      <td>0.500000</td>\n",
       "      <td>0.333333</td>\n",
       "      <td>Dry</td>\n",
       "      <td>Ephemeral</td>\n",
       "      <td>Ephemeral</td>\n",
       "    </tr>\n",
       "  </tbody>\n",
       "</table>\n",
       "<p>191 rows × 10 columns</p>\n",
       "</div>"
      ],
      "text/plain": [
       "       PLOT_ID        LON        LAT  \\\n",
       "0    137755561  -8.847683  30.996639   \n",
       "1    137755562  29.639551  30.982425   \n",
       "2    137755563  31.242680  30.954004   \n",
       "3    137755564  -7.271915  30.949085   \n",
       "4    137755565  -6.064282  30.936518   \n",
       "..         ...        ...        ...   \n",
       "186  137755553  31.998850  31.150663   \n",
       "187  137755555  -3.786445  31.125477   \n",
       "188  137755558  30.981503  31.046950   \n",
       "189  137755559  29.759257  31.046130   \n",
       "190  137755560  32.430103  31.028901   \n",
       "\n",
       "                                           CLASS  CEO_FREQUENCY  \\\n",
       "0                Barren (Bare soil / Rocky Land)            0.0   \n",
       "1                                    I am unsure            1.0   \n",
       "2                          Wetlands - freshwater            0.6   \n",
       "3                          Wetlands - freshwater            0.6   \n",
       "4                Barren (Bare soil / Rocky Land)            0.0   \n",
       "..                                           ...            ...   \n",
       "186            Cultivated (Cropland/ Plantation)            0.0   \n",
       "187              Barren (Bare soil / Rocky Land)            0.0   \n",
       "188                      Open water - freshwater            1.0   \n",
       "189  Open water - Constructed (e.g. aquaculture)            1.0   \n",
       "190            Cultivated (Cropland/ Plantation)            0.0   \n",
       "\n",
       "     WOfS_FREQUENCY  WOfS_FREQ   CEO_TYPE  WOfS_TYPE WOfS_TYPE_O  \n",
       "0          0.500000   0.250000        Dry  Ephemeral   Ephemeral  \n",
       "1          1.000000   0.444444  Permanent  Permanent   Ephemeral  \n",
       "2          0.800000   0.500000  Ephemeral  Ephemeral   Ephemeral  \n",
       "3          0.000000   0.000000  Ephemeral        Dry         Dry  \n",
       "4          0.142857   0.071429        Dry  Ephemeral   Ephemeral  \n",
       "..              ...        ...        ...        ...         ...  \n",
       "186        0.000000   0.000000        Dry        Dry         Dry  \n",
       "187        0.000000   0.000000        Dry        Dry         Dry  \n",
       "188        1.000000   0.600000  Permanent  Permanent   Ephemeral  \n",
       "189        1.000000   0.727273  Permanent  Permanent   Ephemeral  \n",
       "190        0.500000   0.333333        Dry  Ephemeral   Ephemeral  \n",
       "\n",
       "[191 rows x 10 columns]"
      ]
     },
     "execution_count": 33,
     "metadata": {},
     "output_type": "execute_result"
    }
   ],
   "source": [
    "#need to be revised \n",
    "CLF=CLF.drop(['Unnamed: 0','MONTH','ACTUAL','CLEAR_OBS','CLASS_WET','Actual_Sum','PREDICTION','WOfS_Sum', 'Actual_count','WOfS_count','geometry','WOfS_Wet_Sum','WOfS_Clear_Sum'], axis=1)\n",
    "CLF"
   ]
  },
  {
   "cell_type": "code",
   "execution_count": 51,
   "metadata": {},
   "outputs": [
    {
     "data": {
      "text/plain": [
       "PLOT_ID           52\n",
       "LON               52\n",
       "LAT               52\n",
       "CLASS             52\n",
       "CEO_FREQUENCY     52\n",
       "WOfS_FREQUENCY    52\n",
       "WOfS_FREQ         52\n",
       "CEO_TYPE          52\n",
       "WOfS_TYPE         52\n",
       "WOfS_TYPE_O       52\n",
       "dtype: int64"
      ]
     },
     "execution_count": 51,
     "metadata": {},
     "output_type": "execute_result"
    }
   ],
   "source": [
    "#CLF.loc[CLF.CLASS == 'Barren (Bare soil / Rocky Land)'].count()  # the result is 88\n",
    "CLF.loc[CLF.CLASS == 'Open water - freshwater'].count()"
   ]
  },
  {
   "cell_type": "code",
   "execution_count": 35,
   "metadata": {},
   "outputs": [],
   "source": [
    "confusion_matrix = pd.crosstab(CLF['CEO_TYPE'],CLF['WOfS_TYPE'],rownames=['CEO'],colnames=['WOfS'],margins=True)\n",
    "#confusion_matrix = pd.crosstab(CLF['CEO_TYPE'],CLF['WOfS_TYPE_O'],rownames=['CEO'],colnames=['WOfS'],margins=True)"
   ]
  },
  {
   "cell_type": "code",
   "execution_count": 36,
   "metadata": {},
   "outputs": [],
   "source": [
    "confusion_matrix[\"User's\"] = [confusion_matrix.loc['Dry']['Dry'] / confusion_matrix.loc['Dry']['All'] * 100, confusion_matrix.loc['Ephemeral']['Ephemeral'] / confusion_matrix.loc['Ephemeral']['All'] *100, confusion_matrix.loc['Permanent']['Permanent'] / confusion_matrix.loc['Permanent']['All'] *100,np.nan]"
   ]
  },
  {
   "cell_type": "code",
   "execution_count": 37,
   "metadata": {},
   "outputs": [],
   "source": [
    "producers_accuracy = pd.Series([confusion_matrix['Dry']['Dry'] / confusion_matrix['Dry']['All'] * 100,\n",
    "                                confusion_matrix['Ephemeral']['Ephemeral'] / confusion_matrix['Ephemeral']['All'] * 100,\n",
    "                                confusion_matrix['Permanent']['Permanent'] / confusion_matrix['Permanent']['All'] * 100]).rename(\"Producer's\")\n",
    "\n",
    "confusion_matrix = confusion_matrix.append(producers_accuracy)"
   ]
  },
  {
   "cell_type": "code",
   "execution_count": 38,
   "metadata": {},
   "outputs": [
    {
     "data": {
      "text/html": [
       "<div>\n",
       "<style scoped>\n",
       "    .dataframe tbody tr th:only-of-type {\n",
       "        vertical-align: middle;\n",
       "    }\n",
       "\n",
       "    .dataframe tbody tr th {\n",
       "        vertical-align: top;\n",
       "    }\n",
       "\n",
       "    .dataframe thead th {\n",
       "        text-align: right;\n",
       "    }\n",
       "</style>\n",
       "<table border=\"1\" class=\"dataframe\">\n",
       "  <thead>\n",
       "    <tr style=\"text-align: right;\">\n",
       "      <th></th>\n",
       "      <th>Dry</th>\n",
       "      <th>Ephemeral</th>\n",
       "      <th>Permanent</th>\n",
       "      <th>All</th>\n",
       "      <th>User's</th>\n",
       "      <th>0</th>\n",
       "      <th>1</th>\n",
       "      <th>2</th>\n",
       "    </tr>\n",
       "    <tr>\n",
       "      <th>CEO</th>\n",
       "      <th></th>\n",
       "      <th></th>\n",
       "      <th></th>\n",
       "      <th></th>\n",
       "      <th></th>\n",
       "      <th></th>\n",
       "      <th></th>\n",
       "      <th></th>\n",
       "    </tr>\n",
       "  </thead>\n",
       "  <tbody>\n",
       "    <tr>\n",
       "      <th>Dry</th>\n",
       "      <td>86.0</td>\n",
       "      <td>16.0</td>\n",
       "      <td>4.0</td>\n",
       "      <td>106.0</td>\n",
       "      <td>81.132075</td>\n",
       "      <td>NaN</td>\n",
       "      <td>NaN</td>\n",
       "      <td>NaN</td>\n",
       "    </tr>\n",
       "    <tr>\n",
       "      <th>Ephemeral</th>\n",
       "      <td>2.0</td>\n",
       "      <td>10.0</td>\n",
       "      <td>4.0</td>\n",
       "      <td>16.0</td>\n",
       "      <td>62.500000</td>\n",
       "      <td>NaN</td>\n",
       "      <td>NaN</td>\n",
       "      <td>NaN</td>\n",
       "    </tr>\n",
       "    <tr>\n",
       "      <th>Permanent</th>\n",
       "      <td>2.0</td>\n",
       "      <td>18.0</td>\n",
       "      <td>49.0</td>\n",
       "      <td>69.0</td>\n",
       "      <td>71.014493</td>\n",
       "      <td>NaN</td>\n",
       "      <td>NaN</td>\n",
       "      <td>NaN</td>\n",
       "    </tr>\n",
       "    <tr>\n",
       "      <th>All</th>\n",
       "      <td>90.0</td>\n",
       "      <td>44.0</td>\n",
       "      <td>57.0</td>\n",
       "      <td>191.0</td>\n",
       "      <td>NaN</td>\n",
       "      <td>NaN</td>\n",
       "      <td>NaN</td>\n",
       "      <td>NaN</td>\n",
       "    </tr>\n",
       "    <tr>\n",
       "      <th>Producer's</th>\n",
       "      <td>NaN</td>\n",
       "      <td>NaN</td>\n",
       "      <td>NaN</td>\n",
       "      <td>NaN</td>\n",
       "      <td>75.916230</td>\n",
       "      <td>95.555556</td>\n",
       "      <td>22.727273</td>\n",
       "      <td>85.964912</td>\n",
       "    </tr>\n",
       "  </tbody>\n",
       "</table>\n",
       "</div>"
      ],
      "text/plain": [
       "             Dry  Ephemeral  Permanent    All     User's          0  \\\n",
       "CEO                                                                   \n",
       "Dry         86.0       16.0        4.0  106.0  81.132075        NaN   \n",
       "Ephemeral    2.0       10.0        4.0   16.0  62.500000        NaN   \n",
       "Permanent    2.0       18.0       49.0   69.0  71.014493        NaN   \n",
       "All         90.0       44.0       57.0  191.0        NaN        NaN   \n",
       "Producer's   NaN        NaN        NaN    NaN  75.916230  95.555556   \n",
       "\n",
       "                    1          2  \n",
       "CEO                               \n",
       "Dry               NaN        NaN  \n",
       "Ephemeral         NaN        NaN  \n",
       "Permanent         NaN        NaN  \n",
       "All               NaN        NaN  \n",
       "Producer's  22.727273  85.964912  "
      ]
     },
     "execution_count": 38,
     "metadata": {},
     "output_type": "execute_result"
    }
   ],
   "source": [
    "confusion_matrix.loc[\"Producer's\", \"User's\"] = (confusion_matrix['Dry']['Dry'] + confusion_matrix['Ephemeral']['Ephemeral'] + confusion_matrix['Permanent']['Permanent']) / confusion_matrix['All']['All'] * 100\n",
    "confusion_matrix"
   ]
  },
  {
   "cell_type": "code",
   "execution_count": 39,
   "metadata": {},
   "outputs": [
    {
     "name": "stdout",
     "output_type": "stream",
     "text": [
      "              precision    recall  f1-score   support\n",
      "\n",
      "         Dry      0.956     0.811     0.878       106\n",
      "   Ephemeral      0.227     0.625     0.333        16\n",
      "   Permanent      0.860     0.710     0.778        69\n",
      "\n",
      "    accuracy                          0.759       191\n",
      "   macro avg      0.681     0.715     0.663       191\n",
      "weighted avg      0.860     0.759     0.796       191\n",
      "\n"
     ]
    }
   ],
   "source": [
    "print(metrics.classification_report(CLF['CEO_TYPE'], CLF['WOfS_TYPE'], digits=3))"
   ]
  },
  {
   "cell_type": "code",
   "execution_count": 40,
   "metadata": {},
   "outputs": [],
   "source": [
    "def r2(x, y):\n",
    "    return stats.pearsonr(x, y)[0] ** 2"
   ]
  },
  {
   "cell_type": "code",
   "execution_count": 41,
   "metadata": {},
   "outputs": [],
   "source": [
    "#r_value = r2(CLF[\"CEO_FREQUENCY\"], CLF[\"WOfS_FREQUENCY\"])\n",
    "r_value = r2(CLF[\"CEO_FREQUENCY\"], CLF[\"WOfS_FREQUENCY\"])\n",
    "r_value_r = round(r_value, 3)"
   ]
  },
  {
   "cell_type": "code",
   "execution_count": 42,
   "metadata": {},
   "outputs": [],
   "source": [
    "rmse = (np.sqrt(mean_squared_error(CLF['CEO_FREQUENCY'],CLF['WOfS_FREQUENCY'])))"
   ]
  },
  {
   "cell_type": "code",
   "execution_count": 43,
   "metadata": {},
   "outputs": [
    {
     "data": {
      "text/plain": [
       "array([0.78181818, 0.2       , 0.63636364])"
      ]
     },
     "execution_count": 43,
     "metadata": {},
     "output_type": "execute_result"
    }
   ],
   "source": [
    "jaccard_score(CLF[\"CEO_TYPE\"], CLF[\"WOfS_TYPE\"], average=None)"
   ]
  },
  {
   "cell_type": "code",
   "execution_count": 44,
   "metadata": {},
   "outputs": [
    {
     "data": {
      "image/png": "[encoded data removed]",
      "text/plain": [
       "<Figure size 432x432 with 3 Axes>"
      ]
     },
     "metadata": {},
     "output_type": "display_data"
    }
   ],
   "source": [
    "#In order to plot Probability Density functions of each variable, you need to use kind='kde'\n",
    "ax = sn.jointplot(CLF[\"CEO_FREQUENCY\"], CLF[\"WOfS_FREQUENCY\"], data=CLF, kind='reg', truncate=None);\n",
    "#ax = sn.jointplot(CLF[\"CEO_FREQUENCY\"], CLF[\"WOfS_FREQ\"], data=CLF, kind='reg', truncate=None);"
   ]
  },
  {
   "cell_type": "code",
   "execution_count": 45,
   "metadata": {},
   "outputs": [
    {
     "data": {
      "image/png": "[encoded data removed]",
      "text/plain": [
       "<Figure size 720x288 with 1 Axes>"
      ]
     },
     "metadata": {},
     "output_type": "display_data"
    }
   ],
   "source": [
    "plt.figure(figsize=(10,4))\n",
    "j = sn.regplot(data=CLF, x='CEO_FREQUENCY', y='WOfS_FREQUENCY',truncate=False);\n",
    "#j = sn.regplot(data=CLF, x='CEO_FREQUENCY', y='WOfS_FREQ',truncate=False);\n",
    "j.annotate('Spearmanr:'+str(r_value_r) + ' ' + 'rmse:' + str(round(rmse,4)), xy=(0.05, 0.8));"
   ]
  },
  {
   "cell_type": "code",
   "execution_count": 46,
   "metadata": {},
   "outputs": [],
   "source": [
    "Sample_ID = CLF[['WOfS_TYPE','CEO_FREQUENCY','WOfS_FREQUENCY']] \n",
    "#Sample_ID = CLF[['CLASS','CEO_FREQUENCY','WOfS_FREQENCY']] "
   ]
  },
  {
   "cell_type": "code",
   "execution_count": 50,
   "metadata": {},
   "outputs": [
    {
     "data": {
      "image/png": "[encoded data removed]",
      "text/plain": [
       "<Figure size 459.85x360 with 6 Axes>"
      ]
     },
     "metadata": {},
     "output_type": "display_data"
    }
   ],
   "source": [
    "sn.pairplot(Sample_ID, hue='WOfS_TYPE', size=2.5);"
   ]
  },
  {
   "cell_type": "code",
   "execution_count": 20,
   "metadata": {},
   "outputs": [
    {
     "data": {
      "image/png": "[encoded data removed]",
      "text/plain": [
       "<Figure size 598.85x360 with 1 Axes>"
      ]
     },
     "metadata": {},
     "output_type": "display_data"
    }
   ],
   "source": [
    "sn.displot(Sample_ID, x=\"CEO_FREQUENCY\", hue=\"CLASS\");"
   ]
  },
  {
   "cell_type": "code",
   "execution_count": 44,
   "metadata": {},
   "outputs": [
    {
     "data": {
      "image/png": "[encoded data removed]",
      "text/plain": [
       "<Figure size 432x288 with 2 Axes>"
      ]
     },
     "metadata": {},
     "output_type": "display_data"
    }
   ],
   "source": [
    "confusion_matrix = pd.crosstab(CLF['CEO_TYPE'],CLF['WOfS_TYPE'],rownames=['CEO'],colnames=['WOfS'])\n",
    "ax = plt.subplot()\n",
    "sn.heatmap(confusion_matrix, annot = True, cmap='Blues', fmt='g') #true to annotate cells \n",
    "ax.set_xlabel('WOfS Label'); ax.set_ylabel( 'CEO Label');\n",
    "ax.set_title(' Confusion Matrix - Eastern AEZ (T0.9)')\n",
    "ax.xaxis.set_ticklabels(['Dry','Ephemeral','Permanent']); \n",
    "ax.yaxis.set_ticklabels(['Dry','Ephemeral','Permanent'], rotation='horizontal');\n",
    "ax.xaxis.labelpad = 20;\n",
    "ax.yaxis.labelpad = 10;"
   ]
  },
  {
   "cell_type": "code",
   "execution_count": 45,
   "metadata": {},
   "outputs": [
    {
     "data": {
      "text/html": [
       "<div>\n",
       "<style scoped>\n",
       "    .dataframe tbody tr th:only-of-type {\n",
       "        vertical-align: middle;\n",
       "    }\n",
       "\n",
       "    .dataframe tbody tr th {\n",
       "        vertical-align: top;\n",
       "    }\n",
       "\n",
       "    .dataframe thead th {\n",
       "        text-align: right;\n",
       "    }\n",
       "</style>\n",
       "<table border=\"1\" class=\"dataframe\">\n",
       "  <thead>\n",
       "    <tr style=\"text-align: right;\">\n",
       "      <th>WOfS_TYPE</th>\n",
       "      <th>Dry</th>\n",
       "      <th>Ephemeral</th>\n",
       "      <th>Permanent</th>\n",
       "      <th>All</th>\n",
       "    </tr>\n",
       "    <tr>\n",
       "      <th>CLASS</th>\n",
       "      <th></th>\n",
       "      <th></th>\n",
       "      <th></th>\n",
       "      <th></th>\n",
       "    </tr>\n",
       "  </thead>\n",
       "  <tbody>\n",
       "    <tr>\n",
       "      <th>Barren (Bare soil / Rocky Land)</th>\n",
       "      <td>66</td>\n",
       "      <td>6</td>\n",
       "      <td>1</td>\n",
       "      <td>73</td>\n",
       "    </tr>\n",
       "    <tr>\n",
       "      <th>Cultivated (Cropland/ Plantation)</th>\n",
       "      <td>10</td>\n",
       "      <td>0</td>\n",
       "      <td>0</td>\n",
       "      <td>10</td>\n",
       "    </tr>\n",
       "    <tr>\n",
       "      <th>Forest/woodlands</th>\n",
       "      <td>5</td>\n",
       "      <td>0</td>\n",
       "      <td>0</td>\n",
       "      <td>5</td>\n",
       "    </tr>\n",
       "    <tr>\n",
       "      <th>Herbaceous/Grassland</th>\n",
       "      <td>5</td>\n",
       "      <td>1</td>\n",
       "      <td>0</td>\n",
       "      <td>6</td>\n",
       "    </tr>\n",
       "    <tr>\n",
       "      <th>I am unsure</th>\n",
       "      <td>2</td>\n",
       "      <td>0</td>\n",
       "      <td>0</td>\n",
       "      <td>2</td>\n",
       "    </tr>\n",
       "    <tr>\n",
       "      <th>Open water - Constructed (e.g. aquaculture)</th>\n",
       "      <td>0</td>\n",
       "      <td>4</td>\n",
       "      <td>2</td>\n",
       "      <td>6</td>\n",
       "    </tr>\n",
       "    <tr>\n",
       "      <th>Open water - freshwater</th>\n",
       "      <td>5</td>\n",
       "      <td>63</td>\n",
       "      <td>182</td>\n",
       "      <td>250</td>\n",
       "    </tr>\n",
       "    <tr>\n",
       "      <th>Open water - marine</th>\n",
       "      <td>0</td>\n",
       "      <td>8</td>\n",
       "      <td>45</td>\n",
       "      <td>53</td>\n",
       "    </tr>\n",
       "    <tr>\n",
       "      <th>Shrubs</th>\n",
       "      <td>13</td>\n",
       "      <td>3</td>\n",
       "      <td>0</td>\n",
       "      <td>16</td>\n",
       "    </tr>\n",
       "    <tr>\n",
       "      <th>Urban (Settlements/ roads)</th>\n",
       "      <td>1</td>\n",
       "      <td>0</td>\n",
       "      <td>0</td>\n",
       "      <td>1</td>\n",
       "    </tr>\n",
       "    <tr>\n",
       "      <th>Wetlands - freshwater</th>\n",
       "      <td>5</td>\n",
       "      <td>8</td>\n",
       "      <td>10</td>\n",
       "      <td>23</td>\n",
       "    </tr>\n",
       "    <tr>\n",
       "      <th>Wetlands - marine (e.g. mangroves)</th>\n",
       "      <td>0</td>\n",
       "      <td>3</td>\n",
       "      <td>2</td>\n",
       "      <td>5</td>\n",
       "    </tr>\n",
       "    <tr>\n",
       "      <th>All</th>\n",
       "      <td>112</td>\n",
       "      <td>96</td>\n",
       "      <td>242</td>\n",
       "      <td>450</td>\n",
       "    </tr>\n",
       "  </tbody>\n",
       "</table>\n",
       "</div>"
      ],
      "text/plain": [
       "WOfS_TYPE                                    Dry  Ephemeral  Permanent  All\n",
       "CLASS                                                                      \n",
       "Barren (Bare soil / Rocky Land)               66          6          1   73\n",
       "Cultivated (Cropland/ Plantation)             10          0          0   10\n",
       "Forest/woodlands                               5          0          0    5\n",
       "Herbaceous/Grassland                           5          1          0    6\n",
       "I am unsure                                    2          0          0    2\n",
       "Open water - Constructed (e.g. aquaculture)    0          4          2    6\n",
       "Open water - freshwater                        5         63        182  250\n",
       "Open water - marine                            0          8         45   53\n",
       "Shrubs                                        13          3          0   16\n",
       "Urban (Settlements/ roads)                     1          0          0    1\n",
       "Wetlands - freshwater                          5          8         10   23\n",
       "Wetlands - marine (e.g. mangroves)             0          3          2    5\n",
       "All                                          112         96        242  450"
      ]
     },
     "execution_count": 45,
     "metadata": {},
     "output_type": "execute_result"
    }
   ],
   "source": [
    "confusion_matrix = pd.crosstab(CLF['CLASS'],CLF['WOfS_TYPE'],rownames=['CLASS'],colnames=['WOfS_TYPE'],margins=True)\n",
    "confusion_matrix"
   ]
  },
  {
   "cell_type": "code",
   "execution_count": 46,
   "metadata": {},
   "outputs": [
    {
     "data": {
      "text/html": [
       "<div>\n",
       "<style scoped>\n",
       "    .dataframe tbody tr th:only-of-type {\n",
       "        vertical-align: middle;\n",
       "    }\n",
       "\n",
       "    .dataframe tbody tr th {\n",
       "        vertical-align: top;\n",
       "    }\n",
       "\n",
       "    .dataframe thead th {\n",
       "        text-align: right;\n",
       "    }\n",
       "</style>\n",
       "<table border=\"1\" class=\"dataframe\">\n",
       "  <thead>\n",
       "    <tr style=\"text-align: right;\">\n",
       "      <th>CEO_TYPE</th>\n",
       "      <th>Dry</th>\n",
       "      <th>Ephemeral</th>\n",
       "      <th>Permanent</th>\n",
       "      <th>All</th>\n",
       "    </tr>\n",
       "    <tr>\n",
       "      <th>CLASS</th>\n",
       "      <th></th>\n",
       "      <th></th>\n",
       "      <th></th>\n",
       "      <th></th>\n",
       "    </tr>\n",
       "  </thead>\n",
       "  <tbody>\n",
       "    <tr>\n",
       "      <th>Barren (Bare soil / Rocky Land)</th>\n",
       "      <td>73</td>\n",
       "      <td>0</td>\n",
       "      <td>0</td>\n",
       "      <td>73</td>\n",
       "    </tr>\n",
       "    <tr>\n",
       "      <th>Cultivated (Cropland/ Plantation)</th>\n",
       "      <td>10</td>\n",
       "      <td>0</td>\n",
       "      <td>0</td>\n",
       "      <td>10</td>\n",
       "    </tr>\n",
       "    <tr>\n",
       "      <th>Forest/woodlands</th>\n",
       "      <td>5</td>\n",
       "      <td>0</td>\n",
       "      <td>0</td>\n",
       "      <td>5</td>\n",
       "    </tr>\n",
       "    <tr>\n",
       "      <th>Herbaceous/Grassland</th>\n",
       "      <td>5</td>\n",
       "      <td>1</td>\n",
       "      <td>0</td>\n",
       "      <td>6</td>\n",
       "    </tr>\n",
       "    <tr>\n",
       "      <th>I am unsure</th>\n",
       "      <td>1</td>\n",
       "      <td>0</td>\n",
       "      <td>1</td>\n",
       "      <td>2</td>\n",
       "    </tr>\n",
       "    <tr>\n",
       "      <th>Open water - Constructed (e.g. aquaculture)</th>\n",
       "      <td>0</td>\n",
       "      <td>2</td>\n",
       "      <td>4</td>\n",
       "      <td>6</td>\n",
       "    </tr>\n",
       "    <tr>\n",
       "      <th>Open water - freshwater</th>\n",
       "      <td>0</td>\n",
       "      <td>39</td>\n",
       "      <td>211</td>\n",
       "      <td>250</td>\n",
       "    </tr>\n",
       "    <tr>\n",
       "      <th>Open water - marine</th>\n",
       "      <td>0</td>\n",
       "      <td>4</td>\n",
       "      <td>49</td>\n",
       "      <td>53</td>\n",
       "    </tr>\n",
       "    <tr>\n",
       "      <th>Shrubs</th>\n",
       "      <td>15</td>\n",
       "      <td>0</td>\n",
       "      <td>1</td>\n",
       "      <td>16</td>\n",
       "    </tr>\n",
       "    <tr>\n",
       "      <th>Urban (Settlements/ roads)</th>\n",
       "      <td>1</td>\n",
       "      <td>0</td>\n",
       "      <td>0</td>\n",
       "      <td>1</td>\n",
       "    </tr>\n",
       "    <tr>\n",
       "      <th>Wetlands - freshwater</th>\n",
       "      <td>3</td>\n",
       "      <td>7</td>\n",
       "      <td>13</td>\n",
       "      <td>23</td>\n",
       "    </tr>\n",
       "    <tr>\n",
       "      <th>Wetlands - marine (e.g. mangroves)</th>\n",
       "      <td>1</td>\n",
       "      <td>3</td>\n",
       "      <td>1</td>\n",
       "      <td>5</td>\n",
       "    </tr>\n",
       "    <tr>\n",
       "      <th>All</th>\n",
       "      <td>114</td>\n",
       "      <td>56</td>\n",
       "      <td>280</td>\n",
       "      <td>450</td>\n",
       "    </tr>\n",
       "  </tbody>\n",
       "</table>\n",
       "</div>"
      ],
      "text/plain": [
       "CEO_TYPE                                     Dry  Ephemeral  Permanent  All\n",
       "CLASS                                                                      \n",
       "Barren (Bare soil / Rocky Land)               73          0          0   73\n",
       "Cultivated (Cropland/ Plantation)             10          0          0   10\n",
       "Forest/woodlands                               5          0          0    5\n",
       "Herbaceous/Grassland                           5          1          0    6\n",
       "I am unsure                                    1          0          1    2\n",
       "Open water - Constructed (e.g. aquaculture)    0          2          4    6\n",
       "Open water - freshwater                        0         39        211  250\n",
       "Open water - marine                            0          4         49   53\n",
       "Shrubs                                        15          0          1   16\n",
       "Urban (Settlements/ roads)                     1          0          0    1\n",
       "Wetlands - freshwater                          3          7         13   23\n",
       "Wetlands - marine (e.g. mangroves)             1          3          1    5\n",
       "All                                          114         56        280  450"
      ]
     },
     "execution_count": 46,
     "metadata": {},
     "output_type": "execute_result"
    }
   ],
   "source": [
    "confusion_matrix2 = pd.crosstab(CLF['CLASS'],CLF['CEO_TYPE'],rownames=['CLASS'],colnames=['CEO_TYPE'],margins=True)\n",
    "confusion_matrix2"
   ]
  },
  {
   "cell_type": "markdown",
   "metadata": {},
   "source": [
    "### Classification Based on WOfS or S2 SCL Extracted Tables"
   ]
  },
  {
   "cell_type": "code",
   "execution_count": null,
   "metadata": {},
   "outputs": [],
   "source": [
    "print(datacube.__version__)"
   ]
  },
  {
   "cell_type": "markdown",
   "metadata": {},
   "source": [
    "***\n",
    "\n",
    "## Additional information\n",
    "\n",
    "**License:** The code in this notebook is licensed under the [Apache License, Version 2.0](https://www.apache.org/licenses/LICENSE-2.0). \n",
    "Digital Earth Africa data is licensed under the [Creative Commons by Attribution 4.0](https://creativecommons.org/licenses/by/4.0/) license.\n",
    "\n",
    "**Contact:** If you need assistance, please post a question on the [Open Data Cube Slack channel](http://slack.opendatacube.org/) or on the [GIS Stack Exchange](https://gis.stackexchange.com/questions/ask?tags=open-data-cube) using the `open-data-cube` tag (you can view previously asked questions [here](https://gis.stackexchange.com/questions/tagged/open-data-cube)).\n",
    "If you would like to report an issue with this notebook, you can file one on [Github](https://github.com/digitalearthafrica/deafrica-sandbox-notebooks).\n",
    "\n",
    "**Last modified:** September 2020\n",
    "\n",
    "**Compatible datacube version:** "
   ]
  },
  {
   "cell_type": "markdown",
   "metadata": {},
   "source": [
    "## Tags\n",
    "Browse all available tags on the DE Africa User Guide's [Tags Index](https://) (placeholder as this does not exist yet)"
   ]
  },
  {
   "cell_type": "raw",
   "metadata": {
    "raw_mimetype": "text/restructuredtext"
   },
   "source": [
    "**Tags**:  :index:`WOfS`, :index:`fractional cover`, :index:`deafrica_plotting`, :index:`deafrica_datahandling`, :index:`display_map`, :index:`wofs_fuser`, :index:`WOFL`, :index:`masking`"
   ]
  }
 ],
 "metadata": {
  "kernelspec": {
   "display_name": "Python 3",
   "language": "python",
   "name": "python3"
  },
  "language_info": {
   "codemirror_mode": {
    "name": "ipython",
    "version": 3
   },
   "file_extension": ".py",
   "mimetype": "text/x-python",
   "name": "python",
   "nbconvert_exporter": "python",
   "pygments_lexer": "ipython3",
   "version": "3.6.9"
  },
  "widgets": {
   "application/vnd.jupyter.widget-state+json": {
    "state": {
     "9e3fa49adf8c4170abfcd954c2ec045a": {
      "model_module": "jupyter-leaflet",
      "model_module_version": "^0.11.1",
      "model_name": "LeafletZoomControlModel",
      "state": {
       "_model_module_version": "^0.11.1",
       "_view_count": null,
       "_view_module_version": "^0.11.1",
       "options": [
        "position",
        "zoom_in_text",
        "zoom_in_title",
        "zoom_out_text",
        "zoom_out_title"
       ]
      }
     },
     "dc642f11c1fb492ca419b0ed6fc4f8c3": {
      "model_module": "jupyter-leaflet",
      "model_module_version": "^0.11.1",
      "model_name": "LeafletAttributionControlModel",
      "state": {
       "_model_module_version": "^0.11.1",
       "_view_count": null,
       "_view_module_version": "^0.11.1",
       "options": [
        "position",
        "prefix"
       ],
       "position": "bottomright",
       "prefix": "Leaflet"
      }
     }
    },
    "version_major": 2,
    "version_minor": 0
   }
  }
 },
 "nbformat": 4,
 "nbformat_minor": 4
}
