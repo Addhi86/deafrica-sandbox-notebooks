{
 "cells": [
  {
   "cell_type": "markdown",
   "metadata": {},
   "source": [
    "# Monitoring Water Quality\n",
    "\n",
    "* **Products used:** \n",
    "[ls8_sr](https://explorer.digitalearth.africa/ls8_sr), \n",
    "[ga_ls8_wofs_2](https://explorer.digitalearth.africa/products/ga_ls8c_wofs_2)"
   ]
  },
  {
   "cell_type": "raw",
   "metadata": {
    "raw_mimetype": "text/restructuredtext"
   },
   "source": [
    "**Keywords** :index:`data used; landsat 8`, :index:`data methods; compositing`, :index:`dask`, :index:`water quality`"
   ]
  },
  {
   "cell_type": "markdown",
   "metadata": {},
   "source": [
    "## Background\n",
    "The UN [SDG 6.3.2](https://www.sdg6monitoring.org/indicator-632/) indicator is the \"proportion of bodies of water with good ambient water quality\". There are many ways to measure water quality using remote sensing based algorithms; this notebook compares several of them. They usually estimate the amount of suspended matter in water."
   ]
  },
  {
   "cell_type": "markdown",
   "metadata": {},
   "source": [
    "## Description\n",
    "This notebook shows results for three empirical algorithms and one spectral index addressing total suspended matter (TSM) in water.\n",
    "There are a number of caveats to be aware of when applying these algorithms:\n",
    "\n",
    "* These algorithms were developed for specific regions of the world and are not necessarily universally valid.\n",
    "* Landsat-8 data is a surface reflectance product, and since water has a very low radiance, the accuracy of the results can be severaly impacted by small differences in atmospheric conditions, or differences in atmospheric correction algorithms.\n",
    "* The colorbars for these results have been removed to avoid showing specific quantities for the TSM results. It is best to use these results to assess qualitative changes in water quality (e.g. low, medium, high). With improvements in analysis-ready data (e.g. water leaving radiance), and with in-situ sampling of water bodies for empirical modelling, it will be possible to increase the accuracy of these water quality results and even consider the numerical output. \n",
    "\n",
    "\n",
    "The showcased water quality algorithms are:\n",
    "\n",
    "1. Lymburner Total Suspended Matter (TSM)\n",
    "2. Suspended Particulate Model (SPM)\n",
    "3. Normalized Difference Suspended Sediment Index (NDSSI)\n",
    "4. Quang Total Suspended Solids (TSS)\n",
    "\n",
    "***"
   ]
  },
  {
   "cell_type": "markdown",
   "metadata": {},
   "source": [
    "## Getting started\n",
    "\n",
    "To run this analysis, run all the cells in the notebook, starting with the \"Load packages\" cell. "
   ]
  },
  {
   "cell_type": "markdown",
   "metadata": {},
   "source": [
    "### Load packages\n",
    "Import Python packages that are used for the analysis."
   ]
  },
  {
   "cell_type": "code",
   "execution_count": null,
   "metadata": {},
   "outputs": [],
   "source": [
    "%matplotlib inline\n",
    "\n",
    "import datacube\n",
    "import numpy as np\n",
    "import xarray as xr\n",
    "import matplotlib.pyplot as plt\n",
    "from odc.algo import xr_geomedian\n",
    "\n",
    "from deafrica_tools.dask import create_local_dask_cluster\n",
    "from deafrica_tools.plotting import display_map, rgb\n",
    "from deafrica_tools.datahandling import load_ard, mostcommon_crs, wofs_fuser\n"
   ]
  },
  {
   "cell_type": "markdown",
   "metadata": {},
   "source": [
    "### Set up a Dask cluster\n",
    "\n",
    "Dask can be used to better manage memory use and conduct the analysis in parallel.\n",
    "For an introduction to using Dask with Digital Earth Africa, see the [Dask notebook](../Beginners_guide/08_Parallel_processing_with_dask.ipynb).\n",
    "\n",
    ">**Note**: We recommend opening the Dask processing window to view the different computations that are being executed; to do this, see the *Dask dashboard in DE Africa* section of the [Dask notebook](../Beginners_guide/08_Parallel_processing_with_dask.ipynb).\n",
    "\n",
    "To use Dask, set up the local computing cluster using the cell below."
   ]
  },
  {
   "cell_type": "code",
   "execution_count": null,
   "metadata": {},
   "outputs": [],
   "source": [
    "create_local_dask_cluster()"
   ]
  },
  {
   "cell_type": "markdown",
   "metadata": {},
   "source": [
    "### Connect to the datacube\n",
    "Activate the datacube database, which provides functionality for loading and displaying stored Earth observation data."
   ]
  },
  {
   "cell_type": "code",
   "execution_count": null,
   "metadata": {},
   "outputs": [],
   "source": [
    "dc = datacube.Datacube(app=\"Monitoring_water_quality\")"
   ]
  },
  {
   "cell_type": "markdown",
   "metadata": {},
   "source": [
    "### Analysis parameters\n",
    "\n",
    "The following cell sets important parameters for the analysis. The parameters are:\n",
    "\n",
    "* `lat`: The central latitude to analyse (e.g. `10.338`).\n",
    "* `lon`: The central longitude to analyse (e.g. `-1.055`).\n",
    "* `lat_buffer`: The number of degrees to load around the central latitude.\n",
    "* `lon_buffer`: The number of degrees to load around the central longitude.\n",
    "* `time_range`: The time range to analyze - in YYYY-MM-DD format (e.g. `('2016-01-01', '2016-12-31')`).\n",
    "\n",
    "**If running the notebook for the first time**, keep the default settings below.\n",
    "This will demonstrate how the analysis works and provide meaningful results.\n",
    "The example covers water quality in Lake Manyara.\n",
    "\n",
    "**To run the notebook for a different area**, make sure Landsat 8 data is available for the chosen area using the [DEAfrica Explorer](https://explorer.digitalearth.africa).\n",
    "Use the drop-down menu to check Landsat 8 (`ls8_usgs_sr_scene`).\n",
    "\n",
    "#### Suggested areas\n",
    "Here are some suggestions for areas to look at. To view one of these areas, copy and paste the parameter values into the cell below, then run the notebook.\n",
    "\n",
    "**Lake Manyara, Tanzania**\n",
    "```\n",
    "lat = -3.611\n",
    "lon = 35.8261\n",
    "lat_buffer = 0.2025\n",
    "lon_buffer = 0.1025\n",
    "```\n",
    "\n",
    "**Weija Reservoir, Ghana**\n",
    "```\n",
    "lat = 5.583\n",
    "lon = -0.366\n",
    "lat_buffer = 0.042\n",
    "lon_buffer = 0.038\n",
    "```\n",
    "\n",
    "**Lake Sulunga, Tanzania**\n",
    "```\n",
    "lat = -6.06\n",
    "lon = 35.17\n",
    "lat_buffer = 0.2\n",
    "lon_buffer = 0.19\n",
    "```"
   ]
  },
  {
   "cell_type": "markdown",
   "metadata": {},
   "source": [
    "### Select location"
   ]
  },
  {
   "cell_type": "code",
   "execution_count": null,
   "metadata": {},
   "outputs": [],
   "source": [
    "# Define the area of interest\n",
    "lat = -3.611\n",
    "lon = 35.8261\n",
    "lat_buffer = 0.2025\n",
    "lon_buffer = 0.1025\n",
    "\n",
    "# Combine central lat,lon with buffer to get area of interest\n",
    "lat_range = (lat - lat_buffer, lat + lat_buffer)\n",
    "lon_range = (lon - lon_buffer, lon + lon_buffer)\n",
    "\n",
    "# Time period\n",
    "time_range = (\"2016-02-15\", \"2016-02-17\")"
   ]
  },
  {
   "cell_type": "markdown",
   "metadata": {},
   "source": [
    "## View the selected location\n",
    "The next cell will display the selected area on an interactive map.\n",
    "Feel free to zoom in and out to get a better understanding of the area you'll be analysing.\n",
    "Clicking on any point of the map will reveal the latitude and longitude coordinates of that point."
   ]
  },
  {
   "cell_type": "code",
   "execution_count": null,
   "metadata": {},
   "outputs": [],
   "source": [
    "# The code below renders a map that can be used to view the region.\n",
    "display_map(lon_range, lat_range)"
   ]
  },
  {
   "cell_type": "markdown",
   "metadata": {},
   "source": [
    "## Load the data\n",
    "We can use the [load_ard](Using_load_ard.ipynb) function to load data from multiple satellites (i.e. Landsat 7 and Landsat 8), and return a single `xarray.Dataset` containing only observations with a minimum percentage of good quality pixels.\n",
    "\n",
    "In the example below, we request that the function returns only observations which are 90% free of clouds and other poor quality pixels by specifying `min_gooddata=0.90`."
   ]
  },
  {
   "cell_type": "code",
   "execution_count": null,
   "metadata": {},
   "outputs": [],
   "source": [
    "# Create the 'query' dictionary object, which contains the longitudes,\n",
    "# latitudes and time provided above\n",
    "product = \"ls8_sr\"\n",
    "query = {\n",
    "    \"x\": lon_range,\n",
    "    \"y\": lat_range,\n",
    "    \"time\": time_range,\n",
    "    \"resolution\": (-30, 30),\n",
    "    \"align\": (15, 15),\n",
    "}\n",
    "\n",
    "# Identify the most common projection system in the input query\n",
    "output_crs = mostcommon_crs(dc=dc, product=product, query=query)\n",
    "\n",
    "# Load available data\n",
    "landsat_dataset = load_ard(\n",
    "    dc=dc,\n",
    "    products=[product],\n",
    "    measurements=[\"red\", \"green\", \"blue\", \"nir\"],\n",
    "    group_by=\"solar_day\",\n",
    "    dask_chunks={\"time\": 1, \"x\": 2000, \"y\": 2000},\n",
    "    output_crs=output_crs,\n",
    "    min_gooddata=0.90,\n",
    "    **query\n",
    ")"
   ]
  },
  {
   "cell_type": "markdown",
   "metadata": {},
   "source": [
    "**Once the load is complete**, examine the data by printing it in the next cell.\n",
    "The `Dimensions` attribute revels the number of time steps in the data set, as well as the number of pixels in the `x` (longitude) and `y` (latitude) dimensions."
   ]
  },
  {
   "cell_type": "code",
   "execution_count": null,
   "metadata": {},
   "outputs": [],
   "source": [
    "landsat_dataset"
   ]
  },
  {
   "cell_type": "markdown",
   "metadata": {},
   "source": [
    "### Create a geomedian composite and show the water extents\n",
    "The first step in this analysis is to obtain a `geomedian composite` of the data. \n",
    "\n",
    "> NOTE: If you're using the default parameters, then there is only one time step in the dataset, in which case creating a composite doesn't make sense. However, if you extend the `time_range` parameter, then the dataset will contain multiple timesteps, making it necessary to calculate a composite image using the geomedain code block below.\n",
    "\n",
    "The geomedian composite is a representative image generated from the loaded data; it is less likely to be affected by cloud cover and haze.\n",
    "If you would like to know more about geomedian composites or the `xr_geomedian` function used to calculate it below, see the [Generating geomedian composites notebook](Generating_geomedian_composites.ipynb). The composite will be used to calculate the indicies that reflect water quality.\n",
    "\n",
    "To make sure the algorithms for measuring water quality are only applied to areas with water, it is useful to extract the water extent from the [Water Observations from Space (WOfS) product](https://explorer.digitalearth.africa/ga_ls8c_wofs_2).\n",
    "The water extent can then be used to mask the geomedian composite so that the water quality indices are only shown for pixels that are water.\n",
    "Pixels that are water are selected using the condition that `water == 128`. \n",
    "To learn more about working with WOfS bit flags, see the [Applying WOfS bitmasking notebook](Applying_WOfS_bitmasking.ipynb)."
   ]
  },
  {
   "cell_type": "code",
   "execution_count": null,
   "metadata": {},
   "outputs": [],
   "source": [
    "# Create a geomedian mosaic.\n",
    "land_and_water_composite = xr_geomedian(landsat_dataset)"
   ]
  },
  {
   "cell_type": "code",
   "execution_count": null,
   "metadata": {},
   "outputs": [],
   "source": [
    "# Load water observations\n",
    "water = (\n",
    "    dc.load(\n",
    "        product=\"ga_ls8c_wofs_2\",\n",
    "        group_by=\"solar_day\",\n",
    "        dask_chunks={\"time\": 1, \"x\": 2000, \"y\": 2000},\n",
    "        output_crs=output_crs,\n",
    "        **query\n",
    "    ).water == 128\n",
    ")"
   ]
  },
  {
   "cell_type": "code",
   "execution_count": null,
   "metadata": {},
   "outputs": [],
   "source": [
    "# Set the water extent to be made of all pixels classfied as water over all observations\n",
    "water_extent = water.max(\"time\").persist()"
   ]
  },
  {
   "cell_type": "code",
   "execution_count": null,
   "metadata": {},
   "outputs": [],
   "source": [
    "# Plot the geomedian composite and water extent\n",
    "fig, ax = plt.subplots(1, 2, figsize=(12, 6))\n",
    "\n",
    "#plot the true colour image\n",
    "rgb(land_and_water_composite, ax=ax[0])\n",
    "\n",
    "#plot the water extent from WOfS\n",
    "water_extent.plot.imshow(ax=ax[1], cmap=\"Blues\", add_colorbar=False)\n",
    "\n",
    "# Titles\n",
    "ax[0].set_title(\"Geomedian Mosaic\"), ax[0].xaxis.set_visible(False), ax[0].yaxis.set_visible(False)\n",
    "ax[1].set_title(\"Water Extent\"), ax[1].xaxis.set_visible(False), ax[1].yaxis.set_visible(False)\n",
    "\n",
    "plt.show()"
   ]
  },
  {
   "cell_type": "markdown",
   "metadata": {},
   "source": [
    "If the default settings were used, we should see that Lake Manyara appears to be significantly polluted in the northern half on February 16, 2016."
   ]
  },
  {
   "cell_type": "markdown",
   "metadata": {},
   "source": [
    "## Total Suspended Sediment Algorithms\n",
    "\n",
    "First we will calculate the water quality using each of the algorithms, then we wil compare the approaches."
   ]
  },
  {
   "cell_type": "markdown",
   "metadata": {},
   "source": [
    "### (1) Lymburner Total Suspended Matter (TSM)\n",
    "Paper: [Lymburner et al. 2016](https://www.sciencedirect.com/science/article/abs/pii/S0034425716301560)\n",
    "\n",
    "Units of mg/L concentration\n",
    "\n",
    "TSM for Landsat 7:\n",
    "$$\n",
    "LYM7 = 3983 \\cdot (\\frac{(\\text{Green} + \\text{Red}) * 0.0001}{2})^{1.6246}\n",
    "$$\n",
    "\n",
    "TSM for Landsat 8:\n",
    "$$\n",
    "LYM8 = 3957 \\cdot (\\frac{(\\text{Green} + \\text{Red}) * 0.0001}{2})^{1.6436}\n",
    "$$\n",
    "\n",
    "Here, we're using Landsat 8, so we'll use the LYM8 function."
   ]
  },
  {
   "cell_type": "code",
   "execution_count": null,
   "metadata": {},
   "outputs": [],
   "source": [
    "# Function to calculate Lymburner TSM value for Landsat 7\n",
    "def LYM7(dataset):\n",
    "    return 3983 * ((dataset.green + dataset.red) * 0.0001 / 2) ** 1.6246"
   ]
  },
  {
   "cell_type": "code",
   "execution_count": null,
   "metadata": {},
   "outputs": [],
   "source": [
    "# Function to calculate Lymburner TSM value for Landsat 8\n",
    "def LYM8(dataset):\n",
    "    return 3957 * ((dataset.green + dataset.red) * 0.0001 / 2) ** 1.6436"
   ]
  },
  {
   "cell_type": "code",
   "execution_count": null,
   "metadata": {},
   "outputs": [],
   "source": [
    "# Calculate the Lymburner TSM value for Landsat 8, using water extent to mask\n",
    "lym8 = LYM8(land_and_water_composite).where(water_extent)"
   ]
  },
  {
   "cell_type": "code",
   "execution_count": null,
   "metadata": {},
   "outputs": [],
   "source": [
    "# Determine the 2% and 98% quantiles and set as min and max respectively\n",
    "lym8_min = lym8.quantile(0.02).compute().values\n",
    "lym8_max = lym8.quantile(0.98).compute().values"
   ]
  },
  {
   "cell_type": "markdown",
   "metadata": {},
   "source": [
    "### (2) Suspended Particulate Model (SPM)\n",
    "Paper: [Zhongfeng Qiu et.al. 2013](https://www.researchgate.net/publication/260152686_A_simple_optical_model_to_estimate_suspended_particulate_matter_in_Yellow_River_Estuary)\n",
    "\n",
    "Units of g/m^3 concentration\n",
    "\n",
    "SPM for Landsat 8:\n",
    "$$\n",
    "X = 2.26*(\\frac{\\text{Red}}{\\text{Green}})^3 - \n",
    "           5.42*(\\frac{\\text{Red}}{\\text{Green}})^2 +\n",
    "           5.58*(\\frac{\\text{Red}}{\\text{Green}}) - 0.72\n",
    "$$\n",
    "\n",
    "$$\n",
    "SPM = 10^{X} - 1.43\n",
    "$$"
   ]
  },
  {
   "cell_type": "code",
   "execution_count": null,
   "metadata": {},
   "outputs": [],
   "source": [
    "# Function to calculate Suspended Particulate Model value\n",
    "def SPM_QIU(dataset):\n",
    "    return (\n",
    "        10 ** (\n",
    "            2.26 * (dataset.red / dataset.green) ** 3\n",
    "            - 5.42 * (dataset.red / dataset.green) ** 2\n",
    "            + 5.58 * (dataset.red / dataset.green)\n",
    "            - 0.72\n",
    "        )\n",
    "        - 1.43\n",
    "    )"
   ]
  },
  {
   "cell_type": "code",
   "execution_count": null,
   "metadata": {},
   "outputs": [],
   "source": [
    "# Calculate the SPM value for Landsat 8, using water extent to mask\n",
    "spm_qiu = SPM_QIU(land_and_water_composite).where(water_extent)"
   ]
  },
  {
   "cell_type": "code",
   "execution_count": null,
   "metadata": {},
   "outputs": [],
   "source": [
    "# Determine the 2% and 98% quantiles and set as min and max respectively\n",
    "spm_qiu_min = spm_qiu.quantile(0.02).compute().values\n",
    "spm_qiu_max = spm_qiu.quantile(0.98).compute().values"
   ]
  },
  {
   "cell_type": "markdown",
   "metadata": {},
   "source": [
    "### (3) Normalized Difference Suspended Sediment Index (NDSSI)\n",
    "Paper: [Hossain et al. 2010](https://www.researchgate.net/publication/251236287_Development_of_Remote_Sensing_Based_Index_for_EstimatingMapping_Suspended_Sediment_Concentration_in_River_and_Lake_Environments)\n",
    "\n",
    "NDSSI for Landsat 7 and 8:\n",
    "$$\n",
    "NDSSI = \\frac{\\text{Blue}-\\text{NIR}}{\\text{Blue}+\\text{NIR}}\n",
    "$$\n",
    "\n",
    "The NDSSI value ranges from -1 to +1. Values closer to +1 indicate higher concentration of sediment."
   ]
  },
  {
   "cell_type": "code",
   "execution_count": null,
   "metadata": {},
   "outputs": [],
   "source": [
    "# Function to calculate SNDSSI value\n",
    "def NDSSI(dataset):\n",
    "    return (dataset.blue - dataset.nir) / (dataset.blue + dataset.nir)"
   ]
  },
  {
   "cell_type": "code",
   "execution_count": null,
   "metadata": {},
   "outputs": [],
   "source": [
    "# Calculate the NDSSI value for Landsat 8, using water extent to mask\n",
    "ndssi = NDSSI(land_and_water_composite).where(water_extent)"
   ]
  },
  {
   "cell_type": "code",
   "execution_count": null,
   "metadata": {},
   "outputs": [],
   "source": [
    "# Determine the 2% and 98% quantiles and set as min and max respectively\n",
    "ndssi_min = ndssi.quantile(0.02).compute().values\n",
    "ndssi_max = ndssi.quantile(0.98).compute().values"
   ]
  },
  {
   "cell_type": "markdown",
   "metadata": {},
   "source": [
    "### (4) Quang Total Suspended Solids (TSS)\n",
    "Paper: [Quang et al. 2017](https://www.mdpi.com/2073-4441/9/8/570)\n",
    "\n",
    "Units of mg/L concentration\n",
    "\n",
    "$$\n",
    "Quang8 = 380.32 * \\text{Red}*0.0001 - 1.7826\n",
    "$$"
   ]
  },
  {
   "cell_type": "code",
   "execution_count": null,
   "metadata": {},
   "outputs": [],
   "source": [
    "# Function to calculate quang8 value\n",
    "def QUANG8(dataset):\n",
    "    return 380.32 * (dataset.red) * 0.0001 - 1.7826"
   ]
  },
  {
   "cell_type": "code",
   "execution_count": null,
   "metadata": {},
   "outputs": [],
   "source": [
    "# Calculate the quang8 value for Landsat 8, using water extent to mask\n",
    "quang8 = QUANG8(land_and_water_composite).where(water_extent)"
   ]
  },
  {
   "cell_type": "code",
   "execution_count": null,
   "metadata": {},
   "outputs": [],
   "source": [
    "# Determine the 2% and 98% quantiles and set as min and max respectively\n",
    "quang8_min = quang8.quantile(0.02).compute().values\n",
    "quang8_max = quang8.quantile(0.98).compute().values"
   ]
  },
  {
   "cell_type": "markdown",
   "metadata": {},
   "source": [
    "## Compare the algorithms' outputs"
   ]
  },
  {
   "cell_type": "code",
   "execution_count": null,
   "metadata": {},
   "outputs": [],
   "source": [
    "fig, ax = plt.subplots(2, 2, figsize=(12, 12))\n",
    "cmap='magma'\n",
    "\n",
    "lym8.plot(\n",
    "    ax=ax[0, 0], cmap=cmap, add_colorbar=False, vmin=lym8_min, vmax=lym8_max\n",
    ")\n",
    "\n",
    "spm_qiu.plot(\n",
    "    ax=ax[0, 1], cmap=cmap, add_colorbar=False, vmin=spm_qiu_min, vmax=spm_qiu_max\n",
    ")\n",
    "\n",
    "ndssi.plot(\n",
    "    ax=ax[1, 0], cmap=cmap, add_colorbar=False, vmin=ndssi_min, vmax=ndssi_max\n",
    ")\n",
    "\n",
    "quang8.plot(\n",
    "    ax=ax[1, 1], cmap=cmap, add_colorbar=False, vmin=quang8_min, vmax=quang8_max\n",
    ")\n",
    "\n",
    "print(\n",
    "    \"Total Suspended Matter (Black=Low, Purple=Medium-Low, \"\n",
    "    \"Orange=Medium-High, Yellow=High)\"\n",
    ")\n",
    "\n",
    "# Titles\n",
    "ax[0, 0].set_title(\"TSM = Leo Lymburner\"), ax[0, 0].xaxis.set_visible(False), ax[0, 0].yaxis.set_visible(False)\n",
    "ax[0, 1].set_title(\"TSM = Zhongfeng Qui\"), ax[0, 1].xaxis.set_visible(False), ax[0, 1].yaxis.set_visible(False)\n",
    "ax[1, 0].set_title(\"TSM = NDSSI (Hossain)\"), ax[1, 0].xaxis.set_visible(False), ax[1, 0].yaxis.set_visible(False)\n",
    "ax[1, 1].set_title(\"TSM = Quang Pham\"), ax[1, 1].xaxis.set_visible(False), ax[1, 1].yaxis.set_visible(False)\n",
    "\n",
    "plt.tight_layout();"
   ]
  },
  {
   "cell_type": "markdown",
   "metadata": {},
   "source": [
    "If the default settings were used, we should see that all the indices reflect the appearance of the lake (where murky, the index is high) except NDSSI, though it does appear to be related to the others - mostly low where the others are high and vice versa."
   ]
  },
  {
   "cell_type": "markdown",
   "metadata": {},
   "source": [
    "***\n",
    "\n",
    "## Additional information\n",
    "\n",
    "**License:** The code in this notebook is licensed under the [Apache License, Version 2.0](https://www.apache.org/licenses/LICENSE-2.0). \n",
    "Digital Earth Africa data is licensed under the [Creative Commons by Attribution 4.0](https://creativecommons.org/licenses/by/4.0/) license.\n",
    "\n",
    "**Contact:** If you need assistance, please post a question on the [Open Data Cube Slack channel](http://slack.opendatacube.org/) or on the [GIS Stack Exchange](https://gis.stackexchange.com/questions/ask?tags=open-data-cube) using the `open-data-cube` tag (you can view previously asked questions [here](https://gis.stackexchange.com/questions/tagged/open-data-cube)).\n",
    "If you would like to report an issue with this notebook, you can file one on [Github](https://github.com/digitalearthafrica/deafrica-sandbox-notebooks).\n",
    "\n",
    "**Compatible `datacube` version:** "
   ]
  },
  {
   "cell_type": "code",
   "execution_count": null,
   "metadata": {},
   "outputs": [],
   "source": [
    "print(datacube.__version__)"
   ]
  },
  {
   "cell_type": "markdown",
   "metadata": {},
   "source": [
    "**Last Tested:**"
   ]
  },
  {
   "cell_type": "code",
   "execution_count": null,
   "metadata": {},
   "outputs": [],
   "source": [
    "from datetime import datetime\n",
    "datetime.today().strftime('%Y-%m-%d')"
   ]
  }
 ],
 "metadata": {
  "kernelspec": {
   "display_name": "Python 3",
   "language": "python",
   "name": "python3"
  },
  "language_info": {
   "codemirror_mode": {
    "name": "ipython",
    "version": 3
   },
   "file_extension": ".py",
   "mimetype": "text/x-python",
   "name": "python",
   "nbconvert_exporter": "python",
   "pygments_lexer": "ipython3",
   "version": "3.6.9"
  },
  "widgets": {
   "application/vnd.jupyter.widget-state+json": {
    "state": {},
    "version_major": 2,
    "version_minor": 0
   }
  }
 },
 "nbformat": 4,
 "nbformat_minor": 4
}
