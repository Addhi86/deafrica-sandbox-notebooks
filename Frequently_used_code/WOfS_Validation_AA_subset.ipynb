{
 "cells": [
  {
   "cell_type": "markdown",
   "metadata": {},
   "source": [
    "# WOfS Validation Accuracy Assessment <img align=\"right\" src=\"../Supplementary_data/DE_Africa_Logo_Stacked_RGB_small.jpg\">\n",
    "\n",
    "* **Products used:** \n",
    "[ga_ls8c_wofs_2](https://explorer.digitalearth.africa/ga_ls8c_wofs_2),\n",
    "[ga_ls8c_wofs_2_summary ](https://explorer.digitalearth.africa/ga_ls8c_wofs_2_summary)"
   ]
  },
  {
   "cell_type": "markdown",
   "metadata": {},
   "source": [
    "## Background\n",
    "Accuracy assessment for WOfS product in Africa includes generating a confusion error matrix for a WOFL binary classification.\n",
    "The inputs for the estimating the accuracy of WOfS derived product are a binary classification WOFL layer showing water/non-water and a shapefile containing validation points collected by [Collect Earth Online](https://collect.earth/) tool. Validation points are the ground truth or actual data while the extracted value for each location from WOFL is the predicted value. A confusion error matrix containing overall, producer's and user's accuracy is the output of this analysis. "
   ]
  },
  {
   "cell_type": "markdown",
   "metadata": {},
   "source": [
    "## Description\n",
    "This notebook explains how you can perform accuracy assessment for WOFS derived product using collected ground truth dataset. \n",
    "\n",
    "The notebook demonstrates how to:\n",
    "1. Generating a confusion error matrix for WOFL binary classification\n",
    "2. Assessing the accuracy of the classification \n",
    "***"
   ]
  },
  {
   "cell_type": "markdown",
   "metadata": {},
   "source": [
    "## Getting started\n",
    "\n",
    "To run this analysis, run all the cells in the notebook, starting with the \"Load packages\" cell.\n",
    "\n",
    "After finishing the analysis, you can modify some values in the \"Analysis parameters\" cell and re-run the analysis to load WOFLs for a different location or time period."
   ]
  },
  {
   "cell_type": "markdown",
   "metadata": {},
   "source": [
    "### Load packages\n",
    "Import Python packages that are used for the analysis."
   ]
  },
  {
   "cell_type": "code",
   "execution_count": 38,
   "metadata": {},
   "outputs": [],
   "source": [
    "%matplotlib inline\n",
    "\n",
    "import time \n",
    "import datacube\n",
    "from datacube.utils import masking, geometry \n",
    "import sys\n",
    "import os\n",
    "import dask \n",
    "import rasterio, rasterio.features\n",
    "import xarray\n",
    "import glob\n",
    "import numpy as np\n",
    "import pandas as pd\n",
    "import seaborn as sn\n",
    "import geopandas as gpd\n",
    "import subprocess as sp\n",
    "import matplotlib.pyplot as plt\n",
    "import scipy, scipy.ndimage\n",
    "import warnings\n",
    "warnings.filterwarnings(\"ignore\") #this will suppress the warnings for multiple UTM zones in your AOI \n",
    "\n",
    "sys.path.append(\"../Scripts\")\n",
    "from rasterio.mask import mask\n",
    "from geopandas import GeoSeries, GeoDataFrame\n",
    "from shapely.geometry import Point\n",
    "from sklearn.metrics import confusion_matrix, balanced_accuracy_score\n",
    "from sklearn.metrics import plot_confusion_matrix, f1_score  \n",
    "from deafrica_plotting import map_shapefile,display_map, rgb\n",
    "from deafrica_spatialtools import xr_rasterize\n",
    "from deafrica_datahandling import wofs_fuser, mostcommon_crs,load_ard,deepcopy\n",
    "from deafrica_dask import create_local_dask_cluster"
   ]
  },
  {
   "cell_type": "markdown",
   "metadata": {},
   "source": [
    "### Loading Dataset"
   ]
  },
  {
   "cell_type": "markdown",
   "metadata": {},
   "source": [
    "Read in the validation data csv, clean the table and rename the column associated with actual and predicted. \n",
    "\n",
    "We need to read two columns from this table:\n",
    "- Water flag as the groundtruth(actual)\n",
    "- Class Wet from WOfS (prediction)"
   ]
  },
  {
   "cell_type": "code",
   "execution_count": 39,
   "metadata": {},
   "outputs": [],
   "source": [
    "#Read the ground truth data following analysis step \n",
    "#CEO = '../Supplementary_data/Validation/Refined/AFRIGIST/Groundtruth_AfriGIST_PointBased_5D.csv' #Wofs with validation points \n",
    "#CEO = '../Supplementary_data/Validation/Refined/AFRIGIST/Groundtruth_AfriGIST_W305m.csv' #Wofs with validation points - window based \n",
    "CEO = '../Supplementary_data/Validation/Refined/AFRIGIST/AfriGIST_points_SCL_5D.csv' #S2 SCL datset with validatio points \n",
    "df = pd.read_csv(CEO,delimiter=\",\")"
   ]
  },
  {
   "cell_type": "code",
   "execution_count": 40,
   "metadata": {},
   "outputs": [],
   "source": [
    "# df.columns"
   ]
  },
  {
   "cell_type": "code",
   "execution_count": 41,
   "metadata": {},
   "outputs": [],
   "source": [
    "input_data = df.drop(['Unnamed: 0', 'FLAGGED', 'ANALYSES','SENTINEL2Y','STARTDATE', 'ENDDATE', 'WATER', 'NO_WATER', 'BAD_IMAGE', 'NOT_SURE','COMMENT','geometry'], axis=1)\n",
    "input_data = input_data.rename(columns={'WATERFLAG':'ACTUAL'})"
   ]
  },
  {
   "cell_type": "code",
   "execution_count": 42,
   "metadata": {},
   "outputs": [
    {
     "data": {
      "text/plain": [
       "(3958, 8)"
      ]
     },
     "execution_count": 42,
     "metadata": {},
     "output_type": "execute_result"
    }
   ],
   "source": [
    "input_data.shape"
   ]
  },
  {
   "cell_type": "code",
   "execution_count": 43,
   "metadata": {},
   "outputs": [],
   "source": [
    "#setting the column prediction based on frequency flag or using class_wet flag \n",
    "#input_data['PREDICTION'] = input_data['FREQUENCY'].apply(lambda x: '1' if x > 0.5 else '0')\n",
    "input_data['PREDICTION'] = input_data['CLASS_WET'].apply(lambda x: '1' if x >=1 else '0') #you need to comment after this "
   ]
  },
  {
   "cell_type": "code",
   "execution_count": 44,
   "metadata": {},
   "outputs": [],
   "source": [
    "geometry = [Point(xy) for xy in zip(input_data.LON, input_data.LAT)]\n",
    "crs = {'init': 'epsg:4326'} \n",
    "ValPoints = GeoDataFrame(input_data, crs=crs, geometry=geometry)"
   ]
  },
  {
   "cell_type": "code",
   "execution_count": 45,
   "metadata": {},
   "outputs": [],
   "source": [
    "#Reading the boundary file for African countries \n",
    "aez = '../Supplementary_data/Validation/Refined/shapefiles/African_countries_Dissolve.shp'"
   ]
  },
  {
   "cell_type": "code",
   "execution_count": 46,
   "metadata": {},
   "outputs": [],
   "source": [
    "outline = gpd.read_file(aez).to_crs('EPSG:4326')\n",
    "#outline"
   ]
  },
  {
   "cell_type": "code",
   "execution_count": 47,
   "metadata": {},
   "outputs": [],
   "source": [
    "#Setting the buffer zone to exclude points that are located in intertidal areas \n",
    "buffer_zone = outline.buffer(-0.02,resolution=16)"
   ]
  },
  {
   "cell_type": "code",
   "execution_count": 48,
   "metadata": {},
   "outputs": [],
   "source": [
    "#Clipping the input data with the buffer zone to have all inland points that are not coastal \n",
    "include_points = gpd.clip(ValPoints, buffer_zone)"
   ]
  },
  {
   "cell_type": "code",
   "execution_count": 49,
   "metadata": {},
   "outputs": [
    {
     "data": {
      "text/html": [
       "<div>\n",
       "<style scoped>\n",
       "    .dataframe tbody tr th:only-of-type {\n",
       "        vertical-align: middle;\n",
       "    }\n",
       "\n",
       "    .dataframe tbody tr th {\n",
       "        vertical-align: top;\n",
       "    }\n",
       "\n",
       "    .dataframe thead th {\n",
       "        text-align: right;\n",
       "    }\n",
       "</style>\n",
       "<table border=\"1\" class=\"dataframe\">\n",
       "  <thead>\n",
       "    <tr style=\"text-align: right;\">\n",
       "      <th></th>\n",
       "      <th>PLOT_ID</th>\n",
       "      <th>LON</th>\n",
       "      <th>LAT</th>\n",
       "      <th>CLASS</th>\n",
       "      <th>MONTH</th>\n",
       "      <th>ACTUAL</th>\n",
       "      <th>CLASS_WET</th>\n",
       "      <th>CLEAR_OBS</th>\n",
       "      <th>PREDICTION</th>\n",
       "      <th>geometry</th>\n",
       "    </tr>\n",
       "  </thead>\n",
       "  <tbody>\n",
       "    <tr>\n",
       "      <th>0</th>\n",
       "      <td>137483175.0</td>\n",
       "      <td>30.463813</td>\n",
       "      <td>-26.653807</td>\n",
       "      <td>Open water - freshwater</td>\n",
       "      <td>3</td>\n",
       "      <td>1</td>\n",
       "      <td>1.0</td>\n",
       "      <td>1.0</td>\n",
       "      <td>1</td>\n",
       "      <td>POINT (30.46381 -26.65381)</td>\n",
       "    </tr>\n",
       "    <tr>\n",
       "      <th>1</th>\n",
       "      <td>137483175.0</td>\n",
       "      <td>30.463813</td>\n",
       "      <td>-26.653807</td>\n",
       "      <td>Open water - freshwater</td>\n",
       "      <td>5</td>\n",
       "      <td>1</td>\n",
       "      <td>1.0</td>\n",
       "      <td>1.0</td>\n",
       "      <td>1</td>\n",
       "      <td>POINT (30.46381 -26.65381)</td>\n",
       "    </tr>\n",
       "    <tr>\n",
       "      <th>2</th>\n",
       "      <td>137483175.0</td>\n",
       "      <td>30.463813</td>\n",
       "      <td>-26.653807</td>\n",
       "      <td>Open water - freshwater</td>\n",
       "      <td>6</td>\n",
       "      <td>1</td>\n",
       "      <td>1.0</td>\n",
       "      <td>1.0</td>\n",
       "      <td>1</td>\n",
       "      <td>POINT (30.46381 -26.65381)</td>\n",
       "    </tr>\n",
       "    <tr>\n",
       "      <th>3</th>\n",
       "      <td>137483175.0</td>\n",
       "      <td>30.463813</td>\n",
       "      <td>-26.653807</td>\n",
       "      <td>Open water - freshwater</td>\n",
       "      <td>7</td>\n",
       "      <td>1</td>\n",
       "      <td>1.0</td>\n",
       "      <td>1.0</td>\n",
       "      <td>1</td>\n",
       "      <td>POINT (30.46381 -26.65381)</td>\n",
       "    </tr>\n",
       "    <tr>\n",
       "      <th>4</th>\n",
       "      <td>137483175.0</td>\n",
       "      <td>30.463813</td>\n",
       "      <td>-26.653807</td>\n",
       "      <td>Open water - freshwater</td>\n",
       "      <td>8</td>\n",
       "      <td>1</td>\n",
       "      <td>1.0</td>\n",
       "      <td>1.0</td>\n",
       "      <td>1</td>\n",
       "      <td>POINT (30.46381 -26.65381)</td>\n",
       "    </tr>\n",
       "    <tr>\n",
       "      <th>...</th>\n",
       "      <td>...</td>\n",
       "      <td>...</td>\n",
       "      <td>...</td>\n",
       "      <td>...</td>\n",
       "      <td>...</td>\n",
       "      <td>...</td>\n",
       "      <td>...</td>\n",
       "      <td>...</td>\n",
       "      <td>...</td>\n",
       "      <td>...</td>\n",
       "    </tr>\n",
       "    <tr>\n",
       "      <th>3953</th>\n",
       "      <td>137482803.0</td>\n",
       "      <td>20.258942</td>\n",
       "      <td>-9.360062</td>\n",
       "      <td>Open water - freshwater</td>\n",
       "      <td>8</td>\n",
       "      <td>1</td>\n",
       "      <td>1.0</td>\n",
       "      <td>1.0</td>\n",
       "      <td>1</td>\n",
       "      <td>POINT (20.25894 -9.36006)</td>\n",
       "    </tr>\n",
       "    <tr>\n",
       "      <th>3954</th>\n",
       "      <td>137482803.0</td>\n",
       "      <td>20.258942</td>\n",
       "      <td>-9.360062</td>\n",
       "      <td>Open water - freshwater</td>\n",
       "      <td>9</td>\n",
       "      <td>1</td>\n",
       "      <td>1.0</td>\n",
       "      <td>1.0</td>\n",
       "      <td>1</td>\n",
       "      <td>POINT (20.25894 -9.36006)</td>\n",
       "    </tr>\n",
       "    <tr>\n",
       "      <th>3955</th>\n",
       "      <td>137482804.0</td>\n",
       "      <td>13.838962</td>\n",
       "      <td>-9.369115</td>\n",
       "      <td>Open water - freshwater</td>\n",
       "      <td>6</td>\n",
       "      <td>0</td>\n",
       "      <td>1.0</td>\n",
       "      <td>1.0</td>\n",
       "      <td>1</td>\n",
       "      <td>POINT (13.83896 -9.36912)</td>\n",
       "    </tr>\n",
       "    <tr>\n",
       "      <th>3956</th>\n",
       "      <td>137482804.0</td>\n",
       "      <td>13.838962</td>\n",
       "      <td>-9.369115</td>\n",
       "      <td>Open water - freshwater</td>\n",
       "      <td>7</td>\n",
       "      <td>0</td>\n",
       "      <td>0.0</td>\n",
       "      <td>1.0</td>\n",
       "      <td>0</td>\n",
       "      <td>POINT (13.83896 -9.36912)</td>\n",
       "    </tr>\n",
       "    <tr>\n",
       "      <th>3957</th>\n",
       "      <td>137482804.0</td>\n",
       "      <td>13.838962</td>\n",
       "      <td>-9.369115</td>\n",
       "      <td>Open water - freshwater</td>\n",
       "      <td>8</td>\n",
       "      <td>1</td>\n",
       "      <td>0.0</td>\n",
       "      <td>1.0</td>\n",
       "      <td>0</td>\n",
       "      <td>POINT (13.83896 -9.36912)</td>\n",
       "    </tr>\n",
       "  </tbody>\n",
       "</table>\n",
       "<p>3563 rows × 10 columns</p>\n",
       "</div>"
      ],
      "text/plain": [
       "          PLOT_ID        LON        LAT                    CLASS  MONTH  \\\n",
       "0     137483175.0  30.463813 -26.653807  Open water - freshwater      3   \n",
       "1     137483175.0  30.463813 -26.653807  Open water - freshwater      5   \n",
       "2     137483175.0  30.463813 -26.653807  Open water - freshwater      6   \n",
       "3     137483175.0  30.463813 -26.653807  Open water - freshwater      7   \n",
       "4     137483175.0  30.463813 -26.653807  Open water - freshwater      8   \n",
       "...           ...        ...        ...                      ...    ...   \n",
       "3953  137482803.0  20.258942  -9.360062  Open water - freshwater      8   \n",
       "3954  137482803.0  20.258942  -9.360062  Open water - freshwater      9   \n",
       "3955  137482804.0  13.838962  -9.369115  Open water - freshwater      6   \n",
       "3956  137482804.0  13.838962  -9.369115  Open water - freshwater      7   \n",
       "3957  137482804.0  13.838962  -9.369115  Open water - freshwater      8   \n",
       "\n",
       "      ACTUAL  CLASS_WET  CLEAR_OBS PREDICTION                    geometry  \n",
       "0          1        1.0        1.0          1  POINT (30.46381 -26.65381)  \n",
       "1          1        1.0        1.0          1  POINT (30.46381 -26.65381)  \n",
       "2          1        1.0        1.0          1  POINT (30.46381 -26.65381)  \n",
       "3          1        1.0        1.0          1  POINT (30.46381 -26.65381)  \n",
       "4          1        1.0        1.0          1  POINT (30.46381 -26.65381)  \n",
       "...      ...        ...        ...        ...                         ...  \n",
       "3953       1        1.0        1.0          1   POINT (20.25894 -9.36006)  \n",
       "3954       1        1.0        1.0          1   POINT (20.25894 -9.36006)  \n",
       "3955       0        1.0        1.0          1   POINT (13.83896 -9.36912)  \n",
       "3956       0        0.0        1.0          0   POINT (13.83896 -9.36912)  \n",
       "3957       1        0.0        1.0          0   POINT (13.83896 -9.36912)  \n",
       "\n",
       "[3563 rows x 10 columns]"
      ]
     },
     "execution_count": 49,
     "metadata": {},
     "output_type": "execute_result"
    }
   ],
   "source": [
    "# the list of include points \n",
    "include_points "
   ]
  },
  {
   "cell_type": "code",
   "execution_count": 13,
   "metadata": {},
   "outputs": [],
   "source": [
    "# balanced_accuracy_score(include_points['ACTUAL'],include_points['CLASS_WET'])"
   ]
  },
  {
   "cell_type": "markdown",
   "metadata": {},
   "source": [
    "## Non-Equal Sampling of the Validation Dataset "
   ]
  },
  {
   "cell_type": "code",
   "execution_count": 50,
   "metadata": {},
   "outputs": [],
   "source": [
    "Water = include_points.loc[include_points['ACTUAL'] == 1.0]\n",
    "#Water_RS = Water.sample(n=406) #for wofs \n",
    "Water_RS = Water.sample(n=558)"
   ]
  },
  {
   "cell_type": "code",
   "execution_count": 51,
   "metadata": {},
   "outputs": [
    {
     "data": {
      "text/html": [
       "<div>\n",
       "<style scoped>\n",
       "    .dataframe tbody tr th:only-of-type {\n",
       "        vertical-align: middle;\n",
       "    }\n",
       "\n",
       "    .dataframe tbody tr th {\n",
       "        vertical-align: top;\n",
       "    }\n",
       "\n",
       "    .dataframe thead th {\n",
       "        text-align: right;\n",
       "    }\n",
       "</style>\n",
       "<table border=\"1\" class=\"dataframe\">\n",
       "  <thead>\n",
       "    <tr style=\"text-align: right;\">\n",
       "      <th></th>\n",
       "      <th>PLOT_ID</th>\n",
       "      <th>LON</th>\n",
       "      <th>LAT</th>\n",
       "      <th>CLASS</th>\n",
       "      <th>MONTH</th>\n",
       "      <th>ACTUAL</th>\n",
       "      <th>CLASS_WET</th>\n",
       "      <th>CLEAR_OBS</th>\n",
       "      <th>PREDICTION</th>\n",
       "      <th>geometry</th>\n",
       "    </tr>\n",
       "  </thead>\n",
       "  <tbody>\n",
       "    <tr>\n",
       "      <th>2818</th>\n",
       "      <td>137483416.0</td>\n",
       "      <td>3.203772</td>\n",
       "      <td>7.292618</td>\n",
       "      <td>Open water - freshwater</td>\n",
       "      <td>12</td>\n",
       "      <td>1</td>\n",
       "      <td>1.0</td>\n",
       "      <td>1.0</td>\n",
       "      <td>1</td>\n",
       "      <td>POINT (3.20377 7.29262)</td>\n",
       "    </tr>\n",
       "    <tr>\n",
       "      <th>3757</th>\n",
       "      <td>137482766.0</td>\n",
       "      <td>26.920511</td>\n",
       "      <td>-4.856045</td>\n",
       "      <td>Open water - freshwater</td>\n",
       "      <td>3</td>\n",
       "      <td>1</td>\n",
       "      <td>1.0</td>\n",
       "      <td>1.0</td>\n",
       "      <td>1</td>\n",
       "      <td>POINT (26.92051 -4.85604)</td>\n",
       "    </tr>\n",
       "    <tr>\n",
       "      <th>2756</th>\n",
       "      <td>137483399.0</td>\n",
       "      <td>-12.278741</td>\n",
       "      <td>7.795630</td>\n",
       "      <td>Open water - freshwater</td>\n",
       "      <td>11</td>\n",
       "      <td>1</td>\n",
       "      <td>1.0</td>\n",
       "      <td>1.0</td>\n",
       "      <td>1</td>\n",
       "      <td>POINT (-12.27874 7.79563)</td>\n",
       "    </tr>\n",
       "    <tr>\n",
       "      <th>1683</th>\n",
       "      <td>137482866.0</td>\n",
       "      <td>26.007946</td>\n",
       "      <td>-15.632279</td>\n",
       "      <td>Open water - freshwater</td>\n",
       "      <td>5</td>\n",
       "      <td>1</td>\n",
       "      <td>1.0</td>\n",
       "      <td>1.0</td>\n",
       "      <td>1</td>\n",
       "      <td>POINT (26.00795 -15.63228)</td>\n",
       "    </tr>\n",
       "    <tr>\n",
       "      <th>1052</th>\n",
       "      <td>137483308.0</td>\n",
       "      <td>12.131051</td>\n",
       "      <td>10.548119</td>\n",
       "      <td>Open water - freshwater</td>\n",
       "      <td>2</td>\n",
       "      <td>1</td>\n",
       "      <td>0.0</td>\n",
       "      <td>2.0</td>\n",
       "      <td>0</td>\n",
       "      <td>POINT (12.13105 10.54812)</td>\n",
       "    </tr>\n",
       "    <tr>\n",
       "      <th>...</th>\n",
       "      <td>...</td>\n",
       "      <td>...</td>\n",
       "      <td>...</td>\n",
       "      <td>...</td>\n",
       "      <td>...</td>\n",
       "      <td>...</td>\n",
       "      <td>...</td>\n",
       "      <td>...</td>\n",
       "      <td>...</td>\n",
       "      <td>...</td>\n",
       "    </tr>\n",
       "    <tr>\n",
       "      <th>3129</th>\n",
       "      <td>137483492.0</td>\n",
       "      <td>-2.982082</td>\n",
       "      <td>5.106233</td>\n",
       "      <td>Open water - freshwater</td>\n",
       "      <td>2</td>\n",
       "      <td>1</td>\n",
       "      <td>0.0</td>\n",
       "      <td>1.0</td>\n",
       "      <td>0</td>\n",
       "      <td>POINT (-2.98208 5.10623)</td>\n",
       "    </tr>\n",
       "    <tr>\n",
       "      <th>1637</th>\n",
       "      <td>137482860.0</td>\n",
       "      <td>27.001974</td>\n",
       "      <td>-14.418611</td>\n",
       "      <td>Open water - freshwater</td>\n",
       "      <td>7</td>\n",
       "      <td>1</td>\n",
       "      <td>1.0</td>\n",
       "      <td>1.0</td>\n",
       "      <td>1</td>\n",
       "      <td>POINT (27.00197 -14.41861)</td>\n",
       "    </tr>\n",
       "    <tr>\n",
       "      <th>3512</th>\n",
       "      <td>137482707.0</td>\n",
       "      <td>20.863381</td>\n",
       "      <td>-0.489372</td>\n",
       "      <td>Open water - freshwater</td>\n",
       "      <td>3</td>\n",
       "      <td>1</td>\n",
       "      <td>1.0</td>\n",
       "      <td>1.0</td>\n",
       "      <td>1</td>\n",
       "      <td>POINT (20.86338 -0.48937)</td>\n",
       "    </tr>\n",
       "    <tr>\n",
       "      <th>2888</th>\n",
       "      <td>137483432.0</td>\n",
       "      <td>0.237236</td>\n",
       "      <td>6.723388</td>\n",
       "      <td>Open water - freshwater</td>\n",
       "      <td>4</td>\n",
       "      <td>1</td>\n",
       "      <td>0.0</td>\n",
       "      <td>1.0</td>\n",
       "      <td>0</td>\n",
       "      <td>POINT (0.23724 6.72339)</td>\n",
       "    </tr>\n",
       "    <tr>\n",
       "      <th>3914</th>\n",
       "      <td>137482795.0</td>\n",
       "      <td>26.571343</td>\n",
       "      <td>-8.499326</td>\n",
       "      <td>Open water - freshwater</td>\n",
       "      <td>8</td>\n",
       "      <td>1</td>\n",
       "      <td>0.0</td>\n",
       "      <td>1.0</td>\n",
       "      <td>0</td>\n",
       "      <td>POINT (26.57134 -8.49933)</td>\n",
       "    </tr>\n",
       "  </tbody>\n",
       "</table>\n",
       "<p>558 rows × 10 columns</p>\n",
       "</div>"
      ],
      "text/plain": [
       "          PLOT_ID        LON        LAT                    CLASS  MONTH  \\\n",
       "2818  137483416.0   3.203772   7.292618  Open water - freshwater     12   \n",
       "3757  137482766.0  26.920511  -4.856045  Open water - freshwater      3   \n",
       "2756  137483399.0 -12.278741   7.795630  Open water - freshwater     11   \n",
       "1683  137482866.0  26.007946 -15.632279  Open water - freshwater      5   \n",
       "1052  137483308.0  12.131051  10.548119  Open water - freshwater      2   \n",
       "...           ...        ...        ...                      ...    ...   \n",
       "3129  137483492.0  -2.982082   5.106233  Open water - freshwater      2   \n",
       "1637  137482860.0  27.001974 -14.418611  Open water - freshwater      7   \n",
       "3512  137482707.0  20.863381  -0.489372  Open water - freshwater      3   \n",
       "2888  137483432.0   0.237236   6.723388  Open water - freshwater      4   \n",
       "3914  137482795.0  26.571343  -8.499326  Open water - freshwater      8   \n",
       "\n",
       "      ACTUAL  CLASS_WET  CLEAR_OBS PREDICTION                    geometry  \n",
       "2818       1        1.0        1.0          1     POINT (3.20377 7.29262)  \n",
       "3757       1        1.0        1.0          1   POINT (26.92051 -4.85604)  \n",
       "2756       1        1.0        1.0          1   POINT (-12.27874 7.79563)  \n",
       "1683       1        1.0        1.0          1  POINT (26.00795 -15.63228)  \n",
       "1052       1        0.0        2.0          0   POINT (12.13105 10.54812)  \n",
       "...      ...        ...        ...        ...                         ...  \n",
       "3129       1        0.0        1.0          0    POINT (-2.98208 5.10623)  \n",
       "1637       1        1.0        1.0          1  POINT (27.00197 -14.41861)  \n",
       "3512       1        1.0        1.0          1   POINT (20.86338 -0.48937)  \n",
       "2888       1        0.0        1.0          0     POINT (0.23724 6.72339)  \n",
       "3914       1        0.0        1.0          0   POINT (26.57134 -8.49933)  \n",
       "\n",
       "[558 rows x 10 columns]"
      ]
     },
     "execution_count": 51,
     "metadata": {},
     "output_type": "execute_result"
    }
   ],
   "source": [
    "Water_RS"
   ]
  },
  {
   "cell_type": "code",
   "execution_count": 52,
   "metadata": {},
   "outputs": [],
   "source": [
    "NoWater = include_points.loc[include_points['ACTUAL'] == 0.0]"
   ]
  },
  {
   "cell_type": "code",
   "execution_count": 53,
   "metadata": {},
   "outputs": [
    {
     "data": {
      "text/html": [
       "<div>\n",
       "<style scoped>\n",
       "    .dataframe tbody tr th:only-of-type {\n",
       "        vertical-align: middle;\n",
       "    }\n",
       "\n",
       "    .dataframe tbody tr th {\n",
       "        vertical-align: top;\n",
       "    }\n",
       "\n",
       "    .dataframe thead th {\n",
       "        text-align: right;\n",
       "    }\n",
       "</style>\n",
       "<table border=\"1\" class=\"dataframe\">\n",
       "  <thead>\n",
       "    <tr style=\"text-align: right;\">\n",
       "      <th></th>\n",
       "      <th>PLOT_ID</th>\n",
       "      <th>LON</th>\n",
       "      <th>LAT</th>\n",
       "      <th>CLASS</th>\n",
       "      <th>MONTH</th>\n",
       "      <th>ACTUAL</th>\n",
       "      <th>CLASS_WET</th>\n",
       "      <th>CLEAR_OBS</th>\n",
       "      <th>PREDICTION</th>\n",
       "      <th>geometry</th>\n",
       "    </tr>\n",
       "  </thead>\n",
       "  <tbody>\n",
       "    <tr>\n",
       "      <th>74</th>\n",
       "      <td>137483183.0</td>\n",
       "      <td>16.506388</td>\n",
       "      <td>-27.107879</td>\n",
       "      <td>Barren (Bare soil / Rocky Land)</td>\n",
       "      <td>1</td>\n",
       "      <td>0</td>\n",
       "      <td>0.0</td>\n",
       "      <td>1.0</td>\n",
       "      <td>0</td>\n",
       "      <td>POINT (16.50639 -27.10788)</td>\n",
       "    </tr>\n",
       "    <tr>\n",
       "      <th>75</th>\n",
       "      <td>137483183.0</td>\n",
       "      <td>16.506388</td>\n",
       "      <td>-27.107879</td>\n",
       "      <td>Barren (Bare soil / Rocky Land)</td>\n",
       "      <td>2</td>\n",
       "      <td>0</td>\n",
       "      <td>0.0</td>\n",
       "      <td>2.0</td>\n",
       "      <td>0</td>\n",
       "      <td>POINT (16.50639 -27.10788)</td>\n",
       "    </tr>\n",
       "    <tr>\n",
       "      <th>76</th>\n",
       "      <td>137483183.0</td>\n",
       "      <td>16.506388</td>\n",
       "      <td>-27.107879</td>\n",
       "      <td>Barren (Bare soil / Rocky Land)</td>\n",
       "      <td>3</td>\n",
       "      <td>0</td>\n",
       "      <td>0.0</td>\n",
       "      <td>1.0</td>\n",
       "      <td>0</td>\n",
       "      <td>POINT (16.50639 -27.10788)</td>\n",
       "    </tr>\n",
       "    <tr>\n",
       "      <th>77</th>\n",
       "      <td>137483183.0</td>\n",
       "      <td>16.506388</td>\n",
       "      <td>-27.107879</td>\n",
       "      <td>Barren (Bare soil / Rocky Land)</td>\n",
       "      <td>4</td>\n",
       "      <td>0</td>\n",
       "      <td>0.0</td>\n",
       "      <td>1.0</td>\n",
       "      <td>0</td>\n",
       "      <td>POINT (16.50639 -27.10788)</td>\n",
       "    </tr>\n",
       "    <tr>\n",
       "      <th>78</th>\n",
       "      <td>137483183.0</td>\n",
       "      <td>16.506388</td>\n",
       "      <td>-27.107879</td>\n",
       "      <td>Barren (Bare soil / Rocky Land)</td>\n",
       "      <td>5</td>\n",
       "      <td>0</td>\n",
       "      <td>0.0</td>\n",
       "      <td>1.0</td>\n",
       "      <td>0</td>\n",
       "      <td>POINT (16.50639 -27.10788)</td>\n",
       "    </tr>\n",
       "    <tr>\n",
       "      <th>...</th>\n",
       "      <td>...</td>\n",
       "      <td>...</td>\n",
       "      <td>...</td>\n",
       "      <td>...</td>\n",
       "      <td>...</td>\n",
       "      <td>...</td>\n",
       "      <td>...</td>\n",
       "      <td>...</td>\n",
       "      <td>...</td>\n",
       "      <td>...</td>\n",
       "    </tr>\n",
       "    <tr>\n",
       "      <th>3945</th>\n",
       "      <td>137482802.0</td>\n",
       "      <td>13.607012</td>\n",
       "      <td>-9.155465</td>\n",
       "      <td>Open water - freshwater</td>\n",
       "      <td>5</td>\n",
       "      <td>0</td>\n",
       "      <td>1.0</td>\n",
       "      <td>1.0</td>\n",
       "      <td>1</td>\n",
       "      <td>POINT (13.60701 -9.15546)</td>\n",
       "    </tr>\n",
       "    <tr>\n",
       "      <th>3946</th>\n",
       "      <td>137482802.0</td>\n",
       "      <td>13.607012</td>\n",
       "      <td>-9.155465</td>\n",
       "      <td>Open water - freshwater</td>\n",
       "      <td>6</td>\n",
       "      <td>0</td>\n",
       "      <td>1.0</td>\n",
       "      <td>1.0</td>\n",
       "      <td>1</td>\n",
       "      <td>POINT (13.60701 -9.15546)</td>\n",
       "    </tr>\n",
       "    <tr>\n",
       "      <th>3947</th>\n",
       "      <td>137482802.0</td>\n",
       "      <td>13.607012</td>\n",
       "      <td>-9.155465</td>\n",
       "      <td>Open water - freshwater</td>\n",
       "      <td>7</td>\n",
       "      <td>0</td>\n",
       "      <td>1.0</td>\n",
       "      <td>1.0</td>\n",
       "      <td>1</td>\n",
       "      <td>POINT (13.60701 -9.15546)</td>\n",
       "    </tr>\n",
       "    <tr>\n",
       "      <th>3955</th>\n",
       "      <td>137482804.0</td>\n",
       "      <td>13.838962</td>\n",
       "      <td>-9.369115</td>\n",
       "      <td>Open water - freshwater</td>\n",
       "      <td>6</td>\n",
       "      <td>0</td>\n",
       "      <td>1.0</td>\n",
       "      <td>1.0</td>\n",
       "      <td>1</td>\n",
       "      <td>POINT (13.83896 -9.36912)</td>\n",
       "    </tr>\n",
       "    <tr>\n",
       "      <th>3956</th>\n",
       "      <td>137482804.0</td>\n",
       "      <td>13.838962</td>\n",
       "      <td>-9.369115</td>\n",
       "      <td>Open water - freshwater</td>\n",
       "      <td>7</td>\n",
       "      <td>0</td>\n",
       "      <td>0.0</td>\n",
       "      <td>1.0</td>\n",
       "      <td>0</td>\n",
       "      <td>POINT (13.83896 -9.36912)</td>\n",
       "    </tr>\n",
       "  </tbody>\n",
       "</table>\n",
       "<p>1115 rows × 10 columns</p>\n",
       "</div>"
      ],
      "text/plain": [
       "          PLOT_ID        LON        LAT                            CLASS  \\\n",
       "74    137483183.0  16.506388 -27.107879  Barren (Bare soil / Rocky Land)   \n",
       "75    137483183.0  16.506388 -27.107879  Barren (Bare soil / Rocky Land)   \n",
       "76    137483183.0  16.506388 -27.107879  Barren (Bare soil / Rocky Land)   \n",
       "77    137483183.0  16.506388 -27.107879  Barren (Bare soil / Rocky Land)   \n",
       "78    137483183.0  16.506388 -27.107879  Barren (Bare soil / Rocky Land)   \n",
       "...           ...        ...        ...                              ...   \n",
       "3945  137482802.0  13.607012  -9.155465          Open water - freshwater   \n",
       "3946  137482802.0  13.607012  -9.155465          Open water - freshwater   \n",
       "3947  137482802.0  13.607012  -9.155465          Open water - freshwater   \n",
       "3955  137482804.0  13.838962  -9.369115          Open water - freshwater   \n",
       "3956  137482804.0  13.838962  -9.369115          Open water - freshwater   \n",
       "\n",
       "      MONTH  ACTUAL  CLASS_WET  CLEAR_OBS PREDICTION  \\\n",
       "74        1       0        0.0        1.0          0   \n",
       "75        2       0        0.0        2.0          0   \n",
       "76        3       0        0.0        1.0          0   \n",
       "77        4       0        0.0        1.0          0   \n",
       "78        5       0        0.0        1.0          0   \n",
       "...     ...     ...        ...        ...        ...   \n",
       "3945      5       0        1.0        1.0          1   \n",
       "3946      6       0        1.0        1.0          1   \n",
       "3947      7       0        1.0        1.0          1   \n",
       "3955      6       0        1.0        1.0          1   \n",
       "3956      7       0        0.0        1.0          0   \n",
       "\n",
       "                        geometry  \n",
       "74    POINT (16.50639 -27.10788)  \n",
       "75    POINT (16.50639 -27.10788)  \n",
       "76    POINT (16.50639 -27.10788)  \n",
       "77    POINT (16.50639 -27.10788)  \n",
       "78    POINT (16.50639 -27.10788)  \n",
       "...                          ...  \n",
       "3945   POINT (13.60701 -9.15546)  \n",
       "3946   POINT (13.60701 -9.15546)  \n",
       "3947   POINT (13.60701 -9.15546)  \n",
       "3955   POINT (13.83896 -9.36912)  \n",
       "3956   POINT (13.83896 -9.36912)  \n",
       "\n",
       "[1115 rows x 10 columns]"
      ]
     },
     "execution_count": 53,
     "metadata": {},
     "output_type": "execute_result"
    }
   ],
   "source": [
    "NoWater"
   ]
  },
  {
   "cell_type": "code",
   "execution_count": 54,
   "metadata": {},
   "outputs": [],
   "source": [
    "NotEqualSample = pd.merge(NoWater, Water_RS, how='outer')"
   ]
  },
  {
   "cell_type": "code",
   "execution_count": 55,
   "metadata": {},
   "outputs": [
    {
     "data": {
      "text/plain": [
       "(1673, 10)"
      ]
     },
     "execution_count": 55,
     "metadata": {},
     "output_type": "execute_result"
    }
   ],
   "source": [
    "NotEqualSample.shape"
   ]
  },
  {
   "cell_type": "code",
   "execution_count": 56,
   "metadata": {},
   "outputs": [],
   "source": [
    "NotEqualSample.to_file(filename='../Supplementary_data/Validation/Refined/AFRIGIST/shapefile/AfriGIST_inland_S2_SCL_5D_NotEqualSample.shp') "
   ]
  },
  {
   "cell_type": "code",
   "execution_count": 57,
   "metadata": {},
   "outputs": [],
   "source": [
    "NotEqualSample.to_file('../Supplementary_data/Validation/Refined/AFRIGIST/shapefile/AfriGIST_inland_S2_SCL_5D_NotEqualSample.geojson',driver='GeoJSON') "
   ]
  },
  {
   "cell_type": "code",
   "execution_count": 58,
   "metadata": {},
   "outputs": [],
   "source": [
    "NotEqualSample.to_csv(('../Supplementary_data/Validation/Refined/AFRIGIST/AfriGIST_inland_S2_SCL_5D_NotEqualSample.csv')) #this will be used for initial accuracy assessment"
   ]
  },
  {
   "cell_type": "code",
   "execution_count": 59,
   "metadata": {},
   "outputs": [],
   "source": [
    "FN = NotEqualSample[(NotEqualSample['ACTUAL']==1) & (NotEqualSample['PREDICTION']=='0')][['PLOT_ID','LAT','LON','CLASS','MONTH','ACTUAL','PREDICTION']]"
   ]
  },
  {
   "cell_type": "code",
   "execution_count": 60,
   "metadata": {},
   "outputs": [
    {
     "data": {
      "text/html": [
       "<div>\n",
       "<style scoped>\n",
       "    .dataframe tbody tr th:only-of-type {\n",
       "        vertical-align: middle;\n",
       "    }\n",
       "\n",
       "    .dataframe tbody tr th {\n",
       "        vertical-align: top;\n",
       "    }\n",
       "\n",
       "    .dataframe thead th {\n",
       "        text-align: right;\n",
       "    }\n",
       "</style>\n",
       "<table border=\"1\" class=\"dataframe\">\n",
       "  <thead>\n",
       "    <tr style=\"text-align: right;\">\n",
       "      <th></th>\n",
       "      <th>PLOT_ID</th>\n",
       "      <th>LAT</th>\n",
       "      <th>LON</th>\n",
       "      <th>CLASS</th>\n",
       "      <th>MONTH</th>\n",
       "      <th>ACTUAL</th>\n",
       "      <th>PREDICTION</th>\n",
       "    </tr>\n",
       "  </thead>\n",
       "  <tbody>\n",
       "    <tr>\n",
       "      <th>1119</th>\n",
       "      <td>137483308.0</td>\n",
       "      <td>10.548119</td>\n",
       "      <td>12.131051</td>\n",
       "      <td>Open water - freshwater</td>\n",
       "      <td>2</td>\n",
       "      <td>1</td>\n",
       "      <td>0</td>\n",
       "    </tr>\n",
       "    <tr>\n",
       "      <th>1120</th>\n",
       "      <td>137482815.0</td>\n",
       "      <td>-10.812669</td>\n",
       "      <td>17.113003</td>\n",
       "      <td>Open water - freshwater</td>\n",
       "      <td>10</td>\n",
       "      <td>1</td>\n",
       "      <td>0</td>\n",
       "    </tr>\n",
       "    <tr>\n",
       "      <th>1121</th>\n",
       "      <td>137482862.0</td>\n",
       "      <td>-14.696078</td>\n",
       "      <td>29.841963</td>\n",
       "      <td>Open water - freshwater</td>\n",
       "      <td>7</td>\n",
       "      <td>1</td>\n",
       "      <td>0</td>\n",
       "    </tr>\n",
       "    <tr>\n",
       "      <th>1123</th>\n",
       "      <td>137482810.0</td>\n",
       "      <td>-10.324884</td>\n",
       "      <td>22.302031</td>\n",
       "      <td>Open water - freshwater</td>\n",
       "      <td>7</td>\n",
       "      <td>1</td>\n",
       "      <td>0</td>\n",
       "    </tr>\n",
       "    <tr>\n",
       "      <th>1124</th>\n",
       "      <td>137482910.0</td>\n",
       "      <td>-18.802605</td>\n",
       "      <td>16.382951</td>\n",
       "      <td>Open water - freshwater</td>\n",
       "      <td>12</td>\n",
       "      <td>1</td>\n",
       "      <td>0</td>\n",
       "    </tr>\n",
       "    <tr>\n",
       "      <th>...</th>\n",
       "      <td>...</td>\n",
       "      <td>...</td>\n",
       "      <td>...</td>\n",
       "      <td>...</td>\n",
       "      <td>...</td>\n",
       "      <td>...</td>\n",
       "      <td>...</td>\n",
       "    </tr>\n",
       "    <tr>\n",
       "      <th>1661</th>\n",
       "      <td>137483412.0</td>\n",
       "      <td>7.477772</td>\n",
       "      <td>-7.024107</td>\n",
       "      <td>Open water - freshwater</td>\n",
       "      <td>6</td>\n",
       "      <td>1</td>\n",
       "      <td>0</td>\n",
       "    </tr>\n",
       "    <tr>\n",
       "      <th>1662</th>\n",
       "      <td>137483222.0</td>\n",
       "      <td>-30.060736</td>\n",
       "      <td>19.572731</td>\n",
       "      <td>Herbaceous/Grassland</td>\n",
       "      <td>7</td>\n",
       "      <td>1</td>\n",
       "      <td>0</td>\n",
       "    </tr>\n",
       "    <tr>\n",
       "      <th>1668</th>\n",
       "      <td>137483492.0</td>\n",
       "      <td>5.106233</td>\n",
       "      <td>-2.982082</td>\n",
       "      <td>Open water - freshwater</td>\n",
       "      <td>2</td>\n",
       "      <td>1</td>\n",
       "      <td>0</td>\n",
       "    </tr>\n",
       "    <tr>\n",
       "      <th>1671</th>\n",
       "      <td>137483432.0</td>\n",
       "      <td>6.723388</td>\n",
       "      <td>0.237236</td>\n",
       "      <td>Open water - freshwater</td>\n",
       "      <td>4</td>\n",
       "      <td>1</td>\n",
       "      <td>0</td>\n",
       "    </tr>\n",
       "    <tr>\n",
       "      <th>1672</th>\n",
       "      <td>137482795.0</td>\n",
       "      <td>-8.499326</td>\n",
       "      <td>26.571343</td>\n",
       "      <td>Open water - freshwater</td>\n",
       "      <td>8</td>\n",
       "      <td>1</td>\n",
       "      <td>0</td>\n",
       "    </tr>\n",
       "  </tbody>\n",
       "</table>\n",
       "<p>234 rows × 7 columns</p>\n",
       "</div>"
      ],
      "text/plain": [
       "          PLOT_ID        LAT        LON                    CLASS  MONTH  \\\n",
       "1119  137483308.0  10.548119  12.131051  Open water - freshwater      2   \n",
       "1120  137482815.0 -10.812669  17.113003  Open water - freshwater     10   \n",
       "1121  137482862.0 -14.696078  29.841963  Open water - freshwater      7   \n",
       "1123  137482810.0 -10.324884  22.302031  Open water - freshwater      7   \n",
       "1124  137482910.0 -18.802605  16.382951  Open water - freshwater     12   \n",
       "...           ...        ...        ...                      ...    ...   \n",
       "1661  137483412.0   7.477772  -7.024107  Open water - freshwater      6   \n",
       "1662  137483222.0 -30.060736  19.572731     Herbaceous/Grassland      7   \n",
       "1668  137483492.0   5.106233  -2.982082  Open water - freshwater      2   \n",
       "1671  137483432.0   6.723388   0.237236  Open water - freshwater      4   \n",
       "1672  137482795.0  -8.499326  26.571343  Open water - freshwater      8   \n",
       "\n",
       "      ACTUAL PREDICTION  \n",
       "1119       1          0  \n",
       "1120       1          0  \n",
       "1121       1          0  \n",
       "1123       1          0  \n",
       "1124       1          0  \n",
       "...      ...        ...  \n",
       "1661       1          0  \n",
       "1662       1          0  \n",
       "1668       1          0  \n",
       "1671       1          0  \n",
       "1672       1          0  \n",
       "\n",
       "[234 rows x 7 columns]"
      ]
     },
     "execution_count": 60,
     "metadata": {},
     "output_type": "execute_result"
    }
   ],
   "source": [
    "FN"
   ]
  },
  {
   "cell_type": "code",
   "execution_count": 61,
   "metadata": {},
   "outputs": [],
   "source": [
    "FN.to_csv(('../Supplementary_data/Validation/Refined/AFRIGIST/FalseNegative_AfriGIST_inland_S2_SCL_5D_NotEqualSamples.csv'))"
   ]
  },
  {
   "cell_type": "code",
   "execution_count": 62,
   "metadata": {},
   "outputs": [
    {
     "data": {
      "text/html": [
       "<div>\n",
       "<style scoped>\n",
       "    .dataframe tbody tr th:only-of-type {\n",
       "        vertical-align: middle;\n",
       "    }\n",
       "\n",
       "    .dataframe tbody tr th {\n",
       "        vertical-align: top;\n",
       "    }\n",
       "\n",
       "    .dataframe thead th {\n",
       "        text-align: right;\n",
       "    }\n",
       "</style>\n",
       "<table border=\"1\" class=\"dataframe\">\n",
       "  <thead>\n",
       "    <tr style=\"text-align: right;\">\n",
       "      <th>PREDICTION</th>\n",
       "      <th>0</th>\n",
       "      <th>1</th>\n",
       "      <th>All</th>\n",
       "    </tr>\n",
       "    <tr>\n",
       "      <th>ACTUAL</th>\n",
       "      <th></th>\n",
       "      <th></th>\n",
       "      <th></th>\n",
       "    </tr>\n",
       "  </thead>\n",
       "  <tbody>\n",
       "    <tr>\n",
       "      <th>0</th>\n",
       "      <td>993</td>\n",
       "      <td>122</td>\n",
       "      <td>1115</td>\n",
       "    </tr>\n",
       "    <tr>\n",
       "      <th>1</th>\n",
       "      <td>234</td>\n",
       "      <td>324</td>\n",
       "      <td>558</td>\n",
       "    </tr>\n",
       "    <tr>\n",
       "      <th>All</th>\n",
       "      <td>1227</td>\n",
       "      <td>446</td>\n",
       "      <td>1673</td>\n",
       "    </tr>\n",
       "  </tbody>\n",
       "</table>\n",
       "</div>"
      ],
      "text/plain": [
       "PREDICTION     0    1   All\n",
       "ACTUAL                     \n",
       "0            993  122  1115\n",
       "1            234  324   558\n",
       "All         1227  446  1673"
      ]
     },
     "execution_count": 62,
     "metadata": {},
     "output_type": "execute_result"
    }
   ],
   "source": [
    "confusion_matrix = pd.crosstab(NotEqualSample['ACTUAL'],NotEqualSample['PREDICTION'],rownames=['ACTUAL'],colnames=['PREDICTION'],margins=True)\n",
    "confusion_matrix"
   ]
  },
  {
   "cell_type": "code",
   "execution_count": 63,
   "metadata": {},
   "outputs": [
    {
     "data": {
      "text/html": [
       "<div>\n",
       "<style scoped>\n",
       "    .dataframe tbody tr th:only-of-type {\n",
       "        vertical-align: middle;\n",
       "    }\n",
       "\n",
       "    .dataframe tbody tr th {\n",
       "        vertical-align: top;\n",
       "    }\n",
       "\n",
       "    .dataframe thead th {\n",
       "        text-align: right;\n",
       "    }\n",
       "</style>\n",
       "<table border=\"1\" class=\"dataframe\">\n",
       "  <thead>\n",
       "    <tr style=\"text-align: right;\">\n",
       "      <th>PREDICTION</th>\n",
       "      <th>0</th>\n",
       "      <th>1</th>\n",
       "      <th>All</th>\n",
       "      <th>User's</th>\n",
       "    </tr>\n",
       "    <tr>\n",
       "      <th>ACTUAL</th>\n",
       "      <th></th>\n",
       "      <th></th>\n",
       "      <th></th>\n",
       "      <th></th>\n",
       "    </tr>\n",
       "  </thead>\n",
       "  <tbody>\n",
       "    <tr>\n",
       "      <th>0</th>\n",
       "      <td>993</td>\n",
       "      <td>122</td>\n",
       "      <td>1115</td>\n",
       "      <td>89.058296</td>\n",
       "    </tr>\n",
       "    <tr>\n",
       "      <th>1</th>\n",
       "      <td>234</td>\n",
       "      <td>324</td>\n",
       "      <td>558</td>\n",
       "      <td>58.064516</td>\n",
       "    </tr>\n",
       "    <tr>\n",
       "      <th>All</th>\n",
       "      <td>1227</td>\n",
       "      <td>446</td>\n",
       "      <td>1673</td>\n",
       "      <td>NaN</td>\n",
       "    </tr>\n",
       "  </tbody>\n",
       "</table>\n",
       "</div>"
      ],
      "text/plain": [
       "PREDICTION     0    1   All     User's\n",
       "ACTUAL                                \n",
       "0            993  122  1115  89.058296\n",
       "1            234  324   558  58.064516\n",
       "All         1227  446  1673        NaN"
      ]
     },
     "execution_count": 63,
     "metadata": {},
     "output_type": "execute_result"
    }
   ],
   "source": [
    "confusion_matrix[\"User's\"] = [confusion_matrix.loc[0][0] / confusion_matrix.loc[0]['All'] * 100, confusion_matrix.loc[1][1] / confusion_matrix.loc[1]['All'] *100, np.nan]\n",
    "confusion_matrix"
   ]
  },
  {
   "cell_type": "code",
   "execution_count": 64,
   "metadata": {},
   "outputs": [
    {
     "data": {
      "text/html": [
       "<div>\n",
       "<style scoped>\n",
       "    .dataframe tbody tr th:only-of-type {\n",
       "        vertical-align: middle;\n",
       "    }\n",
       "\n",
       "    .dataframe tbody tr th {\n",
       "        vertical-align: top;\n",
       "    }\n",
       "\n",
       "    .dataframe thead th {\n",
       "        text-align: right;\n",
       "    }\n",
       "</style>\n",
       "<table border=\"1\" class=\"dataframe\">\n",
       "  <thead>\n",
       "    <tr style=\"text-align: right;\">\n",
       "      <th></th>\n",
       "      <th>0</th>\n",
       "      <th>1</th>\n",
       "      <th>All</th>\n",
       "      <th>User's</th>\n",
       "      <th>0</th>\n",
       "      <th>1</th>\n",
       "    </tr>\n",
       "    <tr>\n",
       "      <th>ACTUAL</th>\n",
       "      <th></th>\n",
       "      <th></th>\n",
       "      <th></th>\n",
       "      <th></th>\n",
       "      <th></th>\n",
       "      <th></th>\n",
       "    </tr>\n",
       "  </thead>\n",
       "  <tbody>\n",
       "    <tr>\n",
       "      <th>0</th>\n",
       "      <td>993.0</td>\n",
       "      <td>122.0</td>\n",
       "      <td>1115.0</td>\n",
       "      <td>89.058296</td>\n",
       "      <td>NaN</td>\n",
       "      <td>NaN</td>\n",
       "    </tr>\n",
       "    <tr>\n",
       "      <th>1</th>\n",
       "      <td>234.0</td>\n",
       "      <td>324.0</td>\n",
       "      <td>558.0</td>\n",
       "      <td>58.064516</td>\n",
       "      <td>NaN</td>\n",
       "      <td>NaN</td>\n",
       "    </tr>\n",
       "    <tr>\n",
       "      <th>All</th>\n",
       "      <td>1227.0</td>\n",
       "      <td>446.0</td>\n",
       "      <td>1673.0</td>\n",
       "      <td>NaN</td>\n",
       "      <td>NaN</td>\n",
       "      <td>NaN</td>\n",
       "    </tr>\n",
       "    <tr>\n",
       "      <th>Producer's</th>\n",
       "      <td>NaN</td>\n",
       "      <td>NaN</td>\n",
       "      <td>NaN</td>\n",
       "      <td>NaN</td>\n",
       "      <td>80.929095</td>\n",
       "      <td>72.64574</td>\n",
       "    </tr>\n",
       "  </tbody>\n",
       "</table>\n",
       "</div>"
      ],
      "text/plain": [
       "                 0      1     All     User's          0         1\n",
       "ACTUAL                                                           \n",
       "0            993.0  122.0  1115.0  89.058296        NaN       NaN\n",
       "1            234.0  324.0   558.0  58.064516        NaN       NaN\n",
       "All         1227.0  446.0  1673.0        NaN        NaN       NaN\n",
       "Producer's     NaN    NaN     NaN        NaN  80.929095  72.64574"
      ]
     },
     "execution_count": 64,
     "metadata": {},
     "output_type": "execute_result"
    }
   ],
   "source": [
    "producers_accuracy = pd.Series([confusion_matrix['0'][0] / confusion_matrix['0']['All'] * 100,\n",
    "                                confusion_matrix['1'][1] / confusion_matrix['1']['All'] * 100]).rename(\"Producer's\")\n",
    "\n",
    "confusion_matrix = confusion_matrix.append(producers_accuracy)\n",
    "confusion_matrix"
   ]
  },
  {
   "cell_type": "code",
   "execution_count": 65,
   "metadata": {},
   "outputs": [
    {
     "data": {
      "text/html": [
       "<div>\n",
       "<style scoped>\n",
       "    .dataframe tbody tr th:only-of-type {\n",
       "        vertical-align: middle;\n",
       "    }\n",
       "\n",
       "    .dataframe tbody tr th {\n",
       "        vertical-align: top;\n",
       "    }\n",
       "\n",
       "    .dataframe thead th {\n",
       "        text-align: right;\n",
       "    }\n",
       "</style>\n",
       "<table border=\"1\" class=\"dataframe\">\n",
       "  <thead>\n",
       "    <tr style=\"text-align: right;\">\n",
       "      <th></th>\n",
       "      <th>0</th>\n",
       "      <th>1</th>\n",
       "      <th>All</th>\n",
       "      <th>User's</th>\n",
       "      <th>0</th>\n",
       "      <th>1</th>\n",
       "    </tr>\n",
       "    <tr>\n",
       "      <th>ACTUAL</th>\n",
       "      <th></th>\n",
       "      <th></th>\n",
       "      <th></th>\n",
       "      <th></th>\n",
       "      <th></th>\n",
       "      <th></th>\n",
       "    </tr>\n",
       "  </thead>\n",
       "  <tbody>\n",
       "    <tr>\n",
       "      <th>0</th>\n",
       "      <td>993.0</td>\n",
       "      <td>122.0</td>\n",
       "      <td>1115.0</td>\n",
       "      <td>89.058296</td>\n",
       "      <td>NaN</td>\n",
       "      <td>NaN</td>\n",
       "    </tr>\n",
       "    <tr>\n",
       "      <th>1</th>\n",
       "      <td>234.0</td>\n",
       "      <td>324.0</td>\n",
       "      <td>558.0</td>\n",
       "      <td>58.064516</td>\n",
       "      <td>NaN</td>\n",
       "      <td>NaN</td>\n",
       "    </tr>\n",
       "    <tr>\n",
       "      <th>All</th>\n",
       "      <td>1227.0</td>\n",
       "      <td>446.0</td>\n",
       "      <td>1673.0</td>\n",
       "      <td>NaN</td>\n",
       "      <td>NaN</td>\n",
       "      <td>NaN</td>\n",
       "    </tr>\n",
       "    <tr>\n",
       "      <th>Producer's</th>\n",
       "      <td>NaN</td>\n",
       "      <td>NaN</td>\n",
       "      <td>NaN</td>\n",
       "      <td>78.720861</td>\n",
       "      <td>80.929095</td>\n",
       "      <td>72.64574</td>\n",
       "    </tr>\n",
       "  </tbody>\n",
       "</table>\n",
       "</div>"
      ],
      "text/plain": [
       "                 0      1     All     User's          0         1\n",
       "ACTUAL                                                           \n",
       "0            993.0  122.0  1115.0  89.058296        NaN       NaN\n",
       "1            234.0  324.0   558.0  58.064516        NaN       NaN\n",
       "All         1227.0  446.0  1673.0        NaN        NaN       NaN\n",
       "Producer's     NaN    NaN     NaN  78.720861  80.929095  72.64574"
      ]
     },
     "execution_count": 65,
     "metadata": {},
     "output_type": "execute_result"
    }
   ],
   "source": [
    "confusion_matrix.loc[\"Producer's\", \"User's\"] = (confusion_matrix['0'][0] + confusion_matrix['1'][1]) / confusion_matrix['All']['All'] * 100\n",
    "confusion_matrix"
   ]
  },
  {
   "cell_type": "code",
   "execution_count": 66,
   "metadata": {},
   "outputs": [],
   "source": [
    "NotEqualSample['PREDICTION'] = NotEqualSample['PREDICTION'] .astype(str).astype(int)"
   ]
  },
  {
   "cell_type": "code",
   "execution_count": 67,
   "metadata": {},
   "outputs": [],
   "source": [
    "fscore = pd.Series([(2*(confusion_matrix.loc[0][\"User's\"]*confusion_matrix.loc[\"Producer's\"][0]) / (confusion_matrix.loc[0][\"User's\"] + confusion_matrix.loc[\"Producer's\"][0])) / 100,\n",
    "                   f1_score(NotEqualSample['ACTUAL'],NotEqualSample['PREDICTION'])]).rename(\"F-score\")\n",
    "confusion_matrix = confusion_matrix.append(fscore)"
   ]
  },
  {
   "cell_type": "code",
   "execution_count": 68,
   "metadata": {},
   "outputs": [
    {
     "data": {
      "text/html": [
       "<div>\n",
       "<style scoped>\n",
       "    .dataframe tbody tr th:only-of-type {\n",
       "        vertical-align: middle;\n",
       "    }\n",
       "\n",
       "    .dataframe tbody tr th {\n",
       "        vertical-align: top;\n",
       "    }\n",
       "\n",
       "    .dataframe thead th {\n",
       "        text-align: right;\n",
       "    }\n",
       "</style>\n",
       "<table border=\"1\" class=\"dataframe\">\n",
       "  <thead>\n",
       "    <tr style=\"text-align: right;\">\n",
       "      <th></th>\n",
       "      <th>0</th>\n",
       "      <th>1</th>\n",
       "      <th>All</th>\n",
       "      <th>User's</th>\n",
       "      <th>0</th>\n",
       "      <th>1</th>\n",
       "    </tr>\n",
       "    <tr>\n",
       "      <th>ACTUAL</th>\n",
       "      <th></th>\n",
       "      <th></th>\n",
       "      <th></th>\n",
       "      <th></th>\n",
       "      <th></th>\n",
       "      <th></th>\n",
       "    </tr>\n",
       "  </thead>\n",
       "  <tbody>\n",
       "    <tr>\n",
       "      <th>0</th>\n",
       "      <td>993.0</td>\n",
       "      <td>122.0</td>\n",
       "      <td>1115.0</td>\n",
       "      <td>89.058296</td>\n",
       "      <td>NaN</td>\n",
       "      <td>NaN</td>\n",
       "    </tr>\n",
       "    <tr>\n",
       "      <th>1</th>\n",
       "      <td>234.0</td>\n",
       "      <td>324.0</td>\n",
       "      <td>558.0</td>\n",
       "      <td>58.064516</td>\n",
       "      <td>NaN</td>\n",
       "      <td>NaN</td>\n",
       "    </tr>\n",
       "    <tr>\n",
       "      <th>All</th>\n",
       "      <td>1227.0</td>\n",
       "      <td>446.0</td>\n",
       "      <td>1673.0</td>\n",
       "      <td>NaN</td>\n",
       "      <td>NaN</td>\n",
       "      <td>NaN</td>\n",
       "    </tr>\n",
       "    <tr>\n",
       "      <th>Producer's</th>\n",
       "      <td>NaN</td>\n",
       "      <td>NaN</td>\n",
       "      <td>NaN</td>\n",
       "      <td>78.720861</td>\n",
       "      <td>80.929095</td>\n",
       "      <td>72.645740</td>\n",
       "    </tr>\n",
       "    <tr>\n",
       "      <th>F-score</th>\n",
       "      <td>NaN</td>\n",
       "      <td>NaN</td>\n",
       "      <td>NaN</td>\n",
       "      <td>NaN</td>\n",
       "      <td>0.847993</td>\n",
       "      <td>0.645418</td>\n",
       "    </tr>\n",
       "  </tbody>\n",
       "</table>\n",
       "</div>"
      ],
      "text/plain": [
       "                 0      1     All     User's          0          1\n",
       "ACTUAL                                                            \n",
       "0            993.0  122.0  1115.0  89.058296        NaN        NaN\n",
       "1            234.0  324.0   558.0  58.064516        NaN        NaN\n",
       "All         1227.0  446.0  1673.0        NaN        NaN        NaN\n",
       "Producer's     NaN    NaN     NaN  78.720861  80.929095  72.645740\n",
       "F-score        NaN    NaN     NaN        NaN   0.847993   0.645418"
      ]
     },
     "execution_count": 68,
     "metadata": {},
     "output_type": "execute_result"
    }
   ],
   "source": [
    "confusion_matrix"
   ]
  },
  {
   "cell_type": "code",
   "execution_count": 69,
   "metadata": {},
   "outputs": [
    {
     "data": {
      "image/png": "[encoded data removed]",
      "text/plain": [
       "<Figure size 432x288 with 2 Axes>"
      ]
     },
     "metadata": {
      "needs_background": "light"
     },
     "output_type": "display_data"
    }
   ],
   "source": [
    "confusion_matrix = pd.crosstab(NotEqualSample['ACTUAL'],NotEqualSample['PREDICTION'],rownames=['ACTUAL'],colnames=['PREDICTION'])\n",
    "ax = plt.subplot()\n",
    "sn.heatmap(confusion_matrix, annot = True) #true to annotate cells \n",
    "ax.set_xlabel('Predicted labels'); ax.set_ylabel('Actual labels');\n",
    "ax.set_title('Confusion Matrix')\n",
    "ax.xaxis.set_ticklabels(['nowater','water']); ax.yaxis.set_ticklabels(['nowater','water']);\n",
    "plt.show()"
   ]
  },
  {
   "cell_type": "code",
   "execution_count": 70,
   "metadata": {},
   "outputs": [
    {
     "data": {
      "image/png": "[encoded data removed]",
      "text/plain": [
       "<Figure size 432x288 with 2 Axes>"
      ]
     },
     "metadata": {
      "needs_background": "light"
     },
     "output_type": "display_data"
    }
   ],
   "source": [
    "confusion_matrix = pd.crosstab(NotEqualSample['ACTUAL'],NotEqualSample['PREDICTION'],rownames=['ACTUAL'],colnames=['PREDICTION'],normalize=True)\n",
    "ax = plt.subplot()\n",
    "sn.heatmap(confusion_matrix, annot = True) #true to annotate cells \n",
    "ax.set_xlabel('Predicted labels'); ax.set_ylabel('Actual labels');\n",
    "ax.set_title('Normalized Confusion Matrix')\n",
    "ax.xaxis.set_ticklabels(['nowater','water']); ax.yaxis.set_ticklabels(['nowater','water']);"
   ]
  },
  {
   "cell_type": "markdown",
   "metadata": {},
   "source": [
    "## Equal Sampling of the Validation Dataset "
   ]
  },
  {
   "cell_type": "code",
   "execution_count": 37,
   "metadata": {},
   "outputs": [],
   "source": [
    "NoWater = include_points.loc[include_points['ACTUAL'] == 0.0]"
   ]
  },
  {
   "cell_type": "code",
   "execution_count": 49,
   "metadata": {},
   "outputs": [],
   "source": [
    "# NoWater.shape"
   ]
  },
  {
   "cell_type": "code",
   "execution_count": 40,
   "metadata": {},
   "outputs": [],
   "source": [
    "Water = include_points.loc[include_points['ACTUAL'] == 1.0]"
   ]
  },
  {
   "cell_type": "code",
   "execution_count": 41,
   "metadata": {},
   "outputs": [],
   "source": [
    "Water_RS = Water.sample(n=812)"
   ]
  },
  {
   "cell_type": "code",
   "execution_count": 51,
   "metadata": {},
   "outputs": [],
   "source": [
    "# Water_RS.shape"
   ]
  },
  {
   "cell_type": "code",
   "execution_count": 53,
   "metadata": {},
   "outputs": [],
   "source": [
    "EqualSample = pd.merge(NoWater, Water_RS, how='outer')"
   ]
  },
  {
   "cell_type": "code",
   "execution_count": 50,
   "metadata": {},
   "outputs": [],
   "source": [
    "# EqualSample.shape"
   ]
  },
  {
   "cell_type": "code",
   "execution_count": 14,
   "metadata": {},
   "outputs": [],
   "source": [
    "EqualSample.to_file(filename='../Supplementary_data/Validation/Refined/AFRIGIST/shapefile/AfriGIST_inland_EqualSample.shp') "
   ]
  },
  {
   "cell_type": "code",
   "execution_count": 15,
   "metadata": {},
   "outputs": [],
   "source": [
    "EqualSample.to_file('../Supplementary_data/Validation/Refined/AFRIGIST/shapefile/AfriGIST_inland_EqualSample.geojson',driver='GeoJSON') "
   ]
  },
  {
   "cell_type": "code",
   "execution_count": 16,
   "metadata": {},
   "outputs": [],
   "source": [
    "EqualSample.to_csv(('../Supplementary_data/Validation/Refined/AFRIGIST/AfriGIST_inland_EqualSample.csv')) #this will be used for initial accuracy assessment "
   ]
  },
  {
   "cell_type": "markdown",
   "metadata": {},
   "source": [
    "### Calculate confusion matrix on inland points "
   ]
  },
  {
   "cell_type": "markdown",
   "metadata": {},
   "source": [
    "To do the accuracy assesssment of the validation in each AEZ , we need to obtain WOfS surface water observation data that corresponds with the labelled input data locations. "
   ]
  },
  {
   "cell_type": "code",
   "execution_count": 66,
   "metadata": {},
   "outputs": [
    {
     "data": {
      "text/html": [
       "<div>\n",
       "<style scoped>\n",
       "    .dataframe tbody tr th:only-of-type {\n",
       "        vertical-align: middle;\n",
       "    }\n",
       "\n",
       "    .dataframe tbody tr th {\n",
       "        vertical-align: top;\n",
       "    }\n",
       "\n",
       "    .dataframe thead th {\n",
       "        text-align: right;\n",
       "    }\n",
       "</style>\n",
       "<table border=\"1\" class=\"dataframe\">\n",
       "  <thead>\n",
       "    <tr style=\"text-align: right;\">\n",
       "      <th>PREDICTION</th>\n",
       "      <th>0</th>\n",
       "      <th>1</th>\n",
       "      <th>All</th>\n",
       "    </tr>\n",
       "    <tr>\n",
       "      <th>ACTUAL</th>\n",
       "      <th></th>\n",
       "      <th></th>\n",
       "      <th></th>\n",
       "    </tr>\n",
       "  </thead>\n",
       "  <tbody>\n",
       "    <tr>\n",
       "      <th>0</th>\n",
       "      <td>676</td>\n",
       "      <td>136</td>\n",
       "      <td>812</td>\n",
       "    </tr>\n",
       "    <tr>\n",
       "      <th>1</th>\n",
       "      <td>233</td>\n",
       "      <td>579</td>\n",
       "      <td>812</td>\n",
       "    </tr>\n",
       "    <tr>\n",
       "      <th>All</th>\n",
       "      <td>909</td>\n",
       "      <td>715</td>\n",
       "      <td>1624</td>\n",
       "    </tr>\n",
       "  </tbody>\n",
       "</table>\n",
       "</div>"
      ],
      "text/plain": [
       "PREDICTION    0    1   All\n",
       "ACTUAL                    \n",
       "0           676  136   812\n",
       "1           233  579   812\n",
       "All         909  715  1624"
      ]
     },
     "execution_count": 66,
     "metadata": {},
     "output_type": "execute_result"
    }
   ],
   "source": [
    "#RCMRD_inland\n",
    "confusion_matrix = pd.crosstab(EqualSample['ACTUAL'],EqualSample['PREDICTION'],rownames=['ACTUAL'],colnames=['PREDICTION'],margins=True)\n",
    "confusion_matrix"
   ]
  },
  {
   "cell_type": "markdown",
   "metadata": {},
   "source": [
    "### Calculating User's Accuracy "
   ]
  },
  {
   "cell_type": "markdown",
   "metadata": {},
   "source": [
    "The User's Accuracy is the accuracy from the point of view of a map user, not the map maker. the User's accuracy essentially tells use how often the class on the map will actually be present on the ground. This is referred to as reliability. The User's Accuracy is complement of the Commission Error, *User's Accuracy = 100%-Commission Error*. The User's Accuracy is calculating by taking the total number of correct classifications for a particular class and dividing it by the row total."
   ]
  },
  {
   "cell_type": "code",
   "execution_count": 67,
   "metadata": {},
   "outputs": [
    {
     "data": {
      "text/html": [
       "<div>\n",
       "<style scoped>\n",
       "    .dataframe tbody tr th:only-of-type {\n",
       "        vertical-align: middle;\n",
       "    }\n",
       "\n",
       "    .dataframe tbody tr th {\n",
       "        vertical-align: top;\n",
       "    }\n",
       "\n",
       "    .dataframe thead th {\n",
       "        text-align: right;\n",
       "    }\n",
       "</style>\n",
       "<table border=\"1\" class=\"dataframe\">\n",
       "  <thead>\n",
       "    <tr style=\"text-align: right;\">\n",
       "      <th>PREDICTION</th>\n",
       "      <th>0</th>\n",
       "      <th>1</th>\n",
       "      <th>All</th>\n",
       "      <th>User's</th>\n",
       "    </tr>\n",
       "    <tr>\n",
       "      <th>ACTUAL</th>\n",
       "      <th></th>\n",
       "      <th></th>\n",
       "      <th></th>\n",
       "      <th></th>\n",
       "    </tr>\n",
       "  </thead>\n",
       "  <tbody>\n",
       "    <tr>\n",
       "      <th>0</th>\n",
       "      <td>676</td>\n",
       "      <td>136</td>\n",
       "      <td>812</td>\n",
       "      <td>83.251232</td>\n",
       "    </tr>\n",
       "    <tr>\n",
       "      <th>1</th>\n",
       "      <td>233</td>\n",
       "      <td>579</td>\n",
       "      <td>812</td>\n",
       "      <td>71.305419</td>\n",
       "    </tr>\n",
       "    <tr>\n",
       "      <th>All</th>\n",
       "      <td>909</td>\n",
       "      <td>715</td>\n",
       "      <td>1624</td>\n",
       "      <td>NaN</td>\n",
       "    </tr>\n",
       "  </tbody>\n",
       "</table>\n",
       "</div>"
      ],
      "text/plain": [
       "PREDICTION    0    1   All     User's\n",
       "ACTUAL                               \n",
       "0           676  136   812  83.251232\n",
       "1           233  579   812  71.305419\n",
       "All         909  715  1624        NaN"
      ]
     },
     "execution_count": 67,
     "metadata": {},
     "output_type": "execute_result"
    }
   ],
   "source": [
    "confusion_matrix[\"User's\"] = [confusion_matrix.loc[0][0] / confusion_matrix.loc[0]['All'] * 100, confusion_matrix.loc[1][1] / confusion_matrix.loc[1]['All'] *100, np.nan]\n",
    "confusion_matrix"
   ]
  },
  {
   "cell_type": "markdown",
   "metadata": {},
   "source": [
    "The false positive ones are 452 points that need to be checked against WOfS "
   ]
  },
  {
   "cell_type": "markdown",
   "metadata": {},
   "source": [
    "### Calculating Producer's Accuracy "
   ]
  },
  {
   "cell_type": "markdown",
   "metadata": {},
   "source": [
    "Producer's Accuracy is the map accuracy from the point of view of the map maker (the producer). This is how often are real features on the ground correctly shown on the classified map or the probability that a certain land cover of an area on the ground is classified as such. Deviding the number of correctly classified pixels in each category (on the major diagonal) by the numbr of reference pixels \"known\" to be of that category (the column total)\n",
    "This value represents how well reference pixels of the ground cover type are classified. Producer's accuracy completes ommision error, *Producer's accuracy = 100% - Ommision error*"
   ]
  },
  {
   "cell_type": "code",
   "execution_count": 69,
   "metadata": {},
   "outputs": [
    {
     "data": {
      "text/html": [
       "<div>\n",
       "<style scoped>\n",
       "    .dataframe tbody tr th:only-of-type {\n",
       "        vertical-align: middle;\n",
       "    }\n",
       "\n",
       "    .dataframe tbody tr th {\n",
       "        vertical-align: top;\n",
       "    }\n",
       "\n",
       "    .dataframe thead th {\n",
       "        text-align: right;\n",
       "    }\n",
       "</style>\n",
       "<table border=\"1\" class=\"dataframe\">\n",
       "  <thead>\n",
       "    <tr style=\"text-align: right;\">\n",
       "      <th>PREDICTION</th>\n",
       "      <th>0</th>\n",
       "      <th>1</th>\n",
       "      <th>All</th>\n",
       "      <th>User's</th>\n",
       "    </tr>\n",
       "    <tr>\n",
       "      <th>ACTUAL</th>\n",
       "      <th></th>\n",
       "      <th></th>\n",
       "      <th></th>\n",
       "      <th></th>\n",
       "    </tr>\n",
       "  </thead>\n",
       "  <tbody>\n",
       "    <tr>\n",
       "      <th>0</th>\n",
       "      <td>676.000000</td>\n",
       "      <td>136.000000</td>\n",
       "      <td>812.0</td>\n",
       "      <td>83.251232</td>\n",
       "    </tr>\n",
       "    <tr>\n",
       "      <th>1</th>\n",
       "      <td>233.000000</td>\n",
       "      <td>579.000000</td>\n",
       "      <td>812.0</td>\n",
       "      <td>71.305419</td>\n",
       "    </tr>\n",
       "    <tr>\n",
       "      <th>All</th>\n",
       "      <td>909.000000</td>\n",
       "      <td>715.000000</td>\n",
       "      <td>1624.0</td>\n",
       "      <td>NaN</td>\n",
       "    </tr>\n",
       "    <tr>\n",
       "      <th>Producer's</th>\n",
       "      <td>74.367437</td>\n",
       "      <td>80.979021</td>\n",
       "      <td>NaN</td>\n",
       "      <td>NaN</td>\n",
       "    </tr>\n",
       "  </tbody>\n",
       "</table>\n",
       "</div>"
      ],
      "text/plain": [
       "PREDICTION           0           1     All     User's\n",
       "ACTUAL                                               \n",
       "0           676.000000  136.000000   812.0  83.251232\n",
       "1           233.000000  579.000000   812.0  71.305419\n",
       "All         909.000000  715.000000  1624.0        NaN\n",
       "Producer's   74.367437   80.979021     NaN        NaN"
      ]
     },
     "execution_count": 69,
     "metadata": {},
     "output_type": "execute_result"
    }
   ],
   "source": [
    "producers_accuracy = pd.Series([confusion_matrix[0][0] / confusion_matrix[0]['All'] * 100,\n",
    "                                confusion_matrix[1][1] / confusion_matrix[1]['All'] * 100]).rename(\"Producer's\")\n",
    "\n",
    "confusion_matrix = confusion_matrix.append(producers_accuracy)\n",
    "confusion_matrix "
   ]
  },
  {
   "cell_type": "code",
   "execution_count": 71,
   "metadata": {},
   "outputs": [
    {
     "data": {
      "text/html": [
       "<div>\n",
       "<style scoped>\n",
       "    .dataframe tbody tr th:only-of-type {\n",
       "        vertical-align: middle;\n",
       "    }\n",
       "\n",
       "    .dataframe tbody tr th {\n",
       "        vertical-align: top;\n",
       "    }\n",
       "\n",
       "    .dataframe thead th {\n",
       "        text-align: right;\n",
       "    }\n",
       "</style>\n",
       "<table border=\"1\" class=\"dataframe\">\n",
       "  <thead>\n",
       "    <tr style=\"text-align: right;\">\n",
       "      <th>PREDICTION</th>\n",
       "      <th>0</th>\n",
       "      <th>1</th>\n",
       "      <th>All</th>\n",
       "      <th>User's</th>\n",
       "    </tr>\n",
       "    <tr>\n",
       "      <th>ACTUAL</th>\n",
       "      <th></th>\n",
       "      <th></th>\n",
       "      <th></th>\n",
       "      <th></th>\n",
       "    </tr>\n",
       "  </thead>\n",
       "  <tbody>\n",
       "    <tr>\n",
       "      <th>0</th>\n",
       "      <td>676.000000</td>\n",
       "      <td>136.000000</td>\n",
       "      <td>812.0</td>\n",
       "      <td>83.251232</td>\n",
       "    </tr>\n",
       "    <tr>\n",
       "      <th>1</th>\n",
       "      <td>233.000000</td>\n",
       "      <td>579.000000</td>\n",
       "      <td>812.0</td>\n",
       "      <td>71.305419</td>\n",
       "    </tr>\n",
       "    <tr>\n",
       "      <th>All</th>\n",
       "      <td>909.000000</td>\n",
       "      <td>715.000000</td>\n",
       "      <td>1624.0</td>\n",
       "      <td>NaN</td>\n",
       "    </tr>\n",
       "    <tr>\n",
       "      <th>Producer's</th>\n",
       "      <td>74.367437</td>\n",
       "      <td>80.979021</td>\n",
       "      <td>NaN</td>\n",
       "      <td>77.278325</td>\n",
       "    </tr>\n",
       "  </tbody>\n",
       "</table>\n",
       "</div>"
      ],
      "text/plain": [
       "PREDICTION           0           1     All     User's\n",
       "ACTUAL                                               \n",
       "0           676.000000  136.000000   812.0  83.251232\n",
       "1           233.000000  579.000000   812.0  71.305419\n",
       "All         909.000000  715.000000  1624.0        NaN\n",
       "Producer's   74.367437   80.979021     NaN  77.278325"
      ]
     },
     "execution_count": 71,
     "metadata": {},
     "output_type": "execute_result"
    }
   ],
   "source": [
    "confusion_matrix.loc[\"Producer's\", \"User's\"] = (confusion_matrix[0][0] + confusion_matrix[1][1]) / confusion_matrix['All']['All'] * 100\n",
    "confusion_matrix"
   ]
  },
  {
   "cell_type": "code",
   "execution_count": 72,
   "metadata": {},
   "outputs": [],
   "source": [
    "EqualSample['PREDICTION'] = EqualSample['PREDICTION'] .astype(str).astype(int)"
   ]
  },
  {
   "cell_type": "code",
   "execution_count": 73,
   "metadata": {},
   "outputs": [],
   "source": [
    "fscore = pd.Series([(2*(confusion_matrix.loc[0][\"User's\"]*confusion_matrix.loc[\"Producer's\"][0]) / (confusion_matrix.loc[0][\"User's\"] + confusion_matrix.loc[\"Producer's\"][0])) / 100,\n",
    "                   f1_score(EqualSample['ACTUAL'],EqualSample['PREDICTION'])]).rename(\"F-score\")\n",
    "confusion_matrix = confusion_matrix.append(fscore)"
   ]
  },
  {
   "cell_type": "code",
   "execution_count": 74,
   "metadata": {},
   "outputs": [
    {
     "data": {
      "text/html": [
       "<div>\n",
       "<style scoped>\n",
       "    .dataframe tbody tr th:only-of-type {\n",
       "        vertical-align: middle;\n",
       "    }\n",
       "\n",
       "    .dataframe tbody tr th {\n",
       "        vertical-align: top;\n",
       "    }\n",
       "\n",
       "    .dataframe thead th {\n",
       "        text-align: right;\n",
       "    }\n",
       "</style>\n",
       "<table border=\"1\" class=\"dataframe\">\n",
       "  <thead>\n",
       "    <tr style=\"text-align: right;\">\n",
       "      <th>PREDICTION</th>\n",
       "      <th>0</th>\n",
       "      <th>1</th>\n",
       "      <th>All</th>\n",
       "      <th>User's</th>\n",
       "    </tr>\n",
       "    <tr>\n",
       "      <th>ACTUAL</th>\n",
       "      <th></th>\n",
       "      <th></th>\n",
       "      <th></th>\n",
       "      <th></th>\n",
       "    </tr>\n",
       "  </thead>\n",
       "  <tbody>\n",
       "    <tr>\n",
       "      <th>0</th>\n",
       "      <td>676.000000</td>\n",
       "      <td>136.000000</td>\n",
       "      <td>812.0</td>\n",
       "      <td>83.251232</td>\n",
       "    </tr>\n",
       "    <tr>\n",
       "      <th>1</th>\n",
       "      <td>233.000000</td>\n",
       "      <td>579.000000</td>\n",
       "      <td>812.0</td>\n",
       "      <td>71.305419</td>\n",
       "    </tr>\n",
       "    <tr>\n",
       "      <th>All</th>\n",
       "      <td>909.000000</td>\n",
       "      <td>715.000000</td>\n",
       "      <td>1624.0</td>\n",
       "      <td>NaN</td>\n",
       "    </tr>\n",
       "    <tr>\n",
       "      <th>Producer's</th>\n",
       "      <td>74.367437</td>\n",
       "      <td>80.979021</td>\n",
       "      <td>NaN</td>\n",
       "      <td>77.278325</td>\n",
       "    </tr>\n",
       "    <tr>\n",
       "      <th>F-score</th>\n",
       "      <td>0.785590</td>\n",
       "      <td>0.758350</td>\n",
       "      <td>NaN</td>\n",
       "      <td>NaN</td>\n",
       "    </tr>\n",
       "  </tbody>\n",
       "</table>\n",
       "</div>"
      ],
      "text/plain": [
       "PREDICTION           0           1     All     User's\n",
       "ACTUAL                                               \n",
       "0           676.000000  136.000000   812.0  83.251232\n",
       "1           233.000000  579.000000   812.0  71.305419\n",
       "All         909.000000  715.000000  1624.0        NaN\n",
       "Producer's   74.367437   80.979021     NaN  77.278325\n",
       "F-score       0.785590    0.758350     NaN        NaN"
      ]
     },
     "execution_count": 74,
     "metadata": {},
     "output_type": "execute_result"
    }
   ],
   "source": [
    "confusion_matrix"
   ]
  },
  {
   "cell_type": "code",
   "execution_count": 75,
   "metadata": {},
   "outputs": [
    {
     "data": {
      "image/png": "[encoded data removed]",
      "text/plain": [
       "<Figure size 432x288 with 2 Axes>"
      ]
     },
     "metadata": {
      "needs_background": "light"
     },
     "output_type": "display_data"
    }
   ],
   "source": [
    "confusion_matrix = pd.crosstab(EqualSample['ACTUAL'],EqualSample['PREDICTION'],rownames=['ACTUAL'],colnames=['PREDICTION'])\n",
    "ax = plt.subplot()\n",
    "sn.heatmap(confusion_matrix, annot = True) #true to annotate cells \n",
    "ax.set_xlabel('Predicted labels'); ax.set_ylabel('Actual labels');\n",
    "ax.set_title('Confusion Matrix')\n",
    "ax.xaxis.set_ticklabels(['nowater','water']); ax.yaxis.set_ticklabels(['nowater','water']);\n",
    "plt.show()"
   ]
  },
  {
   "cell_type": "code",
   "execution_count": 76,
   "metadata": {},
   "outputs": [
    {
     "data": {
      "image/png": "[encoded data removed]",
      "text/plain": [
       "<Figure size 432x288 with 2 Axes>"
      ]
     },
     "metadata": {
      "needs_background": "light"
     },
     "output_type": "display_data"
    }
   ],
   "source": [
    "confusion_matrix = pd.crosstab(EqualSample['ACTUAL'],EqualSample['PREDICTION'],rownames=['ACTUAL'],colnames=['PREDICTION'],normalize=True)\n",
    "ax = plt.subplot()\n",
    "sn.heatmap(confusion_matrix, annot = True) #true to annotate cells \n",
    "ax.set_xlabel('Predicted labels'); ax.set_ylabel('Actual labels');\n",
    "ax.set_title('Normalized Confusion Matrix')\n",
    "ax.xaxis.set_ticklabels(['nowater','water']); ax.yaxis.set_ticklabels(['nowater','water']);"
   ]
  },
  {
   "cell_type": "code",
   "execution_count": 2,
   "metadata": {},
   "outputs": [
    {
     "name": "stdout",
     "output_type": "stream",
     "text": [
      "1.8.2.dev7+gdcab0e02\n"
     ]
    }
   ],
   "source": [
    "print(datacube.__version__)"
   ]
  },
  {
   "cell_type": "markdown",
   "metadata": {},
   "source": [
    "***\n",
    "\n",
    "## Additional information\n",
    "\n",
    "**License:** The code in this notebook is licensed under the [Apache License, Version 2.0](https://www.apache.org/licenses/LICENSE-2.0). \n",
    "Digital Earth Africa data is licensed under the [Creative Commons by Attribution 4.0](https://creativecommons.org/licenses/by/4.0/) license.\n",
    "\n",
    "**Contact:** If you need assistance, please post a question on the [Open Data Cube Slack channel](http://slack.opendatacube.org/) or on the [GIS Stack Exchange](https://gis.stackexchange.com/questions/ask?tags=open-data-cube) using the `open-data-cube` tag (you can view previously asked questions [here](https://gis.stackexchange.com/questions/tagged/open-data-cube)).\n",
    "If you would like to report an issue with this notebook, you can file one on [Github](https://github.com/digitalearthafrica/deafrica-sandbox-notebooks).\n",
    "\n",
    "**Last modified:** January 2020\n",
    "\n",
    "**Compatible datacube version:** "
   ]
  },
  {
   "cell_type": "markdown",
   "metadata": {},
   "source": [
    "## Tags\n",
    "Browse all available tags on the DE Africa User Guide's [Tags Index](https://) (placeholder as this does not exist yet)"
   ]
  },
  {
   "cell_type": "raw",
   "metadata": {
    "raw_mimetype": "text/restructuredtext"
   },
   "source": [
    "**Tags**:  :index:`WOfS`, :index:`fractional cover`, :index:`deafrica_plotting`, :index:`deafrica_datahandling`, :index:`display_map`, :index:`wofs_fuser`, :index:`WOFL`, :index:`masking`"
   ]
  }
 ],
 "metadata": {
  "kernelspec": {
   "display_name": "Python 3",
   "language": "python",
   "name": "python3"
  },
  "language_info": {
   "codemirror_mode": {
    "name": "ipython",
    "version": 3
   },
   "file_extension": ".py",
   "mimetype": "text/x-python",
   "name": "python",
   "nbconvert_exporter": "python",
   "pygments_lexer": "ipython3",
   "version": "3.6.9"
  },
  "widgets": {
   "application/vnd.jupyter.widget-state+json": {
    "state": {
     "9e3fa49adf8c4170abfcd954c2ec045a": {
      "model_module": "jupyter-leaflet",
      "model_module_version": "^0.11.1",
      "model_name": "LeafletZoomControlModel",
      "state": {
       "_model_module_version": "^0.11.1",
       "_view_count": null,
       "_view_module_version": "^0.11.1",
       "options": [
        "position",
        "zoom_in_text",
        "zoom_in_title",
        "zoom_out_text",
        "zoom_out_title"
       ]
      }
     },
     "dc642f11c1fb492ca419b0ed6fc4f8c3": {
      "model_module": "jupyter-leaflet",
      "model_module_version": "^0.11.1",
      "model_name": "LeafletAttributionControlModel",
      "state": {
       "_model_module_version": "^0.11.1",
       "_view_count": null,
       "_view_module_version": "^0.11.1",
       "options": [
        "position",
        "prefix"
       ],
       "position": "bottomright",
       "prefix": "Leaflet"
      }
     }
    },
    "version_major": 2,
    "version_minor": 0
   }
  }
 },
 "nbformat": 4,
 "nbformat_minor": 4
}
