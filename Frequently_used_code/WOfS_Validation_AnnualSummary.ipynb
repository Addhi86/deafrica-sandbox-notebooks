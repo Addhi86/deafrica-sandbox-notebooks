{
 "cells": [
  {
   "cell_type": "markdown",
   "metadata": {},
   "source": [
    "# WOfS Validation Data Analysis - Water Body Type Classification  <img align=\"right\" src=\"../Supplementary_data/DE_Africa_Logo_Stacked_RGB_small.jpg\">\n",
    "\n",
    "* **Products used:** \n",
    "[ga_ls8c_wofs_2](https://explorer.digitalearth.africa/ga_ls8c_wofs_2),\n",
    "[ga_ls8c_wofs_2_annual_summary ](https://explorer.digitalearth.africa/ga_ls8c_wofs_2_annual_summary)"
   ]
  },
  {
   "cell_type": "markdown",
   "metadata": {},
   "source": [
    "## Background\n",
    "The [Water Observations from Space (WOfS)](https://www.ga.gov.au/scientific-topics/community-safety/flood/wofs/about-wofs) is a derived product from Landsat 8 satellite observations as part of provisional Landsat 8 Collection 2 surface reflectance and shows surface water detected in Africa.\n",
    "Individual water classified images are called Water Observation Feature Layers (WOFLs), and are created in a 1-to-1 relationship with the input satellite data. \n",
    "Hence there is one WOFL for each satellite dataset processed for the occurrence of water.\n",
    "\n",
    "The data in a WOFL is stored as a bit field. This is a binary number, where each digit of the number is independantly set or not based on the presence (1) or absence (0) of a particular attribute (water, cloud, cloud shadow etc). In this way, the single decimal value associated to each pixel can provide information on a variety of features of that pixel. \n",
    "For more information on the structure of WOFLs and how to interact with them, see [Water Observations from Space](../Datasets/Water_Observations_from_Space.ipynb) and [Applying WOfS bitmasking](../Frequently_used_code/Applying_WOfS_bitmasking.ipynb) notebooks."
   ]
  },
  {
   "cell_type": "markdown",
   "metadata": {},
   "source": [
    "## Description\n",
    "This notebook explains how you can perform validation analysis for WOFS derived product using collected ground truth dataset and window-based sampling. \n",
    "\n",
    "The notebook demonstrates how to:\n",
    "\n",
    "1. Load validation points for each partner institutions following cleaning stage as an ESRI shapefile\n",
    "2. Query WOFL data for validation points and capture available WOfS observation available\n",
    "3. Extract statistics for each WOfS observation in each validation point using a 3 by 3 window and multiprocessing functionality \n",
    "4. Extract a LUT for each point that contains both validation info and WOfS result for each month \n",
    "***"
   ]
  },
  {
   "cell_type": "markdown",
   "metadata": {},
   "source": [
    "## Getting started\n",
    "\n",
    "To run this analysis, run all the cells in the notebook, starting with the \"Load packages\" cell.\n",
    "\n",
    "After finishing the analysis, you can modify some values in the \"Analysis parameters\" cell and re-run the analysis to load WOFLs for a different location or time period."
   ]
  },
  {
   "cell_type": "markdown",
   "metadata": {},
   "source": [
    "### Load packages\n",
    "Import Python packages that are used for the analysis."
   ]
  },
  {
   "cell_type": "code",
   "execution_count": 154,
   "metadata": {},
   "outputs": [],
   "source": [
    "%matplotlib inline\n",
    "\n",
    "import time \n",
    "import datacube\n",
    "from datacube.utils import masking, geometry \n",
    "import sys\n",
    "import os\n",
    "import dask \n",
    "import rasterio, rasterio.features\n",
    "import xarray\n",
    "import glob\n",
    "import numpy as np\n",
    "import pandas as pd\n",
    "import seaborn as sn\n",
    "import geopandas as gpd\n",
    "import subprocess as sp\n",
    "import matplotlib.pyplot as plt\n",
    "import scipy, scipy.ndimage\n",
    "import warnings\n",
    "warnings.filterwarnings(\"ignore\") #this will suppress the warnings for multiple UTM zones in your AOI \n",
    "\n",
    "sys.path.append(\"../Scripts\")\n",
    "from rasterio.mask import mask\n",
    "from geopandas import GeoSeries, GeoDataFrame\n",
    "from shapely.geometry import Point\n",
    "from sklearn import metrics \n",
    "from sklearn.metrics import plot_confusion_matrix, f1_score \n",
    "from deafrica_plotting import map_shapefile,display_map, rgb\n",
    "from deafrica_spatialtools import xr_rasterize\n",
    "from deafrica_datahandling import wofs_fuser, mostcommon_crs,load_ard,deepcopy\n",
    "from deafrica_dask import create_local_dask_cluster\n",
    "\n",
    "#for parallelisation \n",
    "from multiprocessing import Pool, Manager\n",
    "import multiprocessing as mp\n",
    "from tqdm import tqdm"
   ]
  },
  {
   "cell_type": "markdown",
   "metadata": {},
   "source": [
    "### Analysis parameters"
   ]
  },
  {
   "cell_type": "markdown",
   "metadata": {},
   "source": [
    "To analyse validation points collected by each partner institution, we need to obtain WOfS surface water observation data that corresponds with the labelled input data locations. "
   ]
  },
  {
   "cell_type": "markdown",
   "metadata": {},
   "source": [
    "### Loading Dataset"
   ]
  },
  {
   "cell_type": "markdown",
   "metadata": {},
   "source": [
    "1. Load validation points for each partner institutions as a list of observations each has a location and month\n",
    "    * Load the cleaned validation file as ESRI `shapefile`\n",
    "    * Inspect the shapefile"
   ]
  },
  {
   "cell_type": "code",
   "execution_count": 80,
   "metadata": {},
   "outputs": [],
   "source": [
    "#Read the ground truth data following analysis step \n",
    "CEO = '../Supplementary_data/Validation/Refined/Continent/Africa_validation_inland.csv'\n",
    "input_data = pd.read_csv(CEO,delimiter=\",\")"
   ]
  },
  {
   "cell_type": "markdown",
   "metadata": {},
   "source": [
    "### Classification Based on CEO Labels "
   ]
  },
  {
   "cell_type": "code",
   "execution_count": 81,
   "metadata": {},
   "outputs": [],
   "source": [
    "#we need to loop over the table and set the value in Actual_WET as 1 and Actual_Dry as 0\n",
    "for index, row in input_data.iterrows(): \n",
    "    if input_data.at[index,'ACTUAL'] == 1:\n",
    "        input_data.at[index,'Actual_Wet'] = 1\n",
    "    else:\n",
    "        input_data.at[index,'Actual_Dry'] = 1"
   ]
  },
  {
   "cell_type": "code",
   "execution_count": 82,
   "metadata": {},
   "outputs": [],
   "source": [
    "#convert the nan value in wet and dry columns of actual observations to zero values \n",
    "input_data['Actual_Wet'] = input_data['Actual_Wet'].fillna(0)\n",
    "input_data['Actual_Dry'] = input_data['Actual_Dry'].fillna(0)"
   ]
  },
  {
   "cell_type": "code",
   "execution_count": 83,
   "metadata": {},
   "outputs": [],
   "source": [
    "#set the Actual_Clear \n",
    "for index, row in input_data.iterrows(): \n",
    "    input_data.at[index,'Actual_Clear'] = input_data.at[index,'Actual_Wet'] + input_data.at[index,'Actual_Dry']"
   ]
  },
  {
   "cell_type": "code",
   "execution_count": 84,
   "metadata": {},
   "outputs": [
    {
     "data": {
      "text/html": [
       "<div>\n",
       "<style scoped>\n",
       "    .dataframe tbody tr th:only-of-type {\n",
       "        vertical-align: middle;\n",
       "    }\n",
       "\n",
       "    .dataframe tbody tr th {\n",
       "        vertical-align: top;\n",
       "    }\n",
       "\n",
       "    .dataframe thead th {\n",
       "        text-align: right;\n",
       "    }\n",
       "</style>\n",
       "<table border=\"1\" class=\"dataframe\">\n",
       "  <thead>\n",
       "    <tr style=\"text-align: right;\">\n",
       "      <th></th>\n",
       "      <th>Unnamed: 0</th>\n",
       "      <th>PLOT_ID</th>\n",
       "      <th>LON</th>\n",
       "      <th>LAT</th>\n",
       "      <th>CLASS</th>\n",
       "      <th>MONTH</th>\n",
       "      <th>ACTUAL</th>\n",
       "      <th>CLASS_WET</th>\n",
       "      <th>CLEAR_OBS</th>\n",
       "      <th>PREDICTION</th>\n",
       "      <th>geometry</th>\n",
       "      <th>Actual_Wet</th>\n",
       "      <th>Actual_Dry</th>\n",
       "      <th>Actual_Clear</th>\n",
       "    </tr>\n",
       "  </thead>\n",
       "  <tbody>\n",
       "    <tr>\n",
       "      <th>0</th>\n",
       "      <td>0</td>\n",
       "      <td>137387037.0</td>\n",
       "      <td>29.875854</td>\n",
       "      <td>2.178788</td>\n",
       "      <td>Open water - freshwater</td>\n",
       "      <td>1</td>\n",
       "      <td>1</td>\n",
       "      <td>1.0</td>\n",
       "      <td>1.0</td>\n",
       "      <td>1</td>\n",
       "      <td>POINT (29.87585377 2.178788329)</td>\n",
       "      <td>1.0</td>\n",
       "      <td>0.0</td>\n",
       "      <td>1.0</td>\n",
       "    </tr>\n",
       "    <tr>\n",
       "      <th>1</th>\n",
       "      <td>1</td>\n",
       "      <td>137387037.0</td>\n",
       "      <td>29.875854</td>\n",
       "      <td>2.178788</td>\n",
       "      <td>Open water - freshwater</td>\n",
       "      <td>2</td>\n",
       "      <td>1</td>\n",
       "      <td>1.0</td>\n",
       "      <td>2.0</td>\n",
       "      <td>1</td>\n",
       "      <td>POINT (29.87585377 2.178788329)</td>\n",
       "      <td>1.0</td>\n",
       "      <td>0.0</td>\n",
       "      <td>1.0</td>\n",
       "    </tr>\n",
       "    <tr>\n",
       "      <th>2</th>\n",
       "      <td>2</td>\n",
       "      <td>137387037.0</td>\n",
       "      <td>29.875854</td>\n",
       "      <td>2.178788</td>\n",
       "      <td>Open water - freshwater</td>\n",
       "      <td>3</td>\n",
       "      <td>1</td>\n",
       "      <td>1.0</td>\n",
       "      <td>2.0</td>\n",
       "      <td>1</td>\n",
       "      <td>POINT (29.87585377 2.178788329)</td>\n",
       "      <td>1.0</td>\n",
       "      <td>0.0</td>\n",
       "      <td>1.0</td>\n",
       "    </tr>\n",
       "    <tr>\n",
       "      <th>3</th>\n",
       "      <td>3</td>\n",
       "      <td>137387037.0</td>\n",
       "      <td>29.875854</td>\n",
       "      <td>2.178788</td>\n",
       "      <td>Open water - freshwater</td>\n",
       "      <td>5</td>\n",
       "      <td>1</td>\n",
       "      <td>1.0</td>\n",
       "      <td>4.0</td>\n",
       "      <td>1</td>\n",
       "      <td>POINT (29.87585377 2.178788329)</td>\n",
       "      <td>1.0</td>\n",
       "      <td>0.0</td>\n",
       "      <td>1.0</td>\n",
       "    </tr>\n",
       "    <tr>\n",
       "      <th>4</th>\n",
       "      <td>4</td>\n",
       "      <td>137387037.0</td>\n",
       "      <td>29.875854</td>\n",
       "      <td>2.178788</td>\n",
       "      <td>Open water - freshwater</td>\n",
       "      <td>6</td>\n",
       "      <td>1</td>\n",
       "      <td>1.0</td>\n",
       "      <td>2.0</td>\n",
       "      <td>1</td>\n",
       "      <td>POINT (29.87585377 2.178788329)</td>\n",
       "      <td>1.0</td>\n",
       "      <td>0.0</td>\n",
       "      <td>1.0</td>\n",
       "    </tr>\n",
       "  </tbody>\n",
       "</table>\n",
       "</div>"
      ],
      "text/plain": [
       "   Unnamed: 0      PLOT_ID        LON       LAT                    CLASS  \\\n",
       "0           0  137387037.0  29.875854  2.178788  Open water - freshwater   \n",
       "1           1  137387037.0  29.875854  2.178788  Open water - freshwater   \n",
       "2           2  137387037.0  29.875854  2.178788  Open water - freshwater   \n",
       "3           3  137387037.0  29.875854  2.178788  Open water - freshwater   \n",
       "4           4  137387037.0  29.875854  2.178788  Open water - freshwater   \n",
       "\n",
       "   MONTH  ACTUAL  CLASS_WET  CLEAR_OBS  PREDICTION  \\\n",
       "0      1       1        1.0        1.0           1   \n",
       "1      2       1        1.0        2.0           1   \n",
       "2      3       1        1.0        2.0           1   \n",
       "3      5       1        1.0        4.0           1   \n",
       "4      6       1        1.0        2.0           1   \n",
       "\n",
       "                          geometry  Actual_Wet  Actual_Dry  Actual_Clear  \n",
       "0  POINT (29.87585377 2.178788329)         1.0         0.0           1.0  \n",
       "1  POINT (29.87585377 2.178788329)         1.0         0.0           1.0  \n",
       "2  POINT (29.87585377 2.178788329)         1.0         0.0           1.0  \n",
       "3  POINT (29.87585377 2.178788329)         1.0         0.0           1.0  \n",
       "4  POINT (29.87585377 2.178788329)         1.0         0.0           1.0  "
      ]
     },
     "execution_count": 84,
     "metadata": {},
     "output_type": "execute_result"
    }
   ],
   "source": [
    "input_data.head()"
   ]
  },
  {
   "cell_type": "code",
   "execution_count": 85,
   "metadata": {},
   "outputs": [],
   "source": [
    "input_data['Actual_WET_T'] = input_data['Actual_Wet'].groupby(input_data['PLOT_ID']).transform('sum')"
   ]
  },
  {
   "cell_type": "code",
   "execution_count": 86,
   "metadata": {},
   "outputs": [],
   "source": [
    "input_data['Actual_CLEAR_T'] = input_data['Actual_Clear'].groupby(input_data['PLOT_ID']).transform('sum')"
   ]
  },
  {
   "cell_type": "code",
   "execution_count": 87,
   "metadata": {},
   "outputs": [],
   "source": [
    "input_data['WET_T'] = input_data['CLASS_WET'].groupby(input_data['PLOT_ID']).transform('sum')"
   ]
  },
  {
   "cell_type": "code",
   "execution_count": 88,
   "metadata": {},
   "outputs": [],
   "source": [
    "input_data['CLEAR_T'] = input_data['CLEAR_OBS'].groupby(input_data['PLOT_ID']).transform('sum')"
   ]
  },
  {
   "cell_type": "code",
   "execution_count": 89,
   "metadata": {},
   "outputs": [],
   "source": [
    "Summarize = input_data.groupby('PLOT_ID',as_index=False,sort=False).last()"
   ]
  },
  {
   "cell_type": "code",
   "execution_count": 90,
   "metadata": {},
   "outputs": [],
   "source": [
    "Summarize['CEO_FREQUENCY'] = Summarize['Actual_WET_T']/Summarize['Actual_CLEAR_T']"
   ]
  },
  {
   "cell_type": "code",
   "execution_count": 91,
   "metadata": {},
   "outputs": [],
   "source": [
    "Summarize['WOfS_FREQUENCY'] = Summarize['WET_T']/Summarize['CLEAR_T']"
   ]
  },
  {
   "cell_type": "code",
   "execution_count": 92,
   "metadata": {},
   "outputs": [],
   "source": [
    "#Define water body classes for CEO based on thresholding \n",
    "Summarize.loc[Summarize['Actual_WET_T'] == 0.0, 'CEO_TYPE'] = 'Dry'\n",
    "Summarize.loc[(Summarize['Actual_WET_T'] != 0.0) & (Summarize['CEO_FREQUENCY'] <= 0.75), 'CEO_TYPE'] = 'Ephemeral'  \n",
    "Summarize.loc[(Summarize['Actual_WET_T'] != 0.0) & (Summarize['CEO_FREQUENCY'] > 0.75), 'CEO_TYPE'] = 'Permanent'"
   ]
  },
  {
   "cell_type": "code",
   "execution_count": 93,
   "metadata": {},
   "outputs": [],
   "source": [
    "#Define water body classes for WOfS based on thresholding \n",
    "Summarize.loc[Summarize['WET_T'] == 0.0, 'WOfS_TYPE'] = 'Dry'\n",
    "Summarize.loc[(Summarize['WET_T'] != 0.0) & (Summarize['WOfS_FREQUENCY'] <= 0.75), 'WOfS_TYPE'] = 'Ephemeral'  \n",
    "Summarize.loc[(Summarize['WET_T'] != 0.0) & (Summarize['WOfS_FREQUENCY'] > 0.75), 'WOfS_TYPE'] = 'Permanent'"
   ]
  },
  {
   "cell_type": "code",
   "execution_count": 94,
   "metadata": {},
   "outputs": [],
   "source": [
    "Summarize.to_csv(('../Supplementary_data/Validation/Refined/Continent/WOfS_Summary/Africa_WOfS_validation_inland_Summarize_T0.75.csv'))"
   ]
  },
  {
   "cell_type": "markdown",
   "metadata": {},
   "source": [
    "### Classification Based on WOfS or S2 SCL Extracted Tables"
   ]
  },
  {
   "cell_type": "code",
   "execution_count": 40,
   "metadata": {},
   "outputs": [],
   "source": [
    "# input_data['WET_T'] = input_data['CLASS_WET'].groupby(input_data['PLOT_ID']).transform('sum')"
   ]
  },
  {
   "cell_type": "code",
   "execution_count": 41,
   "metadata": {},
   "outputs": [],
   "source": [
    "# input_data['CLEAR_T'] = input_data['CLEAR_OBS'].groupby(input_data['PLOT_ID']).transform('sum')"
   ]
  },
  {
   "cell_type": "code",
   "execution_count": 42,
   "metadata": {},
   "outputs": [],
   "source": [
    "# Summarize = input_data.groupby('PLOT_ID',as_index=False,sort=False).last()"
   ]
  },
  {
   "cell_type": "code",
   "execution_count": 43,
   "metadata": {},
   "outputs": [],
   "source": [
    "# Summarize['FREQUENCY'] = Summarize['WET_T']/Summarize['CLEAR_T']"
   ]
  },
  {
   "cell_type": "code",
   "execution_count": 44,
   "metadata": {},
   "outputs": [],
   "source": [
    "# Summarize.loc[Summarize['WET_T'] == 0.0, 'TYPE'] = 'Dry'\n",
    "# Summarize.loc[(Summarize['WET_T'] != 0.0) & (Summarize['FREQUENCY'] <= 0.9), 'TYPE'] = 'Ephemeral'  \n",
    "# Summarize.loc[(Summarize['WET_T'] != 0.0) & (Summarize['FREQUENCY'] > 0.9), 'TYPE'] = 'Permanent'  "
   ]
  },
  {
   "cell_type": "code",
   "execution_count": 54,
   "metadata": {},
   "outputs": [],
   "source": [
    "#Summarize"
   ]
  },
  {
   "cell_type": "code",
   "execution_count": 46,
   "metadata": {},
   "outputs": [],
   "source": [
    "#Summarize.to_csv(('../Supplementary_data/Validation/Refined/Continent/WOfS_Summary/Africa_validation_inland_Summarize_T0.9.csv'))"
   ]
  },
  {
   "cell_type": "markdown",
   "metadata": {},
   "source": [
    "### Accuracy Assessment "
   ]
  },
  {
   "cell_type": "markdown",
   "metadata": {},
   "source": [
    "In order to assess the tables extracted from WOfS or S2 tables as above classification for the type of water bodies i.e. dry, ephemeral, and permanent, please use the following cells: "
   ]
  },
  {
   "cell_type": "code",
   "execution_count": 138,
   "metadata": {},
   "outputs": [
    {
     "data": {
      "text/plain": [
       "Index(['Unnamed: 0', 'PLOT_ID', 'LON', 'LAT', 'CLASS', 'MONTH', 'ACTUAL',\n",
       "       'CLASS_WET', 'CLEAR_OBS', 'PREDICTION', 'geometry', 'Actual_Wet',\n",
       "       'Actual_Dry', 'Actual_Clear', 'Actual_WET_T', 'Actual_CLEAR_T', 'WET_T',\n",
       "       'CLEAR_T', 'CEO_FREQUENCY', 'WOfS_FREQUENCY', 'CEO_TYPE', 'WOfS_TYPE'],\n",
       "      dtype='object')"
      ]
     },
     "execution_count": 138,
     "metadata": {},
     "output_type": "execute_result"
    }
   ],
   "source": [
    "#Reading the classification table extracted  from 0.9 thresholding of the frequncy for each AEZ exteracted from WOfS_Validation_Africa notebook \n",
    "SummaryTable = '../Supplementary_data/Validation/Refined/Continent/AEZs_Assessment/Africa_WOfS_Validation_Class_Eastern_T0.9.csv'\n",
    "CLF = pd.read_csv(SummaryTable,delimiter=\",\")\n",
    "CLF.columns"
   ]
  },
  {
   "cell_type": "code",
   "execution_count": 139,
   "metadata": {},
   "outputs": [
    {
     "data": {
      "text/html": [
       "<div>\n",
       "<style scoped>\n",
       "    .dataframe tbody tr th:only-of-type {\n",
       "        vertical-align: middle;\n",
       "    }\n",
       "\n",
       "    .dataframe tbody tr th {\n",
       "        vertical-align: top;\n",
       "    }\n",
       "\n",
       "    .dataframe thead th {\n",
       "        text-align: right;\n",
       "    }\n",
       "</style>\n",
       "<table border=\"1\" class=\"dataframe\">\n",
       "  <thead>\n",
       "    <tr style=\"text-align: right;\">\n",
       "      <th></th>\n",
       "      <th>PLOT_ID</th>\n",
       "      <th>LON</th>\n",
       "      <th>LAT</th>\n",
       "      <th>CLASS</th>\n",
       "      <th>Actual_WET_T</th>\n",
       "      <th>Actual_CLEAR_T</th>\n",
       "      <th>WET_T</th>\n",
       "      <th>CLEAR_T</th>\n",
       "      <th>CEO_FREQUENCY</th>\n",
       "      <th>WOfS_FREQUENCY</th>\n",
       "      <th>CEO_TYPE</th>\n",
       "      <th>WOfS_TYPE</th>\n",
       "    </tr>\n",
       "  </thead>\n",
       "  <tbody>\n",
       "    <tr>\n",
       "      <th>0</th>\n",
       "      <td>137387091.0</td>\n",
       "      <td>36.479901</td>\n",
       "      <td>9.014053</td>\n",
       "      <td>Open water - marine</td>\n",
       "      <td>24.0</td>\n",
       "      <td>24.0</td>\n",
       "      <td>21.0</td>\n",
       "      <td>30.0</td>\n",
       "      <td>1.0</td>\n",
       "      <td>0.700000</td>\n",
       "      <td>Permanent</td>\n",
       "      <td>Ephemeral</td>\n",
       "    </tr>\n",
       "    <tr>\n",
       "      <th>1</th>\n",
       "      <td>137387092.0</td>\n",
       "      <td>38.015871</td>\n",
       "      <td>8.834866</td>\n",
       "      <td>Open water - marine</td>\n",
       "      <td>21.0</td>\n",
       "      <td>21.0</td>\n",
       "      <td>12.0</td>\n",
       "      <td>27.0</td>\n",
       "      <td>1.0</td>\n",
       "      <td>0.444444</td>\n",
       "      <td>Permanent</td>\n",
       "      <td>Ephemeral</td>\n",
       "    </tr>\n",
       "    <tr>\n",
       "      <th>2</th>\n",
       "      <td>137387094.0</td>\n",
       "      <td>38.704259</td>\n",
       "      <td>8.788001</td>\n",
       "      <td>Open water - freshwater</td>\n",
       "      <td>33.0</td>\n",
       "      <td>33.0</td>\n",
       "      <td>33.0</td>\n",
       "      <td>45.0</td>\n",
       "      <td>1.0</td>\n",
       "      <td>0.733333</td>\n",
       "      <td>Permanent</td>\n",
       "      <td>Ephemeral</td>\n",
       "    </tr>\n",
       "    <tr>\n",
       "      <th>3</th>\n",
       "      <td>137387095.0</td>\n",
       "      <td>38.969167</td>\n",
       "      <td>8.767069</td>\n",
       "      <td>Open water - freshwater</td>\n",
       "      <td>15.0</td>\n",
       "      <td>15.0</td>\n",
       "      <td>15.0</td>\n",
       "      <td>24.0</td>\n",
       "      <td>1.0</td>\n",
       "      <td>0.625000</td>\n",
       "      <td>Permanent</td>\n",
       "      <td>Ephemeral</td>\n",
       "    </tr>\n",
       "    <tr>\n",
       "      <th>4</th>\n",
       "      <td>137387096.0</td>\n",
       "      <td>37.826518</td>\n",
       "      <td>8.558280</td>\n",
       "      <td>Cultivated (Cropland/ Plantation)</td>\n",
       "      <td>0.0</td>\n",
       "      <td>27.0</td>\n",
       "      <td>0.0</td>\n",
       "      <td>42.0</td>\n",
       "      <td>0.0</td>\n",
       "      <td>0.000000</td>\n",
       "      <td>Dry</td>\n",
       "      <td>Dry</td>\n",
       "    </tr>\n",
       "    <tr>\n",
       "      <th>...</th>\n",
       "      <td>...</td>\n",
       "      <td>...</td>\n",
       "      <td>...</td>\n",
       "      <td>...</td>\n",
       "      <td>...</td>\n",
       "      <td>...</td>\n",
       "      <td>...</td>\n",
       "      <td>...</td>\n",
       "      <td>...</td>\n",
       "      <td>...</td>\n",
       "      <td>...</td>\n",
       "      <td>...</td>\n",
       "    </tr>\n",
       "    <tr>\n",
       "      <th>445</th>\n",
       "      <td>137755417.0</td>\n",
       "      <td>35.159403</td>\n",
       "      <td>10.682519</td>\n",
       "      <td>Open water - freshwater</td>\n",
       "      <td>12.0</td>\n",
       "      <td>12.0</td>\n",
       "      <td>12.0</td>\n",
       "      <td>24.0</td>\n",
       "      <td>1.0</td>\n",
       "      <td>0.500000</td>\n",
       "      <td>Permanent</td>\n",
       "      <td>Ephemeral</td>\n",
       "    </tr>\n",
       "    <tr>\n",
       "      <th>446</th>\n",
       "      <td>137755418.0</td>\n",
       "      <td>42.646789</td>\n",
       "      <td>10.589964</td>\n",
       "      <td>Barren (Bare soil / Rocky Land)</td>\n",
       "      <td>0.0</td>\n",
       "      <td>12.0</td>\n",
       "      <td>0.0</td>\n",
       "      <td>12.0</td>\n",
       "      <td>0.0</td>\n",
       "      <td>0.000000</td>\n",
       "      <td>Dry</td>\n",
       "      <td>Dry</td>\n",
       "    </tr>\n",
       "    <tr>\n",
       "      <th>447</th>\n",
       "      <td>137755419.0</td>\n",
       "      <td>38.467023</td>\n",
       "      <td>10.588290</td>\n",
       "      <td>Open water - freshwater</td>\n",
       "      <td>18.0</td>\n",
       "      <td>18.0</td>\n",
       "      <td>9.0</td>\n",
       "      <td>18.0</td>\n",
       "      <td>1.0</td>\n",
       "      <td>0.500000</td>\n",
       "      <td>Permanent</td>\n",
       "      <td>Ephemeral</td>\n",
       "    </tr>\n",
       "    <tr>\n",
       "      <th>448</th>\n",
       "      <td>137755420.0</td>\n",
       "      <td>35.294966</td>\n",
       "      <td>10.443892</td>\n",
       "      <td>Open water - freshwater</td>\n",
       "      <td>9.0</td>\n",
       "      <td>9.0</td>\n",
       "      <td>6.0</td>\n",
       "      <td>9.0</td>\n",
       "      <td>1.0</td>\n",
       "      <td>0.666667</td>\n",
       "      <td>Permanent</td>\n",
       "      <td>Ephemeral</td>\n",
       "    </tr>\n",
       "    <tr>\n",
       "      <th>449</th>\n",
       "      <td>137755421.0</td>\n",
       "      <td>40.910583</td>\n",
       "      <td>10.325362</td>\n",
       "      <td>Wetlands - freshwater</td>\n",
       "      <td>6.0</td>\n",
       "      <td>15.0</td>\n",
       "      <td>9.0</td>\n",
       "      <td>15.0</td>\n",
       "      <td>0.4</td>\n",
       "      <td>0.600000</td>\n",
       "      <td>Ephemeral</td>\n",
       "      <td>Ephemeral</td>\n",
       "    </tr>\n",
       "  </tbody>\n",
       "</table>\n",
       "<p>450 rows × 12 columns</p>\n",
       "</div>"
      ],
      "text/plain": [
       "         PLOT_ID        LON        LAT                              CLASS  \\\n",
       "0    137387091.0  36.479901   9.014053                Open water - marine   \n",
       "1    137387092.0  38.015871   8.834866                Open water - marine   \n",
       "2    137387094.0  38.704259   8.788001            Open water - freshwater   \n",
       "3    137387095.0  38.969167   8.767069            Open water - freshwater   \n",
       "4    137387096.0  37.826518   8.558280  Cultivated (Cropland/ Plantation)   \n",
       "..           ...        ...        ...                                ...   \n",
       "445  137755417.0  35.159403  10.682519            Open water - freshwater   \n",
       "446  137755418.0  42.646789  10.589964    Barren (Bare soil / Rocky Land)   \n",
       "447  137755419.0  38.467023  10.588290            Open water - freshwater   \n",
       "448  137755420.0  35.294966  10.443892            Open water - freshwater   \n",
       "449  137755421.0  40.910583  10.325362              Wetlands - freshwater   \n",
       "\n",
       "     Actual_WET_T  Actual_CLEAR_T  WET_T  CLEAR_T  CEO_FREQUENCY  \\\n",
       "0            24.0            24.0   21.0     30.0            1.0   \n",
       "1            21.0            21.0   12.0     27.0            1.0   \n",
       "2            33.0            33.0   33.0     45.0            1.0   \n",
       "3            15.0            15.0   15.0     24.0            1.0   \n",
       "4             0.0            27.0    0.0     42.0            0.0   \n",
       "..            ...             ...    ...      ...            ...   \n",
       "445          12.0            12.0   12.0     24.0            1.0   \n",
       "446           0.0            12.0    0.0     12.0            0.0   \n",
       "447          18.0            18.0    9.0     18.0            1.0   \n",
       "448           9.0             9.0    6.0      9.0            1.0   \n",
       "449           6.0            15.0    9.0     15.0            0.4   \n",
       "\n",
       "     WOfS_FREQUENCY   CEO_TYPE  WOfS_TYPE  \n",
       "0          0.700000  Permanent  Ephemeral  \n",
       "1          0.444444  Permanent  Ephemeral  \n",
       "2          0.733333  Permanent  Ephemeral  \n",
       "3          0.625000  Permanent  Ephemeral  \n",
       "4          0.000000        Dry        Dry  \n",
       "..              ...        ...        ...  \n",
       "445        0.500000  Permanent  Ephemeral  \n",
       "446        0.000000        Dry        Dry  \n",
       "447        0.500000  Permanent  Ephemeral  \n",
       "448        0.666667  Permanent  Ephemeral  \n",
       "449        0.600000  Ephemeral  Ephemeral  \n",
       "\n",
       "[450 rows x 12 columns]"
      ]
     },
     "execution_count": 139,
     "metadata": {},
     "output_type": "execute_result"
    }
   ],
   "source": [
    "CLF=CLF.drop(['Unnamed: 0','MONTH','ACTUAL','CLASS_WET','CLEAR_OBS','PREDICTION','geometry','Actual_Wet','Actual_Dry','Actual_Clear'], axis=1)\n",
    "CLF"
   ]
  },
  {
   "cell_type": "code",
   "execution_count": 140,
   "metadata": {},
   "outputs": [
    {
     "data": {
      "text/html": [
       "<div>\n",
       "<style scoped>\n",
       "    .dataframe tbody tr th:only-of-type {\n",
       "        vertical-align: middle;\n",
       "    }\n",
       "\n",
       "    .dataframe tbody tr th {\n",
       "        vertical-align: top;\n",
       "    }\n",
       "\n",
       "    .dataframe thead th {\n",
       "        text-align: right;\n",
       "    }\n",
       "</style>\n",
       "<table border=\"1\" class=\"dataframe\">\n",
       "  <thead>\n",
       "    <tr style=\"text-align: right;\">\n",
       "      <th>WOfS</th>\n",
       "      <th>Dry</th>\n",
       "      <th>Ephemeral</th>\n",
       "      <th>Permanent</th>\n",
       "      <th>All</th>\n",
       "    </tr>\n",
       "    <tr>\n",
       "      <th>CEO</th>\n",
       "      <th></th>\n",
       "      <th></th>\n",
       "      <th></th>\n",
       "      <th></th>\n",
       "    </tr>\n",
       "  </thead>\n",
       "  <tbody>\n",
       "    <tr>\n",
       "      <th>Dry</th>\n",
       "      <td>102</td>\n",
       "      <td>12</td>\n",
       "      <td>0</td>\n",
       "      <td>114</td>\n",
       "    </tr>\n",
       "    <tr>\n",
       "      <th>Ephemeral</th>\n",
       "      <td>3</td>\n",
       "      <td>51</td>\n",
       "      <td>2</td>\n",
       "      <td>56</td>\n",
       "    </tr>\n",
       "    <tr>\n",
       "      <th>Permanent</th>\n",
       "      <td>7</td>\n",
       "      <td>246</td>\n",
       "      <td>27</td>\n",
       "      <td>280</td>\n",
       "    </tr>\n",
       "    <tr>\n",
       "      <th>All</th>\n",
       "      <td>112</td>\n",
       "      <td>309</td>\n",
       "      <td>29</td>\n",
       "      <td>450</td>\n",
       "    </tr>\n",
       "  </tbody>\n",
       "</table>\n",
       "</div>"
      ],
      "text/plain": [
       "WOfS       Dry  Ephemeral  Permanent  All\n",
       "CEO                                      \n",
       "Dry        102         12          0  114\n",
       "Ephemeral    3         51          2   56\n",
       "Permanent    7        246         27  280\n",
       "All        112        309         29  450"
      ]
     },
     "execution_count": 140,
     "metadata": {},
     "output_type": "execute_result"
    }
   ],
   "source": [
    "#Eastern \n",
    "confusion_matrix = pd.crosstab(CLF['CEO_TYPE'],CLF['WOfS_TYPE'],rownames=['CEO'],colnames=['WOfS'],margins=True)\n",
    "confusion_matrix"
   ]
  },
  {
   "cell_type": "code",
   "execution_count": 144,
   "metadata": {},
   "outputs": [
    {
     "data": {
      "text/html": [
       "<div>\n",
       "<style scoped>\n",
       "    .dataframe tbody tr th:only-of-type {\n",
       "        vertical-align: middle;\n",
       "    }\n",
       "\n",
       "    .dataframe tbody tr th {\n",
       "        vertical-align: top;\n",
       "    }\n",
       "\n",
       "    .dataframe thead th {\n",
       "        text-align: right;\n",
       "    }\n",
       "</style>\n",
       "<table border=\"1\" class=\"dataframe\">\n",
       "  <thead>\n",
       "    <tr style=\"text-align: right;\">\n",
       "      <th>WOfS</th>\n",
       "      <th>Dry</th>\n",
       "      <th>Ephemeral</th>\n",
       "      <th>Permanent</th>\n",
       "      <th>All</th>\n",
       "      <th>User's</th>\n",
       "    </tr>\n",
       "    <tr>\n",
       "      <th>CEO</th>\n",
       "      <th></th>\n",
       "      <th></th>\n",
       "      <th></th>\n",
       "      <th></th>\n",
       "      <th></th>\n",
       "    </tr>\n",
       "  </thead>\n",
       "  <tbody>\n",
       "    <tr>\n",
       "      <th>Dry</th>\n",
       "      <td>102</td>\n",
       "      <td>12</td>\n",
       "      <td>0</td>\n",
       "      <td>114</td>\n",
       "      <td>89.473684</td>\n",
       "    </tr>\n",
       "    <tr>\n",
       "      <th>Ephemeral</th>\n",
       "      <td>3</td>\n",
       "      <td>51</td>\n",
       "      <td>2</td>\n",
       "      <td>56</td>\n",
       "      <td>91.071429</td>\n",
       "    </tr>\n",
       "    <tr>\n",
       "      <th>Permanent</th>\n",
       "      <td>7</td>\n",
       "      <td>246</td>\n",
       "      <td>27</td>\n",
       "      <td>280</td>\n",
       "      <td>9.642857</td>\n",
       "    </tr>\n",
       "    <tr>\n",
       "      <th>All</th>\n",
       "      <td>112</td>\n",
       "      <td>309</td>\n",
       "      <td>29</td>\n",
       "      <td>450</td>\n",
       "      <td>NaN</td>\n",
       "    </tr>\n",
       "  </tbody>\n",
       "</table>\n",
       "</div>"
      ],
      "text/plain": [
       "WOfS       Dry  Ephemeral  Permanent  All     User's\n",
       "CEO                                                 \n",
       "Dry        102         12          0  114  89.473684\n",
       "Ephemeral    3         51          2   56  91.071429\n",
       "Permanent    7        246         27  280   9.642857\n",
       "All        112        309         29  450        NaN"
      ]
     },
     "execution_count": 144,
     "metadata": {},
     "output_type": "execute_result"
    }
   ],
   "source": [
    "confusion_matrix[\"User's\"] = [confusion_matrix.loc['Dry']['Dry'] / confusion_matrix.loc['Dry']['All'] * 100, confusion_matrix.loc['Ephemeral']['Ephemeral'] / confusion_matrix.loc['Ephemeral']['All'] *100, confusion_matrix.loc['Permanent']['Permanent'] / confusion_matrix.loc['Permanent']['All'] *100,np.nan]\n",
    "confusion_matrix"
   ]
  },
  {
   "cell_type": "code",
   "execution_count": 146,
   "metadata": {},
   "outputs": [
    {
     "data": {
      "text/html": [
       "<div>\n",
       "<style scoped>\n",
       "    .dataframe tbody tr th:only-of-type {\n",
       "        vertical-align: middle;\n",
       "    }\n",
       "\n",
       "    .dataframe tbody tr th {\n",
       "        vertical-align: top;\n",
       "    }\n",
       "\n",
       "    .dataframe thead th {\n",
       "        text-align: right;\n",
       "    }\n",
       "</style>\n",
       "<table border=\"1\" class=\"dataframe\">\n",
       "  <thead>\n",
       "    <tr style=\"text-align: right;\">\n",
       "      <th></th>\n",
       "      <th>Dry</th>\n",
       "      <th>Ephemeral</th>\n",
       "      <th>Permanent</th>\n",
       "      <th>All</th>\n",
       "      <th>User's</th>\n",
       "      <th>0</th>\n",
       "      <th>1</th>\n",
       "      <th>2</th>\n",
       "    </tr>\n",
       "    <tr>\n",
       "      <th>CEO</th>\n",
       "      <th></th>\n",
       "      <th></th>\n",
       "      <th></th>\n",
       "      <th></th>\n",
       "      <th></th>\n",
       "      <th></th>\n",
       "      <th></th>\n",
       "      <th></th>\n",
       "    </tr>\n",
       "  </thead>\n",
       "  <tbody>\n",
       "    <tr>\n",
       "      <th>Dry</th>\n",
       "      <td>102.0</td>\n",
       "      <td>12.0</td>\n",
       "      <td>0.0</td>\n",
       "      <td>114.0</td>\n",
       "      <td>89.473684</td>\n",
       "      <td>NaN</td>\n",
       "      <td>NaN</td>\n",
       "      <td>NaN</td>\n",
       "    </tr>\n",
       "    <tr>\n",
       "      <th>Ephemeral</th>\n",
       "      <td>3.0</td>\n",
       "      <td>51.0</td>\n",
       "      <td>2.0</td>\n",
       "      <td>56.0</td>\n",
       "      <td>91.071429</td>\n",
       "      <td>NaN</td>\n",
       "      <td>NaN</td>\n",
       "      <td>NaN</td>\n",
       "    </tr>\n",
       "    <tr>\n",
       "      <th>Permanent</th>\n",
       "      <td>7.0</td>\n",
       "      <td>246.0</td>\n",
       "      <td>27.0</td>\n",
       "      <td>280.0</td>\n",
       "      <td>9.642857</td>\n",
       "      <td>NaN</td>\n",
       "      <td>NaN</td>\n",
       "      <td>NaN</td>\n",
       "    </tr>\n",
       "    <tr>\n",
       "      <th>All</th>\n",
       "      <td>112.0</td>\n",
       "      <td>309.0</td>\n",
       "      <td>29.0</td>\n",
       "      <td>450.0</td>\n",
       "      <td>NaN</td>\n",
       "      <td>NaN</td>\n",
       "      <td>NaN</td>\n",
       "      <td>NaN</td>\n",
       "    </tr>\n",
       "    <tr>\n",
       "      <th>Producer's</th>\n",
       "      <td>NaN</td>\n",
       "      <td>NaN</td>\n",
       "      <td>NaN</td>\n",
       "      <td>NaN</td>\n",
       "      <td>NaN</td>\n",
       "      <td>91.071429</td>\n",
       "      <td>16.504854</td>\n",
       "      <td>93.103448</td>\n",
       "    </tr>\n",
       "  </tbody>\n",
       "</table>\n",
       "</div>"
      ],
      "text/plain": [
       "              Dry  Ephemeral  Permanent    All     User's          0  \\\n",
       "CEO                                                                    \n",
       "Dry         102.0       12.0        0.0  114.0  89.473684        NaN   \n",
       "Ephemeral     3.0       51.0        2.0   56.0  91.071429        NaN   \n",
       "Permanent     7.0      246.0       27.0  280.0   9.642857        NaN   \n",
       "All         112.0      309.0       29.0  450.0        NaN        NaN   \n",
       "Producer's    NaN        NaN        NaN    NaN        NaN  91.071429   \n",
       "\n",
       "                    1          2  \n",
       "CEO                               \n",
       "Dry               NaN        NaN  \n",
       "Ephemeral         NaN        NaN  \n",
       "Permanent         NaN        NaN  \n",
       "All               NaN        NaN  \n",
       "Producer's  16.504854  93.103448  "
      ]
     },
     "execution_count": 146,
     "metadata": {},
     "output_type": "execute_result"
    }
   ],
   "source": [
    "producers_accuracy = pd.Series([confusion_matrix['Dry']['Dry'] / confusion_matrix['Dry']['All'] * 100,\n",
    "                                confusion_matrix['Ephemeral']['Ephemeral'] / confusion_matrix['Ephemeral']['All'] * 100,\n",
    "                                confusion_matrix['Permanent']['Permanent'] / confusion_matrix['Permanent']['All'] * 100]).rename(\"Producer's\")\n",
    "\n",
    "confusion_matrix = confusion_matrix.append(producers_accuracy)\n",
    "confusion_matrix"
   ]
  },
  {
   "cell_type": "code",
   "execution_count": 148,
   "metadata": {},
   "outputs": [
    {
     "data": {
      "text/html": [
       "<div>\n",
       "<style scoped>\n",
       "    .dataframe tbody tr th:only-of-type {\n",
       "        vertical-align: middle;\n",
       "    }\n",
       "\n",
       "    .dataframe tbody tr th {\n",
       "        vertical-align: top;\n",
       "    }\n",
       "\n",
       "    .dataframe thead th {\n",
       "        text-align: right;\n",
       "    }\n",
       "</style>\n",
       "<table border=\"1\" class=\"dataframe\">\n",
       "  <thead>\n",
       "    <tr style=\"text-align: right;\">\n",
       "      <th></th>\n",
       "      <th>Dry</th>\n",
       "      <th>Ephemeral</th>\n",
       "      <th>Permanent</th>\n",
       "      <th>All</th>\n",
       "      <th>User's</th>\n",
       "      <th>0</th>\n",
       "      <th>1</th>\n",
       "      <th>2</th>\n",
       "    </tr>\n",
       "    <tr>\n",
       "      <th>CEO</th>\n",
       "      <th></th>\n",
       "      <th></th>\n",
       "      <th></th>\n",
       "      <th></th>\n",
       "      <th></th>\n",
       "      <th></th>\n",
       "      <th></th>\n",
       "      <th></th>\n",
       "    </tr>\n",
       "  </thead>\n",
       "  <tbody>\n",
       "    <tr>\n",
       "      <th>Dry</th>\n",
       "      <td>102.0</td>\n",
       "      <td>12.0</td>\n",
       "      <td>0.0</td>\n",
       "      <td>114.0</td>\n",
       "      <td>89.473684</td>\n",
       "      <td>NaN</td>\n",
       "      <td>NaN</td>\n",
       "      <td>NaN</td>\n",
       "    </tr>\n",
       "    <tr>\n",
       "      <th>Ephemeral</th>\n",
       "      <td>3.0</td>\n",
       "      <td>51.0</td>\n",
       "      <td>2.0</td>\n",
       "      <td>56.0</td>\n",
       "      <td>91.071429</td>\n",
       "      <td>NaN</td>\n",
       "      <td>NaN</td>\n",
       "      <td>NaN</td>\n",
       "    </tr>\n",
       "    <tr>\n",
       "      <th>Permanent</th>\n",
       "      <td>7.0</td>\n",
       "      <td>246.0</td>\n",
       "      <td>27.0</td>\n",
       "      <td>280.0</td>\n",
       "      <td>9.642857</td>\n",
       "      <td>NaN</td>\n",
       "      <td>NaN</td>\n",
       "      <td>NaN</td>\n",
       "    </tr>\n",
       "    <tr>\n",
       "      <th>All</th>\n",
       "      <td>112.0</td>\n",
       "      <td>309.0</td>\n",
       "      <td>29.0</td>\n",
       "      <td>450.0</td>\n",
       "      <td>NaN</td>\n",
       "      <td>NaN</td>\n",
       "      <td>NaN</td>\n",
       "      <td>NaN</td>\n",
       "    </tr>\n",
       "    <tr>\n",
       "      <th>Producer's</th>\n",
       "      <td>NaN</td>\n",
       "      <td>NaN</td>\n",
       "      <td>NaN</td>\n",
       "      <td>NaN</td>\n",
       "      <td>40.000000</td>\n",
       "      <td>91.071429</td>\n",
       "      <td>16.504854</td>\n",
       "      <td>93.103448</td>\n",
       "    </tr>\n",
       "  </tbody>\n",
       "</table>\n",
       "</div>"
      ],
      "text/plain": [
       "              Dry  Ephemeral  Permanent    All     User's          0  \\\n",
       "CEO                                                                    \n",
       "Dry         102.0       12.0        0.0  114.0  89.473684        NaN   \n",
       "Ephemeral     3.0       51.0        2.0   56.0  91.071429        NaN   \n",
       "Permanent     7.0      246.0       27.0  280.0   9.642857        NaN   \n",
       "All         112.0      309.0       29.0  450.0        NaN        NaN   \n",
       "Producer's    NaN        NaN        NaN    NaN  40.000000  91.071429   \n",
       "\n",
       "                    1          2  \n",
       "CEO                               \n",
       "Dry               NaN        NaN  \n",
       "Ephemeral         NaN        NaN  \n",
       "Permanent         NaN        NaN  \n",
       "All               NaN        NaN  \n",
       "Producer's  16.504854  93.103448  "
      ]
     },
     "execution_count": 148,
     "metadata": {},
     "output_type": "execute_result"
    }
   ],
   "source": [
    "confusion_matrix.loc[\"Producer's\", \"User's\"] = (confusion_matrix['Dry']['Dry'] + confusion_matrix['Ephemeral']['Ephemeral'] + confusion_matrix['Permanent']['Permanent']) / confusion_matrix['All']['All'] * 100\n",
    "confusion_matrix"
   ]
  },
  {
   "cell_type": "code",
   "execution_count": 155,
   "metadata": {},
   "outputs": [
    {
     "name": "stdout",
     "output_type": "stream",
     "text": [
      "              precision    recall  f1-score   support\n",
      "\n",
      "         Dry      0.911     0.895     0.903       114\n",
      "   Ephemeral      0.165     0.911     0.279        56\n",
      "   Permanent      0.931     0.096     0.175       280\n",
      "\n",
      "    accuracy                          0.400       450\n",
      "   macro avg      0.669     0.634     0.452       450\n",
      "weighted avg      0.831     0.400     0.372       450\n",
      "\n"
     ]
    }
   ],
   "source": [
    "print(metrics.classification_report(CLF['CEO_TYPE'], CLF['WOfS_TYPE'], digits=3))"
   ]
  },
  {
   "cell_type": "code",
   "execution_count": 253,
   "metadata": {},
   "outputs": [],
   "source": [
    "sn.set()\n",
    "sn.set_theme(color_codes=True)\n",
    "from scipy.stats import pearsonr"
   ]
  },
  {
   "cell_type": "code",
   "execution_count": 254,
   "metadata": {},
   "outputs": [],
   "source": [
    "from scipy import stats\n",
    "def r2(x, y):\n",
    "    return stats.pearsonr(x, y)[0] ** 2"
   ]
  },
  {
   "cell_type": "code",
   "execution_count": 255,
   "metadata": {},
   "outputs": [
    {
     "data": {
      "text/plain": [
       "0.6027939587220286"
      ]
     },
     "execution_count": 255,
     "metadata": {},
     "output_type": "execute_result"
    }
   ],
   "source": [
    "r2(CLF[\"CEO_FREQUENCY\"], CLF[\"WOfS_FREQUENCY\"])"
   ]
  },
  {
   "cell_type": "code",
   "execution_count": 257,
   "metadata": {},
   "outputs": [
    {
     "data": {
      "image/png": "[encoded data removed]",
      "text/plain": [
       "<Figure size 432x432 with 3 Axes>"
      ]
     },
     "metadata": {},
     "output_type": "display_data"
    }
   ],
   "source": [
    "ax = sn.jointplot(CLF[\"CEO_FREQUENCY\"], CLF[\"WOfS_FREQUENCY\"], data=CLF, kind='kde');"
   ]
  },
  {
   "cell_type": "code",
   "execution_count": 241,
   "metadata": {},
   "outputs": [
    {
     "data": {
      "image/png": "[encoded data removed]",
      "text/plain": [
       "<Figure size 432x432 with 3 Axes>"
      ]
     },
     "metadata": {},
     "output_type": "display_data"
    }
   ],
   "source": [
    "sn.jointplot(x=\"CEO_FREQUENCY\", y=\"WOfS_FREQUENCY\", data=CLF);"
   ]
  },
  {
   "cell_type": "code",
   "execution_count": 250,
   "metadata": {},
   "outputs": [
    {
     "data": {
      "text/plain": [
       "<matplotlib.axes._subplots.AxesSubplot at 0x7f7bd833dc50>"
      ]
     },
     "execution_count": 250,
     "metadata": {},
     "output_type": "execute_result"
    },
    {
     "data": {
      "image/png": "[encoded data removed]",
      "text/plain": [
       "<Figure size 720x288 with 1 Axes>"
      ]
     },
     "metadata": {},
     "output_type": "display_data"
    }
   ],
   "source": [
    "plt.figure(figsize=(10,4))\n",
    "sn.regplot(data=CLF, x='CEO_FREQUENCY', y='WOfS_FREQUENCY',truncate=False);"
   ]
  },
  {
   "cell_type": "code",
   "execution_count": 192,
   "metadata": {},
   "outputs": [],
   "source": [
    "Sample_ID = CLF[['CLASS','CEO_FREQUENCY','WOfS_FREQUENCY']] "
   ]
  },
  {
   "cell_type": "code",
   "execution_count": 193,
   "metadata": {},
   "outputs": [
    {
     "data": {
      "image/png": "[encoded data removed]",
      "text/plain": [
       "<Figure size 644.85x360 with 6 Axes>"
      ]
     },
     "metadata": {},
     "output_type": "display_data"
    }
   ],
   "source": [
    "sn.pairplot(Sample_ID, hue='CLASS', size=2.5);"
   ]
  },
  {
   "cell_type": "code",
   "execution_count": 137,
   "metadata": {},
   "outputs": [
    {
     "data": {
      "image/png": "[encoded data removed]",
      "text/plain": [
       "<Figure size 432x288 with 2 Axes>"
      ]
     },
     "metadata": {
      "needs_background": "light"
     },
     "output_type": "display_data"
    }
   ],
   "source": [
    "confusion_matrix = pd.crosstab(CLF['CEO_TYPE'],CLF['WOfS_TYPE'],rownames=['CEO'],colnames=['WOfS'])\n",
    "ax = plt.subplot()\n",
    "sn.heatmap(confusion_matrix, annot = True, cmap='Blues', fmt='g') #true to annotate cells \n",
    "ax.set_xlabel('WOfS Label'); ax.set_ylabel( 'CEO Label');\n",
    "ax.set_title(' Confusion Matrix - Eastern AEZ (T1.0)')\n",
    "ax.xaxis.set_ticklabels(['Dry','Ephemeral','Permanent']); \n",
    "ax.yaxis.set_ticklabels(['Dry','Ephemeral','Permanent'], rotation='horizontal');\n",
    "ax.xaxis.labelpad = 20;\n",
    "ax.yaxis.labelpad = 10;"
   ]
  },
  {
   "cell_type": "code",
   "execution_count": 148,
   "metadata": {},
   "outputs": [
    {
     "data": {
      "text/html": [
       "<div>\n",
       "<style scoped>\n",
       "    .dataframe tbody tr th:only-of-type {\n",
       "        vertical-align: middle;\n",
       "    }\n",
       "\n",
       "    .dataframe tbody tr th {\n",
       "        vertical-align: top;\n",
       "    }\n",
       "\n",
       "    .dataframe thead th {\n",
       "        text-align: right;\n",
       "    }\n",
       "</style>\n",
       "<table border=\"1\" class=\"dataframe\">\n",
       "  <thead>\n",
       "    <tr style=\"text-align: right;\">\n",
       "      <th>TYPE</th>\n",
       "      <th>Ephemeral</th>\n",
       "      <th>All</th>\n",
       "    </tr>\n",
       "    <tr>\n",
       "      <th>CLASS</th>\n",
       "      <th></th>\n",
       "      <th></th>\n",
       "    </tr>\n",
       "  </thead>\n",
       "  <tbody>\n",
       "    <tr>\n",
       "      <th>Barren (Bare soil / Rocky Land)</th>\n",
       "      <td>7</td>\n",
       "      <td>7</td>\n",
       "    </tr>\n",
       "    <tr>\n",
       "      <th>Herbaceous/Grassland</th>\n",
       "      <td>1</td>\n",
       "      <td>1</td>\n",
       "    </tr>\n",
       "    <tr>\n",
       "      <th>Open water - Constructed (e.g. aquaculture)</th>\n",
       "      <td>6</td>\n",
       "      <td>6</td>\n",
       "    </tr>\n",
       "    <tr>\n",
       "      <th>Open water - freshwater</th>\n",
       "      <td>224</td>\n",
       "      <td>224</td>\n",
       "    </tr>\n",
       "    <tr>\n",
       "      <th>Open water - marine</th>\n",
       "      <td>51</td>\n",
       "      <td>51</td>\n",
       "    </tr>\n",
       "    <tr>\n",
       "      <th>Shrubs</th>\n",
       "      <td>3</td>\n",
       "      <td>3</td>\n",
       "    </tr>\n",
       "    <tr>\n",
       "      <th>Wetlands - freshwater</th>\n",
       "      <td>12</td>\n",
       "      <td>12</td>\n",
       "    </tr>\n",
       "    <tr>\n",
       "      <th>Wetlands - marine (e.g. mangroves)</th>\n",
       "      <td>5</td>\n",
       "      <td>5</td>\n",
       "    </tr>\n",
       "    <tr>\n",
       "      <th>All</th>\n",
       "      <td>309</td>\n",
       "      <td>309</td>\n",
       "    </tr>\n",
       "  </tbody>\n",
       "</table>\n",
       "</div>"
      ],
      "text/plain": [
       "TYPE                                         Ephemeral  All\n",
       "CLASS                                                      \n",
       "Barren (Bare soil / Rocky Land)                      7    7\n",
       "Herbaceous/Grassland                                 1    1\n",
       "Open water - Constructed (e.g. aquaculture)          6    6\n",
       "Open water - freshwater                            224  224\n",
       "Open water - marine                                 51   51\n",
       "Shrubs                                               3    3\n",
       "Wetlands - freshwater                               12   12\n",
       "Wetlands - marine (e.g. mangroves)                   5    5\n",
       "All                                                309  309"
      ]
     },
     "execution_count": 148,
     "metadata": {},
     "output_type": "execute_result"
    }
   ],
   "source": [
    "confusion_matrix = pd.crosstab(EPH['CLASS'],EPH['TYPE'],rownames=['CLASS'],colnames=['TYPE'],margins=True)\n",
    "confusion_matrix"
   ]
  },
  {
   "cell_type": "code",
   "execution_count": null,
   "metadata": {},
   "outputs": [],
   "source": [
    "sn.catplot(x=\"TYPE\", y=\"CLASS\", kind='swarm', data=EPH)"
   ]
  },
  {
   "cell_type": "code",
   "execution_count": null,
   "metadata": {},
   "outputs": [],
   "source": [
    "print(datacube.__version__)"
   ]
  },
  {
   "cell_type": "markdown",
   "metadata": {},
   "source": [
    "***\n",
    "\n",
    "## Additional information\n",
    "\n",
    "**License:** The code in this notebook is licensed under the [Apache License, Version 2.0](https://www.apache.org/licenses/LICENSE-2.0). \n",
    "Digital Earth Africa data is licensed under the [Creative Commons by Attribution 4.0](https://creativecommons.org/licenses/by/4.0/) license.\n",
    "\n",
    "**Contact:** If you need assistance, please post a question on the [Open Data Cube Slack channel](http://slack.opendatacube.org/) or on the [GIS Stack Exchange](https://gis.stackexchange.com/questions/ask?tags=open-data-cube) using the `open-data-cube` tag (you can view previously asked questions [here](https://gis.stackexchange.com/questions/tagged/open-data-cube)).\n",
    "If you would like to report an issue with this notebook, you can file one on [Github](https://github.com/digitalearthafrica/deafrica-sandbox-notebooks).\n",
    "\n",
    "**Last modified:** September 2020\n",
    "\n",
    "**Compatible datacube version:** "
   ]
  },
  {
   "cell_type": "markdown",
   "metadata": {},
   "source": [
    "## Tags\n",
    "Browse all available tags on the DE Africa User Guide's [Tags Index](https://) (placeholder as this does not exist yet)"
   ]
  },
  {
   "cell_type": "raw",
   "metadata": {
    "raw_mimetype": "text/restructuredtext"
   },
   "source": [
    "**Tags**:  :index:`WOfS`, :index:`fractional cover`, :index:`deafrica_plotting`, :index:`deafrica_datahandling`, :index:`display_map`, :index:`wofs_fuser`, :index:`WOFL`, :index:`masking`"
   ]
  }
 ],
 "metadata": {
  "kernelspec": {
   "display_name": "Python 3",
   "language": "python",
   "name": "python3"
  },
  "language_info": {
   "codemirror_mode": {
    "name": "ipython",
    "version": 3
   },
   "file_extension": ".py",
   "mimetype": "text/x-python",
   "name": "python",
   "nbconvert_exporter": "python",
   "pygments_lexer": "ipython3",
   "version": "3.6.9"
  },
  "widgets": {
   "application/vnd.jupyter.widget-state+json": {
    "state": {
     "9e3fa49adf8c4170abfcd954c2ec045a": {
      "model_module": "jupyter-leaflet",
      "model_module_version": "^0.11.1",
      "model_name": "LeafletZoomControlModel",
      "state": {
       "_model_module_version": "^0.11.1",
       "_view_count": null,
       "_view_module_version": "^0.11.1",
       "options": [
        "position",
        "zoom_in_text",
        "zoom_in_title",
        "zoom_out_text",
        "zoom_out_title"
       ]
      }
     },
     "dc642f11c1fb492ca419b0ed6fc4f8c3": {
      "model_module": "jupyter-leaflet",
      "model_module_version": "^0.11.1",
      "model_name": "LeafletAttributionControlModel",
      "state": {
       "_model_module_version": "^0.11.1",
       "_view_count": null,
       "_view_module_version": "^0.11.1",
       "options": [
        "position",
        "prefix"
       ],
       "position": "bottomright",
       "prefix": "Leaflet"
      }
     }
    },
    "version_major": 2,
    "version_minor": 0
   }
  }
 },
 "nbformat": 4,
 "nbformat_minor": 4
}
