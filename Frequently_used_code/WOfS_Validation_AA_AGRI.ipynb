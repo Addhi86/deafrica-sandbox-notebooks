{
 "cells": [
  {
   "cell_type": "markdown",
   "metadata": {},
   "source": [
    "# WOfS Validation Accuracy Assessment <img align=\"right\" src=\"../Supplementary_data/DE_Africa_Logo_Stacked_RGB_small.jpg\">\n",
    "\n",
    "* **Products used:** \n",
    "[ga_ls8c_wofs_2](https://explorer.digitalearth.africa/ga_ls8c_wofs_2),\n",
    "[ga_ls8c_wofs_2_summary ](https://explorer.digitalearth.africa/ga_ls8c_wofs_2_summary)"
   ]
  },
  {
   "cell_type": "markdown",
   "metadata": {},
   "source": [
    "## Background\n",
    "Accuracy assessment for WOfS product in Africa includes generating a confusion error matrix for a WOFL binary classification.\n",
    "The inputs for the estimating the accuracy of WOfS derived product are a binary classification WOFL layer showing water/non-water and a shapefile containing validation points collected by [Collect Earth Online](https://collect.earth/) tool. Validation points are the ground truth or actual data while the extracted value for each location from WOFL is the predicted value. A confusion error matrix containing overall, producer's and user's accuracy is the output of this analysis. "
   ]
  },
  {
   "cell_type": "markdown",
   "metadata": {},
   "source": [
    "## Description\n",
    "This notebook explains how you can perform accuracy assessment for WOFS derived product using collected ground truth dataset. \n",
    "\n",
    "The notebook demonstrates how to:\n",
    "1. Generating a confusion error matrix for WOFL binary classification\n",
    "2. Assessing the accuracy of the classification \n",
    "***"
   ]
  },
  {
   "cell_type": "markdown",
   "metadata": {},
   "source": [
    "## Getting started\n",
    "\n",
    "To run this analysis, run all the cells in the notebook, starting with the \"Load packages\" cell.\n",
    "\n",
    "After finishing the analysis, you can modify some values in the \"Analysis parameters\" cell and re-run the analysis to load WOFLs for a different location or time period."
   ]
  },
  {
   "cell_type": "markdown",
   "metadata": {},
   "source": [
    "### Load packages\n",
    "Import Python packages that are used for the analysis."
   ]
  },
  {
   "cell_type": "code",
   "execution_count": 1,
   "metadata": {},
   "outputs": [],
   "source": [
    "%matplotlib inline\n",
    "\n",
    "import time \n",
    "import datacube\n",
    "from datacube.utils import masking, geometry \n",
    "import sys\n",
    "import os\n",
    "import dask \n",
    "import rasterio, rasterio.features\n",
    "import xarray\n",
    "import glob\n",
    "import numpy as np\n",
    "import pandas as pd\n",
    "import seaborn as sn\n",
    "import geopandas as gpd\n",
    "import subprocess as sp\n",
    "import matplotlib.pyplot as plt\n",
    "import scipy, scipy.ndimage\n",
    "import warnings\n",
    "warnings.filterwarnings(\"ignore\") #this will suppress the warnings for multiple UTM zones in your AOI \n",
    "\n",
    "sys.path.append(\"../Scripts\")\n",
    "from rasterio.mask import mask\n",
    "from geopandas import GeoSeries, GeoDataFrame\n",
    "from shapely.geometry import Point\n",
    "from sklearn.metrics import confusion_matrix, accuracy_score \n",
    "from sklearn.metrics import plot_confusion_matrix, f1_score  \n",
    "from deafrica_plotting import map_shapefile,display_map, rgb\n",
    "from deafrica_spatialtools import xr_rasterize\n",
    "from deafrica_datahandling import wofs_fuser, mostcommon_crs,load_ard,deepcopy\n",
    "from deafrica_dask import create_local_dask_cluster"
   ]
  },
  {
   "cell_type": "markdown",
   "metadata": {},
   "source": [
    "### Loading Dataset"
   ]
  },
  {
   "cell_type": "markdown",
   "metadata": {},
   "source": [
    "Read in the validation data csv, clean the table and rename the column associated with actual and predicted. \n",
    "\n",
    "We need to read two columns from this table:\n",
    "- Water flag as the groundtruth(actual)\n",
    "- Class Wet from WOfS (prediction)"
   ]
  },
  {
   "cell_type": "code",
   "execution_count": 2,
   "metadata": {},
   "outputs": [],
   "source": [
    "#Read the ground truth data following analysis step \n",
    "CEO = '../Supplementary_data/Validation/Refined/AFRIGIST/Groundtruth_AfriGIST_W305m.csv'\n",
    "df = pd.read_csv(CEO,delimiter=\",\")"
   ]
  },
  {
   "cell_type": "code",
   "execution_count": 3,
   "metadata": {},
   "outputs": [
    {
     "data": {
      "text/plain": [
       "Index(['Unnamed: 0', 'PLOT_ID', 'LON', 'LAT', 'FLAGGED', 'ANALYSES',\n",
       "       'SENTINEL2Y', 'STARTDATE', 'ENDDATE', 'WATER', 'NO_WATER', 'BAD_IMAGE',\n",
       "       'NOT_SURE', 'CLASS', 'COMMENT', 'MONTH', 'WATERFLAG', 'geometry',\n",
       "       'CLASS_WET', 'CLEAR_OBS'],\n",
       "      dtype='object')"
      ]
     },
     "execution_count": 3,
     "metadata": {},
     "output_type": "execute_result"
    }
   ],
   "source": [
    "df.columns"
   ]
  },
  {
   "cell_type": "code",
   "execution_count": 4,
   "metadata": {},
   "outputs": [],
   "source": [
    "input_data = df.drop(['Unnamed: 0', 'FLAGGED', 'ANALYSES','SENTINEL2Y','STARTDATE', 'ENDDATE', 'WATER', 'NO_WATER', 'BAD_IMAGE', 'NOT_SURE','COMMENT','geometry'], axis=1)\n",
    "input_data = input_data.rename(columns={'WATERFLAG':'ACTUAL'})"
   ]
  },
  {
   "cell_type": "code",
   "execution_count": 5,
   "metadata": {},
   "outputs": [
    {
     "data": {
      "text/html": [
       "<div>\n",
       "<style scoped>\n",
       "    .dataframe tbody tr th:only-of-type {\n",
       "        vertical-align: middle;\n",
       "    }\n",
       "\n",
       "    .dataframe tbody tr th {\n",
       "        vertical-align: top;\n",
       "    }\n",
       "\n",
       "    .dataframe thead th {\n",
       "        text-align: right;\n",
       "    }\n",
       "</style>\n",
       "<table border=\"1\" class=\"dataframe\">\n",
       "  <thead>\n",
       "    <tr style=\"text-align: right;\">\n",
       "      <th></th>\n",
       "      <th>PLOT_ID</th>\n",
       "      <th>LON</th>\n",
       "      <th>LAT</th>\n",
       "      <th>CLASS</th>\n",
       "      <th>MONTH</th>\n",
       "      <th>ACTUAL</th>\n",
       "      <th>CLASS_WET</th>\n",
       "      <th>CLEAR_OBS</th>\n",
       "    </tr>\n",
       "  </thead>\n",
       "  <tbody>\n",
       "    <tr>\n",
       "      <th>0</th>\n",
       "      <td>137483175.0</td>\n",
       "      <td>30.463813</td>\n",
       "      <td>-26.653807</td>\n",
       "      <td>Open water - freshwater</td>\n",
       "      <td>3</td>\n",
       "      <td>1</td>\n",
       "      <td>NaN</td>\n",
       "      <td>NaN</td>\n",
       "    </tr>\n",
       "    <tr>\n",
       "      <th>1</th>\n",
       "      <td>137483175.0</td>\n",
       "      <td>30.463813</td>\n",
       "      <td>-26.653807</td>\n",
       "      <td>Open water - freshwater</td>\n",
       "      <td>4</td>\n",
       "      <td>1</td>\n",
       "      <td>NaN</td>\n",
       "      <td>NaN</td>\n",
       "    </tr>\n",
       "    <tr>\n",
       "      <th>2</th>\n",
       "      <td>137483175.0</td>\n",
       "      <td>30.463813</td>\n",
       "      <td>-26.653807</td>\n",
       "      <td>Open water - freshwater</td>\n",
       "      <td>5</td>\n",
       "      <td>1</td>\n",
       "      <td>NaN</td>\n",
       "      <td>NaN</td>\n",
       "    </tr>\n",
       "    <tr>\n",
       "      <th>3</th>\n",
       "      <td>137483175.0</td>\n",
       "      <td>30.463813</td>\n",
       "      <td>-26.653807</td>\n",
       "      <td>Open water - freshwater</td>\n",
       "      <td>6</td>\n",
       "      <td>1</td>\n",
       "      <td>NaN</td>\n",
       "      <td>NaN</td>\n",
       "    </tr>\n",
       "    <tr>\n",
       "      <th>4</th>\n",
       "      <td>137483175.0</td>\n",
       "      <td>30.463813</td>\n",
       "      <td>-26.653807</td>\n",
       "      <td>Open water - freshwater</td>\n",
       "      <td>7</td>\n",
       "      <td>1</td>\n",
       "      <td>NaN</td>\n",
       "      <td>NaN</td>\n",
       "    </tr>\n",
       "    <tr>\n",
       "      <th>...</th>\n",
       "      <td>...</td>\n",
       "      <td>...</td>\n",
       "      <td>...</td>\n",
       "      <td>...</td>\n",
       "      <td>...</td>\n",
       "      <td>...</td>\n",
       "      <td>...</td>\n",
       "      <td>...</td>\n",
       "    </tr>\n",
       "    <tr>\n",
       "      <th>6036</th>\n",
       "      <td>137482804.0</td>\n",
       "      <td>13.838962</td>\n",
       "      <td>-9.369115</td>\n",
       "      <td>Open water - freshwater</td>\n",
       "      <td>7</td>\n",
       "      <td>0</td>\n",
       "      <td>NaN</td>\n",
       "      <td>NaN</td>\n",
       "    </tr>\n",
       "    <tr>\n",
       "      <th>6037</th>\n",
       "      <td>137482804.0</td>\n",
       "      <td>13.838962</td>\n",
       "      <td>-9.369115</td>\n",
       "      <td>Open water - freshwater</td>\n",
       "      <td>9</td>\n",
       "      <td>0</td>\n",
       "      <td>NaN</td>\n",
       "      <td>NaN</td>\n",
       "    </tr>\n",
       "    <tr>\n",
       "      <th>6038</th>\n",
       "      <td>137482804.0</td>\n",
       "      <td>13.838962</td>\n",
       "      <td>-9.369115</td>\n",
       "      <td>Open water - freshwater</td>\n",
       "      <td>10</td>\n",
       "      <td>0</td>\n",
       "      <td>NaN</td>\n",
       "      <td>NaN</td>\n",
       "    </tr>\n",
       "    <tr>\n",
       "      <th>6039</th>\n",
       "      <td>137482804.0</td>\n",
       "      <td>13.838962</td>\n",
       "      <td>-9.369115</td>\n",
       "      <td>Open water - freshwater</td>\n",
       "      <td>11</td>\n",
       "      <td>0</td>\n",
       "      <td>NaN</td>\n",
       "      <td>NaN</td>\n",
       "    </tr>\n",
       "    <tr>\n",
       "      <th>6040</th>\n",
       "      <td>137482804.0</td>\n",
       "      <td>13.838962</td>\n",
       "      <td>-9.369115</td>\n",
       "      <td>Open water - freshwater</td>\n",
       "      <td>8</td>\n",
       "      <td>1</td>\n",
       "      <td>NaN</td>\n",
       "      <td>NaN</td>\n",
       "    </tr>\n",
       "  </tbody>\n",
       "</table>\n",
       "<p>6041 rows × 8 columns</p>\n",
       "</div>"
      ],
      "text/plain": [
       "          PLOT_ID        LON        LAT                    CLASS  MONTH  \\\n",
       "0     137483175.0  30.463813 -26.653807  Open water - freshwater      3   \n",
       "1     137483175.0  30.463813 -26.653807  Open water - freshwater      4   \n",
       "2     137483175.0  30.463813 -26.653807  Open water - freshwater      5   \n",
       "3     137483175.0  30.463813 -26.653807  Open water - freshwater      6   \n",
       "4     137483175.0  30.463813 -26.653807  Open water - freshwater      7   \n",
       "...           ...        ...        ...                      ...    ...   \n",
       "6036  137482804.0  13.838962  -9.369115  Open water - freshwater      7   \n",
       "6037  137482804.0  13.838962  -9.369115  Open water - freshwater      9   \n",
       "6038  137482804.0  13.838962  -9.369115  Open water - freshwater     10   \n",
       "6039  137482804.0  13.838962  -9.369115  Open water - freshwater     11   \n",
       "6040  137482804.0  13.838962  -9.369115  Open water - freshwater      8   \n",
       "\n",
       "      ACTUAL  CLASS_WET  CLEAR_OBS  \n",
       "0          1        NaN        NaN  \n",
       "1          1        NaN        NaN  \n",
       "2          1        NaN        NaN  \n",
       "3          1        NaN        NaN  \n",
       "4          1        NaN        NaN  \n",
       "...      ...        ...        ...  \n",
       "6036       0        NaN        NaN  \n",
       "6037       0        NaN        NaN  \n",
       "6038       0        NaN        NaN  \n",
       "6039       0        NaN        NaN  \n",
       "6040       1        NaN        NaN  \n",
       "\n",
       "[6041 rows x 8 columns]"
      ]
     },
     "execution_count": 5,
     "metadata": {},
     "output_type": "execute_result"
    }
   ],
   "source": [
    "input_data"
   ]
  },
  {
   "cell_type": "code",
   "execution_count": 6,
   "metadata": {},
   "outputs": [],
   "source": [
    "#setting the column prediction based on frequency flag or using class_wet flag \n",
    "#input_data['PREDICTION'] = input_data['FREQUENCY'].apply(lambda x: '1' if x > 0.5 else '0')\n",
    "input_data['PREDICTION'] = input_data['CLASS_WET'].apply(lambda x: '1' if x >=1 else '0') #you need to comment after this "
   ]
  },
  {
   "cell_type": "code",
   "execution_count": 7,
   "metadata": {},
   "outputs": [],
   "source": [
    "geometry = [Point(xy) for xy in zip(input_data.LON, input_data.LAT)]\n",
    "crs = {'init': 'epsg:4326'} \n",
    "ValPoints = GeoDataFrame(input_data, crs=crs, geometry=geometry)\n",
    "#RCMRD"
   ]
  },
  {
   "cell_type": "code",
   "execution_count": 8,
   "metadata": {},
   "outputs": [],
   "source": [
    "#Reading the boundary file for African countries \n",
    "aez = '../Supplementary_data/Validation/Refined/shapefiles/African_countries_Dissolve.shp'"
   ]
  },
  {
   "cell_type": "code",
   "execution_count": 9,
   "metadata": {},
   "outputs": [],
   "source": [
    "outline = gpd.read_file(aez).to_crs('EPSG:4326')\n",
    "#outline"
   ]
  },
  {
   "cell_type": "code",
   "execution_count": 10,
   "metadata": {},
   "outputs": [],
   "source": [
    "#Setting the buffer zone to exclude points that are located in intertidal areas \n",
    "buffer_zone = outline.buffer(-0.02,resolution=16)"
   ]
  },
  {
   "cell_type": "code",
   "execution_count": 11,
   "metadata": {},
   "outputs": [],
   "source": [
    "#Clipping the input data with the buffer zone to have all inland points that are not coastal \n",
    "include_points = gpd.clip(ValPoints, buffer_zone)"
   ]
  },
  {
   "cell_type": "code",
   "execution_count": 12,
   "metadata": {},
   "outputs": [
    {
     "data": {
      "text/html": [
       "<div>\n",
       "<style scoped>\n",
       "    .dataframe tbody tr th:only-of-type {\n",
       "        vertical-align: middle;\n",
       "    }\n",
       "\n",
       "    .dataframe tbody tr th {\n",
       "        vertical-align: top;\n",
       "    }\n",
       "\n",
       "    .dataframe thead th {\n",
       "        text-align: right;\n",
       "    }\n",
       "</style>\n",
       "<table border=\"1\" class=\"dataframe\">\n",
       "  <thead>\n",
       "    <tr style=\"text-align: right;\">\n",
       "      <th></th>\n",
       "      <th>PLOT_ID</th>\n",
       "      <th>LON</th>\n",
       "      <th>LAT</th>\n",
       "      <th>CLASS</th>\n",
       "      <th>MONTH</th>\n",
       "      <th>ACTUAL</th>\n",
       "      <th>CLASS_WET</th>\n",
       "      <th>CLEAR_OBS</th>\n",
       "      <th>PREDICTION</th>\n",
       "      <th>geometry</th>\n",
       "    </tr>\n",
       "  </thead>\n",
       "  <tbody>\n",
       "    <tr>\n",
       "      <th>0</th>\n",
       "      <td>137483175.0</td>\n",
       "      <td>30.463813</td>\n",
       "      <td>-26.653807</td>\n",
       "      <td>Open water - freshwater</td>\n",
       "      <td>3</td>\n",
       "      <td>1</td>\n",
       "      <td>NaN</td>\n",
       "      <td>NaN</td>\n",
       "      <td>0</td>\n",
       "      <td>POINT (30.46381 -26.65381)</td>\n",
       "    </tr>\n",
       "    <tr>\n",
       "      <th>1</th>\n",
       "      <td>137483175.0</td>\n",
       "      <td>30.463813</td>\n",
       "      <td>-26.653807</td>\n",
       "      <td>Open water - freshwater</td>\n",
       "      <td>4</td>\n",
       "      <td>1</td>\n",
       "      <td>NaN</td>\n",
       "      <td>NaN</td>\n",
       "      <td>0</td>\n",
       "      <td>POINT (30.46381 -26.65381)</td>\n",
       "    </tr>\n",
       "    <tr>\n",
       "      <th>2</th>\n",
       "      <td>137483175.0</td>\n",
       "      <td>30.463813</td>\n",
       "      <td>-26.653807</td>\n",
       "      <td>Open water - freshwater</td>\n",
       "      <td>5</td>\n",
       "      <td>1</td>\n",
       "      <td>NaN</td>\n",
       "      <td>NaN</td>\n",
       "      <td>0</td>\n",
       "      <td>POINT (30.46381 -26.65381)</td>\n",
       "    </tr>\n",
       "    <tr>\n",
       "      <th>3</th>\n",
       "      <td>137483175.0</td>\n",
       "      <td>30.463813</td>\n",
       "      <td>-26.653807</td>\n",
       "      <td>Open water - freshwater</td>\n",
       "      <td>6</td>\n",
       "      <td>1</td>\n",
       "      <td>NaN</td>\n",
       "      <td>NaN</td>\n",
       "      <td>0</td>\n",
       "      <td>POINT (30.46381 -26.65381)</td>\n",
       "    </tr>\n",
       "    <tr>\n",
       "      <th>4</th>\n",
       "      <td>137483175.0</td>\n",
       "      <td>30.463813</td>\n",
       "      <td>-26.653807</td>\n",
       "      <td>Open water - freshwater</td>\n",
       "      <td>7</td>\n",
       "      <td>1</td>\n",
       "      <td>NaN</td>\n",
       "      <td>NaN</td>\n",
       "      <td>0</td>\n",
       "      <td>POINT (30.46381 -26.65381)</td>\n",
       "    </tr>\n",
       "    <tr>\n",
       "      <th>...</th>\n",
       "      <td>...</td>\n",
       "      <td>...</td>\n",
       "      <td>...</td>\n",
       "      <td>...</td>\n",
       "      <td>...</td>\n",
       "      <td>...</td>\n",
       "      <td>...</td>\n",
       "      <td>...</td>\n",
       "      <td>...</td>\n",
       "      <td>...</td>\n",
       "    </tr>\n",
       "    <tr>\n",
       "      <th>6036</th>\n",
       "      <td>137482804.0</td>\n",
       "      <td>13.838962</td>\n",
       "      <td>-9.369115</td>\n",
       "      <td>Open water - freshwater</td>\n",
       "      <td>7</td>\n",
       "      <td>0</td>\n",
       "      <td>NaN</td>\n",
       "      <td>NaN</td>\n",
       "      <td>0</td>\n",
       "      <td>POINT (13.83896 -9.36912)</td>\n",
       "    </tr>\n",
       "    <tr>\n",
       "      <th>6037</th>\n",
       "      <td>137482804.0</td>\n",
       "      <td>13.838962</td>\n",
       "      <td>-9.369115</td>\n",
       "      <td>Open water - freshwater</td>\n",
       "      <td>9</td>\n",
       "      <td>0</td>\n",
       "      <td>NaN</td>\n",
       "      <td>NaN</td>\n",
       "      <td>0</td>\n",
       "      <td>POINT (13.83896 -9.36912)</td>\n",
       "    </tr>\n",
       "    <tr>\n",
       "      <th>6038</th>\n",
       "      <td>137482804.0</td>\n",
       "      <td>13.838962</td>\n",
       "      <td>-9.369115</td>\n",
       "      <td>Open water - freshwater</td>\n",
       "      <td>10</td>\n",
       "      <td>0</td>\n",
       "      <td>NaN</td>\n",
       "      <td>NaN</td>\n",
       "      <td>0</td>\n",
       "      <td>POINT (13.83896 -9.36912)</td>\n",
       "    </tr>\n",
       "    <tr>\n",
       "      <th>6039</th>\n",
       "      <td>137482804.0</td>\n",
       "      <td>13.838962</td>\n",
       "      <td>-9.369115</td>\n",
       "      <td>Open water - freshwater</td>\n",
       "      <td>11</td>\n",
       "      <td>0</td>\n",
       "      <td>NaN</td>\n",
       "      <td>NaN</td>\n",
       "      <td>0</td>\n",
       "      <td>POINT (13.83896 -9.36912)</td>\n",
       "    </tr>\n",
       "    <tr>\n",
       "      <th>6040</th>\n",
       "      <td>137482804.0</td>\n",
       "      <td>13.838962</td>\n",
       "      <td>-9.369115</td>\n",
       "      <td>Open water - freshwater</td>\n",
       "      <td>8</td>\n",
       "      <td>1</td>\n",
       "      <td>NaN</td>\n",
       "      <td>NaN</td>\n",
       "      <td>0</td>\n",
       "      <td>POINT (13.83896 -9.36912)</td>\n",
       "    </tr>\n",
       "  </tbody>\n",
       "</table>\n",
       "<p>5441 rows × 10 columns</p>\n",
       "</div>"
      ],
      "text/plain": [
       "          PLOT_ID        LON        LAT                    CLASS  MONTH  \\\n",
       "0     137483175.0  30.463813 -26.653807  Open water - freshwater      3   \n",
       "1     137483175.0  30.463813 -26.653807  Open water - freshwater      4   \n",
       "2     137483175.0  30.463813 -26.653807  Open water - freshwater      5   \n",
       "3     137483175.0  30.463813 -26.653807  Open water - freshwater      6   \n",
       "4     137483175.0  30.463813 -26.653807  Open water - freshwater      7   \n",
       "...           ...        ...        ...                      ...    ...   \n",
       "6036  137482804.0  13.838962  -9.369115  Open water - freshwater      7   \n",
       "6037  137482804.0  13.838962  -9.369115  Open water - freshwater      9   \n",
       "6038  137482804.0  13.838962  -9.369115  Open water - freshwater     10   \n",
       "6039  137482804.0  13.838962  -9.369115  Open water - freshwater     11   \n",
       "6040  137482804.0  13.838962  -9.369115  Open water - freshwater      8   \n",
       "\n",
       "      ACTUAL  CLASS_WET  CLEAR_OBS PREDICTION                    geometry  \n",
       "0          1        NaN        NaN          0  POINT (30.46381 -26.65381)  \n",
       "1          1        NaN        NaN          0  POINT (30.46381 -26.65381)  \n",
       "2          1        NaN        NaN          0  POINT (30.46381 -26.65381)  \n",
       "3          1        NaN        NaN          0  POINT (30.46381 -26.65381)  \n",
       "4          1        NaN        NaN          0  POINT (30.46381 -26.65381)  \n",
       "...      ...        ...        ...        ...                         ...  \n",
       "6036       0        NaN        NaN          0   POINT (13.83896 -9.36912)  \n",
       "6037       0        NaN        NaN          0   POINT (13.83896 -9.36912)  \n",
       "6038       0        NaN        NaN          0   POINT (13.83896 -9.36912)  \n",
       "6039       0        NaN        NaN          0   POINT (13.83896 -9.36912)  \n",
       "6040       1        NaN        NaN          0   POINT (13.83896 -9.36912)  \n",
       "\n",
       "[5441 rows x 10 columns]"
      ]
     },
     "execution_count": 12,
     "metadata": {},
     "output_type": "execute_result"
    }
   ],
   "source": [
    "include_points #the list of inland points "
   ]
  },
  {
   "cell_type": "code",
   "execution_count": 13,
   "metadata": {},
   "outputs": [],
   "source": [
    "include_points.to_file(filename='../Supplementary_data/Validation/Refined/AFRIGIST/shapefile/AfriGIST_inland_w305m.shp') "
   ]
  },
  {
   "cell_type": "code",
   "execution_count": 14,
   "metadata": {},
   "outputs": [],
   "source": [
    "include_points.to_file('../Supplementary_data/Validation/Refined/AFRIGIST/shapefile/AfriGIST_inland_w305m.geojson',driver='GeoJSON') "
   ]
  },
  {
   "cell_type": "code",
   "execution_count": 15,
   "metadata": {},
   "outputs": [],
   "source": [
    "include_points.to_csv(('../Supplementary_data/Validation/Refined/AFRIGIST/AfriGIST_inland_w305m.csv')) #this will be used for initial accuracy assessment "
   ]
  },
  {
   "cell_type": "code",
   "execution_count": 16,
   "metadata": {},
   "outputs": [],
   "source": [
    "FN = include_points[(include_points['ACTUAL']==1) & (input_data['PREDICTION']=='0')][['PLOT_ID','LAT','LON','CLASS','MONTH','ACTUAL','PREDICTION']]"
   ]
  },
  {
   "cell_type": "code",
   "execution_count": 17,
   "metadata": {},
   "outputs": [
    {
     "data": {
      "text/html": [
       "<div>\n",
       "<style scoped>\n",
       "    .dataframe tbody tr th:only-of-type {\n",
       "        vertical-align: middle;\n",
       "    }\n",
       "\n",
       "    .dataframe tbody tr th {\n",
       "        vertical-align: top;\n",
       "    }\n",
       "\n",
       "    .dataframe thead th {\n",
       "        text-align: right;\n",
       "    }\n",
       "</style>\n",
       "<table border=\"1\" class=\"dataframe\">\n",
       "  <thead>\n",
       "    <tr style=\"text-align: right;\">\n",
       "      <th></th>\n",
       "      <th>PLOT_ID</th>\n",
       "      <th>LAT</th>\n",
       "      <th>LON</th>\n",
       "      <th>CLASS</th>\n",
       "      <th>MONTH</th>\n",
       "      <th>ACTUAL</th>\n",
       "      <th>PREDICTION</th>\n",
       "    </tr>\n",
       "  </thead>\n",
       "  <tbody>\n",
       "    <tr>\n",
       "      <th>0</th>\n",
       "      <td>137483175.0</td>\n",
       "      <td>-26.653807</td>\n",
       "      <td>30.463813</td>\n",
       "      <td>Open water - freshwater</td>\n",
       "      <td>3</td>\n",
       "      <td>1</td>\n",
       "      <td>0</td>\n",
       "    </tr>\n",
       "    <tr>\n",
       "      <th>1</th>\n",
       "      <td>137483175.0</td>\n",
       "      <td>-26.653807</td>\n",
       "      <td>30.463813</td>\n",
       "      <td>Open water - freshwater</td>\n",
       "      <td>4</td>\n",
       "      <td>1</td>\n",
       "      <td>0</td>\n",
       "    </tr>\n",
       "    <tr>\n",
       "      <th>2</th>\n",
       "      <td>137483175.0</td>\n",
       "      <td>-26.653807</td>\n",
       "      <td>30.463813</td>\n",
       "      <td>Open water - freshwater</td>\n",
       "      <td>5</td>\n",
       "      <td>1</td>\n",
       "      <td>0</td>\n",
       "    </tr>\n",
       "    <tr>\n",
       "      <th>3</th>\n",
       "      <td>137483175.0</td>\n",
       "      <td>-26.653807</td>\n",
       "      <td>30.463813</td>\n",
       "      <td>Open water - freshwater</td>\n",
       "      <td>6</td>\n",
       "      <td>1</td>\n",
       "      <td>0</td>\n",
       "    </tr>\n",
       "    <tr>\n",
       "      <th>4</th>\n",
       "      <td>137483175.0</td>\n",
       "      <td>-26.653807</td>\n",
       "      <td>30.463813</td>\n",
       "      <td>Open water - freshwater</td>\n",
       "      <td>7</td>\n",
       "      <td>1</td>\n",
       "      <td>0</td>\n",
       "    </tr>\n",
       "    <tr>\n",
       "      <th>...</th>\n",
       "      <td>...</td>\n",
       "      <td>...</td>\n",
       "      <td>...</td>\n",
       "      <td>...</td>\n",
       "      <td>...</td>\n",
       "      <td>...</td>\n",
       "      <td>...</td>\n",
       "    </tr>\n",
       "    <tr>\n",
       "      <th>6027</th>\n",
       "      <td>137482803.0</td>\n",
       "      <td>-9.360062</td>\n",
       "      <td>20.258942</td>\n",
       "      <td>Open water - freshwater</td>\n",
       "      <td>6</td>\n",
       "      <td>1</td>\n",
       "      <td>0</td>\n",
       "    </tr>\n",
       "    <tr>\n",
       "      <th>6028</th>\n",
       "      <td>137482803.0</td>\n",
       "      <td>-9.360062</td>\n",
       "      <td>20.258942</td>\n",
       "      <td>Open water - freshwater</td>\n",
       "      <td>7</td>\n",
       "      <td>1</td>\n",
       "      <td>0</td>\n",
       "    </tr>\n",
       "    <tr>\n",
       "      <th>6029</th>\n",
       "      <td>137482803.0</td>\n",
       "      <td>-9.360062</td>\n",
       "      <td>20.258942</td>\n",
       "      <td>Open water - freshwater</td>\n",
       "      <td>8</td>\n",
       "      <td>1</td>\n",
       "      <td>0</td>\n",
       "    </tr>\n",
       "    <tr>\n",
       "      <th>6030</th>\n",
       "      <td>137482803.0</td>\n",
       "      <td>-9.360062</td>\n",
       "      <td>20.258942</td>\n",
       "      <td>Open water - freshwater</td>\n",
       "      <td>9</td>\n",
       "      <td>1</td>\n",
       "      <td>0</td>\n",
       "    </tr>\n",
       "    <tr>\n",
       "      <th>6040</th>\n",
       "      <td>137482804.0</td>\n",
       "      <td>-9.369115</td>\n",
       "      <td>13.838962</td>\n",
       "      <td>Open water - freshwater</td>\n",
       "      <td>8</td>\n",
       "      <td>1</td>\n",
       "      <td>0</td>\n",
       "    </tr>\n",
       "  </tbody>\n",
       "</table>\n",
       "<p>3094 rows × 7 columns</p>\n",
       "</div>"
      ],
      "text/plain": [
       "          PLOT_ID        LAT        LON                    CLASS  MONTH  \\\n",
       "0     137483175.0 -26.653807  30.463813  Open water - freshwater      3   \n",
       "1     137483175.0 -26.653807  30.463813  Open water - freshwater      4   \n",
       "2     137483175.0 -26.653807  30.463813  Open water - freshwater      5   \n",
       "3     137483175.0 -26.653807  30.463813  Open water - freshwater      6   \n",
       "4     137483175.0 -26.653807  30.463813  Open water - freshwater      7   \n",
       "...           ...        ...        ...                      ...    ...   \n",
       "6027  137482803.0  -9.360062  20.258942  Open water - freshwater      6   \n",
       "6028  137482803.0  -9.360062  20.258942  Open water - freshwater      7   \n",
       "6029  137482803.0  -9.360062  20.258942  Open water - freshwater      8   \n",
       "6030  137482803.0  -9.360062  20.258942  Open water - freshwater      9   \n",
       "6040  137482804.0  -9.369115  13.838962  Open water - freshwater      8   \n",
       "\n",
       "      ACTUAL PREDICTION  \n",
       "0          1          0  \n",
       "1          1          0  \n",
       "2          1          0  \n",
       "3          1          0  \n",
       "4          1          0  \n",
       "...      ...        ...  \n",
       "6027       1          0  \n",
       "6028       1          0  \n",
       "6029       1          0  \n",
       "6030       1          0  \n",
       "6040       1          0  \n",
       "\n",
       "[3094 rows x 7 columns]"
      ]
     },
     "execution_count": 17,
     "metadata": {},
     "output_type": "execute_result"
    }
   ],
   "source": [
    "FN"
   ]
  },
  {
   "cell_type": "code",
   "execution_count": 18,
   "metadata": {},
   "outputs": [],
   "source": [
    "FN.to_csv(('../Supplementary_data/Validation/Refined/AFRIGIST/FalseNegative_AfriGIST_WindowAnalysis.csv'))"
   ]
  },
  {
   "cell_type": "code",
   "execution_count": 19,
   "metadata": {},
   "outputs": [],
   "source": [
    "#Identify the misclassified validation samples - those that are classified as water by analyst but non-water by WOfS \n",
    "MisClass= input_data[(input_data['ACTUAL']==1) & (input_data['PREDICTION']=='0')][['PLOT_ID','LAT','LON','CLASS','MONTH','ACTUAL','PREDICTION']]"
   ]
  },
  {
   "cell_type": "code",
   "execution_count": 20,
   "metadata": {},
   "outputs": [],
   "source": [
    "MisClass['COORDINATES'] = list(zip(MisClass.LON, MisClass.LAT))"
   ]
  },
  {
   "cell_type": "code",
   "execution_count": 21,
   "metadata": {},
   "outputs": [],
   "source": [
    "MisClass.COORDINATES = MisClass.COORDINATES.apply(Point)"
   ]
  },
  {
   "cell_type": "code",
   "execution_count": 22,
   "metadata": {},
   "outputs": [
    {
     "data": {
      "text/html": [
       "<div>\n",
       "<style scoped>\n",
       "    .dataframe tbody tr th:only-of-type {\n",
       "        vertical-align: middle;\n",
       "    }\n",
       "\n",
       "    .dataframe tbody tr th {\n",
       "        vertical-align: top;\n",
       "    }\n",
       "\n",
       "    .dataframe thead th {\n",
       "        text-align: right;\n",
       "    }\n",
       "</style>\n",
       "<table border=\"1\" class=\"dataframe\">\n",
       "  <thead>\n",
       "    <tr style=\"text-align: right;\">\n",
       "      <th></th>\n",
       "      <th>PLOT_ID</th>\n",
       "      <th>LAT</th>\n",
       "      <th>LON</th>\n",
       "      <th>CLASS</th>\n",
       "      <th>MONTH</th>\n",
       "      <th>ACTUAL</th>\n",
       "      <th>PREDICTION</th>\n",
       "      <th>COORDINATES</th>\n",
       "    </tr>\n",
       "  </thead>\n",
       "  <tbody>\n",
       "    <tr>\n",
       "      <th>0</th>\n",
       "      <td>137483175.0</td>\n",
       "      <td>-26.653807</td>\n",
       "      <td>30.463813</td>\n",
       "      <td>Open water - freshwater</td>\n",
       "      <td>3</td>\n",
       "      <td>1</td>\n",
       "      <td>0</td>\n",
       "      <td>POINT (30.46381301 -26.65380659)</td>\n",
       "    </tr>\n",
       "    <tr>\n",
       "      <th>1</th>\n",
       "      <td>137483175.0</td>\n",
       "      <td>-26.653807</td>\n",
       "      <td>30.463813</td>\n",
       "      <td>Open water - freshwater</td>\n",
       "      <td>4</td>\n",
       "      <td>1</td>\n",
       "      <td>0</td>\n",
       "      <td>POINT (30.46381301 -26.65380659)</td>\n",
       "    </tr>\n",
       "    <tr>\n",
       "      <th>2</th>\n",
       "      <td>137483175.0</td>\n",
       "      <td>-26.653807</td>\n",
       "      <td>30.463813</td>\n",
       "      <td>Open water - freshwater</td>\n",
       "      <td>5</td>\n",
       "      <td>1</td>\n",
       "      <td>0</td>\n",
       "      <td>POINT (30.46381301 -26.65380659)</td>\n",
       "    </tr>\n",
       "    <tr>\n",
       "      <th>3</th>\n",
       "      <td>137483175.0</td>\n",
       "      <td>-26.653807</td>\n",
       "      <td>30.463813</td>\n",
       "      <td>Open water - freshwater</td>\n",
       "      <td>6</td>\n",
       "      <td>1</td>\n",
       "      <td>0</td>\n",
       "      <td>POINT (30.46381301 -26.65380659)</td>\n",
       "    </tr>\n",
       "    <tr>\n",
       "      <th>4</th>\n",
       "      <td>137483175.0</td>\n",
       "      <td>-26.653807</td>\n",
       "      <td>30.463813</td>\n",
       "      <td>Open water - freshwater</td>\n",
       "      <td>7</td>\n",
       "      <td>1</td>\n",
       "      <td>0</td>\n",
       "      <td>POINT (30.46381301 -26.65380659)</td>\n",
       "    </tr>\n",
       "    <tr>\n",
       "      <th>...</th>\n",
       "      <td>...</td>\n",
       "      <td>...</td>\n",
       "      <td>...</td>\n",
       "      <td>...</td>\n",
       "      <td>...</td>\n",
       "      <td>...</td>\n",
       "      <td>...</td>\n",
       "      <td>...</td>\n",
       "    </tr>\n",
       "    <tr>\n",
       "      <th>6027</th>\n",
       "      <td>137482803.0</td>\n",
       "      <td>-9.360062</td>\n",
       "      <td>20.258942</td>\n",
       "      <td>Open water - freshwater</td>\n",
       "      <td>6</td>\n",
       "      <td>1</td>\n",
       "      <td>0</td>\n",
       "      <td>POINT (20.25894246 -9.360061605)</td>\n",
       "    </tr>\n",
       "    <tr>\n",
       "      <th>6028</th>\n",
       "      <td>137482803.0</td>\n",
       "      <td>-9.360062</td>\n",
       "      <td>20.258942</td>\n",
       "      <td>Open water - freshwater</td>\n",
       "      <td>7</td>\n",
       "      <td>1</td>\n",
       "      <td>0</td>\n",
       "      <td>POINT (20.25894246 -9.360061605)</td>\n",
       "    </tr>\n",
       "    <tr>\n",
       "      <th>6029</th>\n",
       "      <td>137482803.0</td>\n",
       "      <td>-9.360062</td>\n",
       "      <td>20.258942</td>\n",
       "      <td>Open water - freshwater</td>\n",
       "      <td>8</td>\n",
       "      <td>1</td>\n",
       "      <td>0</td>\n",
       "      <td>POINT (20.25894246 -9.360061605)</td>\n",
       "    </tr>\n",
       "    <tr>\n",
       "      <th>6030</th>\n",
       "      <td>137482803.0</td>\n",
       "      <td>-9.360062</td>\n",
       "      <td>20.258942</td>\n",
       "      <td>Open water - freshwater</td>\n",
       "      <td>9</td>\n",
       "      <td>1</td>\n",
       "      <td>0</td>\n",
       "      <td>POINT (20.25894246 -9.360061605)</td>\n",
       "    </tr>\n",
       "    <tr>\n",
       "      <th>6040</th>\n",
       "      <td>137482804.0</td>\n",
       "      <td>-9.369115</td>\n",
       "      <td>13.838962</td>\n",
       "      <td>Open water - freshwater</td>\n",
       "      <td>8</td>\n",
       "      <td>1</td>\n",
       "      <td>0</td>\n",
       "      <td>POINT (13.83896235 -9.369115133999999)</td>\n",
       "    </tr>\n",
       "  </tbody>\n",
       "</table>\n",
       "<p>3517 rows × 8 columns</p>\n",
       "</div>"
      ],
      "text/plain": [
       "          PLOT_ID        LAT        LON                    CLASS  MONTH  \\\n",
       "0     137483175.0 -26.653807  30.463813  Open water - freshwater      3   \n",
       "1     137483175.0 -26.653807  30.463813  Open water - freshwater      4   \n",
       "2     137483175.0 -26.653807  30.463813  Open water - freshwater      5   \n",
       "3     137483175.0 -26.653807  30.463813  Open water - freshwater      6   \n",
       "4     137483175.0 -26.653807  30.463813  Open water - freshwater      7   \n",
       "...           ...        ...        ...                      ...    ...   \n",
       "6027  137482803.0  -9.360062  20.258942  Open water - freshwater      6   \n",
       "6028  137482803.0  -9.360062  20.258942  Open water - freshwater      7   \n",
       "6029  137482803.0  -9.360062  20.258942  Open water - freshwater      8   \n",
       "6030  137482803.0  -9.360062  20.258942  Open water - freshwater      9   \n",
       "6040  137482804.0  -9.369115  13.838962  Open water - freshwater      8   \n",
       "\n",
       "      ACTUAL PREDICTION                             COORDINATES  \n",
       "0          1          0        POINT (30.46381301 -26.65380659)  \n",
       "1          1          0        POINT (30.46381301 -26.65380659)  \n",
       "2          1          0        POINT (30.46381301 -26.65380659)  \n",
       "3          1          0        POINT (30.46381301 -26.65380659)  \n",
       "4          1          0        POINT (30.46381301 -26.65380659)  \n",
       "...      ...        ...                                     ...  \n",
       "6027       1          0        POINT (20.25894246 -9.360061605)  \n",
       "6028       1          0        POINT (20.25894246 -9.360061605)  \n",
       "6029       1          0        POINT (20.25894246 -9.360061605)  \n",
       "6030       1          0        POINT (20.25894246 -9.360061605)  \n",
       "6040       1          0  POINT (13.83896235 -9.369115133999999)  \n",
       "\n",
       "[3517 rows x 8 columns]"
      ]
     },
     "execution_count": 22,
     "metadata": {},
     "output_type": "execute_result"
    }
   ],
   "source": [
    "MisClass "
   ]
  },
  {
   "cell_type": "code",
   "execution_count": 20,
   "metadata": {},
   "outputs": [],
   "source": [
    "# geometry = [Point(xy) for xy in zip(MisClass.LON, MisClass.LAT)]\n",
    "# crs = {'init': 'epsg:4326'} \n",
    "# geo_df = GeoDataFrame(MisClass, crs=crs, geometry=geometry)"
   ]
  },
  {
   "cell_type": "code",
   "execution_count": 21,
   "metadata": {},
   "outputs": [],
   "source": [
    "# buffer = buffer_zone.geometry.unary_union"
   ]
  },
  {
   "cell_type": "code",
   "execution_count": 57,
   "metadata": {},
   "outputs": [],
   "source": [
    "#Identifying the points that are mislassified but not in the coastal zone \n",
    "# NoCoastalPoints = geo_df[geo_df.geometry.within(buffer)] \n",
    "# NoCoastalPoints"
   ]
  },
  {
   "cell_type": "code",
   "execution_count": 58,
   "metadata": {},
   "outputs": [],
   "source": [
    "#Joining inland points and the ones which are not located in the intertidal zone \n",
    "# RCMRD_inland = pd.concat([include_points, NoCoastalPoints.drop('COORDINATES',axis=1)], axis=0)\n",
    "# RCMRD_inland "
   ]
  },
  {
   "cell_type": "code",
   "execution_count": 24,
   "metadata": {},
   "outputs": [],
   "source": [
    "# RCMRD_inland.to_file(filename='../Supplementary_data/Validation/Refined/shapefiles/RCMRD_inland_w305.shp') "
   ]
  },
  {
   "cell_type": "code",
   "execution_count": 25,
   "metadata": {},
   "outputs": [],
   "source": [
    "# RCMRD_inland.to_csv(('../Supplementary_data/Validation/Refined/RCMRD_inland_w305.csv'))"
   ]
  },
  {
   "cell_type": "markdown",
   "metadata": {},
   "source": [
    "### Calculate confusion matrix on inland points "
   ]
  },
  {
   "cell_type": "markdown",
   "metadata": {},
   "source": [
    "To do the accuracy assesssment of the validation in each AEZ , we need to obtain WOfS surface water observation data that corresponds with the labelled input data locations. "
   ]
  },
  {
   "cell_type": "code",
   "execution_count": 23,
   "metadata": {},
   "outputs": [
    {
     "data": {
      "text/html": [
       "<div>\n",
       "<style scoped>\n",
       "    .dataframe tbody tr th:only-of-type {\n",
       "        vertical-align: middle;\n",
       "    }\n",
       "\n",
       "    .dataframe tbody tr th {\n",
       "        vertical-align: top;\n",
       "    }\n",
       "\n",
       "    .dataframe thead th {\n",
       "        text-align: right;\n",
       "    }\n",
       "</style>\n",
       "<table border=\"1\" class=\"dataframe\">\n",
       "  <thead>\n",
       "    <tr style=\"text-align: right;\">\n",
       "      <th>PREDICTION</th>\n",
       "      <th>0</th>\n",
       "      <th>1</th>\n",
       "      <th>All</th>\n",
       "    </tr>\n",
       "    <tr>\n",
       "      <th>ACTUAL</th>\n",
       "      <th></th>\n",
       "      <th></th>\n",
       "      <th></th>\n",
       "    </tr>\n",
       "  </thead>\n",
       "  <tbody>\n",
       "    <tr>\n",
       "      <th>0</th>\n",
       "      <td>1606</td>\n",
       "      <td>70</td>\n",
       "      <td>1676</td>\n",
       "    </tr>\n",
       "    <tr>\n",
       "      <th>1</th>\n",
       "      <td>3094</td>\n",
       "      <td>671</td>\n",
       "      <td>3765</td>\n",
       "    </tr>\n",
       "    <tr>\n",
       "      <th>All</th>\n",
       "      <td>4700</td>\n",
       "      <td>741</td>\n",
       "      <td>5441</td>\n",
       "    </tr>\n",
       "  </tbody>\n",
       "</table>\n",
       "</div>"
      ],
      "text/plain": [
       "PREDICTION     0    1   All\n",
       "ACTUAL                     \n",
       "0           1606   70  1676\n",
       "1           3094  671  3765\n",
       "All         4700  741  5441"
      ]
     },
     "execution_count": 23,
     "metadata": {},
     "output_type": "execute_result"
    }
   ],
   "source": [
    "#RCMRD_inland\n",
    "confusion_matrix = pd.crosstab(include_points['ACTUAL'],include_points['PREDICTION'],rownames=['ACTUAL'],colnames=['PREDICTION'],margins=True)\n",
    "confusion_matrix"
   ]
  },
  {
   "cell_type": "markdown",
   "metadata": {},
   "source": [
    "### Calculating User's Accuracy "
   ]
  },
  {
   "cell_type": "markdown",
   "metadata": {},
   "source": [
    "The User's Accuracy is the accuracy from the point of view of a map user, not the map maker. the User's accuracy essentially tells use how often the class on the map will actually be present on the ground. This is referred to as reliability. The User's Accuracy is complement of the Commission Error, *User's Accuracy = 100%-Commission Error*. The User's Accuracy is calculating by taking the total number of correct classifications for a particular class and dividing it by the row total."
   ]
  },
  {
   "cell_type": "code",
   "execution_count": 24,
   "metadata": {},
   "outputs": [
    {
     "data": {
      "text/html": [
       "<div>\n",
       "<style scoped>\n",
       "    .dataframe tbody tr th:only-of-type {\n",
       "        vertical-align: middle;\n",
       "    }\n",
       "\n",
       "    .dataframe tbody tr th {\n",
       "        vertical-align: top;\n",
       "    }\n",
       "\n",
       "    .dataframe thead th {\n",
       "        text-align: right;\n",
       "    }\n",
       "</style>\n",
       "<table border=\"1\" class=\"dataframe\">\n",
       "  <thead>\n",
       "    <tr style=\"text-align: right;\">\n",
       "      <th>PREDICTION</th>\n",
       "      <th>0</th>\n",
       "      <th>1</th>\n",
       "      <th>All</th>\n",
       "      <th>User's</th>\n",
       "    </tr>\n",
       "    <tr>\n",
       "      <th>ACTUAL</th>\n",
       "      <th></th>\n",
       "      <th></th>\n",
       "      <th></th>\n",
       "      <th></th>\n",
       "    </tr>\n",
       "  </thead>\n",
       "  <tbody>\n",
       "    <tr>\n",
       "      <th>0</th>\n",
       "      <td>1606</td>\n",
       "      <td>70</td>\n",
       "      <td>1676</td>\n",
       "      <td>95.823389</td>\n",
       "    </tr>\n",
       "    <tr>\n",
       "      <th>1</th>\n",
       "      <td>3094</td>\n",
       "      <td>671</td>\n",
       "      <td>3765</td>\n",
       "      <td>17.822045</td>\n",
       "    </tr>\n",
       "    <tr>\n",
       "      <th>All</th>\n",
       "      <td>4700</td>\n",
       "      <td>741</td>\n",
       "      <td>5441</td>\n",
       "      <td>NaN</td>\n",
       "    </tr>\n",
       "  </tbody>\n",
       "</table>\n",
       "</div>"
      ],
      "text/plain": [
       "PREDICTION     0    1   All     User's\n",
       "ACTUAL                                \n",
       "0           1606   70  1676  95.823389\n",
       "1           3094  671  3765  17.822045\n",
       "All         4700  741  5441        NaN"
      ]
     },
     "execution_count": 24,
     "metadata": {},
     "output_type": "execute_result"
    }
   ],
   "source": [
    "confusion_matrix[\"User's\"] = [confusion_matrix.loc[0][0] / confusion_matrix.loc[0]['All'] * 100, confusion_matrix.loc[1][1] / confusion_matrix.loc[1]['All'] *100, np.nan]\n",
    "confusion_matrix"
   ]
  },
  {
   "cell_type": "markdown",
   "metadata": {},
   "source": [
    "The false positive ones are 452 points that need to be checked against WOfS "
   ]
  },
  {
   "cell_type": "markdown",
   "metadata": {},
   "source": [
    "### Calculating Producer's Accuracy "
   ]
  },
  {
   "cell_type": "markdown",
   "metadata": {},
   "source": [
    "Producer's Accuracy is the map accuracy from the point of view of the map maker (the producer). This is how often are real features on the ground correctly shown on the classified map or the probability that a certain land cover of an area on the ground is classified as such. Deviding the number of correctly classified pixels in each category (on the major diagonal) by the numbr of reference pixels \"known\" to be of that category (the column total)\n",
    "This value represents how well reference pixels of the ground cover type are classified. Producer's accuracy completes ommision error, *Producer's accuracy = 100% - Ommision error*"
   ]
  },
  {
   "cell_type": "code",
   "execution_count": 25,
   "metadata": {},
   "outputs": [
    {
     "data": {
      "text/html": [
       "<div>\n",
       "<style scoped>\n",
       "    .dataframe tbody tr th:only-of-type {\n",
       "        vertical-align: middle;\n",
       "    }\n",
       "\n",
       "    .dataframe tbody tr th {\n",
       "        vertical-align: top;\n",
       "    }\n",
       "\n",
       "    .dataframe thead th {\n",
       "        text-align: right;\n",
       "    }\n",
       "</style>\n",
       "<table border=\"1\" class=\"dataframe\">\n",
       "  <thead>\n",
       "    <tr style=\"text-align: right;\">\n",
       "      <th></th>\n",
       "      <th>0</th>\n",
       "      <th>1</th>\n",
       "      <th>All</th>\n",
       "      <th>User's</th>\n",
       "      <th>0</th>\n",
       "      <th>1</th>\n",
       "    </tr>\n",
       "    <tr>\n",
       "      <th>ACTUAL</th>\n",
       "      <th></th>\n",
       "      <th></th>\n",
       "      <th></th>\n",
       "      <th></th>\n",
       "      <th></th>\n",
       "      <th></th>\n",
       "    </tr>\n",
       "  </thead>\n",
       "  <tbody>\n",
       "    <tr>\n",
       "      <th>0</th>\n",
       "      <td>1606.0</td>\n",
       "      <td>70.0</td>\n",
       "      <td>1676.0</td>\n",
       "      <td>95.823389</td>\n",
       "      <td>NaN</td>\n",
       "      <td>NaN</td>\n",
       "    </tr>\n",
       "    <tr>\n",
       "      <th>1</th>\n",
       "      <td>3094.0</td>\n",
       "      <td>671.0</td>\n",
       "      <td>3765.0</td>\n",
       "      <td>17.822045</td>\n",
       "      <td>NaN</td>\n",
       "      <td>NaN</td>\n",
       "    </tr>\n",
       "    <tr>\n",
       "      <th>All</th>\n",
       "      <td>4700.0</td>\n",
       "      <td>741.0</td>\n",
       "      <td>5441.0</td>\n",
       "      <td>NaN</td>\n",
       "      <td>NaN</td>\n",
       "      <td>NaN</td>\n",
       "    </tr>\n",
       "    <tr>\n",
       "      <th>Producer's</th>\n",
       "      <td>NaN</td>\n",
       "      <td>NaN</td>\n",
       "      <td>NaN</td>\n",
       "      <td>NaN</td>\n",
       "      <td>34.170213</td>\n",
       "      <td>90.553306</td>\n",
       "    </tr>\n",
       "  </tbody>\n",
       "</table>\n",
       "</div>"
      ],
      "text/plain": [
       "                 0      1     All     User's          0          1\n",
       "ACTUAL                                                            \n",
       "0           1606.0   70.0  1676.0  95.823389        NaN        NaN\n",
       "1           3094.0  671.0  3765.0  17.822045        NaN        NaN\n",
       "All         4700.0  741.0  5441.0        NaN        NaN        NaN\n",
       "Producer's     NaN    NaN     NaN        NaN  34.170213  90.553306"
      ]
     },
     "execution_count": 25,
     "metadata": {},
     "output_type": "execute_result"
    }
   ],
   "source": [
    "producers_accuracy = pd.Series([confusion_matrix['0'][0] / confusion_matrix['0']['All'] * 100,\n",
    "                                confusion_matrix['1'][1] / confusion_matrix['1']['All'] * 100]).rename(\"Producer's\")\n",
    "\n",
    "confusion_matrix = confusion_matrix.append(producers_accuracy)\n",
    "confusion_matrix "
   ]
  },
  {
   "cell_type": "code",
   "execution_count": 26,
   "metadata": {},
   "outputs": [
    {
     "data": {
      "text/html": [
       "<div>\n",
       "<style scoped>\n",
       "    .dataframe tbody tr th:only-of-type {\n",
       "        vertical-align: middle;\n",
       "    }\n",
       "\n",
       "    .dataframe tbody tr th {\n",
       "        vertical-align: top;\n",
       "    }\n",
       "\n",
       "    .dataframe thead th {\n",
       "        text-align: right;\n",
       "    }\n",
       "</style>\n",
       "<table border=\"1\" class=\"dataframe\">\n",
       "  <thead>\n",
       "    <tr style=\"text-align: right;\">\n",
       "      <th></th>\n",
       "      <th>0</th>\n",
       "      <th>1</th>\n",
       "      <th>All</th>\n",
       "      <th>User's</th>\n",
       "      <th>0</th>\n",
       "      <th>1</th>\n",
       "    </tr>\n",
       "    <tr>\n",
       "      <th>ACTUAL</th>\n",
       "      <th></th>\n",
       "      <th></th>\n",
       "      <th></th>\n",
       "      <th></th>\n",
       "      <th></th>\n",
       "      <th></th>\n",
       "    </tr>\n",
       "  </thead>\n",
       "  <tbody>\n",
       "    <tr>\n",
       "      <th>0</th>\n",
       "      <td>1606.0</td>\n",
       "      <td>70.0</td>\n",
       "      <td>1676.0</td>\n",
       "      <td>95.823389</td>\n",
       "      <td>NaN</td>\n",
       "      <td>NaN</td>\n",
       "    </tr>\n",
       "    <tr>\n",
       "      <th>1</th>\n",
       "      <td>3094.0</td>\n",
       "      <td>671.0</td>\n",
       "      <td>3765.0</td>\n",
       "      <td>17.822045</td>\n",
       "      <td>NaN</td>\n",
       "      <td>NaN</td>\n",
       "    </tr>\n",
       "    <tr>\n",
       "      <th>All</th>\n",
       "      <td>4700.0</td>\n",
       "      <td>741.0</td>\n",
       "      <td>5441.0</td>\n",
       "      <td>NaN</td>\n",
       "      <td>NaN</td>\n",
       "      <td>NaN</td>\n",
       "    </tr>\n",
       "    <tr>\n",
       "      <th>Producer's</th>\n",
       "      <td>NaN</td>\n",
       "      <td>NaN</td>\n",
       "      <td>NaN</td>\n",
       "      <td>41.848925</td>\n",
       "      <td>34.170213</td>\n",
       "      <td>90.553306</td>\n",
       "    </tr>\n",
       "  </tbody>\n",
       "</table>\n",
       "</div>"
      ],
      "text/plain": [
       "                 0      1     All     User's          0          1\n",
       "ACTUAL                                                            \n",
       "0           1606.0   70.0  1676.0  95.823389        NaN        NaN\n",
       "1           3094.0  671.0  3765.0  17.822045        NaN        NaN\n",
       "All         4700.0  741.0  5441.0        NaN        NaN        NaN\n",
       "Producer's     NaN    NaN     NaN  41.848925  34.170213  90.553306"
      ]
     },
     "execution_count": 26,
     "metadata": {},
     "output_type": "execute_result"
    }
   ],
   "source": [
    "confusion_matrix.loc[\"Producer's\", \"User's\"] = (confusion_matrix['0'][0] + confusion_matrix['1'][1]) / confusion_matrix['All']['All'] * 100\n",
    "confusion_matrix"
   ]
  },
  {
   "cell_type": "code",
   "execution_count": 33,
   "metadata": {},
   "outputs": [
    {
     "data": {
      "text/plain": [
       "94.64514476044069"
      ]
     },
     "execution_count": 33,
     "metadata": {},
     "output_type": "execute_result"
    }
   ],
   "source": [
    "confusion_matrix[1][\"Producer's\"]"
   ]
  },
  {
   "cell_type": "code",
   "execution_count": null,
   "metadata": {},
   "outputs": [],
   "source": [
    "#need some work for calcultion and interacting with the columns \n",
    "fscore = pd.Series([(2*(confusion_matrix.loc[0, \"User's\"]*confusion_matrix.loc[\"Producer's\", 0]) / (confusion_matrix.loc[0, \"User's\"] + confusion_matrix.loc[\"Producer's\", 0])) / 100,\n",
    "                    f1_score(input_data['ACTUAL'], input_data['PREDICTION'])]).rename(\"F-score\")\n",
    "\n",
    "confusion_matrix = confusion_matrix.append(fscore)"
   ]
  },
  {
   "cell_type": "code",
   "execution_count": 27,
   "metadata": {},
   "outputs": [
    {
     "data": {
      "image/png": "[encoded data removed]",
      "text/plain": [
       "<Figure size 432x288 with 2 Axes>"
      ]
     },
     "metadata": {
      "needs_background": "light"
     },
     "output_type": "display_data"
    }
   ],
   "source": [
    "confusion_matrix = pd.crosstab(include_points['ACTUAL'],include_points['PREDICTION'],rownames=['ACTUAL'],colnames=['PREDICTION'])\n",
    "ax = plt.subplot()\n",
    "sn.heatmap(confusion_matrix, annot = True) #true to annotate cells \n",
    "ax.set_xlabel('Predicted labels'); ax.set_ylabel('Actual labels');\n",
    "ax.set_title('Confusion Matrix')\n",
    "ax.xaxis.set_ticklabels(['nowater','water']); ax.yaxis.set_ticklabels(['nowater','water']);\n",
    "plt.show()"
   ]
  },
  {
   "cell_type": "code",
   "execution_count": 28,
   "metadata": {},
   "outputs": [
    {
     "data": {
      "image/png": "[encoded data removed]",
      "text/plain": [
       "<Figure size 432x288 with 2 Axes>"
      ]
     },
     "metadata": {
      "needs_background": "light"
     },
     "output_type": "display_data"
    }
   ],
   "source": [
    "confusion_matrix = pd.crosstab(include_points['ACTUAL'],include_points['PREDICTION'],rownames=['ACTUAL'],colnames=['PREDICTION'],normalize=True)\n",
    "ax = plt.subplot()\n",
    "sn.heatmap(confusion_matrix, annot = True) #true to annotate cells \n",
    "ax.set_xlabel('Predicted labels'); ax.set_ylabel('Actual labels');\n",
    "ax.set_title('Normalized Confusion Matrix')\n",
    "ax.xaxis.set_ticklabels(['nowater','water']); ax.yaxis.set_ticklabels(['nowater','water']);"
   ]
  },
  {
   "cell_type": "code",
   "execution_count": 2,
   "metadata": {},
   "outputs": [
    {
     "name": "stdout",
     "output_type": "stream",
     "text": [
      "1.8.2.dev7+gdcab0e02\n"
     ]
    }
   ],
   "source": [
    "print(datacube.__version__)"
   ]
  },
  {
   "cell_type": "markdown",
   "metadata": {},
   "source": [
    "***\n",
    "\n",
    "## Additional information\n",
    "\n",
    "**License:** The code in this notebook is licensed under the [Apache License, Version 2.0](https://www.apache.org/licenses/LICENSE-2.0). \n",
    "Digital Earth Africa data is licensed under the [Creative Commons by Attribution 4.0](https://creativecommons.org/licenses/by/4.0/) license.\n",
    "\n",
    "**Contact:** If you need assistance, please post a question on the [Open Data Cube Slack channel](http://slack.opendatacube.org/) or on the [GIS Stack Exchange](https://gis.stackexchange.com/questions/ask?tags=open-data-cube) using the `open-data-cube` tag (you can view previously asked questions [here](https://gis.stackexchange.com/questions/tagged/open-data-cube)).\n",
    "If you would like to report an issue with this notebook, you can file one on [Github](https://github.com/digitalearthafrica/deafrica-sandbox-notebooks).\n",
    "\n",
    "**Last modified:** January 2020\n",
    "\n",
    "**Compatible datacube version:** "
   ]
  },
  {
   "cell_type": "markdown",
   "metadata": {},
   "source": [
    "## Tags\n",
    "Browse all available tags on the DE Africa User Guide's [Tags Index](https://) (placeholder as this does not exist yet)"
   ]
  },
  {
   "cell_type": "raw",
   "metadata": {
    "raw_mimetype": "text/restructuredtext"
   },
   "source": [
    "**Tags**:  :index:`WOfS`, :index:`fractional cover`, :index:`deafrica_plotting`, :index:`deafrica_datahandling`, :index:`display_map`, :index:`wofs_fuser`, :index:`WOFL`, :index:`masking`"
   ]
  }
 ],
 "metadata": {
  "kernelspec": {
   "display_name": "Python 3",
   "language": "python",
   "name": "python3"
  },
  "language_info": {
   "codemirror_mode": {
    "name": "ipython",
    "version": 3
   },
   "file_extension": ".py",
   "mimetype": "text/x-python",
   "name": "python",
   "nbconvert_exporter": "python",
   "pygments_lexer": "ipython3",
   "version": "3.6.9"
  },
  "widgets": {
   "application/vnd.jupyter.widget-state+json": {
    "state": {
     "9e3fa49adf8c4170abfcd954c2ec045a": {
      "model_module": "jupyter-leaflet",
      "model_module_version": "^0.11.1",
      "model_name": "LeafletZoomControlModel",
      "state": {
       "_model_module_version": "^0.11.1",
       "_view_count": null,
       "_view_module_version": "^0.11.1",
       "options": [
        "position",
        "zoom_in_text",
        "zoom_in_title",
        "zoom_out_text",
        "zoom_out_title"
       ]
      }
     },
     "dc642f11c1fb492ca419b0ed6fc4f8c3": {
      "model_module": "jupyter-leaflet",
      "model_module_version": "^0.11.1",
      "model_name": "LeafletAttributionControlModel",
      "state": {
       "_model_module_version": "^0.11.1",
       "_view_count": null,
       "_view_module_version": "^0.11.1",
       "options": [
        "position",
        "prefix"
       ],
       "position": "bottomright",
       "prefix": "Leaflet"
      }
     }
    },
    "version_major": 2,
    "version_minor": 0
   }
  }
 },
 "nbformat": 4,
 "nbformat_minor": 4
}
